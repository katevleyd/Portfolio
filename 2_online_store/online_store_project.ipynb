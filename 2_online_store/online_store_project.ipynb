{
 "cells": [
  {
   "cell_type": "markdown",
   "metadata": {},
   "source": [
    "# Исследование данных крупного интернет магазина\n",
    "\n",
    "Вы — аналитик крупного интернет-магазина. Вместе с отделом маркетинга вы подготовили список гипотез для увеличения выручки.\n",
    "\n",
    "Данные мы получим из трех файлов: файл hypothesis.csv хранит 9 гипотез по увеличению выручки интернет-магазина с указанными параметрами Reach, Impact, Confidence, Effort, orders.csv — информацию о заказах, а visitors.csv — информацию о группах пользователей A/B-теста. \n",
    "\n",
    "Исследование пройдет в 5 этапов:\n",
    "1. Обзор данных.\n",
    "2. Предобработка данных.\n",
    "3. Исследовательский анализ данных.\n",
    "4. Приоритизация гипотез.\n",
    "5. Анализ результатов A/B-теста."
   ]
  },
  {
   "cell_type": "markdown",
   "metadata": {},
   "source": [
    "### Обзор данных"
   ]
  },
  {
   "cell_type": "code",
   "execution_count": 1,
   "metadata": {},
   "outputs": [
    {
     "data": {
      "text/html": [
       "<div>\n",
       "<style scoped>\n",
       "    .dataframe tbody tr th:only-of-type {\n",
       "        vertical-align: middle;\n",
       "    }\n",
       "\n",
       "    .dataframe tbody tr th {\n",
       "        vertical-align: top;\n",
       "    }\n",
       "\n",
       "    .dataframe thead th {\n",
       "        text-align: right;\n",
       "    }\n",
       "</style>\n",
       "<table border=\"1\" class=\"dataframe\">\n",
       "  <thead>\n",
       "    <tr style=\"text-align: right;\">\n",
       "      <th></th>\n",
       "      <th>transactionId</th>\n",
       "      <th>visitorId</th>\n",
       "      <th>date</th>\n",
       "      <th>revenue</th>\n",
       "      <th>group</th>\n",
       "    </tr>\n",
       "  </thead>\n",
       "  <tbody>\n",
       "    <tr>\n",
       "      <th>0</th>\n",
       "      <td>3667963787</td>\n",
       "      <td>3312258926</td>\n",
       "      <td>2019-08-15</td>\n",
       "      <td>1650</td>\n",
       "      <td>B</td>\n",
       "    </tr>\n",
       "    <tr>\n",
       "      <th>1</th>\n",
       "      <td>2804400009</td>\n",
       "      <td>3642806036</td>\n",
       "      <td>2019-08-15</td>\n",
       "      <td>730</td>\n",
       "      <td>B</td>\n",
       "    </tr>\n",
       "    <tr>\n",
       "      <th>2</th>\n",
       "      <td>2961555356</td>\n",
       "      <td>4069496402</td>\n",
       "      <td>2019-08-15</td>\n",
       "      <td>400</td>\n",
       "      <td>A</td>\n",
       "    </tr>\n",
       "    <tr>\n",
       "      <th>3</th>\n",
       "      <td>3797467345</td>\n",
       "      <td>1196621759</td>\n",
       "      <td>2019-08-15</td>\n",
       "      <td>9759</td>\n",
       "      <td>B</td>\n",
       "    </tr>\n",
       "    <tr>\n",
       "      <th>4</th>\n",
       "      <td>2282983706</td>\n",
       "      <td>2322279887</td>\n",
       "      <td>2019-08-15</td>\n",
       "      <td>2308</td>\n",
       "      <td>B</td>\n",
       "    </tr>\n",
       "    <tr>\n",
       "      <th>5</th>\n",
       "      <td>182168103</td>\n",
       "      <td>935554773</td>\n",
       "      <td>2019-08-15</td>\n",
       "      <td>2210</td>\n",
       "      <td>B</td>\n",
       "    </tr>\n",
       "    <tr>\n",
       "      <th>6</th>\n",
       "      <td>398296753</td>\n",
       "      <td>2900797465</td>\n",
       "      <td>2019-08-15</td>\n",
       "      <td>1860</td>\n",
       "      <td>B</td>\n",
       "    </tr>\n",
       "    <tr>\n",
       "      <th>7</th>\n",
       "      <td>2626614568</td>\n",
       "      <td>78758296</td>\n",
       "      <td>2019-08-15</td>\n",
       "      <td>1044</td>\n",
       "      <td>A</td>\n",
       "    </tr>\n",
       "    <tr>\n",
       "      <th>8</th>\n",
       "      <td>1576988021</td>\n",
       "      <td>295230930</td>\n",
       "      <td>2019-08-15</td>\n",
       "      <td>13710</td>\n",
       "      <td>A</td>\n",
       "    </tr>\n",
       "    <tr>\n",
       "      <th>9</th>\n",
       "      <td>1506739906</td>\n",
       "      <td>1882260405</td>\n",
       "      <td>2019-08-15</td>\n",
       "      <td>1855</td>\n",
       "      <td>B</td>\n",
       "    </tr>\n",
       "  </tbody>\n",
       "</table>\n",
       "</div>"
      ],
      "text/plain": [
       "   transactionId   visitorId        date  revenue group\n",
       "0     3667963787  3312258926  2019-08-15     1650     B\n",
       "1     2804400009  3642806036  2019-08-15      730     B\n",
       "2     2961555356  4069496402  2019-08-15      400     A\n",
       "3     3797467345  1196621759  2019-08-15     9759     B\n",
       "4     2282983706  2322279887  2019-08-15     2308     B\n",
       "5      182168103   935554773  2019-08-15     2210     B\n",
       "6      398296753  2900797465  2019-08-15     1860     B\n",
       "7     2626614568    78758296  2019-08-15     1044     A\n",
       "8     1576988021   295230930  2019-08-15    13710     A\n",
       "9     1506739906  1882260405  2019-08-15     1855     B"
      ]
     },
     "metadata": {},
     "output_type": "display_data"
    },
    {
     "data": {
      "text/html": [
       "<div>\n",
       "<style scoped>\n",
       "    .dataframe tbody tr th:only-of-type {\n",
       "        vertical-align: middle;\n",
       "    }\n",
       "\n",
       "    .dataframe tbody tr th {\n",
       "        vertical-align: top;\n",
       "    }\n",
       "\n",
       "    .dataframe thead th {\n",
       "        text-align: right;\n",
       "    }\n",
       "</style>\n",
       "<table border=\"1\" class=\"dataframe\">\n",
       "  <thead>\n",
       "    <tr style=\"text-align: right;\">\n",
       "      <th></th>\n",
       "      <th>date</th>\n",
       "      <th>group</th>\n",
       "      <th>visitors</th>\n",
       "    </tr>\n",
       "  </thead>\n",
       "  <tbody>\n",
       "    <tr>\n",
       "      <th>0</th>\n",
       "      <td>2019-08-01</td>\n",
       "      <td>A</td>\n",
       "      <td>719</td>\n",
       "    </tr>\n",
       "    <tr>\n",
       "      <th>1</th>\n",
       "      <td>2019-08-02</td>\n",
       "      <td>A</td>\n",
       "      <td>619</td>\n",
       "    </tr>\n",
       "    <tr>\n",
       "      <th>2</th>\n",
       "      <td>2019-08-03</td>\n",
       "      <td>A</td>\n",
       "      <td>507</td>\n",
       "    </tr>\n",
       "    <tr>\n",
       "      <th>3</th>\n",
       "      <td>2019-08-04</td>\n",
       "      <td>A</td>\n",
       "      <td>717</td>\n",
       "    </tr>\n",
       "    <tr>\n",
       "      <th>4</th>\n",
       "      <td>2019-08-05</td>\n",
       "      <td>A</td>\n",
       "      <td>756</td>\n",
       "    </tr>\n",
       "    <tr>\n",
       "      <th>5</th>\n",
       "      <td>2019-08-06</td>\n",
       "      <td>A</td>\n",
       "      <td>667</td>\n",
       "    </tr>\n",
       "    <tr>\n",
       "      <th>6</th>\n",
       "      <td>2019-08-07</td>\n",
       "      <td>A</td>\n",
       "      <td>644</td>\n",
       "    </tr>\n",
       "    <tr>\n",
       "      <th>7</th>\n",
       "      <td>2019-08-08</td>\n",
       "      <td>A</td>\n",
       "      <td>610</td>\n",
       "    </tr>\n",
       "    <tr>\n",
       "      <th>8</th>\n",
       "      <td>2019-08-09</td>\n",
       "      <td>A</td>\n",
       "      <td>617</td>\n",
       "    </tr>\n",
       "    <tr>\n",
       "      <th>9</th>\n",
       "      <td>2019-08-10</td>\n",
       "      <td>A</td>\n",
       "      <td>406</td>\n",
       "    </tr>\n",
       "  </tbody>\n",
       "</table>\n",
       "</div>"
      ],
      "text/plain": [
       "         date group  visitors\n",
       "0  2019-08-01     A       719\n",
       "1  2019-08-02     A       619\n",
       "2  2019-08-03     A       507\n",
       "3  2019-08-04     A       717\n",
       "4  2019-08-05     A       756\n",
       "5  2019-08-06     A       667\n",
       "6  2019-08-07     A       644\n",
       "7  2019-08-08     A       610\n",
       "8  2019-08-09     A       617\n",
       "9  2019-08-10     A       406"
      ]
     },
     "metadata": {},
     "output_type": "display_data"
    },
    {
     "data": {
      "text/html": [
       "<style  type=\"text/css\" >\n",
       "#T_e3827_row0_col1,#T_e3827_row2_col2,#T_e3827_row2_col4,#T_e3827_row3_col2,#T_e3827_row4_col1,#T_e3827_row5_col1,#T_e3827_row5_col4,#T_e3827_row6_col2,#T_e3827_row6_col4{\n",
       "            background-color:  #fcccc7;\n",
       "            color:  #000000;\n",
       "        }#T_e3827_row0_col2,#T_e3827_row1_col4,#T_e3827_row7_col1,#T_e3827_row8_col3{\n",
       "            background-color:  #49006a;\n",
       "            color:  #f1f1f1;\n",
       "        }#T_e3827_row0_col3,#T_e3827_row6_col3,#T_e3827_row7_col3{\n",
       "            background-color:  #790177;\n",
       "            color:  #f1f1f1;\n",
       "        }#T_e3827_row0_col4{\n",
       "            background-color:  #eb509c;\n",
       "            color:  #000000;\n",
       "        }#T_e3827_row1_col1,#T_e3827_row5_col2{\n",
       "            background-color:  #fde3e0;\n",
       "            color:  #000000;\n",
       "        }#T_e3827_row1_col2,#T_e3827_row6_col1,#T_e3827_row7_col4,#T_e3827_row8_col4{\n",
       "            background-color:  #f881aa;\n",
       "            color:  #000000;\n",
       "        }#T_e3827_row1_col3{\n",
       "            background-color:  #fa9eb5;\n",
       "            color:  #000000;\n",
       "        }#T_e3827_row2_col1,#T_e3827_row3_col1,#T_e3827_row3_col4{\n",
       "            background-color:  #a1017c;\n",
       "            color:  #f1f1f1;\n",
       "        }#T_e3827_row2_col3{\n",
       "            background-color:  #ad017e;\n",
       "            color:  #f1f1f1;\n",
       "        }#T_e3827_row3_col3{\n",
       "            background-color:  #fcc5c0;\n",
       "            color:  #000000;\n",
       "        }#T_e3827_row4_col2,#T_e3827_row4_col3,#T_e3827_row4_col4,#T_e3827_row8_col1{\n",
       "            background-color:  #fff7f3;\n",
       "            color:  #000000;\n",
       "        }#T_e3827_row5_col3{\n",
       "            background-color:  #fde0dd;\n",
       "            color:  #000000;\n",
       "        }#T_e3827_row7_col2{\n",
       "            background-color:  #cd238f;\n",
       "            color:  #f1f1f1;\n",
       "        }#T_e3827_row8_col2{\n",
       "            background-color:  #740175;\n",
       "            color:  #f1f1f1;\n",
       "        }</style><table id=\"T_e3827_\" ><thead>    <tr>        <th class=\"blank level0\" ></th>        <th class=\"col_heading level0 col0\" >Hypothesis</th>        <th class=\"col_heading level0 col1\" >Reach</th>        <th class=\"col_heading level0 col2\" >Impact</th>        <th class=\"col_heading level0 col3\" >Confidence</th>        <th class=\"col_heading level0 col4\" >Efforts</th>    </tr></thead><tbody>\n",
       "                <tr>\n",
       "                        <th id=\"T_e3827_level0_row0\" class=\"row_heading level0 row0\" >0</th>\n",
       "                        <td id=\"T_e3827_row0_col0\" class=\"data row0 col0\" >Добавить два новых канала привлечения трафика, что позволит привлекать на 30% больше пользователей</td>\n",
       "                        <td id=\"T_e3827_row0_col1\" class=\"data row0 col1\" >3</td>\n",
       "                        <td id=\"T_e3827_row0_col2\" class=\"data row0 col2\" >10</td>\n",
       "                        <td id=\"T_e3827_row0_col3\" class=\"data row0 col3\" >8</td>\n",
       "                        <td id=\"T_e3827_row0_col4\" class=\"data row0 col4\" >6</td>\n",
       "            </tr>\n",
       "            <tr>\n",
       "                        <th id=\"T_e3827_level0_row1\" class=\"row_heading level0 row1\" >1</th>\n",
       "                        <td id=\"T_e3827_row1_col0\" class=\"data row1 col0\" >Запустить собственную службу доставки, что сократит срок доставки заказов</td>\n",
       "                        <td id=\"T_e3827_row1_col1\" class=\"data row1 col1\" >2</td>\n",
       "                        <td id=\"T_e3827_row1_col2\" class=\"data row1 col2\" >5</td>\n",
       "                        <td id=\"T_e3827_row1_col3\" class=\"data row1 col3\" >4</td>\n",
       "                        <td id=\"T_e3827_row1_col4\" class=\"data row1 col4\" >10</td>\n",
       "            </tr>\n",
       "            <tr>\n",
       "                        <th id=\"T_e3827_level0_row2\" class=\"row_heading level0 row2\" >2</th>\n",
       "                        <td id=\"T_e3827_row2_col0\" class=\"data row2 col0\" >Добавить блоки рекомендаций товаров на сайт интернет магазина, чтобы повысить конверсию и средний чек заказа</td>\n",
       "                        <td id=\"T_e3827_row2_col1\" class=\"data row2 col1\" >8</td>\n",
       "                        <td id=\"T_e3827_row2_col2\" class=\"data row2 col2\" >3</td>\n",
       "                        <td id=\"T_e3827_row2_col3\" class=\"data row2 col3\" >7</td>\n",
       "                        <td id=\"T_e3827_row2_col4\" class=\"data row2 col4\" >3</td>\n",
       "            </tr>\n",
       "            <tr>\n",
       "                        <th id=\"T_e3827_level0_row3\" class=\"row_heading level0 row3\" >3</th>\n",
       "                        <td id=\"T_e3827_row3_col0\" class=\"data row3 col0\" >Изменить структура категорий, что увеличит конверсию, т.к. пользователи быстрее найдут нужный товар</td>\n",
       "                        <td id=\"T_e3827_row3_col1\" class=\"data row3 col1\" >8</td>\n",
       "                        <td id=\"T_e3827_row3_col2\" class=\"data row3 col2\" >3</td>\n",
       "                        <td id=\"T_e3827_row3_col3\" class=\"data row3 col3\" >3</td>\n",
       "                        <td id=\"T_e3827_row3_col4\" class=\"data row3 col4\" >8</td>\n",
       "            </tr>\n",
       "            <tr>\n",
       "                        <th id=\"T_e3827_level0_row4\" class=\"row_heading level0 row4\" >4</th>\n",
       "                        <td id=\"T_e3827_row4_col0\" class=\"data row4 col0\" >Изменить цвет фона главной страницы, чтобы увеличить вовлеченность пользователей</td>\n",
       "                        <td id=\"T_e3827_row4_col1\" class=\"data row4 col1\" >3</td>\n",
       "                        <td id=\"T_e3827_row4_col2\" class=\"data row4 col2\" >1</td>\n",
       "                        <td id=\"T_e3827_row4_col3\" class=\"data row4 col3\" >1</td>\n",
       "                        <td id=\"T_e3827_row4_col4\" class=\"data row4 col4\" >1</td>\n",
       "            </tr>\n",
       "            <tr>\n",
       "                        <th id=\"T_e3827_level0_row5\" class=\"row_heading level0 row5\" >5</th>\n",
       "                        <td id=\"T_e3827_row5_col0\" class=\"data row5 col0\" >Добавить страницу отзывов клиентов о магазине, что позволит увеличить количество заказов</td>\n",
       "                        <td id=\"T_e3827_row5_col1\" class=\"data row5 col1\" >3</td>\n",
       "                        <td id=\"T_e3827_row5_col2\" class=\"data row5 col2\" >2</td>\n",
       "                        <td id=\"T_e3827_row5_col3\" class=\"data row5 col3\" >2</td>\n",
       "                        <td id=\"T_e3827_row5_col4\" class=\"data row5 col4\" >3</td>\n",
       "            </tr>\n",
       "            <tr>\n",
       "                        <th id=\"T_e3827_level0_row6\" class=\"row_heading level0 row6\" >6</th>\n",
       "                        <td id=\"T_e3827_row6_col0\" class=\"data row6 col0\" >Показать на главной странице баннеры с актуальными акциями и распродажами, чтобы увеличить конверсию</td>\n",
       "                        <td id=\"T_e3827_row6_col1\" class=\"data row6 col1\" >5</td>\n",
       "                        <td id=\"T_e3827_row6_col2\" class=\"data row6 col2\" >3</td>\n",
       "                        <td id=\"T_e3827_row6_col3\" class=\"data row6 col3\" >8</td>\n",
       "                        <td id=\"T_e3827_row6_col4\" class=\"data row6 col4\" >3</td>\n",
       "            </tr>\n",
       "            <tr>\n",
       "                        <th id=\"T_e3827_level0_row7\" class=\"row_heading level0 row7\" >7</th>\n",
       "                        <td id=\"T_e3827_row7_col0\" class=\"data row7 col0\" >Добавить форму подписки на все основные страницы, чтобы собрать базу клиентов для email-рассылок</td>\n",
       "                        <td id=\"T_e3827_row7_col1\" class=\"data row7 col1\" >10</td>\n",
       "                        <td id=\"T_e3827_row7_col2\" class=\"data row7 col2\" >7</td>\n",
       "                        <td id=\"T_e3827_row7_col3\" class=\"data row7 col3\" >8</td>\n",
       "                        <td id=\"T_e3827_row7_col4\" class=\"data row7 col4\" >5</td>\n",
       "            </tr>\n",
       "            <tr>\n",
       "                        <th id=\"T_e3827_level0_row8\" class=\"row_heading level0 row8\" >8</th>\n",
       "                        <td id=\"T_e3827_row8_col0\" class=\"data row8 col0\" >Запустить акцию, дающую скидку на товар в день рождения</td>\n",
       "                        <td id=\"T_e3827_row8_col1\" class=\"data row8 col1\" >1</td>\n",
       "                        <td id=\"T_e3827_row8_col2\" class=\"data row8 col2\" >9</td>\n",
       "                        <td id=\"T_e3827_row8_col3\" class=\"data row8 col3\" >9</td>\n",
       "                        <td id=\"T_e3827_row8_col4\" class=\"data row8 col4\" >5</td>\n",
       "            </tr>\n",
       "    </tbody></table>"
      ],
      "text/plain": [
       "<pandas.io.formats.style.Styler at 0x7f34d6e8a310>"
      ]
     },
     "execution_count": 1,
     "metadata": {},
     "output_type": "execute_result"
    }
   ],
   "source": [
    "import pandas as pd\n",
    "import scipy.stats as stats\n",
    "import matplotlib.pyplot as plt\n",
    "import numpy as np\n",
    "import datetime as dt\n",
    "\n",
    "try:\n",
    "    hypothesis = pd.read_csv('/datasets/hypothesis.csv', sep=',')\n",
    "except:\n",
    "    hypothesis = pd.read_csv(r'C:\\Users\\asus\\Downloads\\hypothesis.csv', sep=',')\n",
    "    \n",
    "try:\n",
    "    orders = pd.read_csv('/datasets/orders.csv', sep=',')\n",
    "except:\n",
    "    orders = pd.read_csv(r'C:\\Users\\asus\\Downloads\\orders.csv', sep=',')\n",
    "    \n",
    "try:\n",
    "    visitors = pd.read_csv('/datasets/visitors.csv', sep=',')\n",
    "except:\n",
    "    visitors = pd.read_csv(r'C:\\Users\\asus\\Downloads\\visitors.csv', sep=',')\n",
    "\n",
    "pd.options.display.max_colwidth = 110    \n",
    "\n",
    "display(orders.head(10))\n",
    "display(visitors.head(10)) \n",
    "\n",
    "(hypothesis\n",
    ".style\n",
    ".background_gradient(subset=['Reach','Impact','Confidence','Efforts'], cmap='RdPu'))"
   ]
  },
  {
   "cell_type": "markdown",
   "metadata": {},
   "source": [
    "### Предобработка данных"
   ]
  },
  {
   "cell_type": "markdown",
   "metadata": {},
   "source": [
    "Сделаем предобработку таблицы hypothesis:"
   ]
  },
  {
   "cell_type": "code",
   "execution_count": 2,
   "metadata": {},
   "outputs": [
    {
     "name": "stdout",
     "output_type": "stream",
     "text": [
      "<class 'pandas.core.frame.DataFrame'>\n",
      "RangeIndex: 9 entries, 0 to 8\n",
      "Data columns (total 5 columns):\n",
      " #   Column      Non-Null Count  Dtype \n",
      "---  ------      --------------  ----- \n",
      " 0   hypothesis  9 non-null      object\n",
      " 1   reach       9 non-null      int64 \n",
      " 2   impact      9 non-null      int64 \n",
      " 3   confidence  9 non-null      int64 \n",
      " 4   efforts     9 non-null      int64 \n",
      "dtypes: int64(4), object(1)\n",
      "memory usage: 488.0+ bytes\n"
     ]
    }
   ],
   "source": [
    "hypothesis.columns = hypothesis.columns.str.lower() # приведем названия колонок к нижнему регистру\n",
    "hypothesis.info()"
   ]
  },
  {
   "cell_type": "markdown",
   "metadata": {},
   "source": [
    "На этапе обзора данных мы увидели, что дубликатов и пропусков в данной таблице нет, с типами данных ошибок так же не возникло."
   ]
  },
  {
   "cell_type": "markdown",
   "metadata": {},
   "source": [
    "Сделаем предобработку таблицы orders:"
   ]
  },
  {
   "cell_type": "code",
   "execution_count": 3,
   "metadata": {},
   "outputs": [
    {
     "name": "stdout",
     "output_type": "stream",
     "text": [
      "<class 'pandas.core.frame.DataFrame'>\n",
      "RangeIndex: 1197 entries, 0 to 1196\n",
      "Data columns (total 5 columns):\n",
      " #   Column         Non-Null Count  Dtype \n",
      "---  ------         --------------  ----- \n",
      " 0   transactionId  1197 non-null   int64 \n",
      " 1   visitorId      1197 non-null   int64 \n",
      " 2   date           1197 non-null   object\n",
      " 3   revenue        1197 non-null   int64 \n",
      " 4   group          1197 non-null   object\n",
      "dtypes: int64(3), object(2)\n",
      "memory usage: 46.9+ KB\n"
     ]
    }
   ],
   "source": [
    "orders.info()"
   ]
  },
  {
   "cell_type": "markdown",
   "metadata": {},
   "source": [
    "Поменяем тип столбца \"date\" на datetime:"
   ]
  },
  {
   "cell_type": "code",
   "execution_count": 4,
   "metadata": {},
   "outputs": [],
   "source": [
    "orders[\"date\"] = orders[\"date\"].map(lambda x: dt.datetime.strptime(x, '%Y-%m-%d'))"
   ]
  },
  {
   "cell_type": "markdown",
   "metadata": {},
   "source": [
    "Посчитаем количество пропусков и дубликатов:"
   ]
  },
  {
   "cell_type": "code",
   "execution_count": 5,
   "metadata": {},
   "outputs": [
    {
     "name": "stdout",
     "output_type": "stream",
     "text": [
      "transactionId    0\n",
      "visitorId        0\n",
      "date             0\n",
      "revenue          0\n",
      "group            0\n",
      "dtype: int64\n",
      "Количество явных дубликатов: 0\n"
     ]
    }
   ],
   "source": [
    "print(orders.isna().sum()) # посчитаем количество пропусков в столбцах\n",
    "print('Количество явных дубликатов:',orders.duplicated().sum()) # подсчёт явных дубликатов"
   ]
  },
  {
   "cell_type": "markdown",
   "metadata": {},
   "source": [
    "В таблице orders пропусков и дубликатов не оказалось. Тип столбца 'date' мы заменили на datetime, так как в нем содержится информация о дате."
   ]
  },
  {
   "cell_type": "markdown",
   "metadata": {},
   "source": [
    "Сделаем предобработку таблицы visitors:"
   ]
  },
  {
   "cell_type": "code",
   "execution_count": 6,
   "metadata": {},
   "outputs": [
    {
     "name": "stdout",
     "output_type": "stream",
     "text": [
      "<class 'pandas.core.frame.DataFrame'>\n",
      "RangeIndex: 62 entries, 0 to 61\n",
      "Data columns (total 3 columns):\n",
      " #   Column    Non-Null Count  Dtype \n",
      "---  ------    --------------  ----- \n",
      " 0   date      62 non-null     object\n",
      " 1   group     62 non-null     object\n",
      " 2   visitors  62 non-null     int64 \n",
      "dtypes: int64(1), object(2)\n",
      "memory usage: 1.6+ KB\n"
     ]
    }
   ],
   "source": [
    "visitors.info()"
   ]
  },
  {
   "cell_type": "markdown",
   "metadata": {},
   "source": [
    "Поменяем тип столбца \"date\" на datetime"
   ]
  },
  {
   "cell_type": "code",
   "execution_count": 7,
   "metadata": {},
   "outputs": [],
   "source": [
    "visitors[\"date\"] = visitors[\"date\"].map(lambda x: dt.datetime.strptime(x, '%Y-%m-%d'))"
   ]
  },
  {
   "cell_type": "markdown",
   "metadata": {},
   "source": [
    "Посчитаем количество пропусков и дубликатов:"
   ]
  },
  {
   "cell_type": "code",
   "execution_count": 8,
   "metadata": {},
   "outputs": [
    {
     "name": "stdout",
     "output_type": "stream",
     "text": [
      "date        0\n",
      "group       0\n",
      "visitors    0\n",
      "dtype: int64\n",
      "Количество явных дубликатов: 0\n"
     ]
    }
   ],
   "source": [
    "print(visitors.isna().sum()) # посчитаем количество пропусков в столбцах\n",
    "print('Количество явных дубликатов:',visitors.duplicated().sum()) # подсчёт явных дубликатов"
   ]
  },
  {
   "cell_type": "markdown",
   "metadata": {},
   "source": [
    "В таблице visitors пропусков и дубликатов не оказалось. Тип столбца 'date' мы так же заменили на datetime."
   ]
  },
  {
   "cell_type": "markdown",
   "metadata": {},
   "source": [
    "На этапе преобработки мы проверили таблицы на наличие пропусков и дубликатов. И заменили тип данных в столбцах, содержащих информацию о дате, на datetime."
   ]
  },
  {
   "cell_type": "markdown",
   "metadata": {},
   "source": [
    "### Исследовательский анализ данных"
   ]
  },
  {
   "cell_type": "markdown",
   "metadata": {},
   "source": [
    "Определим, сколько групп в A/B тесте:"
   ]
  },
  {
   "cell_type": "code",
   "execution_count": 9,
   "metadata": {},
   "outputs": [
    {
     "name": "stdout",
     "output_type": "stream",
     "text": [
      "['B' 'A']\n"
     ]
    }
   ],
   "source": [
    "print(orders['group'].unique())"
   ]
  },
  {
   "cell_type": "markdown",
   "metadata": {},
   "source": [
    "Логично, в A/B тесте только 2 группы - A и B."
   ]
  },
  {
   "cell_type": "markdown",
   "metadata": {},
   "source": [
    "Определим, сколько пользователей в каждой группе:"
   ]
  },
  {
   "cell_type": "code",
   "execution_count": 10,
   "metadata": {},
   "outputs": [
    {
     "name": "stdout",
     "output_type": "stream",
     "text": [
      "group\n",
      "A    557\n",
      "B    640\n",
      "Name: visitorId, dtype: int64\n"
     ]
    }
   ],
   "source": [
    "print(orders.groupby('group')['visitorId'].count())"
   ]
  },
  {
   "cell_type": "markdown",
   "metadata": {},
   "source": [
    "В группе A - 557 пользователей, в группе B - 640 пользователей."
   ]
  },
  {
   "cell_type": "markdown",
   "metadata": {},
   "source": [
    "Определим, не попадают ли какие-то пользователи в обе группы:"
   ]
  },
  {
   "cell_type": "code",
   "execution_count": 11,
   "metadata": {},
   "outputs": [
    {
     "name": "stdout",
     "output_type": "stream",
     "text": [
      "group    58\n",
      "dtype: int64\n"
     ]
    }
   ],
   "source": [
    "print(orders.groupby('visitorId').agg({'group' : 'nunique'}).query('group>1').count())\n",
    "\n",
    "visitors_two_groups = orders.groupby('visitorId').agg({'group' : 'nunique'}).reset_index().query('group>1')['visitorId'].unique()\n",
    "\n",
    "orders = orders.query('visitorId not in @visitors_two_groups')"
   ]
  },
  {
   "cell_type": "markdown",
   "metadata": {},
   "source": [
    "Оказалось, что 58 пользователей попали в две группы теста - это говорит об ошибке в сборе данных. Мы можем исключить этих пользователей из таблицы с заказами, но не сможем удалить из таблицы с визитами, так как данные в этом датасете агрегированы; удаление этих пользователей повляет на конверсию. Поэтому мы удалили их только из таблицы с заказами. "
   ]
  },
  {
   "cell_type": "markdown",
   "metadata": {},
   "source": [
    "На этапе исследовательского анализа данных мы определили, сколько групп в тесте и сколько пользователей в каждой группе. Так же мы определили сколько пользователей попадают в обе группы и удалили этих пользователей из таблицы orders. "
   ]
  },
  {
   "cell_type": "markdown",
   "metadata": {},
   "source": [
    "### Приоритизация гипотез"
   ]
  },
  {
   "cell_type": "markdown",
   "metadata": {},
   "source": [
    "Применим фреймворк ICE для приоритизации гипотез. Отсортируем их по убыванию приоритета.\n",
    "Будем использовать формулу: $$ICE = \\frac{Impact * Confidence}{Efforts}$$"
   ]
  },
  {
   "cell_type": "code",
   "execution_count": 12,
   "metadata": {},
   "outputs": [
    {
     "data": {
      "text/html": [
       "<style  type=\"text/css\" >\n",
       "#T_ad0e9_row0_col1{\n",
       "            background-color:  #49006a;\n",
       "            color:  #f1f1f1;\n",
       "        }#T_ad0e9_row1_col1{\n",
       "            background-color:  #94017b;\n",
       "            color:  #f1f1f1;\n",
       "        }#T_ad0e9_row2_col1{\n",
       "            background-color:  #cc218e;\n",
       "            color:  #f1f1f1;\n",
       "        }#T_ad0e9_row3_col1{\n",
       "            background-color:  #f87aa8;\n",
       "            color:  #000000;\n",
       "        }#T_ad0e9_row4_col1{\n",
       "            background-color:  #f996b2;\n",
       "            color:  #000000;\n",
       "        }#T_ad0e9_row5_col1{\n",
       "            background-color:  #feebe8;\n",
       "            color:  #000000;\n",
       "        }#T_ad0e9_row6_col1{\n",
       "            background-color:  #fff3f0;\n",
       "            color:  #000000;\n",
       "        }#T_ad0e9_row7_col1{\n",
       "            background-color:  #fff6f2;\n",
       "            color:  #000000;\n",
       "        }#T_ad0e9_row8_col1{\n",
       "            background-color:  #fff7f3;\n",
       "            color:  #000000;\n",
       "        }</style><table id=\"T_ad0e9_\" ><thead>    <tr>        <th class=\"blank level0\" ></th>        <th class=\"col_heading level0 col0\" >hypothesis</th>        <th class=\"col_heading level0 col1\" >ICE</th>    </tr></thead><tbody>\n",
       "                <tr>\n",
       "                        <th id=\"T_ad0e9_level0_row0\" class=\"row_heading level0 row0\" >8</th>\n",
       "                        <td id=\"T_ad0e9_row0_col0\" class=\"data row0 col0\" >Запустить акцию, дающую скидку на товар в день рождения</td>\n",
       "                        <td id=\"T_ad0e9_row0_col1\" class=\"data row0 col1\" >16.200000</td>\n",
       "            </tr>\n",
       "            <tr>\n",
       "                        <th id=\"T_ad0e9_level0_row1\" class=\"row_heading level0 row1\" >0</th>\n",
       "                        <td id=\"T_ad0e9_row1_col0\" class=\"data row1 col0\" >Добавить два новых канала привлечения трафика, что позволит привлекать на 30% больше пользователей</td>\n",
       "                        <td id=\"T_ad0e9_row1_col1\" class=\"data row1 col1\" >13.333333</td>\n",
       "            </tr>\n",
       "            <tr>\n",
       "                        <th id=\"T_ad0e9_level0_row2\" class=\"row_heading level0 row2\" >7</th>\n",
       "                        <td id=\"T_ad0e9_row2_col0\" class=\"data row2 col0\" >Добавить форму подписки на все основные страницы, чтобы собрать базу клиентов для email-рассылок</td>\n",
       "                        <td id=\"T_ad0e9_row2_col1\" class=\"data row2 col1\" >11.200000</td>\n",
       "            </tr>\n",
       "            <tr>\n",
       "                        <th id=\"T_ad0e9_level0_row3\" class=\"row_heading level0 row3\" >6</th>\n",
       "                        <td id=\"T_ad0e9_row3_col0\" class=\"data row3 col0\" >Показать на главной странице баннеры с актуальными акциями и распродажами, чтобы увеличить конверсию</td>\n",
       "                        <td id=\"T_ad0e9_row3_col1\" class=\"data row3 col1\" >8.000000</td>\n",
       "            </tr>\n",
       "            <tr>\n",
       "                        <th id=\"T_ad0e9_level0_row4\" class=\"row_heading level0 row4\" >2</th>\n",
       "                        <td id=\"T_ad0e9_row4_col0\" class=\"data row4 col0\" >Добавить блоки рекомендаций товаров на сайт интернет магазина, чтобы повысить конверсию и средний чек заказа</td>\n",
       "                        <td id=\"T_ad0e9_row4_col1\" class=\"data row4 col1\" >7.000000</td>\n",
       "            </tr>\n",
       "            <tr>\n",
       "                        <th id=\"T_ad0e9_level0_row5\" class=\"row_heading level0 row5\" >1</th>\n",
       "                        <td id=\"T_ad0e9_row5_col0\" class=\"data row5 col0\" >Запустить собственную службу доставки, что сократит срок доставки заказов</td>\n",
       "                        <td id=\"T_ad0e9_row5_col1\" class=\"data row5 col1\" >2.000000</td>\n",
       "            </tr>\n",
       "            <tr>\n",
       "                        <th id=\"T_ad0e9_level0_row6\" class=\"row_heading level0 row6\" >5</th>\n",
       "                        <td id=\"T_ad0e9_row6_col0\" class=\"data row6 col0\" >Добавить страницу отзывов клиентов о магазине, что позволит увеличить количество заказов</td>\n",
       "                        <td id=\"T_ad0e9_row6_col1\" class=\"data row6 col1\" >1.333333</td>\n",
       "            </tr>\n",
       "            <tr>\n",
       "                        <th id=\"T_ad0e9_level0_row7\" class=\"row_heading level0 row7\" >3</th>\n",
       "                        <td id=\"T_ad0e9_row7_col0\" class=\"data row7 col0\" >Изменить структура категорий, что увеличит конверсию, т.к. пользователи быстрее найдут нужный товар</td>\n",
       "                        <td id=\"T_ad0e9_row7_col1\" class=\"data row7 col1\" >1.125000</td>\n",
       "            </tr>\n",
       "            <tr>\n",
       "                        <th id=\"T_ad0e9_level0_row8\" class=\"row_heading level0 row8\" >4</th>\n",
       "                        <td id=\"T_ad0e9_row8_col0\" class=\"data row8 col0\" >Изменить цвет фона главной страницы, чтобы увеличить вовлеченность пользователей</td>\n",
       "                        <td id=\"T_ad0e9_row8_col1\" class=\"data row8 col1\" >1.000000</td>\n",
       "            </tr>\n",
       "    </tbody></table>"
      ],
      "text/plain": [
       "<pandas.io.formats.style.Styler at 0x7f3454b58ca0>"
      ]
     },
     "execution_count": 12,
     "metadata": {},
     "output_type": "execute_result"
    }
   ],
   "source": [
    "hypothesis['ICE']=hypothesis['impact']*hypothesis['confidence']/hypothesis['efforts']\n",
    "\n",
    "(hypothesis[['hypothesis','ICE']].sort_values(by='ICE',ascending=False)\n",
    ".style\n",
    ".background_gradient(subset=['ICE'], cmap='RdPu'))"
   ]
  },
  {
   "cell_type": "markdown",
   "metadata": {},
   "source": [
    "Наиболее перспективные гипотезы по ICE: 8, 0, 7, 6, 2"
   ]
  },
  {
   "cell_type": "markdown",
   "metadata": {},
   "source": [
    "Применим фреймворк RICE для приоритизации гипотез. Отсортируем их по убыванию приоритета. Будем использовать формулу:\n",
    "$$RICE = \\frac{Reach * Impact * Confidence}{Efforts}$$"
   ]
  },
  {
   "cell_type": "code",
   "execution_count": 13,
   "metadata": {},
   "outputs": [
    {
     "data": {
      "text/html": [
       "<style  type=\"text/css\" >\n",
       "#T_00a56_row0_col1{\n",
       "            background-color:  #49006a;\n",
       "            color:  #f1f1f1;\n",
       "        }#T_00a56_row1_col1{\n",
       "            background-color:  #f76ea3;\n",
       "            color:  #000000;\n",
       "        }#T_00a56_row2_col1,#T_00a56_row3_col1{\n",
       "            background-color:  #fbaab8;\n",
       "            color:  #000000;\n",
       "        }#T_00a56_row4_col1{\n",
       "            background-color:  #fde1de;\n",
       "            color:  #000000;\n",
       "        }#T_00a56_row5_col1{\n",
       "            background-color:  #feede9;\n",
       "            color:  #000000;\n",
       "        }#T_00a56_row6_col1,#T_00a56_row7_col1{\n",
       "            background-color:  #fff6f2;\n",
       "            color:  #000000;\n",
       "        }#T_00a56_row8_col1{\n",
       "            background-color:  #fff7f3;\n",
       "            color:  #000000;\n",
       "        }</style><table id=\"T_00a56_\" ><thead>    <tr>        <th class=\"blank level0\" ></th>        <th class=\"col_heading level0 col0\" >hypothesis</th>        <th class=\"col_heading level0 col1\" >RICE</th>    </tr></thead><tbody>\n",
       "                <tr>\n",
       "                        <th id=\"T_00a56_level0_row0\" class=\"row_heading level0 row0\" >7</th>\n",
       "                        <td id=\"T_00a56_row0_col0\" class=\"data row0 col0\" >Добавить форму подписки на все основные страницы, чтобы собрать базу клиентов для email-рассылок</td>\n",
       "                        <td id=\"T_00a56_row0_col1\" class=\"data row0 col1\" >112.000000</td>\n",
       "            </tr>\n",
       "            <tr>\n",
       "                        <th id=\"T_00a56_level0_row1\" class=\"row_heading level0 row1\" >2</th>\n",
       "                        <td id=\"T_00a56_row1_col0\" class=\"data row1 col0\" >Добавить блоки рекомендаций товаров на сайт интернет магазина, чтобы повысить конверсию и средний чек заказа</td>\n",
       "                        <td id=\"T_00a56_row1_col1\" class=\"data row1 col1\" >56.000000</td>\n",
       "            </tr>\n",
       "            <tr>\n",
       "                        <th id=\"T_00a56_level0_row2\" class=\"row_heading level0 row2\" >0</th>\n",
       "                        <td id=\"T_00a56_row2_col0\" class=\"data row2 col0\" >Добавить два новых канала привлечения трафика, что позволит привлекать на 30% больше пользователей</td>\n",
       "                        <td id=\"T_00a56_row2_col1\" class=\"data row2 col1\" >40.000000</td>\n",
       "            </tr>\n",
       "            <tr>\n",
       "                        <th id=\"T_00a56_level0_row3\" class=\"row_heading level0 row3\" >6</th>\n",
       "                        <td id=\"T_00a56_row3_col0\" class=\"data row3 col0\" >Показать на главной странице баннеры с актуальными акциями и распродажами, чтобы увеличить конверсию</td>\n",
       "                        <td id=\"T_00a56_row3_col1\" class=\"data row3 col1\" >40.000000</td>\n",
       "            </tr>\n",
       "            <tr>\n",
       "                        <th id=\"T_00a56_level0_row4\" class=\"row_heading level0 row4\" >8</th>\n",
       "                        <td id=\"T_00a56_row4_col0\" class=\"data row4 col0\" >Запустить акцию, дающую скидку на товар в день рождения</td>\n",
       "                        <td id=\"T_00a56_row4_col1\" class=\"data row4 col1\" >16.200000</td>\n",
       "            </tr>\n",
       "            <tr>\n",
       "                        <th id=\"T_00a56_level0_row5\" class=\"row_heading level0 row5\" >3</th>\n",
       "                        <td id=\"T_00a56_row5_col0\" class=\"data row5 col0\" >Изменить структура категорий, что увеличит конверсию, т.к. пользователи быстрее найдут нужный товар</td>\n",
       "                        <td id=\"T_00a56_row5_col1\" class=\"data row5 col1\" >9.000000</td>\n",
       "            </tr>\n",
       "            <tr>\n",
       "                        <th id=\"T_00a56_level0_row6\" class=\"row_heading level0 row6\" >1</th>\n",
       "                        <td id=\"T_00a56_row6_col0\" class=\"data row6 col0\" >Запустить собственную службу доставки, что сократит срок доставки заказов</td>\n",
       "                        <td id=\"T_00a56_row6_col1\" class=\"data row6 col1\" >4.000000</td>\n",
       "            </tr>\n",
       "            <tr>\n",
       "                        <th id=\"T_00a56_level0_row7\" class=\"row_heading level0 row7\" >5</th>\n",
       "                        <td id=\"T_00a56_row7_col0\" class=\"data row7 col0\" >Добавить страницу отзывов клиентов о магазине, что позволит увеличить количество заказов</td>\n",
       "                        <td id=\"T_00a56_row7_col1\" class=\"data row7 col1\" >4.000000</td>\n",
       "            </tr>\n",
       "            <tr>\n",
       "                        <th id=\"T_00a56_level0_row8\" class=\"row_heading level0 row8\" >4</th>\n",
       "                        <td id=\"T_00a56_row8_col0\" class=\"data row8 col0\" >Изменить цвет фона главной страницы, чтобы увеличить вовлеченность пользователей</td>\n",
       "                        <td id=\"T_00a56_row8_col1\" class=\"data row8 col1\" >3.000000</td>\n",
       "            </tr>\n",
       "    </tbody></table>"
      ],
      "text/plain": [
       "<pandas.io.formats.style.Styler at 0x7f34d4656dc0>"
      ]
     },
     "execution_count": 13,
     "metadata": {},
     "output_type": "execute_result"
    }
   ],
   "source": [
    "hypothesis['RICE']=hypothesis['reach']*hypothesis['impact']*hypothesis['confidence']/hypothesis['efforts']\n",
    "\n",
    "(hypothesis[['hypothesis','RICE']].sort_values(by='RICE',ascending=False)\n",
    ".style\n",
    ".background_gradient(subset=['RICE'], cmap='RdPu'))"
   ]
  },
  {
   "cell_type": "markdown",
   "metadata": {},
   "source": [
    "Наиболее перспективные гипотезы по RICE: 7, 2, 0, 6, 8"
   ]
  },
  {
   "cell_type": "markdown",
   "metadata": {},
   "source": [
    "При применении RICE вместо ICE наиболее перспективными гипотезами так же остались 8, 0, 7, 6, 2; но 7 гипотеза стала наиболее перспективной, а 8, которая была на первом месте, переместилась на 5 место по приоритизации. \n",
    "\n",
    "\"Добавить форму подписки на все основные страницы, чтобы собрать базу клиентов для email-рассылок\" - эта гипотеза занимает первое место по параметру Reach, так как ее влияние дейcтвительно затронет большое количество пользователей, но не на всех она окажет сильное влияние (всем будет предложена форма подписки, но только 70% клиентов ее заполнят). Поэтому по RICE она занимает первое место, а по ICE - третье.\n",
    "\n",
    "\"Запустить акцию, дающую скидку на товар в день рождения\" - влияние данной гипотезы затронет минимальное количество пользователей, но изменения сильно повлиюят на пользователей (действительно, скидки в день рождения сильно повышают спрос на товар). Поэтому по RICE она занимает пятое место, а по ICE - первое.\n",
    "\n",
    "\"Добавить два новых канала привлечения трафика, что позволит привлекать на 30% больше пользователей\" - данная гипотеза стала ниже на одну строку по RICE, так как по охвату значение не самое высокое (30%), но влияние у нее максимальное (100%). Поэтому по RICE она занимает третье место, а по ICE - второе.\n",
    "\n",
    "\"Показать на главной странице баннеры с актуальными акциями и распродажами, чтобы увеличить конверсию\" - эта гипотеза так и осталась на 4 месте по обоим способам приоритизации.\n",
    "\n",
    "\"Добавить блоки рекомендаций товаров на сайт интернет магазина, чтобы повысить конверсию и средний чек заказа\" - данная гипотеза поднялась 3 строки вверх по приоритизации, так как охват пользователей у нее достаточно большой (80%), но вот влияние она оказывает невысокое (30%). Поэтому по RICE она занимает второе место, а по ICE - пятое."
   ]
  },
  {
   "cell_type": "markdown",
   "metadata": {},
   "source": [
    "### Анализ A/B-теста"
   ]
  },
  {
   "cell_type": "markdown",
   "metadata": {},
   "source": [
    "Построим график кумулятивной выручки по группам."
   ]
  },
  {
   "cell_type": "code",
   "execution_count": 14,
   "metadata": {},
   "outputs": [
    {
     "name": "stdout",
     "output_type": "stream",
     "text": [
      "        date group  orders  buyers  revenue  visitors\n",
      "0 2019-08-01     A      23      19   142779       719\n",
      "1 2019-08-01     B      17      17    59758       713\n",
      "2 2019-08-02     A      42      36   234381      1338\n",
      "3 2019-08-02     B      40      39   221801      1294\n",
      "4 2019-08-03     A      66      60   346854      1845\n"
     ]
    }
   ],
   "source": [
    "# создаем массив уникальных пар значений дат и групп теста\n",
    "datesGroups = orders[['date','group']].drop_duplicates() \n",
    "\n",
    "# получаем агрегированные кумулятивные по дням данные о заказах \n",
    "ordersAggregated = datesGroups.apply(lambda x: orders[np.logical_and(orders['date'] <= x['date'], orders['group'] == x['group'])].agg({'date' : 'max', 'group' : 'max', 'transactionId' : 'nunique', 'visitorId' : 'nunique', 'revenue' : 'sum'}), axis=1).sort_values(by=['date','group'])\n",
    "\n",
    "# получаем агрегированные кумулятивные по дням данные о посетителях интернет-магазина \n",
    "visitorsAggregated = datesGroups.apply(lambda x: visitors[np.logical_and(visitors['date'] <= x['date'], visitors['group'] == x['group'])].agg({'date' : 'max', 'group' : 'max', 'visitors' : 'sum'}), axis=1).sort_values(by=['date','group'])\n",
    "\n",
    "# объединяем кумулятивные данные в одной таблице и присваиваем ее столбцам понятные названия\n",
    "cumulativeData = ordersAggregated.merge(visitorsAggregated, left_on=['date', 'group'], right_on=['date', 'group'])\n",
    "cumulativeData.columns = ['date', 'group', 'orders', 'buyers', 'revenue', 'visitors']\n",
    "\n",
    "print(cumulativeData.head(5)) "
   ]
  },
  {
   "cell_type": "code",
   "execution_count": 15,
   "metadata": {},
   "outputs": [
    {
     "data": {
      "image/png": "[encoded data removed]",
      "text/plain": [
       "<Figure size 1080x360 with 1 Axes>"
      ]
     },
     "metadata": {
      "needs_background": "light"
     },
     "output_type": "display_data"
    }
   ],
   "source": [
    "# датафрейм с кумулятивным количеством заказов и кумулятивной выручкой по дням в группе А\n",
    "cumulativeRevenueA = cumulativeData[cumulativeData['group']=='A'][['date','revenue', 'orders']]\n",
    "\n",
    "# датафрейм с кумулятивным количеством заказов и кумулятивной выручкой по дням в группе B\n",
    "cumulativeRevenueB = cumulativeData[cumulativeData['group']=='B'][['date','revenue', 'orders']]\n",
    "\n",
    "plt.figure(figsize=(15,5))\n",
    "# Строим график выручки группы А\n",
    "plt.plot(cumulativeRevenueA['date'], cumulativeRevenueA['revenue'], label='A')\n",
    "\n",
    "# Строим график выручки группы B\n",
    "plt.plot(cumulativeRevenueB['date'], cumulativeRevenueB['revenue'], label='B')\n",
    "\n",
    "plt.title(\"График кумулятивной выручки по группам\")\n",
    "plt.xlabel(\"Дата\")\n",
    "plt.ylabel(\"Выручка\")\n",
    "plt.legend()\n",
    "plt.show()"
   ]
  },
  {
   "cell_type": "markdown",
   "metadata": {},
   "source": [
    "Выручка почти равномерно увеличивается в течение теста у обеих групп. Но у группы B в одной точке резко возрастает (видимо было увеличение числа заказов или появление более дорогих заказов в выборке).  "
   ]
  },
  {
   "cell_type": "markdown",
   "metadata": {},
   "source": [
    "Построим график кумулятивного среднего чека по группам. "
   ]
  },
  {
   "cell_type": "code",
   "execution_count": 16,
   "metadata": {},
   "outputs": [
    {
     "data": {
      "image/png": "[encoded data removed]",
      "text/plain": [
       "<Figure size 1080x360 with 1 Axes>"
      ]
     },
     "metadata": {
      "needs_background": "light"
     },
     "output_type": "display_data"
    }
   ],
   "source": [
    "plt.figure(figsize=(15,5))\n",
    "plt.plot(cumulativeRevenueA['date'], cumulativeRevenueA['revenue']/cumulativeRevenueA['orders'], label='A')\n",
    "plt.plot(cumulativeRevenueB['date'], cumulativeRevenueB['revenue']/cumulativeRevenueB['orders'], label='B')\n",
    "\n",
    "plt.title(\"График кумулятивного среднего чека по группам\")\n",
    "plt.xlabel(\"Дата\")\n",
    "plt.ylabel(\"Средний чек\")\n",
    "plt.legend() \n",
    "plt.show()"
   ]
  },
  {
   "cell_type": "markdown",
   "metadata": {},
   "source": [
    "В первой половине теста у обеих групп наблюдается неравномерный средний чек. У группы B он возрастает с несколькими выбросами вниз, а у группы A присутствет один сильный выброс вниз почти в начале теста, а далее средний чек начинает возрастать. Средний чек у обеих групп становится равномерным только после середины теста: у группы B после сильного скачка начал падать, а у группы A установился и даже немного возрастает. Видимо, в группе B в начале второй половины теста попали крупные заказы. "
   ]
  },
  {
   "cell_type": "markdown",
   "metadata": {},
   "source": [
    "Построим график относительного изменения кумулятивного среднего чека группы B к группе A."
   ]
  },
  {
   "cell_type": "code",
   "execution_count": 17,
   "metadata": {},
   "outputs": [
    {
     "data": {
      "image/png": "[encoded data removed]",
      "text/plain": [
       "<Figure size 1080x360 with 1 Axes>"
      ]
     },
     "metadata": {
      "needs_background": "light"
     },
     "output_type": "display_data"
    }
   ],
   "source": [
    "# собираем данные в одном датафрейме\n",
    "mergedCumulativeRevenue = cumulativeRevenueA.merge(cumulativeRevenueB, left_on='date', right_on='date', how='left', suffixes=['A', 'B'])\n",
    "\n",
    "plt.figure(figsize=(15,5))\n",
    "# cтроим отношение средних чеков\n",
    "plt.plot(mergedCumulativeRevenue['date'], (mergedCumulativeRevenue['revenueB']/mergedCumulativeRevenue['ordersB'])/(mergedCumulativeRevenue['revenueA']/mergedCumulativeRevenue['ordersA'])-1)\n",
    "\n",
    "# добавляем ось X\n",
    "plt.axhline(y=0, color='black', linestyle='--') \n",
    "plt.title(\"График относительного изменения кумулятивного среднего чека группы B к группе A\")\n",
    "plt.xlabel(\"Дата\")\n",
    "plt.ylabel(\"Отношение\")\n",
    "plt.show()"
   ]
  },
  {
   "cell_type": "markdown",
   "metadata": {},
   "source": [
    "Средний чек группы B сначала возрастал (вскоре превысил средний чек группы A) с одним небольшим скачок вниз, а примерно 7-8 августа начал сильно падать, и даже стал ниже среднего чека группы A. Падение происходило до 13 августа, далее средний чек группы B снова начал расти (и вскоре снова превысил средний чек группы A, и до конца месяца оставался больше, чем у группы A). Примерно 18-19 числа произошел сильный рост выручки группы B, а после начал снижаться."
   ]
  },
  {
   "cell_type": "markdown",
   "metadata": {},
   "source": [
    "Построим график кумулятивного среднего количества заказов на посетителя по группам. "
   ]
  },
  {
   "cell_type": "code",
   "execution_count": 18,
   "metadata": {},
   "outputs": [
    {
     "data": {
      "image/png": "[encoded data removed]",
      "text/plain": [
       "<Figure size 1080x360 with 1 Axes>"
      ]
     },
     "metadata": {
      "needs_background": "light"
     },
     "output_type": "display_data"
    }
   ],
   "source": [
    "# считаем кумулятивную конверсию\n",
    "cumulativeData['conversion'] = cumulativeData['orders']/cumulativeData['visitors']\n",
    "\n",
    "# отделяем данные по группе A\n",
    "cumulativeDataA = cumulativeData[cumulativeData['group']=='A']\n",
    "\n",
    "# отделяем данные по группе B\n",
    "cumulativeDataB = cumulativeData[cumulativeData['group']=='B']\n",
    "\n",
    "plt.figure(figsize=(15,5))\n",
    "# строим графики\n",
    "plt.plot(cumulativeDataA['date'], cumulativeDataA['conversion'], label='A')\n",
    "plt.plot(cumulativeDataB['date'], cumulativeDataB['conversion'], label='B')\n",
    "plt.legend()\n",
    "\n",
    "plt.title(\"График кумулятивного среднего количества заказов на посетителя по группам\")\n",
    "plt.xlabel(\"Дата\")\n",
    "plt.ylabel(\"Конверсия\")\n",
    "plt.show()"
   ]
  },
  {
   "cell_type": "markdown",
   "metadata": {},
   "source": [
    "В начале месяца конверсия сильно колебалась у обеих групп, но затем конверсия группы B возросла и зафиксировалась, сильно опережаю группу A, а конверсия группы A сильно снизилась и также зафиксировалась."
   ]
  },
  {
   "cell_type": "markdown",
   "metadata": {},
   "source": [
    "Построим график относительного изменения кумулятивного среднего количества заказов на посетителя группы B к группе A. "
   ]
  },
  {
   "cell_type": "code",
   "execution_count": 19,
   "metadata": {},
   "outputs": [
    {
     "data": {
      "image/png": "[encoded data removed]",
      "text/plain": [
       "<Figure size 1080x360 with 1 Axes>"
      ]
     },
     "metadata": {
      "needs_background": "light"
     },
     "output_type": "display_data"
    }
   ],
   "source": [
    "mergedCumulativeConversions = cumulativeDataA[['date','conversion']].merge(cumulativeDataB[['date','conversion']], left_on='date', right_on='date', how='left', suffixes=['A', 'B'])\n",
    "\n",
    "plt.figure(figsize=(15,5))\n",
    "plt.plot(mergedCumulativeConversions['date'], mergedCumulativeConversions['conversionB']/mergedCumulativeConversions['conversionA']-1)\n",
    "\n",
    "plt.axhline(y=0, color='black', linestyle='--')\n",
    "plt.title(\"График относительного изменения кумулятивного среднего количества заказов на посетителя группы B к группе A.\")\n",
    "plt.xlabel(\"Дата\")\n",
    "plt.ylabel(\"Отношение\")\n",
    "plt.show()"
   ]
  },
  {
   "cell_type": "markdown",
   "metadata": {},
   "source": [
    "В начале теста группа B проигрывала группе A по количеству заказов, затем ее конверсия выросла и превысила конверсию группы A (уже до конца месяца), и в среднем оставалась примерно на одном уровне."
   ]
  },
  {
   "cell_type": "markdown",
   "metadata": {},
   "source": [
    "Построим точечный график количества заказов по пользователям."
   ]
  },
  {
   "cell_type": "code",
   "execution_count": 20,
   "metadata": {},
   "outputs": [
    {
     "data": {
      "image/png": "[encoded data removed]",
      "text/plain": [
       "<Figure size 432x288 with 1 Axes>"
      ]
     },
     "metadata": {
      "needs_background": "light"
     },
     "output_type": "display_data"
    }
   ],
   "source": [
    "ordersByUsers = (\n",
    "    orders.groupby('visitorId', as_index=False)\n",
    "    .agg({'transactionId': 'nunique'})\n",
    ")\n",
    "\n",
    "ordersByUsers.columns = ['visitorId', 'orders'] \n",
    "\n",
    "x_values = pd.Series(range(0,len(ordersByUsers)))\n",
    "\n",
    "plt.scatter(x_values, ordersByUsers['orders']) \n",
    "plt.title(\"График количества заказов по пользователям\")\n",
    "plt.xlabel(\"Пользователь\")\n",
    "plt.ylabel(\"Количество заказов\")\n",
    "plt.show()"
   ]
  },
  {
   "cell_type": "markdown",
   "metadata": {},
   "source": [
    "Большинство пользователей делали заказ только один раз. Так же достаточно много пользователей с 2 заказами. Но присутствуют и пользователи, которые совершали 3 заказа в неделю. "
   ]
  },
  {
   "cell_type": "markdown",
   "metadata": {},
   "source": [
    "Посчитаем 95-й и 99-й перцентили количества заказов на пользователя."
   ]
  },
  {
   "cell_type": "code",
   "execution_count": 21,
   "metadata": {},
   "outputs": [
    {
     "name": "stdout",
     "output_type": "stream",
     "text": [
      "[1. 2.]\n"
     ]
    }
   ],
   "source": [
    "print(np.percentile(ordersByUsers['orders'], [95, 99])) "
   ]
  },
  {
   "cell_type": "markdown",
   "metadata": {},
   "source": [
    "Не более 1% пользователей оформляли больше чем 2 заказа. И 5% пользователей заказывали более одного раза. \n",
    "Выберем 2 заказа на одного пользователя за верхнюю границу числа заказов, и отсеим аномальных пользователей по ней."
   ]
  },
  {
   "cell_type": "markdown",
   "metadata": {},
   "source": [
    "Построим точечный график стоимостей заказов. "
   ]
  },
  {
   "cell_type": "code",
   "execution_count": 22,
   "metadata": {},
   "outputs": [
    {
     "data": {
      "image/png": "[encoded data removed]",
      "text/plain": [
       "<Figure size 432x288 with 1 Axes>"
      ]
     },
     "metadata": {
      "needs_background": "light"
     },
     "output_type": "display_data"
    }
   ],
   "source": [
    "x_values = pd.Series(range(0,len(orders['revenue'])))\n",
    "plt.scatter(x_values, orders['revenue']) \n",
    "\n",
    "plt.title(\"График стоимостей заказов\")\n",
    "plt.xlabel(\"Пользователь\")\n",
    "plt.ylabel(\"Стоимость заказов\")\n",
    "plt.show()"
   ]
  },
  {
   "cell_type": "markdown",
   "metadata": {},
   "source": [
    "В большинстве случаев цены заказов находятся в диапазоне до 100 000 рублей. Но заказ с самой максимальной ценой составляет более 1 200 000 рублей. Так же есть заказ около 200 000 рублей. Такие дорогие заказы следует удалить из теста, так как если такой заказ попадет в одну из групп теста, сразу же сделает ее победителем, исказив результаты. "
   ]
  },
  {
   "cell_type": "markdown",
   "metadata": {},
   "source": [
    "Посчитаем 95-й и 99-й перцентили стоимости заказов."
   ]
  },
  {
   "cell_type": "code",
   "execution_count": 23,
   "metadata": {},
   "outputs": [
    {
     "name": "stdout",
     "output_type": "stream",
     "text": [
      "[26785. 53904.]\n"
     ]
    }
   ],
   "source": [
    "print(np.percentile(orders['revenue'], [95, 99])) "
   ]
  },
  {
   "cell_type": "markdown",
   "metadata": {},
   "source": [
    "Не более 5% заказов дороже 26 785 рублей и не более 1% дороже 53 904 рублей. Выберем 30 000 за заказ за верхнюю границу числа заказов, и отсеим аномальные заказы по ней."
   ]
  },
  {
   "cell_type": "markdown",
   "metadata": {},
   "source": [
    "Посчитаем статистическую значимость различий в среднем количестве заказов на посетителя между группами по «сырым» данным.\n",
    "\n",
    "Для начала подготовим данные:"
   ]
  },
  {
   "cell_type": "code",
   "execution_count": 24,
   "metadata": {},
   "outputs": [],
   "source": [
    "visitorsADaily = visitors[visitors['group'] == 'A'][['date', 'visitors']]\n",
    "visitorsADaily.columns = ['date', 'visitorsPerDateA']\n",
    "\n",
    "visitorsACummulative = visitorsADaily.apply(\n",
    "    lambda x: visitorsADaily[visitorsADaily['date'] <= x['date']].agg(\n",
    "        {'date': 'max', 'visitorsPerDateA': 'sum'}\n",
    "    ),\n",
    "    axis=1,\n",
    ")\n",
    "visitorsACummulative.columns = ['date', 'visitorsCummulativeA']\n",
    "\n",
    "visitorsBDaily = visitors[visitors['group'] == 'B'][['date', 'visitors']]\n",
    "visitorsBDaily.columns = ['date', 'visitorsPerDateB']\n",
    "\n",
    "visitorsBCummulative = visitorsBDaily.apply(\n",
    "    lambda x: visitorsBDaily[visitorsBDaily['date'] <= x['date']].agg(\n",
    "        {'date': 'max', 'visitorsPerDateB': 'sum'}\n",
    "    ),\n",
    "    axis=1,\n",
    ")\n",
    "visitorsBCummulative.columns = ['date', 'visitorsCummulativeB']\n",
    "\n",
    "ordersADaily = (\n",
    "    orders[orders['group'] == 'A'][['date', 'transactionId', 'visitorId', 'revenue']]\n",
    "    .groupby('date', as_index=False)\n",
    "    .agg({'transactionId': pd.Series.nunique, 'revenue': 'sum'})\n",
    ")\n",
    "ordersADaily.columns = ['date', 'ordersPerDateA', 'revenuePerDateA']\n",
    "\n",
    "ordersACummulative = ordersADaily.apply(\n",
    "    lambda x: ordersADaily[ordersADaily['date'] <= x['date']].agg(\n",
    "        {'date': 'max', 'ordersPerDateA': 'sum', 'revenuePerDateA': 'sum'}\n",
    "    ),\n",
    "    axis=1,\n",
    ").sort_values(by=['date'])\n",
    "ordersACummulative.columns = [\n",
    "    'date',\n",
    "    'ordersCummulativeA',\n",
    "    'revenueCummulativeA',\n",
    "]\n",
    "\n",
    "ordersBDaily = (\n",
    "    orders[orders['group'] == 'B'][['date', 'transactionId', 'visitorId', 'revenue']]\n",
    "    .groupby('date', as_index=False)\n",
    "    .agg({'transactionId': pd.Series.nunique, 'revenue': 'sum'})\n",
    ")\n",
    "ordersBDaily.columns = ['date', 'ordersPerDateB', 'revenuePerDateB']\n",
    "\n",
    "ordersBCummulative = ordersBDaily.apply(\n",
    "    lambda x: ordersBDaily[ordersBDaily['date'] <= x['date']].agg(\n",
    "        {'date': 'max', 'ordersPerDateB': 'sum', 'revenuePerDateB': 'sum'}\n",
    "    ),\n",
    "    axis=1,\n",
    ").sort_values(by=['date'])\n",
    "ordersBCummulative.columns = [\n",
    "    'date',\n",
    "    'ordersCummulativeB',\n",
    "    'revenueCummulativeB',\n",
    "]"
   ]
  },
  {
   "cell_type": "markdown",
   "metadata": {},
   "source": [
    "Соеберем все данные в одну таблицу:"
   ]
  },
  {
   "cell_type": "code",
   "execution_count": 25,
   "metadata": {},
   "outputs": [
    {
     "data": {
      "text/html": [
       "<div>\n",
       "<style scoped>\n",
       "    .dataframe tbody tr th:only-of-type {\n",
       "        vertical-align: middle;\n",
       "    }\n",
       "\n",
       "    .dataframe tbody tr th {\n",
       "        vertical-align: top;\n",
       "    }\n",
       "\n",
       "    .dataframe thead th {\n",
       "        text-align: right;\n",
       "    }\n",
       "</style>\n",
       "<table border=\"1\" class=\"dataframe\">\n",
       "  <thead>\n",
       "    <tr style=\"text-align: right;\">\n",
       "      <th></th>\n",
       "      <th>date</th>\n",
       "      <th>ordersPerDateA</th>\n",
       "      <th>revenuePerDateA</th>\n",
       "      <th>ordersPerDateB</th>\n",
       "      <th>revenuePerDateB</th>\n",
       "      <th>ordersCummulativeA</th>\n",
       "      <th>revenueCummulativeA</th>\n",
       "      <th>ordersCummulativeB</th>\n",
       "      <th>revenueCummulativeB</th>\n",
       "      <th>visitorsPerDateA</th>\n",
       "      <th>visitorsPerDateB</th>\n",
       "      <th>visitorsCummulativeA</th>\n",
       "      <th>visitorsCummulativeB</th>\n",
       "    </tr>\n",
       "  </thead>\n",
       "  <tbody>\n",
       "    <tr>\n",
       "      <th>0</th>\n",
       "      <td>2019-08-01</td>\n",
       "      <td>23</td>\n",
       "      <td>142779</td>\n",
       "      <td>17</td>\n",
       "      <td>59758</td>\n",
       "      <td>23</td>\n",
       "      <td>142779</td>\n",
       "      <td>17</td>\n",
       "      <td>59758</td>\n",
       "      <td>719</td>\n",
       "      <td>713</td>\n",
       "      <td>719</td>\n",
       "      <td>713</td>\n",
       "    </tr>\n",
       "    <tr>\n",
       "      <th>1</th>\n",
       "      <td>2019-08-02</td>\n",
       "      <td>19</td>\n",
       "      <td>91602</td>\n",
       "      <td>23</td>\n",
       "      <td>162043</td>\n",
       "      <td>42</td>\n",
       "      <td>234381</td>\n",
       "      <td>40</td>\n",
       "      <td>221801</td>\n",
       "      <td>619</td>\n",
       "      <td>581</td>\n",
       "      <td>1338</td>\n",
       "      <td>1294</td>\n",
       "    </tr>\n",
       "    <tr>\n",
       "      <th>2</th>\n",
       "      <td>2019-08-03</td>\n",
       "      <td>24</td>\n",
       "      <td>112473</td>\n",
       "      <td>14</td>\n",
       "      <td>67049</td>\n",
       "      <td>66</td>\n",
       "      <td>346854</td>\n",
       "      <td>54</td>\n",
       "      <td>288850</td>\n",
       "      <td>507</td>\n",
       "      <td>509</td>\n",
       "      <td>1845</td>\n",
       "      <td>1803</td>\n",
       "    </tr>\n",
       "    <tr>\n",
       "      <th>3</th>\n",
       "      <td>2019-08-04</td>\n",
       "      <td>11</td>\n",
       "      <td>41176</td>\n",
       "      <td>14</td>\n",
       "      <td>96890</td>\n",
       "      <td>77</td>\n",
       "      <td>388030</td>\n",
       "      <td>68</td>\n",
       "      <td>385740</td>\n",
       "      <td>717</td>\n",
       "      <td>770</td>\n",
       "      <td>2562</td>\n",
       "      <td>2573</td>\n",
       "    </tr>\n",
       "    <tr>\n",
       "      <th>4</th>\n",
       "      <td>2019-08-05</td>\n",
       "      <td>22</td>\n",
       "      <td>86383</td>\n",
       "      <td>21</td>\n",
       "      <td>89908</td>\n",
       "      <td>99</td>\n",
       "      <td>474413</td>\n",
       "      <td>89</td>\n",
       "      <td>475648</td>\n",
       "      <td>756</td>\n",
       "      <td>707</td>\n",
       "      <td>3318</td>\n",
       "      <td>3280</td>\n",
       "    </tr>\n",
       "  </tbody>\n",
       "</table>\n",
       "</div>"
      ],
      "text/plain": [
       "        date  ordersPerDateA  revenuePerDateA  ordersPerDateB  \\\n",
       "0 2019-08-01              23           142779              17   \n",
       "1 2019-08-02              19            91602              23   \n",
       "2 2019-08-03              24           112473              14   \n",
       "3 2019-08-04              11            41176              14   \n",
       "4 2019-08-05              22            86383              21   \n",
       "\n",
       "   revenuePerDateB  ordersCummulativeA  revenueCummulativeA  \\\n",
       "0            59758                  23               142779   \n",
       "1           162043                  42               234381   \n",
       "2            67049                  66               346854   \n",
       "3            96890                  77               388030   \n",
       "4            89908                  99               474413   \n",
       "\n",
       "   ordersCummulativeB  revenueCummulativeB  visitorsPerDateA  \\\n",
       "0                  17                59758               719   \n",
       "1                  40               221801               619   \n",
       "2                  54               288850               507   \n",
       "3                  68               385740               717   \n",
       "4                  89               475648               756   \n",
       "\n",
       "   visitorsPerDateB  visitorsCummulativeA  visitorsCummulativeB  \n",
       "0               713                   719                   713  \n",
       "1               581                  1338                  1294  \n",
       "2               509                  1845                  1803  \n",
       "3               770                  2562                  2573  \n",
       "4               707                  3318                  3280  "
      ]
     },
     "metadata": {},
     "output_type": "display_data"
    }
   ],
   "source": [
    "data = (\n",
    "    ordersADaily.merge(\n",
    "        ordersBDaily, left_on='date', right_on='date', how='left'\n",
    "    )\n",
    "    .merge(ordersACummulative, left_on='date', right_on='date', how='left')\n",
    "    .merge(ordersBCummulative, left_on='date', right_on='date', how='left')\n",
    "    .merge(visitorsADaily, left_on='date', right_on='date', how='left')\n",
    "    .merge(visitorsBDaily, left_on='date', right_on='date', how='left')\n",
    "    .merge(visitorsACummulative, left_on='date', right_on='date', how='left')\n",
    "    .merge(visitorsBCummulative, left_on='date', right_on='date', how='left')\n",
    ")\n",
    "\n",
    "display(data.head(5)) "
   ]
  },
  {
   "cell_type": "markdown",
   "metadata": {},
   "source": [
    "Для начала сформулируем гипотезы. Нулевая: различий в среднем количестве заказов между группами нет. Альтернативная: различия в среднем количестве заказов между группами есть.\n",
    "Пороговое значение alpha примем равным 0.05."
   ]
  },
  {
   "cell_type": "code",
   "execution_count": 26,
   "metadata": {},
   "outputs": [
    {
     "name": "stdout",
     "output_type": "stream",
     "text": [
      "p-value = 0.011\n",
      "Относительный показатель 'B' и 'A' = 0.160\n"
     ]
    }
   ],
   "source": [
    "ordersByUsersA = (\n",
    "    orders[orders['group'] == 'A']\n",
    "    .groupby('visitorId', as_index=False)\n",
    "    .agg({'transactionId': pd.Series.nunique})\n",
    ")\n",
    "ordersByUsersA.columns = ['visitorId', 'orders']\n",
    "\n",
    "ordersByUsersB = (\n",
    "    orders[orders['group'] == 'B']\n",
    "    .groupby('visitorId', as_index=False)\n",
    "    .agg({'transactionId': pd.Series.nunique})\n",
    ")\n",
    "ordersByUsersB.columns = ['visitorId', 'orders'] \n",
    "\n",
    "sampleA = pd.concat(\n",
    "    [\n",
    "        ordersByUsersA['orders'],\n",
    "        pd.Series(\n",
    "            0,\n",
    "            index=np.arange(\n",
    "                data['visitorsPerDateA'].sum() - len(ordersByUsersA['orders'])\n",
    "            ),\n",
    "            name='orders',\n",
    "        ),\n",
    "    ],\n",
    "    axis=0,\n",
    ")\n",
    "\n",
    "sampleB = pd.concat(\n",
    "    [\n",
    "        ordersByUsersB['orders'],\n",
    "        pd.Series(\n",
    "            0,\n",
    "            index=np.arange(\n",
    "                data['visitorsPerDateB'].sum() - len(ordersByUsersB['orders'])\n",
    "            ),\n",
    "            name='orders',\n",
    "        ),\n",
    "    ],\n",
    "    axis=0,\n",
    ")\n",
    "\n",
    "print(\"p-value = {0:.3f}\".format(stats.mannwhitneyu(sampleA, sampleB, alternative=\"two-sided\")[1]))\n",
    "\n",
    "print(\"Относительный показатель 'B' и 'A' = {0:.3f}\".format(sampleB.mean() / sampleA.mean() - 1))"
   ]
  },
  {
   "cell_type": "markdown",
   "metadata": {},
   "source": [
    "P-value = 0.011, что меньше 0.05. Значит, нулевую гипотезу о том, что статистически значимых различий в среднем числе заказов между группами нет, отвергаем. По «сырым» данным различия в среднем числе заказов групп A и B есть. Oтносительный выигрыш группы B по отношению к группе A равен 16%."
   ]
  },
  {
   "cell_type": "markdown",
   "metadata": {},
   "source": [
    "Посчитаем статистическую значимость различий в среднем чеке заказа между группами по «сырым» данным. Cформулируем гипотезы. Нулевая: различий в среднем чеке заказа между группами нет. Альтернативная: различия в среднем чеке заказа между группами есть.\n",
    "Пороговое значение alpha примем равным 0.05."
   ]
  },
  {
   "cell_type": "code",
   "execution_count": 27,
   "metadata": {},
   "outputs": [
    {
     "name": "stdout",
     "output_type": "stream",
     "text": [
      "p-value = 0.829\n",
      "Относительный показатель 'B' и 'A' = 0.287\n"
     ]
    }
   ],
   "source": [
    "print(\"p-value = {0:.3f}\".format(stats.mannwhitneyu(orders[orders['group']=='A']['revenue'], orders[orders['group']=='B']['revenue'], alternative=\"two-sided\")[1]))\n",
    "print(\"Относительный показатель 'B' и 'A' = {0:.3f}\".format(orders[orders['group']=='B']['revenue'].mean()/orders[orders['group']=='A']['revenue'].mean()-1)) "
   ]
  },
  {
   "cell_type": "markdown",
   "metadata": {},
   "source": [
    "P-value значительно больше 0.05. Значит, причин отвергать нулевую гипотезу и считать, что в среднем чеке есть различия, нет. Но средний чек группы B значительно выше среднего чека группы A, почти на 29%."
   ]
  },
  {
   "cell_type": "markdown",
   "metadata": {},
   "source": [
    "Посчитаем статистическую значимость различий в среднем количестве заказов на посетителя между группами по «очищенным» данным. Cформулируем гипотезы. Нулевая: различий в среднем количестве заказов между группами нет. Альтернативная: различия в среднем количестве заказов между группами есть.\n",
    "Пороговое значение alpha примем равным 0.05. "
   ]
  },
  {
   "cell_type": "code",
   "execution_count": 28,
   "metadata": {},
   "outputs": [
    {
     "name": "stdout",
     "output_type": "stream",
     "text": [
      "1099    148427295\n",
      "928     204675465\n",
      "33      249864742\n",
      "684     358944393\n",
      "648     382846391\n",
      "Name: visitorId, dtype: int64\n",
      "49\n"
     ]
    }
   ],
   "source": [
    "usersWithManyOrders = pd.concat(\n",
    "    [\n",
    "        ordersByUsersA[ordersByUsersA['orders'] > 2]['visitorId'],\n",
    "        ordersByUsersB[ordersByUsersB['orders'] > 2]['visitorId'],\n",
    "    ],\n",
    "    axis=0,\n",
    ")\n",
    "usersWithExpensiveOrders = orders[orders['revenue'] > 30000]['visitorId']\n",
    "abnormalUsers = (\n",
    "    pd.concat([usersWithManyOrders, usersWithExpensiveOrders], axis=0)\n",
    "    .drop_duplicates()\n",
    "    .sort_values()\n",
    ")\n",
    "print(abnormalUsers.head(5))\n",
    "print(abnormalUsers.shape[0]) "
   ]
  },
  {
   "cell_type": "markdown",
   "metadata": {},
   "source": [
    "Всего 49 аномальных пользователей. "
   ]
  },
  {
   "cell_type": "code",
   "execution_count": 29,
   "metadata": {},
   "outputs": [
    {
     "name": "stdout",
     "output_type": "stream",
     "text": [
      "p-value = 0.010\n",
      "Относительный показатель 'B' и 'A' = 0.187\n"
     ]
    }
   ],
   "source": [
    "sampleAFiltered = pd.concat(\n",
    "    [\n",
    "        ordersByUsersA[\n",
    "            np.logical_not(ordersByUsersA['visitorId'].isin(abnormalUsers))\n",
    "        ]['orders'],\n",
    "        pd.Series(\n",
    "            0,\n",
    "            index=np.arange(\n",
    "                data['visitorsPerDateA'].sum() - len(ordersByUsersA['orders'])\n",
    "            ),\n",
    "            name='orders',\n",
    "        ),\n",
    "    ],\n",
    "    axis=0,\n",
    ")\n",
    "\n",
    "sampleBFiltered = pd.concat(\n",
    "    [\n",
    "        ordersByUsersB[\n",
    "            np.logical_not(ordersByUsersB['visitorId'].isin(abnormalUsers))\n",
    "        ]['orders'],\n",
    "        pd.Series(\n",
    "            0,\n",
    "            index=np.arange(\n",
    "                data['visitorsPerDateB'].sum() - len(ordersByUsersB['orders'])\n",
    "            ),\n",
    "            name='orders',\n",
    "        ),\n",
    "    ],\n",
    "    axis=0,\n",
    ") \n",
    "\n",
    "print(\"p-value = {0:.3f}\".format(stats.mannwhitneyu(sampleAFiltered, sampleBFiltered, alternative=\"two-sided\")[1]))\n",
    "print(\"Относительный показатель 'B' и 'A' = {0:.3f}\".format(sampleBFiltered.mean()/sampleAFiltered.mean()-1))"
   ]
  },
  {
   "cell_type": "markdown",
   "metadata": {},
   "source": [
    " Результаты по среднему количеству заказов почти не изменились. P-value стал равным 0.010, что так же меньше 0.05. Поэтому нулевую гипотезу по прежнему отвергаем. Oтносительный выигрыш группы B по отношению к группе A стал равным 18.7%."
   ]
  },
  {
   "cell_type": "markdown",
   "metadata": {},
   "source": [
    "Посчитаем статистическую значимость различий в среднем чеке заказа между группами по «очищенным» данным. Cформулируем гипотезы. Нулевая: различий в среднем чеке заказа между группами нет. Альтернативная: различия в среднем чеке заказа между группами есть.\n",
    "Пороговое значение alpha примем равным 0.05."
   ]
  },
  {
   "cell_type": "code",
   "execution_count": 30,
   "metadata": {},
   "outputs": [
    {
     "name": "stdout",
     "output_type": "stream",
     "text": [
      "p-value = 0.741\n",
      "Относительный показатель 'B' и 'A' = -0.027\n"
     ]
    }
   ],
   "source": [
    "print(\n",
    "    \"p-value = {0:.3f}\".format(\n",
    "        stats.mannwhitneyu(\n",
    "            orders[\n",
    "                np.logical_and(\n",
    "                    orders['group'] == 'A',\n",
    "                    np.logical_not(orders['visitorId'].isin(abnormalUsers)),\n",
    "                )\n",
    "            ]['revenue'],\n",
    "            orders[\n",
    "                np.logical_and(\n",
    "                    orders['group'] == 'B',\n",
    "                    np.logical_not(orders['visitorId'].isin(abnormalUsers)),\n",
    "                )\n",
    "            ]['revenue'],\n",
    "            alternative=\"two-sided\"\n",
    "        )[1]\n",
    "    )\n",
    ")\n",
    "\n",
    "print(\n",
    "    \"Относительный показатель 'B' и 'A' = {0:.3f}\".format(\n",
    "        orders[\n",
    "            np.logical_and(\n",
    "                orders['group'] == 'B',\n",
    "                np.logical_not(orders['visitorId'].isin(abnormalUsers)),\n",
    "            )\n",
    "        ]['revenue'].mean()\n",
    "        / orders[\n",
    "            np.logical_and(\n",
    "                orders['group'] == 'A',\n",
    "                np.logical_not(orders['visitorId'].isin(abnormalUsers)),\n",
    "            )\n",
    "        ]['revenue'].mean()\n",
    "        - 1\n",
    "    )\n",
    ") "
   ]
  },
  {
   "cell_type": "markdown",
   "metadata": {},
   "source": [
    "P-value значительно увеличился по сравнению с сырыми данными, и даже стал выше порогового значения. Но и разница между сегментами сократилась примерно на 31%. А вот средний чек группы B оказался почти на 3% ниже среднего чека группы A, в то время как по \"сырым\" данным он был на 29% выше."
   ]
  },
  {
   "cell_type": "markdown",
   "metadata": {},
   "source": [
    "### Вывод \n",
    "Имеющиеся факты:\n",
    "\n",
    "Есть статистически значимое различие по среднему количеству заказов между группами и по «сырым», и по данным после фильтрации аномалий; нет статистически значимого различия по среднему чеку между группами ни по «сырым», ни по данным после фильтрации аномалий;\n",
    "\n",
    "Результаты группы A по среднему количеству заказов хуже группы B и по «сырым», и по «очищенным» данным. А вот результаты группы B по среднему чеку по «сырым» данным лучше группы A (не следует учитывать это, так как такой результат получился как раз таки из-за большого аномального значения более чем в 1,2 млн.). По «очищенным» данным средний чек группы B оказался почти на 3% ниже среднего чека группы A.\n",
    "\n",
    "Исходя из обнаруженных фактов, тест следует остановить и зафиксировать победу группы B. У группы B конверсия гораздо выше, чем у группы A, хотя по среднему чеку группа A немного опережает группу B (менее, чем на 3%). "
   ]
  }
 ],
 "metadata": {
  "ExecuteTimeLog": [
   {
    "duration": 459,
    "start_time": "2023-02-15T17:38:08.127Z"
   },
   {
    "duration": 9,
    "start_time": "2023-02-15T17:38:55.687Z"
   },
   {
    "duration": 500,
    "start_time": "2023-02-16T07:01:37.199Z"
   },
   {
    "duration": 11,
    "start_time": "2023-02-16T07:01:46.278Z"
   },
   {
    "duration": 496,
    "start_time": "2023-02-16T07:04:41.861Z"
   },
   {
    "duration": 63,
    "start_time": "2023-02-16T07:05:38.134Z"
   },
   {
    "duration": 238,
    "start_time": "2023-02-16T07:09:12.839Z"
   },
   {
    "duration": 607,
    "start_time": "2023-02-16T07:10:24.274Z"
   },
   {
    "duration": 278,
    "start_time": "2023-02-16T07:10:46.172Z"
   },
   {
    "duration": 380,
    "start_time": "2023-02-16T07:11:19.188Z"
   },
   {
    "duration": 290,
    "start_time": "2023-02-16T07:18:24.827Z"
   },
   {
    "duration": 63,
    "start_time": "2023-02-16T07:18:34.821Z"
   },
   {
    "duration": 226,
    "start_time": "2023-02-16T07:18:48.970Z"
   },
   {
    "duration": 247,
    "start_time": "2023-02-16T07:18:54.593Z"
   },
   {
    "duration": 361,
    "start_time": "2023-02-16T07:19:44.178Z"
   },
   {
    "duration": 11,
    "start_time": "2023-02-16T07:24:56.508Z"
   },
   {
    "duration": 108,
    "start_time": "2023-02-16T07:25:55.972Z"
   },
   {
    "duration": 4,
    "start_time": "2023-02-16T07:26:40.954Z"
   },
   {
    "duration": 801,
    "start_time": "2023-02-16T07:27:08.117Z"
   },
   {
    "duration": 126,
    "start_time": "2023-02-16T07:27:30.830Z"
   },
   {
    "duration": 5,
    "start_time": "2023-02-16T07:28:22.048Z"
   },
   {
    "duration": 128,
    "start_time": "2023-02-16T07:32:55.570Z"
   },
   {
    "duration": 949,
    "start_time": "2023-02-16T07:34:25.162Z"
   },
   {
    "duration": 551,
    "start_time": "2023-02-16T07:38:19.125Z"
   },
   {
    "duration": 90,
    "start_time": "2023-02-16T07:38:28.526Z"
   },
   {
    "duration": 177,
    "start_time": "2023-02-16T07:39:22.330Z"
   },
   {
    "duration": 157,
    "start_time": "2023-02-16T07:39:30.850Z"
   },
   {
    "duration": 11,
    "start_time": "2023-02-16T07:39:56.151Z"
   },
   {
    "duration": 9,
    "start_time": "2023-02-16T07:40:52.161Z"
   },
   {
    "duration": 8,
    "start_time": "2023-02-16T07:41:31.531Z"
   },
   {
    "duration": 21,
    "start_time": "2023-02-16T07:41:44.513Z"
   },
   {
    "duration": 12,
    "start_time": "2023-02-16T07:42:16.847Z"
   },
   {
    "duration": 32,
    "start_time": "2023-02-16T08:03:51.312Z"
   },
   {
    "duration": 8,
    "start_time": "2023-02-16T08:04:23.443Z"
   },
   {
    "duration": 4,
    "start_time": "2023-02-16T08:06:56.063Z"
   },
   {
    "duration": 11,
    "start_time": "2023-02-16T08:08:46.869Z"
   },
   {
    "duration": 63,
    "start_time": "2023-02-16T08:08:53.784Z"
   },
   {
    "duration": 4,
    "start_time": "2023-02-16T08:10:56.444Z"
   },
   {
    "duration": 3,
    "start_time": "2023-02-16T08:11:15.663Z"
   },
   {
    "duration": 3,
    "start_time": "2023-02-16T08:11:30.179Z"
   },
   {
    "duration": 3,
    "start_time": "2023-02-16T08:11:41.437Z"
   },
   {
    "duration": 4,
    "start_time": "2023-02-16T08:11:53.372Z"
   },
   {
    "duration": 3,
    "start_time": "2023-02-16T08:12:39.790Z"
   },
   {
    "duration": 3,
    "start_time": "2023-02-16T08:12:56.129Z"
   },
   {
    "duration": 3,
    "start_time": "2023-02-16T08:13:12.082Z"
   },
   {
    "duration": 3,
    "start_time": "2023-02-16T08:13:22.973Z"
   },
   {
    "duration": 29,
    "start_time": "2023-02-16T08:20:19.085Z"
   },
   {
    "duration": 9,
    "start_time": "2023-02-16T08:20:23.778Z"
   },
   {
    "duration": 8,
    "start_time": "2023-02-16T08:20:26.084Z"
   },
   {
    "duration": 275,
    "start_time": "2023-02-16T08:31:01.590Z"
   },
   {
    "duration": 250,
    "start_time": "2023-02-16T08:31:30.348Z"
   },
   {
    "duration": 236,
    "start_time": "2023-02-16T08:35:21.719Z"
   },
   {
    "duration": 325,
    "start_time": "2023-02-16T08:44:32.820Z"
   },
   {
    "duration": 8,
    "start_time": "2023-02-16T08:48:35.188Z"
   },
   {
    "duration": 3,
    "start_time": "2023-02-16T08:48:41.645Z"
   },
   {
    "duration": 3,
    "start_time": "2023-02-16T08:49:25.483Z"
   },
   {
    "duration": 318,
    "start_time": "2023-02-16T08:49:57.802Z"
   },
   {
    "duration": 247,
    "start_time": "2023-02-16T08:50:04.170Z"
   },
   {
    "duration": 252,
    "start_time": "2023-02-16T08:50:07.794Z"
   },
   {
    "duration": 257,
    "start_time": "2023-02-16T08:50:11.148Z"
   },
   {
    "duration": 252,
    "start_time": "2023-02-16T08:50:14.976Z"
   },
   {
    "duration": 348,
    "start_time": "2023-02-16T08:54:38.532Z"
   },
   {
    "duration": 485,
    "start_time": "2023-02-16T08:54:45.103Z"
   },
   {
    "duration": 338,
    "start_time": "2023-02-16T08:58:10.987Z"
   },
   {
    "duration": 364,
    "start_time": "2023-02-16T09:00:00.973Z"
   },
   {
    "duration": 373,
    "start_time": "2023-02-16T09:00:44.927Z"
   },
   {
    "duration": 31,
    "start_time": "2023-02-16T09:03:38.849Z"
   },
   {
    "duration": 29,
    "start_time": "2023-02-16T09:03:56.621Z"
   },
   {
    "duration": 8,
    "start_time": "2023-02-16T09:04:00.934Z"
   },
   {
    "duration": 8,
    "start_time": "2023-02-16T09:04:05.294Z"
   },
   {
    "duration": 30,
    "start_time": "2023-02-16T09:04:09.967Z"
   },
   {
    "duration": 8,
    "start_time": "2023-02-16T09:04:14.025Z"
   },
   {
    "duration": 5,
    "start_time": "2023-02-16T09:13:51.938Z"
   },
   {
    "duration": 11,
    "start_time": "2023-02-16T09:13:57.542Z"
   },
   {
    "duration": 5,
    "start_time": "2023-02-16T09:14:40.857Z"
   },
   {
    "duration": 3,
    "start_time": "2023-02-16T09:14:54.994Z"
   },
   {
    "duration": 6,
    "start_time": "2023-02-16T09:15:58.231Z"
   },
   {
    "duration": 6,
    "start_time": "2023-02-16T09:16:10.642Z"
   },
   {
    "duration": 6,
    "start_time": "2023-02-16T09:16:16.146Z"
   },
   {
    "duration": 7,
    "start_time": "2023-02-16T09:16:23.831Z"
   },
   {
    "duration": 6,
    "start_time": "2023-02-16T09:16:32.933Z"
   },
   {
    "duration": 6,
    "start_time": "2023-02-16T09:18:18.038Z"
   },
   {
    "duration": 8,
    "start_time": "2023-02-16T09:22:00.182Z"
   },
   {
    "duration": 109,
    "start_time": "2023-02-16T09:23:05.656Z"
   },
   {
    "duration": 102,
    "start_time": "2023-02-16T09:24:43.943Z"
   },
   {
    "duration": 9,
    "start_time": "2023-02-16T09:26:05.481Z"
   },
   {
    "duration": 6,
    "start_time": "2023-02-16T09:26:39.432Z"
   },
   {
    "duration": 150,
    "start_time": "2023-02-16T09:26:56.331Z"
   },
   {
    "duration": 4,
    "start_time": "2023-02-16T09:36:51.131Z"
   },
   {
    "duration": 7,
    "start_time": "2023-02-16T09:41:34.057Z"
   },
   {
    "duration": 5,
    "start_time": "2023-02-16T09:42:11.692Z"
   },
   {
    "duration": 5,
    "start_time": "2023-02-16T09:42:18.836Z"
   },
   {
    "duration": 4,
    "start_time": "2023-02-16T09:43:22.534Z"
   },
   {
    "duration": 943,
    "start_time": "2023-02-16T09:43:59.974Z"
   },
   {
    "duration": 1009,
    "start_time": "2023-02-16T09:44:08.242Z"
   },
   {
    "duration": 4,
    "start_time": "2023-02-16T09:44:16.975Z"
   },
   {
    "duration": 194,
    "start_time": "2023-02-16T09:51:12.988Z"
   },
   {
    "duration": 1358,
    "start_time": "2023-02-17T13:12:04.765Z"
   },
   {
    "duration": 9,
    "start_time": "2023-02-17T13:12:06.125Z"
   },
   {
    "duration": 13,
    "start_time": "2023-02-17T13:12:07.849Z"
   },
   {
    "duration": 144,
    "start_time": "2023-02-17T13:12:10.635Z"
   },
   {
    "duration": 328,
    "start_time": "2023-02-17T13:12:11.998Z"
   },
   {
    "duration": 294,
    "start_time": "2023-02-17T13:12:12.608Z"
   },
   {
    "duration": 265,
    "start_time": "2023-02-17T13:12:14.436Z"
   },
   {
    "duration": 469,
    "start_time": "2023-02-17T13:12:16.148Z"
   },
   {
    "duration": 263,
    "start_time": "2023-02-17T13:12:18.245Z"
   },
   {
    "duration": 418,
    "start_time": "2023-02-17T13:12:20.183Z"
   },
   {
    "duration": 134,
    "start_time": "2023-02-17T13:12:22.284Z"
   },
   {
    "duration": 5,
    "start_time": "2023-02-17T13:12:24.345Z"
   },
   {
    "duration": 141,
    "start_time": "2023-02-17T13:12:26.527Z"
   },
   {
    "duration": 5,
    "start_time": "2023-02-17T13:12:29.581Z"
   },
   {
    "duration": 221,
    "start_time": "2023-02-17T13:12:32.229Z"
   },
   {
    "duration": 166,
    "start_time": "2023-02-17T13:12:33.054Z"
   },
   {
    "duration": 12,
    "start_time": "2023-02-17T13:12:35.745Z"
   },
   {
    "duration": 10,
    "start_time": "2023-02-17T13:16:12.290Z"
   },
   {
    "duration": 8,
    "start_time": "2023-02-17T13:17:53.822Z"
   },
   {
    "duration": 26,
    "start_time": "2023-02-17T13:18:51.734Z"
   },
   {
    "duration": 17,
    "start_time": "2023-02-17T13:20:41.856Z"
   },
   {
    "duration": 93,
    "start_time": "2023-02-17T13:49:27.095Z"
   },
   {
    "duration": 89,
    "start_time": "2023-02-17T13:49:44.806Z"
   },
   {
    "duration": 83,
    "start_time": "2023-02-17T13:49:56.938Z"
   },
   {
    "duration": 89,
    "start_time": "2023-02-17T13:59:52.300Z"
   },
   {
    "duration": 84,
    "start_time": "2023-02-17T13:59:58.418Z"
   },
   {
    "duration": 86,
    "start_time": "2023-02-17T14:00:44.459Z"
   },
   {
    "duration": 11,
    "start_time": "2023-02-17T14:01:08.014Z"
   },
   {
    "duration": 13,
    "start_time": "2023-02-17T14:03:34.018Z"
   },
   {
    "duration": 13,
    "start_time": "2023-02-17T14:04:07.263Z"
   },
   {
    "duration": 382,
    "start_time": "2023-02-17T14:04:54.502Z"
   },
   {
    "duration": 90,
    "start_time": "2023-02-17T14:06:43.020Z"
   },
   {
    "duration": 92,
    "start_time": "2023-02-17T14:06:58.784Z"
   },
   {
    "duration": 16,
    "start_time": "2023-02-17T14:07:02.981Z"
   },
   {
    "duration": 11,
    "start_time": "2023-02-17T14:07:06.203Z"
   },
   {
    "duration": 294,
    "start_time": "2023-02-17T14:07:08.054Z"
   },
   {
    "duration": 287,
    "start_time": "2023-02-17T14:07:14.589Z"
   },
   {
    "duration": 88,
    "start_time": "2023-02-17T14:08:53.024Z"
   },
   {
    "duration": 15,
    "start_time": "2023-02-17T14:08:56.530Z"
   },
   {
    "duration": 14,
    "start_time": "2023-02-17T14:08:58.732Z"
   },
   {
    "duration": 14,
    "start_time": "2023-02-17T14:09:00.682Z"
   },
   {
    "duration": 9,
    "start_time": "2023-02-17T14:09:31.035Z"
   },
   {
    "duration": 13,
    "start_time": "2023-02-17T14:12:09.985Z"
   },
   {
    "duration": 5,
    "start_time": "2023-02-17T14:12:47.715Z"
   },
   {
    "duration": 7,
    "start_time": "2023-02-17T14:13:10.635Z"
   },
   {
    "duration": 10,
    "start_time": "2023-02-17T14:15:59.440Z"
   },
   {
    "duration": 98,
    "start_time": "2023-02-17T14:16:14.394Z"
   },
   {
    "duration": 1403,
    "start_time": "2023-02-17T14:17:30.546Z"
   },
   {
    "duration": 13,
    "start_time": "2023-02-17T14:17:35.905Z"
   },
   {
    "duration": 15,
    "start_time": "2023-02-17T14:17:37.149Z"
   },
   {
    "duration": 16,
    "start_time": "2023-02-17T14:17:38.134Z"
   },
   {
    "duration": 10,
    "start_time": "2023-02-17T14:17:39.139Z"
   },
   {
    "duration": 14,
    "start_time": "2023-02-17T14:17:45.053Z"
   },
   {
    "duration": 6,
    "start_time": "2023-02-17T14:17:46.117Z"
   },
   {
    "duration": 8,
    "start_time": "2023-02-17T14:17:47.354Z"
   },
   {
    "duration": 13,
    "start_time": "2023-02-17T14:17:50.844Z"
   },
   {
    "duration": 10,
    "start_time": "2023-02-17T14:18:43.002Z"
   },
   {
    "duration": 288,
    "start_time": "2023-02-17T14:18:50.142Z"
   },
   {
    "duration": 285,
    "start_time": "2023-02-17T14:18:56.550Z"
   },
   {
    "duration": 192,
    "start_time": "2023-02-17T14:20:52.782Z"
   },
   {
    "duration": 203,
    "start_time": "2023-02-17T14:21:26.298Z"
   },
   {
    "duration": 313,
    "start_time": "2023-02-17T14:22:07.008Z"
   },
   {
    "duration": 316,
    "start_time": "2023-02-17T14:22:52.091Z"
   },
   {
    "duration": 196,
    "start_time": "2023-02-17T14:23:18.126Z"
   },
   {
    "duration": 80,
    "start_time": "2023-02-17T14:23:37.809Z"
   },
   {
    "duration": 78,
    "start_time": "2023-02-17T14:23:41.291Z"
   },
   {
    "duration": 13,
    "start_time": "2023-02-17T14:23:42.526Z"
   },
   {
    "duration": 20,
    "start_time": "2023-02-17T14:23:44.046Z"
   },
   {
    "duration": 15,
    "start_time": "2023-02-17T14:23:45.083Z"
   },
   {
    "duration": 8,
    "start_time": "2023-02-17T14:23:46.048Z"
   },
   {
    "duration": 13,
    "start_time": "2023-02-17T14:23:48.447Z"
   },
   {
    "duration": 4,
    "start_time": "2023-02-17T14:23:50.267Z"
   },
   {
    "duration": 7,
    "start_time": "2023-02-17T14:23:51.475Z"
   },
   {
    "duration": 10,
    "start_time": "2023-02-17T14:23:54.510Z"
   },
   {
    "duration": 11,
    "start_time": "2023-02-17T14:23:56.383Z"
   },
   {
    "duration": 269,
    "start_time": "2023-02-17T14:23:59.646Z"
   },
   {
    "duration": 194,
    "start_time": "2023-02-17T14:24:00.412Z"
   },
   {
    "duration": 184,
    "start_time": "2023-02-17T14:24:02.919Z"
   },
   {
    "duration": 325,
    "start_time": "2023-02-17T14:24:06.189Z"
   },
   {
    "duration": 264,
    "start_time": "2023-02-17T14:24:09.514Z"
   },
   {
    "duration": 203,
    "start_time": "2023-02-17T14:24:57.905Z"
   },
   {
    "duration": 236,
    "start_time": "2023-02-17T14:25:17.747Z"
   },
   {
    "duration": 315,
    "start_time": "2023-02-17T14:25:59.411Z"
   },
   {
    "duration": 121,
    "start_time": "2023-02-17T14:27:13.246Z"
   },
   {
    "duration": 148,
    "start_time": "2023-02-17T14:28:18.960Z"
   },
   {
    "duration": 4,
    "start_time": "2023-02-17T14:28:20.899Z"
   },
   {
    "duration": 235,
    "start_time": "2023-02-17T14:28:22.907Z"
   },
   {
    "duration": 187,
    "start_time": "2023-02-17T14:28:23.489Z"
   },
   {
    "duration": 9,
    "start_time": "2023-02-17T14:28:25.610Z"
   },
   {
    "duration": 10,
    "start_time": "2023-02-17T14:28:27.535Z"
   },
   {
    "duration": 27,
    "start_time": "2023-02-17T14:28:28.579Z"
   },
   {
    "duration": 14,
    "start_time": "2023-02-17T14:28:30.139Z"
   },
   {
    "duration": 1185,
    "start_time": "2023-02-17T14:37:15.698Z"
   },
   {
    "duration": 12,
    "start_time": "2023-02-17T14:38:03.030Z"
   },
   {
    "duration": 12,
    "start_time": "2023-02-17T14:38:06.602Z"
   },
   {
    "duration": 12,
    "start_time": "2023-02-17T14:38:27.030Z"
   },
   {
    "duration": 8,
    "start_time": "2023-02-17T14:38:38.811Z"
   },
   {
    "duration": 11,
    "start_time": "2023-02-17T14:38:48.089Z"
   },
   {
    "duration": 4,
    "start_time": "2023-02-17T14:38:51.015Z"
   },
   {
    "duration": 8,
    "start_time": "2023-02-17T14:38:57.671Z"
   },
   {
    "duration": 8,
    "start_time": "2023-02-17T14:40:22.591Z"
   },
   {
    "duration": 8,
    "start_time": "2023-02-17T14:40:30.393Z"
   },
   {
    "duration": 269,
    "start_time": "2023-02-17T14:41:40.749Z"
   },
   {
    "duration": 261,
    "start_time": "2023-02-17T14:42:14.955Z"
   },
   {
    "duration": 180,
    "start_time": "2023-02-17T14:42:40.467Z"
   },
   {
    "duration": 192,
    "start_time": "2023-02-17T14:44:04.067Z"
   },
   {
    "duration": 308,
    "start_time": "2023-02-17T14:46:11.262Z"
   },
   {
    "duration": 283,
    "start_time": "2023-02-17T14:47:07.644Z"
   },
   {
    "duration": 304,
    "start_time": "2023-02-17T14:47:18.757Z"
   },
   {
    "duration": 283,
    "start_time": "2023-02-17T14:47:32.526Z"
   },
   {
    "duration": 213,
    "start_time": "2023-02-17T14:48:09.188Z"
   },
   {
    "duration": 197,
    "start_time": "2023-02-17T14:48:51.061Z"
   },
   {
    "duration": 265,
    "start_time": "2023-02-17T14:48:52.962Z"
   },
   {
    "duration": 211,
    "start_time": "2023-02-17T14:49:22.586Z"
   },
   {
    "duration": 352,
    "start_time": "2023-02-17T14:49:28.378Z"
   },
   {
    "duration": 225,
    "start_time": "2023-02-17T15:21:40.141Z"
   },
   {
    "duration": 289,
    "start_time": "2023-02-17T15:25:51.741Z"
   },
   {
    "duration": 134,
    "start_time": "2023-02-17T15:28:50.145Z"
   },
   {
    "duration": 148,
    "start_time": "2023-02-17T15:31:18.789Z"
   },
   {
    "duration": 5,
    "start_time": "2023-02-17T15:34:48.720Z"
   },
   {
    "duration": 191,
    "start_time": "2023-02-17T15:45:54.612Z"
   },
   {
    "duration": 30,
    "start_time": "2023-02-17T15:46:40.994Z"
   },
   {
    "duration": 38,
    "start_time": "2023-02-17T15:47:26.734Z"
   },
   {
    "duration": 160,
    "start_time": "2023-02-17T16:06:17.441Z"
   },
   {
    "duration": 89,
    "start_time": "2023-02-17T16:07:35.912Z"
   },
   {
    "duration": 12,
    "start_time": "2023-02-17T16:08:27.987Z"
   },
   {
    "duration": 108,
    "start_time": "2023-02-17T16:11:55.574Z"
   },
   {
    "duration": 9,
    "start_time": "2023-02-17T16:12:09.856Z"
   },
   {
    "duration": 30,
    "start_time": "2023-02-17T16:12:12.014Z"
   },
   {
    "duration": 14,
    "start_time": "2023-02-17T16:15:18.783Z"
   },
   {
    "duration": 1366,
    "start_time": "2023-02-17T16:36:55.909Z"
   },
   {
    "duration": 12,
    "start_time": "2023-02-17T16:37:04.910Z"
   },
   {
    "duration": 11,
    "start_time": "2023-02-17T16:37:10.760Z"
   },
   {
    "duration": 11,
    "start_time": "2023-02-17T16:37:13.488Z"
   },
   {
    "duration": 8,
    "start_time": "2023-02-17T16:37:17.328Z"
   },
   {
    "duration": 11,
    "start_time": "2023-02-17T16:37:27.262Z"
   },
   {
    "duration": 4,
    "start_time": "2023-02-17T16:37:30.407Z"
   },
   {
    "duration": 8,
    "start_time": "2023-02-17T16:37:32.344Z"
   },
   {
    "duration": 12,
    "start_time": "2023-02-17T16:37:46.004Z"
   },
   {
    "duration": 9,
    "start_time": "2023-02-17T16:37:49.804Z"
   },
   {
    "duration": 311,
    "start_time": "2023-02-17T16:38:12.465Z"
   },
   {
    "duration": 299,
    "start_time": "2023-02-17T16:38:16.377Z"
   },
   {
    "duration": 208,
    "start_time": "2023-02-17T16:38:36.666Z"
   },
   {
    "duration": 317,
    "start_time": "2023-02-17T16:39:00.606Z"
   },
   {
    "duration": 205,
    "start_time": "2023-02-17T16:39:18.534Z"
   },
   {
    "duration": 328,
    "start_time": "2023-02-17T16:39:30.192Z"
   },
   {
    "duration": 124,
    "start_time": "2023-02-17T16:39:40.600Z"
   },
   {
    "duration": 4,
    "start_time": "2023-02-17T16:39:49.223Z"
   },
   {
    "duration": 136,
    "start_time": "2023-02-17T16:40:00.259Z"
   },
   {
    "duration": 4,
    "start_time": "2023-02-17T16:40:18.309Z"
   },
   {
    "duration": 204,
    "start_time": "2023-02-17T16:40:23.487Z"
   },
   {
    "duration": 29,
    "start_time": "2023-02-17T16:40:26.293Z"
   },
   {
    "duration": 166,
    "start_time": "2023-02-17T16:40:36.684Z"
   },
   {
    "duration": 12,
    "start_time": "2023-02-17T16:40:47.843Z"
   },
   {
    "duration": 10,
    "start_time": "2023-02-17T16:41:18.513Z"
   },
   {
    "duration": 26,
    "start_time": "2023-02-17T16:41:23.008Z"
   },
   {
    "duration": 13,
    "start_time": "2023-02-17T16:41:35.670Z"
   },
   {
    "duration": 1728,
    "start_time": "2023-02-17T19:32:05.628Z"
   },
   {
    "duration": 15,
    "start_time": "2023-02-17T19:32:07.358Z"
   },
   {
    "duration": 16,
    "start_time": "2023-02-17T19:32:07.376Z"
   },
   {
    "duration": 23,
    "start_time": "2023-02-17T19:32:07.394Z"
   },
   {
    "duration": 44,
    "start_time": "2023-02-17T19:32:07.420Z"
   },
   {
    "duration": 27,
    "start_time": "2023-02-17T19:32:07.466Z"
   },
   {
    "duration": 11,
    "start_time": "2023-02-17T19:32:07.495Z"
   },
   {
    "duration": 13,
    "start_time": "2023-02-17T19:32:07.508Z"
   },
   {
    "duration": 15,
    "start_time": "2023-02-17T19:32:07.523Z"
   },
   {
    "duration": 11,
    "start_time": "2023-02-17T19:32:07.544Z"
   },
   {
    "duration": 368,
    "start_time": "2023-02-17T19:32:07.557Z"
   },
   {
    "duration": 439,
    "start_time": "2023-02-17T19:32:07.928Z"
   },
   {
    "duration": 274,
    "start_time": "2023-02-17T19:32:08.369Z"
   },
   {
    "duration": 446,
    "start_time": "2023-02-17T19:32:08.653Z"
   },
   {
    "duration": 375,
    "start_time": "2023-02-17T19:32:09.102Z"
   },
   {
    "duration": 400,
    "start_time": "2023-02-17T19:32:09.479Z"
   },
   {
    "duration": 221,
    "start_time": "2023-02-17T19:32:09.884Z"
   },
   {
    "duration": 5,
    "start_time": "2023-02-17T19:32:10.108Z"
   },
   {
    "duration": 203,
    "start_time": "2023-02-17T19:32:10.116Z"
   },
   {
    "duration": 4,
    "start_time": "2023-02-17T19:32:10.321Z"
   },
   {
    "duration": 251,
    "start_time": "2023-02-17T19:32:10.327Z"
   },
   {
    "duration": 31,
    "start_time": "2023-02-17T19:32:10.580Z"
   },
   {
    "duration": 333,
    "start_time": "2023-02-17T19:32:10.613Z"
   },
   {
    "duration": 20,
    "start_time": "2023-02-17T19:32:10.950Z"
   },
   {
    "duration": 17,
    "start_time": "2023-02-17T19:32:10.972Z"
   },
   {
    "duration": 53,
    "start_time": "2023-02-17T19:32:10.991Z"
   },
   {
    "duration": 21,
    "start_time": "2023-02-17T19:32:11.052Z"
   },
   {
    "duration": 76,
    "start_time": "2023-02-18T09:38:17.268Z"
   },
   {
    "duration": 1266,
    "start_time": "2023-02-18T09:38:38.016Z"
   },
   {
    "duration": 68,
    "start_time": "2023-02-18T09:42:23.733Z"
   },
   {
    "duration": 13,
    "start_time": "2023-02-18T09:42:54.572Z"
   },
   {
    "duration": 12,
    "start_time": "2023-02-18T09:49:45.465Z"
   },
   {
    "duration": 225,
    "start_time": "2023-02-18T09:58:28.916Z"
   },
   {
    "duration": 5,
    "start_time": "2023-02-18T10:08:02.439Z"
   },
   {
    "duration": 6,
    "start_time": "2023-02-18T10:15:05.883Z"
   },
   {
    "duration": 73,
    "start_time": "2023-02-18T10:16:35.486Z"
   },
   {
    "duration": 297,
    "start_time": "2023-02-18T10:17:37.329Z"
   },
   {
    "duration": 72,
    "start_time": "2023-02-18T10:17:42.887Z"
   },
   {
    "duration": 13,
    "start_time": "2023-02-18T10:20:11.093Z"
   },
   {
    "duration": 74,
    "start_time": "2023-02-18T10:20:53.314Z"
   },
   {
    "duration": 13,
    "start_time": "2023-02-18T10:22:36.813Z"
   },
   {
    "duration": 11,
    "start_time": "2023-02-18T10:22:43.153Z"
   },
   {
    "duration": 11,
    "start_time": "2023-02-18T10:23:35.812Z"
   },
   {
    "duration": 12,
    "start_time": "2023-02-18T10:23:53.812Z"
   },
   {
    "duration": 11,
    "start_time": "2023-02-18T10:25:59.811Z"
   },
   {
    "duration": 95,
    "start_time": "2023-02-18T10:26:56.274Z"
   },
   {
    "duration": 10,
    "start_time": "2023-02-18T10:27:07.257Z"
   },
   {
    "duration": 9,
    "start_time": "2023-02-18T10:28:40.431Z"
   },
   {
    "duration": 123,
    "start_time": "2023-02-18T10:31:02.373Z"
   },
   {
    "duration": 10,
    "start_time": "2023-02-18T10:42:11.174Z"
   },
   {
    "duration": 5,
    "start_time": "2023-02-18T10:57:46.451Z"
   },
   {
    "duration": 4,
    "start_time": "2023-02-18T10:57:54.614Z"
   },
   {
    "duration": 3,
    "start_time": "2023-02-18T10:58:04.104Z"
   },
   {
    "duration": 7,
    "start_time": "2023-02-18T10:58:15.445Z"
   },
   {
    "duration": 73,
    "start_time": "2023-02-18T11:06:19.670Z"
   },
   {
    "duration": 14,
    "start_time": "2023-02-18T11:06:26.057Z"
   },
   {
    "duration": 15,
    "start_time": "2023-02-18T11:10:56.395Z"
   },
   {
    "duration": 78,
    "start_time": "2023-02-18T11:11:14.168Z"
   },
   {
    "duration": 11,
    "start_time": "2023-02-18T11:11:19.596Z"
   },
   {
    "duration": 10,
    "start_time": "2023-02-18T11:11:21.194Z"
   },
   {
    "duration": 17,
    "start_time": "2023-02-18T11:11:22.274Z"
   },
   {
    "duration": 7,
    "start_time": "2023-02-18T11:11:26.638Z"
   },
   {
    "duration": 10,
    "start_time": "2023-02-18T11:11:28.654Z"
   },
   {
    "duration": 5,
    "start_time": "2023-02-18T11:11:29.941Z"
   },
   {
    "duration": 9,
    "start_time": "2023-02-18T11:11:31.072Z"
   },
   {
    "duration": 1119,
    "start_time": "2023-02-18T11:11:44.654Z"
   },
   {
    "duration": 10,
    "start_time": "2023-02-18T11:11:46.706Z"
   },
   {
    "duration": 10,
    "start_time": "2023-02-18T11:11:48.330Z"
   },
   {
    "duration": 17,
    "start_time": "2023-02-18T11:11:49.404Z"
   },
   {
    "duration": 7,
    "start_time": "2023-02-18T11:11:50.432Z"
   },
   {
    "duration": 9,
    "start_time": "2023-02-18T11:11:52.132Z"
   },
   {
    "duration": 4,
    "start_time": "2023-02-18T11:11:53.336Z"
   },
   {
    "duration": 6,
    "start_time": "2023-02-18T11:11:54.527Z"
   },
   {
    "duration": 4,
    "start_time": "2023-02-18T11:11:58.167Z"
   },
   {
    "duration": 5,
    "start_time": "2023-02-18T11:12:00.159Z"
   },
   {
    "duration": 15,
    "start_time": "2023-02-18T11:12:05.425Z"
   },
   {
    "duration": 10,
    "start_time": "2023-02-18T11:18:20.413Z"
   },
   {
    "duration": 9,
    "start_time": "2023-02-18T11:18:23.072Z"
   },
   {
    "duration": 13,
    "start_time": "2023-02-18T11:47:46.966Z"
   },
   {
    "duration": 1175,
    "start_time": "2023-02-18T11:48:30.724Z"
   },
   {
    "duration": 11,
    "start_time": "2023-02-18T11:48:43.257Z"
   },
   {
    "duration": 10,
    "start_time": "2023-02-18T11:48:44.424Z"
   },
   {
    "duration": 19,
    "start_time": "2023-02-18T11:48:45.272Z"
   },
   {
    "duration": 9,
    "start_time": "2023-02-18T11:48:46.081Z"
   },
   {
    "duration": 12,
    "start_time": "2023-02-18T11:48:47.365Z"
   },
   {
    "duration": 7,
    "start_time": "2023-02-18T11:48:48.210Z"
   },
   {
    "duration": 7,
    "start_time": "2023-02-18T11:48:48.971Z"
   },
   {
    "duration": 4,
    "start_time": "2023-02-18T11:48:51.861Z"
   },
   {
    "duration": 6,
    "start_time": "2023-02-18T11:48:53.062Z"
   },
   {
    "duration": 16,
    "start_time": "2023-02-18T11:48:54.443Z"
   },
   {
    "duration": 7,
    "start_time": "2023-02-18T11:48:56.803Z"
   },
   {
    "duration": 9,
    "start_time": "2023-02-18T11:49:04.531Z"
   },
   {
    "duration": 11,
    "start_time": "2023-02-18T11:49:07.880Z"
   },
   {
    "duration": 11,
    "start_time": "2023-02-18T11:59:29.315Z"
   },
   {
    "duration": 151,
    "start_time": "2023-02-18T12:03:34.387Z"
   },
   {
    "duration": 34,
    "start_time": "2023-02-18T12:10:46.732Z"
   },
   {
    "duration": 30,
    "start_time": "2023-02-18T12:11:12.836Z"
   },
   {
    "duration": 75,
    "start_time": "2023-02-18T12:11:29.765Z"
   },
   {
    "duration": 23,
    "start_time": "2023-02-18T12:11:38.662Z"
   },
   {
    "duration": 4,
    "start_time": "2023-02-18T12:11:43.558Z"
   },
   {
    "duration": 20,
    "start_time": "2023-02-18T12:11:58.151Z"
   },
   {
    "duration": 32,
    "start_time": "2023-02-18T12:13:21.552Z"
   },
   {
    "duration": 22,
    "start_time": "2023-02-18T12:13:30.803Z"
   },
   {
    "duration": 20,
    "start_time": "2023-02-18T12:13:42.996Z"
   },
   {
    "duration": 18,
    "start_time": "2023-02-18T12:14:04.707Z"
   },
   {
    "duration": 27,
    "start_time": "2023-02-18T12:15:17.630Z"
   },
   {
    "duration": 84,
    "start_time": "2023-02-18T12:17:19.894Z"
   },
   {
    "duration": 93,
    "start_time": "2023-02-18T12:17:31.682Z"
   },
   {
    "duration": 1284,
    "start_time": "2023-02-18T12:18:05.330Z"
   },
   {
    "duration": 12,
    "start_time": "2023-02-18T12:18:06.911Z"
   },
   {
    "duration": 11,
    "start_time": "2023-02-18T12:18:07.976Z"
   },
   {
    "duration": 13,
    "start_time": "2023-02-18T12:18:09.379Z"
   },
   {
    "duration": 9,
    "start_time": "2023-02-18T12:18:11.230Z"
   },
   {
    "duration": 13,
    "start_time": "2023-02-18T12:18:12.652Z"
   },
   {
    "duration": 5,
    "start_time": "2023-02-18T12:18:13.286Z"
   },
   {
    "duration": 6,
    "start_time": "2023-02-18T12:18:13.753Z"
   },
   {
    "duration": 4,
    "start_time": "2023-02-18T12:18:14.857Z"
   },
   {
    "duration": 7,
    "start_time": "2023-02-18T12:18:15.555Z"
   },
   {
    "duration": 25,
    "start_time": "2023-02-18T12:18:16.496Z"
   },
   {
    "duration": 78,
    "start_time": "2023-02-18T12:18:17.909Z"
   },
   {
    "duration": 89,
    "start_time": "2023-02-18T12:18:30.471Z"
   },
   {
    "duration": 67,
    "start_time": "2023-02-18T12:18:48.155Z"
   },
   {
    "duration": 77,
    "start_time": "2023-02-18T12:19:06.765Z"
   },
   {
    "duration": 87,
    "start_time": "2023-02-18T12:19:47.901Z"
   },
   {
    "duration": 15,
    "start_time": "2023-02-18T12:20:02.783Z"
   },
   {
    "duration": 14,
    "start_time": "2023-02-18T12:21:20.398Z"
   },
   {
    "duration": 15,
    "start_time": "2023-02-18T12:21:26.181Z"
   },
   {
    "duration": 15,
    "start_time": "2023-02-18T12:21:51.699Z"
   },
   {
    "duration": 12,
    "start_time": "2023-02-18T12:21:57.842Z"
   },
   {
    "duration": 24,
    "start_time": "2023-02-18T12:22:15.274Z"
   },
   {
    "duration": 16,
    "start_time": "2023-02-18T12:23:15.900Z"
   },
   {
    "duration": 76,
    "start_time": "2023-02-18T12:26:11.009Z"
   },
   {
    "duration": 78,
    "start_time": "2023-02-18T12:26:18.155Z"
   },
   {
    "duration": 82,
    "start_time": "2023-02-18T12:26:31.171Z"
   },
   {
    "duration": 86,
    "start_time": "2023-02-18T12:26:43.455Z"
   },
   {
    "duration": 75,
    "start_time": "2023-02-18T12:27:20.184Z"
   },
   {
    "duration": 89,
    "start_time": "2023-02-18T12:27:46.333Z"
   },
   {
    "duration": 93,
    "start_time": "2023-02-18T12:28:01.255Z"
   },
   {
    "duration": 111,
    "start_time": "2023-02-18T12:28:35.923Z"
   },
   {
    "duration": 88,
    "start_time": "2023-02-18T12:29:04.622Z"
   },
   {
    "duration": 103,
    "start_time": "2023-02-18T12:30:22.232Z"
   },
   {
    "duration": 11,
    "start_time": "2023-02-18T12:30:30.262Z"
   },
   {
    "duration": 10,
    "start_time": "2023-02-18T12:30:30.762Z"
   },
   {
    "duration": 10,
    "start_time": "2023-02-18T12:30:31.107Z"
   },
   {
    "duration": 8,
    "start_time": "2023-02-18T12:30:31.617Z"
   },
   {
    "duration": 10,
    "start_time": "2023-02-18T12:30:32.840Z"
   },
   {
    "duration": 4,
    "start_time": "2023-02-18T12:30:33.357Z"
   },
   {
    "duration": 6,
    "start_time": "2023-02-18T12:30:33.796Z"
   },
   {
    "duration": 3,
    "start_time": "2023-02-18T12:30:35.266Z"
   },
   {
    "duration": 4,
    "start_time": "2023-02-18T12:30:35.918Z"
   },
   {
    "duration": 16,
    "start_time": "2023-02-18T12:30:36.865Z"
   },
   {
    "duration": 11,
    "start_time": "2023-02-18T12:30:38.625Z"
   },
   {
    "duration": 13,
    "start_time": "2023-02-18T12:30:39.853Z"
   },
   {
    "duration": 250,
    "start_time": "2023-02-18T12:30:44.562Z"
   },
   {
    "duration": 266,
    "start_time": "2023-02-18T12:30:51.420Z"
   },
   {
    "duration": 199,
    "start_time": "2023-02-18T12:31:04.385Z"
   },
   {
    "duration": 302,
    "start_time": "2023-02-18T12:31:11.007Z"
   },
   {
    "duration": 213,
    "start_time": "2023-02-18T12:31:18.816Z"
   },
   {
    "duration": 302,
    "start_time": "2023-02-18T12:31:26.444Z"
   },
   {
    "duration": 146,
    "start_time": "2023-02-18T12:31:35.983Z"
   },
   {
    "duration": 4,
    "start_time": "2023-02-18T12:31:38.030Z"
   },
   {
    "duration": 126,
    "start_time": "2023-02-18T12:31:44.412Z"
   },
   {
    "duration": 4,
    "start_time": "2023-02-18T12:31:46.794Z"
   },
   {
    "duration": 181,
    "start_time": "2023-02-18T12:31:51.798Z"
   },
   {
    "duration": 26,
    "start_time": "2023-02-18T12:31:53.044Z"
   },
   {
    "duration": 129,
    "start_time": "2023-02-18T12:31:58.518Z"
   },
   {
    "duration": 9,
    "start_time": "2023-02-18T12:31:59.747Z"
   },
   {
    "duration": 9,
    "start_time": "2023-02-18T12:32:09.615Z"
   },
   {
    "duration": 28,
    "start_time": "2023-02-18T12:32:12.015Z"
   },
   {
    "duration": 13,
    "start_time": "2023-02-18T12:32:19.780Z"
   },
   {
    "duration": 170,
    "start_time": "2023-02-18T12:39:52.847Z"
   },
   {
    "duration": 77,
    "start_time": "2023-02-18T12:41:05.461Z"
   },
   {
    "duration": 9,
    "start_time": "2023-02-18T12:41:31.528Z"
   },
   {
    "duration": 23,
    "start_time": "2023-02-18T12:41:54.814Z"
   },
   {
    "duration": 13,
    "start_time": "2023-02-18T12:42:23.352Z"
   },
   {
    "duration": 1257,
    "start_time": "2023-02-18T12:45:06.095Z"
   },
   {
    "duration": 11,
    "start_time": "2023-02-18T12:45:09.731Z"
   },
   {
    "duration": 11,
    "start_time": "2023-02-18T12:45:23.254Z"
   },
   {
    "duration": 11,
    "start_time": "2023-02-18T12:45:24.877Z"
   },
   {
    "duration": 8,
    "start_time": "2023-02-18T12:45:27.180Z"
   },
   {
    "duration": 11,
    "start_time": "2023-02-18T12:45:29.895Z"
   },
   {
    "duration": 4,
    "start_time": "2023-02-18T12:45:31.170Z"
   },
   {
    "duration": 7,
    "start_time": "2023-02-18T12:45:32.238Z"
   },
   {
    "duration": 4,
    "start_time": "2023-02-18T12:45:42.984Z"
   },
   {
    "duration": 5,
    "start_time": "2023-02-18T12:45:57.133Z"
   },
   {
    "duration": 17,
    "start_time": "2023-02-18T12:46:24.693Z"
   },
   {
    "duration": 13,
    "start_time": "2023-02-18T12:46:34.417Z"
   },
   {
    "duration": 12,
    "start_time": "2023-02-18T12:46:38.090Z"
   },
   {
    "duration": 287,
    "start_time": "2023-02-18T12:54:19.700Z"
   },
   {
    "duration": 324,
    "start_time": "2023-02-18T12:54:22.116Z"
   },
   {
    "duration": 206,
    "start_time": "2023-02-18T12:54:30.073Z"
   },
   {
    "duration": 257,
    "start_time": "2023-02-18T12:55:02.091Z"
   },
   {
    "duration": 228,
    "start_time": "2023-02-18T12:55:22.054Z"
   },
   {
    "duration": 274,
    "start_time": "2023-02-18T12:55:35.795Z"
   },
   {
    "duration": 145,
    "start_time": "2023-02-18T12:57:16.050Z"
   },
   {
    "duration": 5,
    "start_time": "2023-02-18T12:58:16.337Z"
   },
   {
    "duration": 129,
    "start_time": "2023-02-18T12:59:40.457Z"
   },
   {
    "duration": 185,
    "start_time": "2023-02-18T13:00:33.661Z"
   },
   {
    "duration": 26,
    "start_time": "2023-02-18T13:00:39.389Z"
   },
   {
    "duration": 150,
    "start_time": "2023-02-18T13:00:44.273Z"
   },
   {
    "duration": 10,
    "start_time": "2023-02-18T13:01:31.801Z"
   },
   {
    "duration": 9,
    "start_time": "2023-02-18T13:02:07.955Z"
   },
   {
    "duration": 28,
    "start_time": "2023-02-18T13:02:24.998Z"
   },
   {
    "duration": 13,
    "start_time": "2023-02-18T13:02:54.798Z"
   },
   {
    "duration": 1352,
    "start_time": "2023-02-18T14:51:15.289Z"
   },
   {
    "duration": 13,
    "start_time": "2023-02-18T14:51:16.643Z"
   },
   {
    "duration": 18,
    "start_time": "2023-02-18T14:51:16.659Z"
   },
   {
    "duration": 29,
    "start_time": "2023-02-18T14:51:16.679Z"
   },
   {
    "duration": 9,
    "start_time": "2023-02-18T14:51:16.710Z"
   },
   {
    "duration": 15,
    "start_time": "2023-02-18T14:51:16.721Z"
   },
   {
    "duration": 11,
    "start_time": "2023-02-18T14:51:16.738Z"
   },
   {
    "duration": 10,
    "start_time": "2023-02-18T14:51:16.751Z"
   },
   {
    "duration": 11,
    "start_time": "2023-02-18T14:51:16.763Z"
   },
   {
    "duration": 7,
    "start_time": "2023-02-18T14:51:16.777Z"
   },
   {
    "duration": 18,
    "start_time": "2023-02-18T14:51:16.803Z"
   },
   {
    "duration": 13,
    "start_time": "2023-02-18T14:51:16.824Z"
   },
   {
    "duration": 22,
    "start_time": "2023-02-18T14:51:16.839Z"
   },
   {
    "duration": 383,
    "start_time": "2023-02-18T14:51:16.863Z"
   },
   {
    "duration": 340,
    "start_time": "2023-02-18T14:51:17.248Z"
   },
   {
    "duration": 246,
    "start_time": "2023-02-18T14:51:17.590Z"
   },
   {
    "duration": 323,
    "start_time": "2023-02-18T14:51:17.838Z"
   },
   {
    "duration": 454,
    "start_time": "2023-02-18T14:51:18.162Z"
   },
   {
    "duration": 366,
    "start_time": "2023-02-18T14:51:18.618Z"
   },
   {
    "duration": 176,
    "start_time": "2023-02-18T14:51:18.986Z"
   },
   {
    "duration": 6,
    "start_time": "2023-02-18T14:51:19.164Z"
   },
   {
    "duration": 173,
    "start_time": "2023-02-18T14:51:19.171Z"
   },
   {
    "duration": 7,
    "start_time": "2023-02-18T14:51:19.346Z"
   },
   {
    "duration": 588,
    "start_time": "2023-02-18T14:51:19.355Z"
   },
   {
    "duration": 90,
    "start_time": "2023-02-18T14:51:19.945Z"
   },
   {
    "duration": 469,
    "start_time": "2023-02-18T14:51:20.037Z"
   },
   {
    "duration": 15,
    "start_time": "2023-02-18T14:51:20.508Z"
   },
   {
    "duration": 13,
    "start_time": "2023-02-18T14:51:20.527Z"
   },
   {
    "duration": 89,
    "start_time": "2023-02-18T14:51:20.542Z"
   },
   {
    "duration": 18,
    "start_time": "2023-02-18T14:51:20.633Z"
   },
   {
    "duration": 1368,
    "start_time": "2023-02-18T15:32:56.081Z"
   },
   {
    "duration": 17,
    "start_time": "2023-02-18T15:32:57.452Z"
   },
   {
    "duration": 24,
    "start_time": "2023-02-18T15:32:57.484Z"
   },
   {
    "duration": 36,
    "start_time": "2023-02-18T15:32:57.511Z"
   },
   {
    "duration": 18,
    "start_time": "2023-02-18T15:32:57.549Z"
   },
   {
    "duration": 15,
    "start_time": "2023-02-18T15:32:57.570Z"
   },
   {
    "duration": 19,
    "start_time": "2023-02-18T15:32:57.587Z"
   },
   {
    "duration": 31,
    "start_time": "2023-02-18T15:32:57.608Z"
   },
   {
    "duration": 6,
    "start_time": "2023-02-18T15:32:57.641Z"
   },
   {
    "duration": 11,
    "start_time": "2023-02-18T15:32:57.650Z"
   },
   {
    "duration": 26,
    "start_time": "2023-02-18T15:32:57.663Z"
   },
   {
    "duration": 27,
    "start_time": "2023-02-18T15:32:57.691Z"
   },
   {
    "duration": 23,
    "start_time": "2023-02-18T15:32:57.724Z"
   },
   {
    "duration": 344,
    "start_time": "2023-02-18T15:32:57.750Z"
   },
   {
    "duration": 363,
    "start_time": "2023-02-18T15:32:58.095Z"
   },
   {
    "duration": 259,
    "start_time": "2023-02-18T15:32:58.460Z"
   },
   {
    "duration": 332,
    "start_time": "2023-02-18T15:32:58.728Z"
   },
   {
    "duration": 303,
    "start_time": "2023-02-18T15:32:59.062Z"
   },
   {
    "duration": 405,
    "start_time": "2023-02-18T15:32:59.368Z"
   },
   {
    "duration": 243,
    "start_time": "2023-02-18T15:32:59.775Z"
   },
   {
    "duration": 6,
    "start_time": "2023-02-18T15:33:00.028Z"
   },
   {
    "duration": 187,
    "start_time": "2023-02-18T15:33:00.037Z"
   },
   {
    "duration": 5,
    "start_time": "2023-02-18T15:33:00.226Z"
   },
   {
    "duration": 283,
    "start_time": "2023-02-18T15:33:00.233Z"
   },
   {
    "duration": 38,
    "start_time": "2023-02-18T15:33:00.520Z"
   },
   {
    "duration": 275,
    "start_time": "2023-02-18T15:33:00.560Z"
   },
   {
    "duration": 12,
    "start_time": "2023-02-18T15:33:00.836Z"
   },
   {
    "duration": 30,
    "start_time": "2023-02-18T15:33:00.851Z"
   },
   {
    "duration": 81,
    "start_time": "2023-02-18T15:33:00.883Z"
   },
   {
    "duration": 52,
    "start_time": "2023-02-18T15:33:00.971Z"
   }
  ],
  "kernelspec": {
   "display_name": "Python 3 (ipykernel)",
   "language": "python",
   "name": "python3"
  },
  "language_info": {
   "codemirror_mode": {
    "name": "ipython",
    "version": 3
   },
   "file_extension": ".py",
   "mimetype": "text/x-python",
   "name": "python",
   "nbconvert_exporter": "python",
   "pygments_lexer": "ipython3",
   "version": "3.10.9"
  },
  "toc": {
   "base_numbering": 1,
   "nav_menu": {},
   "number_sections": true,
   "sideBar": true,
   "skip_h1_title": true,
   "title_cell": "Table of Contents",
   "title_sidebar": "Contents",
   "toc_cell": false,
   "toc_position": {},
   "toc_section_display": true,
   "toc_window_display": false
  }
 },
 "nbformat": 4,
 "nbformat_minor": 2
}
