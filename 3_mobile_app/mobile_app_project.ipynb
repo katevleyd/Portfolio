{
 "cells": [
  {
   "cell_type": "markdown",
   "metadata": {},
   "source": [
    "# Исследование данных мобильного приложения по продаже продуктов питания\n",
    "\n",
    "Вы работаете в стартапе, который продаёт продукты питания. Нужно разобраться, как ведут себя пользователи вашего мобильного приложения. \n",
    "Изучите воронку продаж. Узнайте, как пользователи доходят до покупки. Сколько пользователей доходит до покупки, а сколько — «застревает» на предыдущих шагах? На каких именно?\n",
    "После этого исследуйте результаты A/A/B-эксперимента. Дизайнеры захотели поменять шрифты во всём приложении, а менеджеры испугались, что пользователям будет непривычно. Договорились принять решение по результатам A/A/B-теста. Пользователей разбили на 3 группы: 2 контрольные со старыми шрифтами и одну экспериментальную — с новыми. Выясните, какой шрифт лучше.\n",
    "Создание двух групп A вместо одной имеет определённые преимущества. Если две контрольные группы окажутся равны, вы можете быть уверены в точности проведенного тестирования. Если же между значениями A и A будут существенные различия, это поможет обнаружить факторы, которые привели к искажению результатов. Сравнение контрольных групп также помогает понять, сколько времени и данных потребуется для дальнейших тестов.\n",
    "\n",
    "Исследование пройдет в 5 этапов:\n",
    "\n",
    "1. Обзор данных.\n",
    "2. Предобработка данных.\n",
    "3. Исследовательский анализ данных.\n",
    "4. Изучение воронки событий.\n",
    "5. Анализ результатов эксперимента."
   ]
  },
  {
   "cell_type": "markdown",
   "metadata": {},
   "source": [
    "### Обзор данных"
   ]
  },
  {
   "cell_type": "code",
   "execution_count": 1,
   "metadata": {},
   "outputs": [
    {
     "data": {
      "text/html": [
       "        <script type=\"text/javascript\">\n",
       "        window.PlotlyConfig = {MathJaxConfig: 'local'};\n",
       "        if (window.MathJax && window.MathJax.Hub && window.MathJax.Hub.Config) {window.MathJax.Hub.Config({SVG: {font: \"STIX-Web\"}});}\n",
       "        if (typeof require !== 'undefined') {\n",
       "        require.undef(\"plotly\");\n",
       "        requirejs.config({\n",
       "            paths: {\n",
       "                'plotly': ['https://cdn.plot.ly/plotly-2.12.1.min']\n",
       "            }\n",
       "        });\n",
       "        require(['plotly'], function(Plotly) {\n",
       "            window._Plotly = Plotly;\n",
       "        });\n",
       "        }\n",
       "        </script>\n",
       "        "
      ]
     },
     "metadata": {},
     "output_type": "display_data"
    }
   ],
   "source": [
    "import pandas as pd\n",
    "import scipy.stats as st\n",
    "import matplotlib.pyplot as plt\n",
    "import numpy as np\n",
    "import datetime as dt\n",
    "from plotly import graph_objects as go\n",
    "import math as mth\n",
    "import seaborn as sns\n",
    "import warnings\n",
    "warnings.filterwarnings(\"ignore\")\n",
    "from plotly.offline import plot, iplot, init_notebook_mode\n",
    "import plotly.graph_objs as go\n",
    "init_notebook_mode(connected=True)"
   ]
  },
  {
   "cell_type": "code",
   "execution_count": 2,
   "metadata": {},
   "outputs": [
    {
     "data": {
      "text/html": [
       "<div>\n",
       "<style scoped>\n",
       "    .dataframe tbody tr th:only-of-type {\n",
       "        vertical-align: middle;\n",
       "    }\n",
       "\n",
       "    .dataframe tbody tr th {\n",
       "        vertical-align: top;\n",
       "    }\n",
       "\n",
       "    .dataframe thead th {\n",
       "        text-align: right;\n",
       "    }\n",
       "</style>\n",
       "<table border=\"1\" class=\"dataframe\">\n",
       "  <thead>\n",
       "    <tr style=\"text-align: right;\">\n",
       "      <th></th>\n",
       "      <th>EventName</th>\n",
       "      <th>DeviceIDHash</th>\n",
       "      <th>EventTimestamp</th>\n",
       "      <th>ExpId</th>\n",
       "    </tr>\n",
       "  </thead>\n",
       "  <tbody>\n",
       "    <tr>\n",
       "      <th>0</th>\n",
       "      <td>MainScreenAppear</td>\n",
       "      <td>4575588528974610257</td>\n",
       "      <td>1564029816</td>\n",
       "      <td>246</td>\n",
       "    </tr>\n",
       "    <tr>\n",
       "      <th>1</th>\n",
       "      <td>MainScreenAppear</td>\n",
       "      <td>7416695313311560658</td>\n",
       "      <td>1564053102</td>\n",
       "      <td>246</td>\n",
       "    </tr>\n",
       "    <tr>\n",
       "      <th>2</th>\n",
       "      <td>PaymentScreenSuccessful</td>\n",
       "      <td>3518123091307005509</td>\n",
       "      <td>1564054127</td>\n",
       "      <td>248</td>\n",
       "    </tr>\n",
       "    <tr>\n",
       "      <th>3</th>\n",
       "      <td>CartScreenAppear</td>\n",
       "      <td>3518123091307005509</td>\n",
       "      <td>1564054127</td>\n",
       "      <td>248</td>\n",
       "    </tr>\n",
       "    <tr>\n",
       "      <th>4</th>\n",
       "      <td>PaymentScreenSuccessful</td>\n",
       "      <td>6217807653094995999</td>\n",
       "      <td>1564055322</td>\n",
       "      <td>248</td>\n",
       "    </tr>\n",
       "    <tr>\n",
       "      <th>5</th>\n",
       "      <td>CartScreenAppear</td>\n",
       "      <td>6217807653094995999</td>\n",
       "      <td>1564055323</td>\n",
       "      <td>248</td>\n",
       "    </tr>\n",
       "    <tr>\n",
       "      <th>6</th>\n",
       "      <td>OffersScreenAppear</td>\n",
       "      <td>8351860793733343758</td>\n",
       "      <td>1564066242</td>\n",
       "      <td>246</td>\n",
       "    </tr>\n",
       "    <tr>\n",
       "      <th>7</th>\n",
       "      <td>MainScreenAppear</td>\n",
       "      <td>5682100281902512875</td>\n",
       "      <td>1564085677</td>\n",
       "      <td>246</td>\n",
       "    </tr>\n",
       "    <tr>\n",
       "      <th>8</th>\n",
       "      <td>MainScreenAppear</td>\n",
       "      <td>1850981295691852772</td>\n",
       "      <td>1564086702</td>\n",
       "      <td>247</td>\n",
       "    </tr>\n",
       "    <tr>\n",
       "      <th>9</th>\n",
       "      <td>MainScreenAppear</td>\n",
       "      <td>5407636962369102641</td>\n",
       "      <td>1564112112</td>\n",
       "      <td>246</td>\n",
       "    </tr>\n",
       "  </tbody>\n",
       "</table>\n",
       "</div>"
      ],
      "text/plain": [
       "                 EventName         DeviceIDHash  EventTimestamp  ExpId\n",
       "0         MainScreenAppear  4575588528974610257      1564029816    246\n",
       "1         MainScreenAppear  7416695313311560658      1564053102    246\n",
       "2  PaymentScreenSuccessful  3518123091307005509      1564054127    248\n",
       "3         CartScreenAppear  3518123091307005509      1564054127    248\n",
       "4  PaymentScreenSuccessful  6217807653094995999      1564055322    248\n",
       "5         CartScreenAppear  6217807653094995999      1564055323    248\n",
       "6       OffersScreenAppear  8351860793733343758      1564066242    246\n",
       "7         MainScreenAppear  5682100281902512875      1564085677    246\n",
       "8         MainScreenAppear  1850981295691852772      1564086702    247\n",
       "9         MainScreenAppear  5407636962369102641      1564112112    246"
      ]
     },
     "metadata": {},
     "output_type": "display_data"
    },
    {
     "name": "stdout",
     "output_type": "stream",
     "text": [
      "<class 'pandas.core.frame.DataFrame'>\n",
      "RangeIndex: 244126 entries, 0 to 244125\n",
      "Data columns (total 4 columns):\n",
      " #   Column          Non-Null Count   Dtype \n",
      "---  ------          --------------   ----- \n",
      " 0   EventName       244126 non-null  object\n",
      " 1   DeviceIDHash    244126 non-null  int64 \n",
      " 2   EventTimestamp  244126 non-null  int64 \n",
      " 3   ExpId           244126 non-null  int64 \n",
      "dtypes: int64(3), object(1)\n",
      "memory usage: 7.5+ MB\n"
     ]
    }
   ],
   "source": [
    "try:\n",
    "    logs = pd.read_csv('/datasets/logs_exp.csv', sep='\\t')\n",
    "except:\n",
    "    logs = pd.read_csv(r'C:\\Users\\katya\\Downloads\\logs_exp.csv', sep='\\t')\n",
    "    \n",
    "display(logs.head(10))\n",
    "logs.info()"
   ]
  },
  {
   "cell_type": "markdown",
   "metadata": {},
   "source": [
    "### Предобработка данных"
   ]
  },
  {
   "cell_type": "markdown",
   "metadata": {},
   "source": [
    "Заменим названия столбцов на более удобные:"
   ]
  },
  {
   "cell_type": "code",
   "execution_count": 3,
   "metadata": {},
   "outputs": [],
   "source": [
    "logs = logs.rename(columns={\"EventName\": \"event_name\", \"DeviceIDHash\": \"user_id\", \"EventTimestamp\": \"event_time\", \"ExpId\": \"group\"})"
   ]
  },
  {
   "cell_type": "markdown",
   "metadata": {},
   "source": [
    "Поменяем тип столбца \"event_time\" на datetime и добавим отдельный столбец дат:"
   ]
  },
  {
   "cell_type": "code",
   "execution_count": 4,
   "metadata": {},
   "outputs": [],
   "source": [
    "logs['event_time'] = pd.to_datetime(logs['event_time'], unit='s')\n",
    "logs['event_date'] = logs['event_time'].astype('datetime64[D]')"
   ]
  },
  {
   "cell_type": "markdown",
   "metadata": {},
   "source": [
    "\n",
    "Посчитаем количество пропусков и дубликатов:"
   ]
  },
  {
   "cell_type": "code",
   "execution_count": 5,
   "metadata": {},
   "outputs": [
    {
     "name": "stdout",
     "output_type": "stream",
     "text": [
      "event_name    0\n",
      "user_id       0\n",
      "event_time    0\n",
      "group         0\n",
      "event_date    0\n",
      "dtype: int64\n",
      "Количество явных дубликатов: 413\n"
     ]
    }
   ],
   "source": [
    "print(logs.isna().sum()) # посчитаем количество пропусков в столбцах\n",
    "print('Количество явных дубликатов:',logs.duplicated().sum()) # подсчёт явных дубликатов"
   ]
  },
  {
   "cell_type": "markdown",
   "metadata": {},
   "source": [
    "Пропусков в данных не оказалось, а вот дубликатов - 413. Дубликаты можно удалить. "
   ]
  },
  {
   "cell_type": "code",
   "execution_count": 6,
   "metadata": {},
   "outputs": [],
   "source": [
    "logs = logs.drop_duplicates().reset_index(drop=True)"
   ]
  },
  {
   "cell_type": "code",
   "execution_count": 7,
   "metadata": {},
   "outputs": [
    {
     "name": "stdout",
     "output_type": "stream",
     "text": [
      "<class 'pandas.core.frame.DataFrame'>\n",
      "RangeIndex: 243713 entries, 0 to 243712\n",
      "Data columns (total 5 columns):\n",
      " #   Column      Non-Null Count   Dtype         \n",
      "---  ------      --------------   -----         \n",
      " 0   event_name  243713 non-null  object        \n",
      " 1   user_id     243713 non-null  int64         \n",
      " 2   event_time  243713 non-null  datetime64[ns]\n",
      " 3   group       243713 non-null  int64         \n",
      " 4   event_date  243713 non-null  datetime64[ns]\n",
      "dtypes: datetime64[ns](2), int64(2), object(1)\n",
      "memory usage: 9.3+ MB\n"
     ]
    },
    {
     "data": {
      "text/html": [
       "<div>\n",
       "<style scoped>\n",
       "    .dataframe tbody tr th:only-of-type {\n",
       "        vertical-align: middle;\n",
       "    }\n",
       "\n",
       "    .dataframe tbody tr th {\n",
       "        vertical-align: top;\n",
       "    }\n",
       "\n",
       "    .dataframe thead th {\n",
       "        text-align: right;\n",
       "    }\n",
       "</style>\n",
       "<table border=\"1\" class=\"dataframe\">\n",
       "  <thead>\n",
       "    <tr style=\"text-align: right;\">\n",
       "      <th></th>\n",
       "      <th>event_name</th>\n",
       "      <th>user_id</th>\n",
       "      <th>event_time</th>\n",
       "      <th>group</th>\n",
       "      <th>event_date</th>\n",
       "    </tr>\n",
       "  </thead>\n",
       "  <tbody>\n",
       "    <tr>\n",
       "      <th>0</th>\n",
       "      <td>MainScreenAppear</td>\n",
       "      <td>4575588528974610257</td>\n",
       "      <td>2019-07-25 04:43:36</td>\n",
       "      <td>246</td>\n",
       "      <td>2019-07-25 04:43:36</td>\n",
       "    </tr>\n",
       "    <tr>\n",
       "      <th>1</th>\n",
       "      <td>MainScreenAppear</td>\n",
       "      <td>7416695313311560658</td>\n",
       "      <td>2019-07-25 11:11:42</td>\n",
       "      <td>246</td>\n",
       "      <td>2019-07-25 11:11:42</td>\n",
       "    </tr>\n",
       "    <tr>\n",
       "      <th>2</th>\n",
       "      <td>PaymentScreenSuccessful</td>\n",
       "      <td>3518123091307005509</td>\n",
       "      <td>2019-07-25 11:28:47</td>\n",
       "      <td>248</td>\n",
       "      <td>2019-07-25 11:28:47</td>\n",
       "    </tr>\n",
       "    <tr>\n",
       "      <th>3</th>\n",
       "      <td>CartScreenAppear</td>\n",
       "      <td>3518123091307005509</td>\n",
       "      <td>2019-07-25 11:28:47</td>\n",
       "      <td>248</td>\n",
       "      <td>2019-07-25 11:28:47</td>\n",
       "    </tr>\n",
       "    <tr>\n",
       "      <th>4</th>\n",
       "      <td>PaymentScreenSuccessful</td>\n",
       "      <td>6217807653094995999</td>\n",
       "      <td>2019-07-25 11:48:42</td>\n",
       "      <td>248</td>\n",
       "      <td>2019-07-25 11:48:42</td>\n",
       "    </tr>\n",
       "  </tbody>\n",
       "</table>\n",
       "</div>"
      ],
      "text/plain": [
       "                event_name              user_id          event_time  group  \\\n",
       "0         MainScreenAppear  4575588528974610257 2019-07-25 04:43:36    246   \n",
       "1         MainScreenAppear  7416695313311560658 2019-07-25 11:11:42    246   \n",
       "2  PaymentScreenSuccessful  3518123091307005509 2019-07-25 11:28:47    248   \n",
       "3         CartScreenAppear  3518123091307005509 2019-07-25 11:28:47    248   \n",
       "4  PaymentScreenSuccessful  6217807653094995999 2019-07-25 11:48:42    248   \n",
       "\n",
       "           event_date  \n",
       "0 2019-07-25 04:43:36  \n",
       "1 2019-07-25 11:11:42  \n",
       "2 2019-07-25 11:28:47  \n",
       "3 2019-07-25 11:28:47  \n",
       "4 2019-07-25 11:48:42  "
      ]
     },
     "execution_count": 7,
     "metadata": {},
     "output_type": "execute_result"
    }
   ],
   "source": [
    "logs.info()\n",
    "logs.head()"
   ]
  },
  {
   "cell_type": "markdown",
   "metadata": {},
   "source": [
    "На этапе предобработки данных мы заменили названия столбцов на более удобные; поменяли тип столбца с датой на 'datetime' и отдельно добавили столбец с датой без времени; так же мы избавились от 413 дубликатов в данных."
   ]
  },
  {
   "cell_type": "markdown",
   "metadata": {},
   "source": [
    "### Исследовательский анализ данных"
   ]
  },
  {
   "cell_type": "markdown",
   "metadata": {},
   "source": [
    "Определим, сколько всего событий в логе:"
   ]
  },
  {
   "cell_type": "code",
   "execution_count": 8,
   "metadata": {},
   "outputs": [
    {
     "name": "stdout",
     "output_type": "stream",
     "text": [
      "Количество событий в логе:  243713\n"
     ]
    }
   ],
   "source": [
    "print('Количество событий в логе: ', logs['event_name'].count())"
   ]
  },
  {
   "cell_type": "markdown",
   "metadata": {},
   "source": [
    "Определим, сколько всего пользователей в логе:"
   ]
  },
  {
   "cell_type": "code",
   "execution_count": 9,
   "metadata": {},
   "outputs": [
    {
     "name": "stdout",
     "output_type": "stream",
     "text": [
      "Количество пользователей в логе:  7551\n"
     ]
    }
   ],
   "source": [
    "print('Количество пользователей в логе: ', logs['user_id'].nunique())"
   ]
  },
  {
   "cell_type": "markdown",
   "metadata": {},
   "source": [
    "Определим, сколько в среднем событий приходится на пользователя:"
   ]
  },
  {
   "cell_type": "code",
   "execution_count": 10,
   "metadata": {},
   "outputs": [
    {
     "name": "stdout",
     "output_type": "stream",
     "text": [
      "Среднее количество событий на пользователя:  20\n"
     ]
    }
   ],
   "source": [
    "print('Среднее количество событий на пользователя: ', int(logs.groupby('user_id')['event_name'].agg('count').median()))"
   ]
  },
  {
   "cell_type": "code",
   "execution_count": 11,
   "metadata": {},
   "outputs": [
    {
     "data": {
      "image/png": "[encoded data removed]",
      "text/plain": [
       "<Figure size 1500x500 with 1 Axes>"
      ]
     },
     "metadata": {},
     "output_type": "display_data"
    }
   ],
   "source": [
    "event_sum = logs.groupby('user_id').agg({'event_name': 'count'})\n",
    "plt.figure(figsize=(15,5))\n",
    "plt.title(\"Распределение событий по пользователям\")\n",
    "plt.xlabel(\"Пользователи\")\n",
    "plt.ylabel(\"Количество событий\")\n",
    "plt.hist(event_sum, color = 'tomato', edgecolor = 'black', bins=300)\n",
    "plt.show()"
   ]
  },
  {
   "cell_type": "markdown",
   "metadata": {},
   "source": [
    "По гистограмме можно сделать вывод, что есть небольшая доля пользователей, совершивших гораздо больше событий, чем большая часть пользователей (в тысячи раз). Гистограмма напоминает экспоненциальное распределение."
   ]
  },
  {
   "cell_type": "markdown",
   "metadata": {},
   "source": [
    "Найдем максимальную и минимальную дату (период, данными за который мы располагаем). "
   ]
  },
  {
   "cell_type": "code",
   "execution_count": 12,
   "metadata": {},
   "outputs": [
    {
     "name": "stdout",
     "output_type": "stream",
     "text": [
      "Минимальная дата: 2019-07-25 04:43:36\n",
      "Максимальная дата: 2019-08-07 21:15:17\n"
     ]
    }
   ],
   "source": [
    "print('Минимальная дата:', logs['event_time'].min())\n",
    "print('Максимальная дата:', logs['event_time'].max())"
   ]
  },
  {
   "cell_type": "markdown",
   "metadata": {},
   "source": [
    "Построим гистограмму по дате: "
   ]
  },
  {
   "cell_type": "code",
   "execution_count": 13,
   "metadata": {},
   "outputs": [
    {
     "data": {
      "image/png": "[encoded data removed]",
      "text/plain": [
       "<Figure size 2000x500 with 1 Axes>"
      ]
     },
     "metadata": {},
     "output_type": "display_data"
    }
   ],
   "source": [
    "plt.title(\"Распределение событий по дате\")\n",
    "plt.xlabel(\"Дата\")\n",
    "plt.ylabel(\"События\")\n",
    "logs['event_date'].hist(figsize=(20, 5),color = \"tomato\",edgecolor = 'black')\n",
    "plt.show()"
   ]
  },
  {
   "cell_type": "markdown",
   "metadata": {},
   "source": [
    "Построим гистограмму по времени:"
   ]
  },
  {
   "cell_type": "code",
   "execution_count": 14,
   "metadata": {},
   "outputs": [
    {
     "data": {
      "image/png": "[encoded data removed]",
      "text/plain": [
       "<Figure size 2000x500 with 1 Axes>"
      ]
     },
     "metadata": {},
     "output_type": "display_data"
    }
   ],
   "source": [
    "plt.title(\"Распределение событий по времени\")\n",
    "plt.xlabel(\"Время\")\n",
    "plt.ylabel(\"События\")\n",
    "logs['event_time'].hist(bins=14*24,figsize=(20, 5),color = \"tomato\",edgecolor = 'black')\n",
    "plt.show()"
   ]
  },
  {
   "cell_type": "code",
   "execution_count": 15,
   "metadata": {},
   "outputs": [
    {
     "data": {
      "image/png": "[encoded data removed]",
      "text/plain": [
       "<Figure size 2000x500 with 1 Axes>"
      ]
     },
     "metadata": {},
     "output_type": "display_data"
    }
   ],
   "source": [
    "plt.title(\"Распределение событий по времени 2019-07-31\")\n",
    "plt.xlabel(\"Время\")\n",
    "plt.ylabel(\"События\")\n",
    "logs.query('event_date==\"2019-07-31\"')['event_time'].hist(bins=24,figsize=(20, 5),color = \"tomato\",edgecolor = 'black')\n",
    "plt.show()"
   ]
  },
  {
   "cell_type": "markdown",
   "metadata": {},
   "source": [
    "Судя по гистограммам, можно сделать вывод, что у нас одинаково полные данные только за период с 2019-07-31 21:00:57 по 2019-08-07 21:15:17. Технически в логи новых дней по некоторым пользователям могут «доезжать» события из прошлого — это может «перекашивать данные»."
   ]
  },
  {
   "cell_type": "markdown",
   "metadata": {},
   "source": [
    "Отбросим старые данные и построим новые гистограммы:"
   ]
  },
  {
   "cell_type": "code",
   "execution_count": 16,
   "metadata": {},
   "outputs": [
    {
     "data": {
      "image/png": "[encoded data removed]",
      "text/plain": [
       "<Figure size 2000x500 with 1 Axes>"
      ]
     },
     "metadata": {},
     "output_type": "display_data"
    },
    {
     "data": {
      "image/png": "[encoded data removed]",
      "text/plain": [
       "<Figure size 2000x500 with 1 Axes>"
      ]
     },
     "metadata": {},
     "output_type": "display_data"
    }
   ],
   "source": [
    "new_logs = logs['2019-07-31 21:00:00' <= logs['event_time']]\n",
    "plt.title(\"Распределение событий по дате\")\n",
    "plt.xlabel(\"Дата\")\n",
    "plt.ylabel(\"События\")\n",
    "new_logs['event_date'].hist(figsize=(20, 5),color = \"tomato\",edgecolor = 'black')\n",
    "plt.show()\n",
    "plt.title(\"Распределение событий по времени\")\n",
    "plt.xlabel(\"Время\")\n",
    "plt.ylabel(\"События\")\n",
    "new_logs['event_time'].hist(bins=8*24,figsize=(20, 5),color = \"tomato\",edgecolor = 'black')\n",
    "plt.show()"
   ]
  },
  {
   "cell_type": "markdown",
   "metadata": {},
   "source": [
    "Определим количество событий и пользователей для новых данных:"
   ]
  },
  {
   "cell_type": "code",
   "execution_count": 17,
   "metadata": {},
   "outputs": [
    {
     "name": "stdout",
     "output_type": "stream",
     "text": [
      "Количество событий в логе:  241724\n",
      "Количество пользователей в логе:  7538\n",
      "Среднее количество событий на пользователя:  19\n",
      "Минимальная дата: 2019-07-31 21:00:57\n",
      "Максимальная дата: 2019-08-07 21:15:17\n"
     ]
    }
   ],
   "source": [
    "print('Количество событий в логе: ', new_logs['event_name'].count())\n",
    "print('Количество пользователей в логе: ', new_logs['user_id'].nunique())\n",
    "print('Среднее количество событий на пользователя: ', int(new_logs.groupby('user_id')['event_name'].agg('count').median()))\n",
    "print('Минимальная дата:', new_logs['event_time'].min())\n",
    "print('Максимальная дата:', new_logs['event_time'].max())"
   ]
  },
  {
   "cell_type": "markdown",
   "metadata": {},
   "source": [
    "Определим количество потерянных после удаления событий и пользователей:"
   ]
  },
  {
   "cell_type": "code",
   "execution_count": 18,
   "metadata": {},
   "outputs": [
    {
     "name": "stdout",
     "output_type": "stream",
     "text": [
      "Количество удаленных событий: 1989\n",
      "Процент удаленных событий от общего числа событий: 0.82 %\n",
      "Количество удаленных пользователей: 13\n",
      "Процент удаленных пользователей от общего числа пользователей: 0.17 %\n"
     ]
    }
   ],
   "source": [
    "drop_events = logs['event_name'].count()-new_logs['event_name'].count()\n",
    "percent_events = drop_events/logs['event_name'].count()*100\n",
    "drop_users = logs['user_id'].nunique()-new_logs['user_id'].nunique()\n",
    "percent_users = drop_users/logs['user_id'].nunique()*100\n",
    "print('Количество удаленных событий:', drop_events)\n",
    "print('Процент удаленных событий от общего числа событий:', round(percent_events,2), '%')\n",
    "print('Количество удаленных пользователей:', drop_users)\n",
    "print('Процент удаленных пользователей от общего числа пользователей:', round(percent_users,2), '%')"
   ]
  },
  {
   "cell_type": "markdown",
   "metadata": {},
   "source": [
    "Проверим, есть ли пользователи из всех трёх экспериментальных групп:"
   ]
  },
  {
   "cell_type": "code",
   "execution_count": 19,
   "metadata": {},
   "outputs": [
    {
     "name": "stdout",
     "output_type": "stream",
     "text": [
      "group    0\n",
      "dtype: int64\n"
     ]
    }
   ],
   "source": [
    "print(new_logs.groupby('user_id').agg({'group' : 'nunique'}).query('group>1').count())"
   ]
  },
  {
   "cell_type": "markdown",
   "metadata": {},
   "source": [
    "Оказалось, что в данных нет пользователей, которые попали сразу в несколько групп. Значит ошибки в сборе данных нет."
   ]
  },
  {
   "cell_type": "markdown",
   "metadata": {},
   "source": [
    "На этапе исследовательского анализа данных мы определили, что у нас одинаково полные данные только за период с 2019-07-31 21:00:57 по 2019-08-07 21:15:17 и отбросили ненужные данные. Определили количество потерянных после удаления событий и пользователей (их оказалось немного, 0.82 % удаленных событий от общего числа событий и 0.17 % удаленных пользователей от общего числа пользователей). Так же мы посчитали количество событий и пользователей в логе, среднее количество событий на пользователя. Проверили, есть ли пользователи, попавшие сразу в несколько эспериментальных групп, и определили, что таких пользователей не оказалось.   "
   ]
  },
  {
   "cell_type": "markdown",
   "metadata": {},
   "source": [
    "### Изучение воронки событий"
   ]
  },
  {
   "cell_type": "markdown",
   "metadata": {},
   "source": [
    "Посмотрим, какие события есть в логах, как часто они встречаются. Отсортируем события по частоте."
   ]
  },
  {
   "cell_type": "code",
   "execution_count": 20,
   "metadata": {},
   "outputs": [
    {
     "data": {
      "text/html": [
       "<div>\n",
       "<style scoped>\n",
       "    .dataframe tbody tr th:only-of-type {\n",
       "        vertical-align: middle;\n",
       "    }\n",
       "\n",
       "    .dataframe tbody tr th {\n",
       "        vertical-align: top;\n",
       "    }\n",
       "\n",
       "    .dataframe thead th {\n",
       "        text-align: right;\n",
       "    }\n",
       "</style>\n",
       "<table border=\"1\" class=\"dataframe\">\n",
       "  <thead>\n",
       "    <tr style=\"text-align: right;\">\n",
       "      <th></th>\n",
       "      <th>user_id</th>\n",
       "    </tr>\n",
       "    <tr>\n",
       "      <th>event_name</th>\n",
       "      <th></th>\n",
       "    </tr>\n",
       "  </thead>\n",
       "  <tbody>\n",
       "    <tr>\n",
       "      <th>MainScreenAppear</th>\n",
       "      <td>117889</td>\n",
       "    </tr>\n",
       "    <tr>\n",
       "      <th>OffersScreenAppear</th>\n",
       "      <td>46531</td>\n",
       "    </tr>\n",
       "    <tr>\n",
       "      <th>CartScreenAppear</th>\n",
       "      <td>42343</td>\n",
       "    </tr>\n",
       "    <tr>\n",
       "      <th>PaymentScreenSuccessful</th>\n",
       "      <td>33951</td>\n",
       "    </tr>\n",
       "    <tr>\n",
       "      <th>Tutorial</th>\n",
       "      <td>1010</td>\n",
       "    </tr>\n",
       "  </tbody>\n",
       "</table>\n",
       "</div>"
      ],
      "text/plain": [
       "                         user_id\n",
       "event_name                      \n",
       "MainScreenAppear          117889\n",
       "OffersScreenAppear         46531\n",
       "CartScreenAppear           42343\n",
       "PaymentScreenSuccessful    33951\n",
       "Tutorial                    1010"
      ]
     },
     "execution_count": 20,
     "metadata": {},
     "output_type": "execute_result"
    }
   ],
   "source": [
    "events_count = new_logs.groupby('event_name').agg({'user_id': 'count'})\n",
    "events_count.sort_values(by = 'user_id', ascending = False)"
   ]
  },
  {
   "cell_type": "code",
   "execution_count": 21,
   "metadata": {},
   "outputs": [
    {
     "data": {
      "image/png": "[encoded data removed]",
      "text/plain": [
       "<Figure size 640x480 with 1 Axes>"
      ]
     },
     "metadata": {},
     "output_type": "display_data"
    }
   ],
   "source": [
    "events_count.sort_values(by='user_id',ascending = False).plot(kind='bar',title='Распределение количества событий в логах', color = \"tomato\",edgecolor = 'black') \n",
    "plt.xlabel(\"Событие\")\n",
    "plt.ylabel(\"Количество\")\n",
    "plt.show()"
   ]
  },
  {
   "cell_type": "markdown",
   "metadata": {},
   "source": [
    "Посчитаем, сколько пользователей совершали каждое из этих событий. Отсортируем события по числу пользователей. "
   ]
  },
  {
   "cell_type": "code",
   "execution_count": 22,
   "metadata": {},
   "outputs": [
    {
     "data": {
      "text/html": [
       "<div>\n",
       "<style scoped>\n",
       "    .dataframe tbody tr th:only-of-type {\n",
       "        vertical-align: middle;\n",
       "    }\n",
       "\n",
       "    .dataframe tbody tr th {\n",
       "        vertical-align: top;\n",
       "    }\n",
       "\n",
       "    .dataframe thead th {\n",
       "        text-align: right;\n",
       "    }\n",
       "</style>\n",
       "<table border=\"1\" class=\"dataframe\">\n",
       "  <thead>\n",
       "    <tr style=\"text-align: right;\">\n",
       "      <th></th>\n",
       "      <th>event_name</th>\n",
       "      <th>user_id</th>\n",
       "    </tr>\n",
       "  </thead>\n",
       "  <tbody>\n",
       "    <tr>\n",
       "      <th>0</th>\n",
       "      <td>MainScreenAppear</td>\n",
       "      <td>7423</td>\n",
       "    </tr>\n",
       "    <tr>\n",
       "      <th>1</th>\n",
       "      <td>OffersScreenAppear</td>\n",
       "      <td>4597</td>\n",
       "    </tr>\n",
       "    <tr>\n",
       "      <th>2</th>\n",
       "      <td>CartScreenAppear</td>\n",
       "      <td>3736</td>\n",
       "    </tr>\n",
       "    <tr>\n",
       "      <th>3</th>\n",
       "      <td>PaymentScreenSuccessful</td>\n",
       "      <td>3540</td>\n",
       "    </tr>\n",
       "    <tr>\n",
       "      <th>4</th>\n",
       "      <td>Tutorial</td>\n",
       "      <td>843</td>\n",
       "    </tr>\n",
       "  </tbody>\n",
       "</table>\n",
       "</div>"
      ],
      "text/plain": [
       "                event_name  user_id\n",
       "0         MainScreenAppear     7423\n",
       "1       OffersScreenAppear     4597\n",
       "2         CartScreenAppear     3736\n",
       "3  PaymentScreenSuccessful     3540\n",
       "4                 Tutorial      843"
      ]
     },
     "execution_count": 22,
     "metadata": {},
     "output_type": "execute_result"
    }
   ],
   "source": [
    "users_count = new_logs.groupby('event_name').agg({'user_id': 'nunique'}).sort_values(by = 'user_id', ascending = False)\n",
    "users_count = users_count.reset_index()\n",
    "users_count"
   ]
  },
  {
   "cell_type": "markdown",
   "metadata": {},
   "source": [
    "Главную страницу посмотрели 7423 пользователей;\n",
    "\n",
    "Перешли на страницу предложений 4597 пользователей;\n",
    "\n",
    "Перешли на страницу \"корзина\" 3736 пользователей;\n",
    "\n",
    "Перешли на страницу \"оплата\" 3540 пользователей;\n",
    "\n",
    "Перешли на страницу \"руководство\" 843 пользователя."
   ]
  },
  {
   "cell_type": "code",
   "execution_count": 23,
   "metadata": {},
   "outputs": [
    {
     "data": {
      "image/png": "[encoded data removed]",
      "text/plain": [
       "<Figure size 640x480 with 1 Axes>"
      ]
     },
     "metadata": {},
     "output_type": "display_data"
    }
   ],
   "source": [
    "users_count.sort_values(by = 'user_id', ascending = False).plot(kind='bar',title='Распределение количества пользователей по событию', color = \"tomato\",edgecolor = 'black') \n",
    "plt.xlabel(\"Событие\")\n",
    "plt.ylabel(\"Количество пользователей\")\n",
    "plt.show()"
   ]
  },
  {
   "cell_type": "markdown",
   "metadata": {},
   "source": [
    "Построим воронку с количеством уникальных пользователей на каждом из шагов:"
   ]
  },
  {
   "cell_type": "code",
   "execution_count": 24,
   "metadata": {},
   "outputs": [
    {
     "data": {
      "application/vnd.plotly.v1+json": {
       "config": {
        "plotlyServerURL": "https://plot.ly"
       },
       "data": [
        {
         "textinfo": "value+percent initial",
         "type": "funnel",
         "x": [
          7423,
          4597,
          3736,
          3540,
          843
         ],
         "y": [
          "MainScreenAppear",
          "OffersScreenAppear",
          "CartScreenAppear",
          "PaymentScreenSuccessful",
          "Tutorial"
         ]
        }
       ],
       "layout": {
        "template": {
         "data": {
          "bar": [
           {
            "error_x": {
             "color": "#2a3f5f"
            },
            "error_y": {
             "color": "#2a3f5f"
            },
            "marker": {
             "line": {
              "color": "#E5ECF6",
              "width": 0.5
             },
             "pattern": {
              "fillmode": "overlay",
              "size": 10,
              "solidity": 0.2
             }
            },
            "type": "bar"
           }
          ],
          "barpolar": [
           {
            "marker": {
             "line": {
              "color": "#E5ECF6",
              "width": 0.5
             },
             "pattern": {
              "fillmode": "overlay",
              "size": 10,
              "solidity": 0.2
             }
            },
            "type": "barpolar"
           }
          ],
          "carpet": [
           {
            "aaxis": {
             "endlinecolor": "#2a3f5f",
             "gridcolor": "white",
             "linecolor": "white",
             "minorgridcolor": "white",
             "startlinecolor": "#2a3f5f"
            },
            "baxis": {
             "endlinecolor": "#2a3f5f",
             "gridcolor": "white",
             "linecolor": "white",
             "minorgridcolor": "white",
             "startlinecolor": "#2a3f5f"
            },
            "type": "carpet"
           }
          ],
          "choropleth": [
           {
            "colorbar": {
             "outlinewidth": 0,
             "ticks": ""
            },
            "type": "choropleth"
           }
          ],
          "contour": [
           {
            "colorbar": {
             "outlinewidth": 0,
             "ticks": ""
            },
            "colorscale": [
             [
              0,
              "#0d0887"
             ],
             [
              0.1111111111111111,
              "#46039f"
             ],
             [
              0.2222222222222222,
              "#7201a8"
             ],
             [
              0.3333333333333333,
              "#9c179e"
             ],
             [
              0.4444444444444444,
              "#bd3786"
             ],
             [
              0.5555555555555556,
              "#d8576b"
             ],
             [
              0.6666666666666666,
              "#ed7953"
             ],
             [
              0.7777777777777778,
              "#fb9f3a"
             ],
             [
              0.8888888888888888,
              "#fdca26"
             ],
             [
              1,
              "#f0f921"
             ]
            ],
            "type": "contour"
           }
          ],
          "contourcarpet": [
           {
            "colorbar": {
             "outlinewidth": 0,
             "ticks": ""
            },
            "type": "contourcarpet"
           }
          ],
          "heatmap": [
           {
            "colorbar": {
             "outlinewidth": 0,
             "ticks": ""
            },
            "colorscale": [
             [
              0,
              "#0d0887"
             ],
             [
              0.1111111111111111,
              "#46039f"
             ],
             [
              0.2222222222222222,
              "#7201a8"
             ],
             [
              0.3333333333333333,
              "#9c179e"
             ],
             [
              0.4444444444444444,
              "#bd3786"
             ],
             [
              0.5555555555555556,
              "#d8576b"
             ],
             [
              0.6666666666666666,
              "#ed7953"
             ],
             [
              0.7777777777777778,
              "#fb9f3a"
             ],
             [
              0.8888888888888888,
              "#fdca26"
             ],
             [
              1,
              "#f0f921"
             ]
            ],
            "type": "heatmap"
           }
          ],
          "heatmapgl": [
           {
            "colorbar": {
             "outlinewidth": 0,
             "ticks": ""
            },
            "colorscale": [
             [
              0,
              "#0d0887"
             ],
             [
              0.1111111111111111,
              "#46039f"
             ],
             [
              0.2222222222222222,
              "#7201a8"
             ],
             [
              0.3333333333333333,
              "#9c179e"
             ],
             [
              0.4444444444444444,
              "#bd3786"
             ],
             [
              0.5555555555555556,
              "#d8576b"
             ],
             [
              0.6666666666666666,
              "#ed7953"
             ],
             [
              0.7777777777777778,
              "#fb9f3a"
             ],
             [
              0.8888888888888888,
              "#fdca26"
             ],
             [
              1,
              "#f0f921"
             ]
            ],
            "type": "heatmapgl"
           }
          ],
          "histogram": [
           {
            "marker": {
             "pattern": {
              "fillmode": "overlay",
              "size": 10,
              "solidity": 0.2
             }
            },
            "type": "histogram"
           }
          ],
          "histogram2d": [
           {
            "colorbar": {
             "outlinewidth": 0,
             "ticks": ""
            },
            "colorscale": [
             [
              0,
              "#0d0887"
             ],
             [
              0.1111111111111111,
              "#46039f"
             ],
             [
              0.2222222222222222,
              "#7201a8"
             ],
             [
              0.3333333333333333,
              "#9c179e"
             ],
             [
              0.4444444444444444,
              "#bd3786"
             ],
             [
              0.5555555555555556,
              "#d8576b"
             ],
             [
              0.6666666666666666,
              "#ed7953"
             ],
             [
              0.7777777777777778,
              "#fb9f3a"
             ],
             [
              0.8888888888888888,
              "#fdca26"
             ],
             [
              1,
              "#f0f921"
             ]
            ],
            "type": "histogram2d"
           }
          ],
          "histogram2dcontour": [
           {
            "colorbar": {
             "outlinewidth": 0,
             "ticks": ""
            },
            "colorscale": [
             [
              0,
              "#0d0887"
             ],
             [
              0.1111111111111111,
              "#46039f"
             ],
             [
              0.2222222222222222,
              "#7201a8"
             ],
             [
              0.3333333333333333,
              "#9c179e"
             ],
             [
              0.4444444444444444,
              "#bd3786"
             ],
             [
              0.5555555555555556,
              "#d8576b"
             ],
             [
              0.6666666666666666,
              "#ed7953"
             ],
             [
              0.7777777777777778,
              "#fb9f3a"
             ],
             [
              0.8888888888888888,
              "#fdca26"
             ],
             [
              1,
              "#f0f921"
             ]
            ],
            "type": "histogram2dcontour"
           }
          ],
          "mesh3d": [
           {
            "colorbar": {
             "outlinewidth": 0,
             "ticks": ""
            },
            "type": "mesh3d"
           }
          ],
          "parcoords": [
           {
            "line": {
             "colorbar": {
              "outlinewidth": 0,
              "ticks": ""
             }
            },
            "type": "parcoords"
           }
          ],
          "pie": [
           {
            "automargin": true,
            "type": "pie"
           }
          ],
          "scatter": [
           {
            "fillpattern": {
             "fillmode": "overlay",
             "size": 10,
             "solidity": 0.2
            },
            "type": "scatter"
           }
          ],
          "scatter3d": [
           {
            "line": {
             "colorbar": {
              "outlinewidth": 0,
              "ticks": ""
             }
            },
            "marker": {
             "colorbar": {
              "outlinewidth": 0,
              "ticks": ""
             }
            },
            "type": "scatter3d"
           }
          ],
          "scattercarpet": [
           {
            "marker": {
             "colorbar": {
              "outlinewidth": 0,
              "ticks": ""
             }
            },
            "type": "scattercarpet"
           }
          ],
          "scattergeo": [
           {
            "marker": {
             "colorbar": {
              "outlinewidth": 0,
              "ticks": ""
             }
            },
            "type": "scattergeo"
           }
          ],
          "scattergl": [
           {
            "marker": {
             "colorbar": {
              "outlinewidth": 0,
              "ticks": ""
             }
            },
            "type": "scattergl"
           }
          ],
          "scattermapbox": [
           {
            "marker": {
             "colorbar": {
              "outlinewidth": 0,
              "ticks": ""
             }
            },
            "type": "scattermapbox"
           }
          ],
          "scatterpolar": [
           {
            "marker": {
             "colorbar": {
              "outlinewidth": 0,
              "ticks": ""
             }
            },
            "type": "scatterpolar"
           }
          ],
          "scatterpolargl": [
           {
            "marker": {
             "colorbar": {
              "outlinewidth": 0,
              "ticks": ""
             }
            },
            "type": "scatterpolargl"
           }
          ],
          "scatterternary": [
           {
            "marker": {
             "colorbar": {
              "outlinewidth": 0,
              "ticks": ""
             }
            },
            "type": "scatterternary"
           }
          ],
          "surface": [
           {
            "colorbar": {
             "outlinewidth": 0,
             "ticks": ""
            },
            "colorscale": [
             [
              0,
              "#0d0887"
             ],
             [
              0.1111111111111111,
              "#46039f"
             ],
             [
              0.2222222222222222,
              "#7201a8"
             ],
             [
              0.3333333333333333,
              "#9c179e"
             ],
             [
              0.4444444444444444,
              "#bd3786"
             ],
             [
              0.5555555555555556,
              "#d8576b"
             ],
             [
              0.6666666666666666,
              "#ed7953"
             ],
             [
              0.7777777777777778,
              "#fb9f3a"
             ],
             [
              0.8888888888888888,
              "#fdca26"
             ],
             [
              1,
              "#f0f921"
             ]
            ],
            "type": "surface"
           }
          ],
          "table": [
           {
            "cells": {
             "fill": {
              "color": "#EBF0F8"
             },
             "line": {
              "color": "white"
             }
            },
            "header": {
             "fill": {
              "color": "#C8D4E3"
             },
             "line": {
              "color": "white"
             }
            },
            "type": "table"
           }
          ]
         },
         "layout": {
          "annotationdefaults": {
           "arrowcolor": "#2a3f5f",
           "arrowhead": 0,
           "arrowwidth": 1
          },
          "autotypenumbers": "strict",
          "coloraxis": {
           "colorbar": {
            "outlinewidth": 0,
            "ticks": ""
           }
          },
          "colorscale": {
           "diverging": [
            [
             0,
             "#8e0152"
            ],
            [
             0.1,
             "#c51b7d"
            ],
            [
             0.2,
             "#de77ae"
            ],
            [
             0.3,
             "#f1b6da"
            ],
            [
             0.4,
             "#fde0ef"
            ],
            [
             0.5,
             "#f7f7f7"
            ],
            [
             0.6,
             "#e6f5d0"
            ],
            [
             0.7,
             "#b8e186"
            ],
            [
             0.8,
             "#7fbc41"
            ],
            [
             0.9,
             "#4d9221"
            ],
            [
             1,
             "#276419"
            ]
           ],
           "sequential": [
            [
             0,
             "#0d0887"
            ],
            [
             0.1111111111111111,
             "#46039f"
            ],
            [
             0.2222222222222222,
             "#7201a8"
            ],
            [
             0.3333333333333333,
             "#9c179e"
            ],
            [
             0.4444444444444444,
             "#bd3786"
            ],
            [
             0.5555555555555556,
             "#d8576b"
            ],
            [
             0.6666666666666666,
             "#ed7953"
            ],
            [
             0.7777777777777778,
             "#fb9f3a"
            ],
            [
             0.8888888888888888,
             "#fdca26"
            ],
            [
             1,
             "#f0f921"
            ]
           ],
           "sequentialminus": [
            [
             0,
             "#0d0887"
            ],
            [
             0.1111111111111111,
             "#46039f"
            ],
            [
             0.2222222222222222,
             "#7201a8"
            ],
            [
             0.3333333333333333,
             "#9c179e"
            ],
            [
             0.4444444444444444,
             "#bd3786"
            ],
            [
             0.5555555555555556,
             "#d8576b"
            ],
            [
             0.6666666666666666,
             "#ed7953"
            ],
            [
             0.7777777777777778,
             "#fb9f3a"
            ],
            [
             0.8888888888888888,
             "#fdca26"
            ],
            [
             1,
             "#f0f921"
            ]
           ]
          },
          "colorway": [
           "#636efa",
           "#EF553B",
           "#00cc96",
           "#ab63fa",
           "#FFA15A",
           "#19d3f3",
           "#FF6692",
           "#B6E880",
           "#FF97FF",
           "#FECB52"
          ],
          "font": {
           "color": "#2a3f5f"
          },
          "geo": {
           "bgcolor": "white",
           "lakecolor": "white",
           "landcolor": "#E5ECF6",
           "showlakes": true,
           "showland": true,
           "subunitcolor": "white"
          },
          "hoverlabel": {
           "align": "left"
          },
          "hovermode": "closest",
          "mapbox": {
           "style": "light"
          },
          "paper_bgcolor": "white",
          "plot_bgcolor": "#E5ECF6",
          "polar": {
           "angularaxis": {
            "gridcolor": "white",
            "linecolor": "white",
            "ticks": ""
           },
           "bgcolor": "#E5ECF6",
           "radialaxis": {
            "gridcolor": "white",
            "linecolor": "white",
            "ticks": ""
           }
          },
          "scene": {
           "xaxis": {
            "backgroundcolor": "#E5ECF6",
            "gridcolor": "white",
            "gridwidth": 2,
            "linecolor": "white",
            "showbackground": true,
            "ticks": "",
            "zerolinecolor": "white"
           },
           "yaxis": {
            "backgroundcolor": "#E5ECF6",
            "gridcolor": "white",
            "gridwidth": 2,
            "linecolor": "white",
            "showbackground": true,
            "ticks": "",
            "zerolinecolor": "white"
           },
           "zaxis": {
            "backgroundcolor": "#E5ECF6",
            "gridcolor": "white",
            "gridwidth": 2,
            "linecolor": "white",
            "showbackground": true,
            "ticks": "",
            "zerolinecolor": "white"
           }
          },
          "shapedefaults": {
           "line": {
            "color": "#2a3f5f"
           }
          },
          "ternary": {
           "aaxis": {
            "gridcolor": "white",
            "linecolor": "white",
            "ticks": ""
           },
           "baxis": {
            "gridcolor": "white",
            "linecolor": "white",
            "ticks": ""
           },
           "bgcolor": "#E5ECF6",
           "caxis": {
            "gridcolor": "white",
            "linecolor": "white",
            "ticks": ""
           }
          },
          "title": {
           "x": 0.05
          },
          "xaxis": {
           "automargin": true,
           "gridcolor": "white",
           "linecolor": "white",
           "ticks": "",
           "title": {
            "standoff": 15
           },
           "zerolinecolor": "white",
           "zerolinewidth": 2
          },
          "yaxis": {
           "automargin": true,
           "gridcolor": "white",
           "linecolor": "white",
           "ticks": "",
           "title": {
            "standoff": 15
           },
           "zerolinecolor": "white",
           "zerolinewidth": 2
          }
         }
        }
       }
      },
      "text/html": [
       "<div>                            <div id=\"7b9fe23d-5535-416b-b90a-6fb32c9ba12f\" class=\"plotly-graph-div\" style=\"height:525px; width:100%;\"></div>            <script type=\"text/javascript\">                require([\"plotly\"], function(Plotly) {                    window.PLOTLYENV=window.PLOTLYENV || {};                                    if (document.getElementById(\"7b9fe23d-5535-416b-b90a-6fb32c9ba12f\")) {                    Plotly.newPlot(                        \"7b9fe23d-5535-416b-b90a-6fb32c9ba12f\",                        [{\"textinfo\":\"value+percent initial\",\"x\":[7423,4597,3736,3540,843],\"y\":[\"MainScreenAppear\",\"OffersScreenAppear\",\"CartScreenAppear\",\"PaymentScreenSuccessful\",\"Tutorial\"],\"type\":\"funnel\"}],                        {\"template\":{\"data\":{\"histogram2dcontour\":[{\"type\":\"histogram2dcontour\",\"colorbar\":{\"outlinewidth\":0,\"ticks\":\"\"},\"colorscale\":[[0.0,\"#0d0887\"],[0.1111111111111111,\"#46039f\"],[0.2222222222222222,\"#7201a8\"],[0.3333333333333333,\"#9c179e\"],[0.4444444444444444,\"#bd3786\"],[0.5555555555555556,\"#d8576b\"],[0.6666666666666666,\"#ed7953\"],[0.7777777777777778,\"#fb9f3a\"],[0.8888888888888888,\"#fdca26\"],[1.0,\"#f0f921\"]]}],\"choropleth\":[{\"type\":\"choropleth\",\"colorbar\":{\"outlinewidth\":0,\"ticks\":\"\"}}],\"histogram2d\":[{\"type\":\"histogram2d\",\"colorbar\":{\"outlinewidth\":0,\"ticks\":\"\"},\"colorscale\":[[0.0,\"#0d0887\"],[0.1111111111111111,\"#46039f\"],[0.2222222222222222,\"#7201a8\"],[0.3333333333333333,\"#9c179e\"],[0.4444444444444444,\"#bd3786\"],[0.5555555555555556,\"#d8576b\"],[0.6666666666666666,\"#ed7953\"],[0.7777777777777778,\"#fb9f3a\"],[0.8888888888888888,\"#fdca26\"],[1.0,\"#f0f921\"]]}],\"heatmap\":[{\"type\":\"heatmap\",\"colorbar\":{\"outlinewidth\":0,\"ticks\":\"\"},\"colorscale\":[[0.0,\"#0d0887\"],[0.1111111111111111,\"#46039f\"],[0.2222222222222222,\"#7201a8\"],[0.3333333333333333,\"#9c179e\"],[0.4444444444444444,\"#bd3786\"],[0.5555555555555556,\"#d8576b\"],[0.6666666666666666,\"#ed7953\"],[0.7777777777777778,\"#fb9f3a\"],[0.8888888888888888,\"#fdca26\"],[1.0,\"#f0f921\"]]}],\"heatmapgl\":[{\"type\":\"heatmapgl\",\"colorbar\":{\"outlinewidth\":0,\"ticks\":\"\"},\"colorscale\":[[0.0,\"#0d0887\"],[0.1111111111111111,\"#46039f\"],[0.2222222222222222,\"#7201a8\"],[0.3333333333333333,\"#9c179e\"],[0.4444444444444444,\"#bd3786\"],[0.5555555555555556,\"#d8576b\"],[0.6666666666666666,\"#ed7953\"],[0.7777777777777778,\"#fb9f3a\"],[0.8888888888888888,\"#fdca26\"],[1.0,\"#f0f921\"]]}],\"contourcarpet\":[{\"type\":\"contourcarpet\",\"colorbar\":{\"outlinewidth\":0,\"ticks\":\"\"}}],\"contour\":[{\"type\":\"contour\",\"colorbar\":{\"outlinewidth\":0,\"ticks\":\"\"},\"colorscale\":[[0.0,\"#0d0887\"],[0.1111111111111111,\"#46039f\"],[0.2222222222222222,\"#7201a8\"],[0.3333333333333333,\"#9c179e\"],[0.4444444444444444,\"#bd3786\"],[0.5555555555555556,\"#d8576b\"],[0.6666666666666666,\"#ed7953\"],[0.7777777777777778,\"#fb9f3a\"],[0.8888888888888888,\"#fdca26\"],[1.0,\"#f0f921\"]]}],\"surface\":[{\"type\":\"surface\",\"colorbar\":{\"outlinewidth\":0,\"ticks\":\"\"},\"colorscale\":[[0.0,\"#0d0887\"],[0.1111111111111111,\"#46039f\"],[0.2222222222222222,\"#7201a8\"],[0.3333333333333333,\"#9c179e\"],[0.4444444444444444,\"#bd3786\"],[0.5555555555555556,\"#d8576b\"],[0.6666666666666666,\"#ed7953\"],[0.7777777777777778,\"#fb9f3a\"],[0.8888888888888888,\"#fdca26\"],[1.0,\"#f0f921\"]]}],\"mesh3d\":[{\"type\":\"mesh3d\",\"colorbar\":{\"outlinewidth\":0,\"ticks\":\"\"}}],\"scatter\":[{\"fillpattern\":{\"fillmode\":\"overlay\",\"size\":10,\"solidity\":0.2},\"type\":\"scatter\"}],\"parcoords\":[{\"type\":\"parcoords\",\"line\":{\"colorbar\":{\"outlinewidth\":0,\"ticks\":\"\"}}}],\"scatterpolargl\":[{\"type\":\"scatterpolargl\",\"marker\":{\"colorbar\":{\"outlinewidth\":0,\"ticks\":\"\"}}}],\"bar\":[{\"error_x\":{\"color\":\"#2a3f5f\"},\"error_y\":{\"color\":\"#2a3f5f\"},\"marker\":{\"line\":{\"color\":\"#E5ECF6\",\"width\":0.5},\"pattern\":{\"fillmode\":\"overlay\",\"size\":10,\"solidity\":0.2}},\"type\":\"bar\"}],\"scattergeo\":[{\"type\":\"scattergeo\",\"marker\":{\"colorbar\":{\"outlinewidth\":0,\"ticks\":\"\"}}}],\"scatterpolar\":[{\"type\":\"scatterpolar\",\"marker\":{\"colorbar\":{\"outlinewidth\":0,\"ticks\":\"\"}}}],\"histogram\":[{\"marker\":{\"pattern\":{\"fillmode\":\"overlay\",\"size\":10,\"solidity\":0.2}},\"type\":\"histogram\"}],\"scattergl\":[{\"type\":\"scattergl\",\"marker\":{\"colorbar\":{\"outlinewidth\":0,\"ticks\":\"\"}}}],\"scatter3d\":[{\"type\":\"scatter3d\",\"line\":{\"colorbar\":{\"outlinewidth\":0,\"ticks\":\"\"}},\"marker\":{\"colorbar\":{\"outlinewidth\":0,\"ticks\":\"\"}}}],\"scattermapbox\":[{\"type\":\"scattermapbox\",\"marker\":{\"colorbar\":{\"outlinewidth\":0,\"ticks\":\"\"}}}],\"scatterternary\":[{\"type\":\"scatterternary\",\"marker\":{\"colorbar\":{\"outlinewidth\":0,\"ticks\":\"\"}}}],\"scattercarpet\":[{\"type\":\"scattercarpet\",\"marker\":{\"colorbar\":{\"outlinewidth\":0,\"ticks\":\"\"}}}],\"carpet\":[{\"aaxis\":{\"endlinecolor\":\"#2a3f5f\",\"gridcolor\":\"white\",\"linecolor\":\"white\",\"minorgridcolor\":\"white\",\"startlinecolor\":\"#2a3f5f\"},\"baxis\":{\"endlinecolor\":\"#2a3f5f\",\"gridcolor\":\"white\",\"linecolor\":\"white\",\"minorgridcolor\":\"white\",\"startlinecolor\":\"#2a3f5f\"},\"type\":\"carpet\"}],\"table\":[{\"cells\":{\"fill\":{\"color\":\"#EBF0F8\"},\"line\":{\"color\":\"white\"}},\"header\":{\"fill\":{\"color\":\"#C8D4E3\"},\"line\":{\"color\":\"white\"}},\"type\":\"table\"}],\"barpolar\":[{\"marker\":{\"line\":{\"color\":\"#E5ECF6\",\"width\":0.5},\"pattern\":{\"fillmode\":\"overlay\",\"size\":10,\"solidity\":0.2}},\"type\":\"barpolar\"}],\"pie\":[{\"automargin\":true,\"type\":\"pie\"}]},\"layout\":{\"autotypenumbers\":\"strict\",\"colorway\":[\"#636efa\",\"#EF553B\",\"#00cc96\",\"#ab63fa\",\"#FFA15A\",\"#19d3f3\",\"#FF6692\",\"#B6E880\",\"#FF97FF\",\"#FECB52\"],\"font\":{\"color\":\"#2a3f5f\"},\"hovermode\":\"closest\",\"hoverlabel\":{\"align\":\"left\"},\"paper_bgcolor\":\"white\",\"plot_bgcolor\":\"#E5ECF6\",\"polar\":{\"bgcolor\":\"#E5ECF6\",\"angularaxis\":{\"gridcolor\":\"white\",\"linecolor\":\"white\",\"ticks\":\"\"},\"radialaxis\":{\"gridcolor\":\"white\",\"linecolor\":\"white\",\"ticks\":\"\"}},\"ternary\":{\"bgcolor\":\"#E5ECF6\",\"aaxis\":{\"gridcolor\":\"white\",\"linecolor\":\"white\",\"ticks\":\"\"},\"baxis\":{\"gridcolor\":\"white\",\"linecolor\":\"white\",\"ticks\":\"\"},\"caxis\":{\"gridcolor\":\"white\",\"linecolor\":\"white\",\"ticks\":\"\"}},\"coloraxis\":{\"colorbar\":{\"outlinewidth\":0,\"ticks\":\"\"}},\"colorscale\":{\"sequential\":[[0.0,\"#0d0887\"],[0.1111111111111111,\"#46039f\"],[0.2222222222222222,\"#7201a8\"],[0.3333333333333333,\"#9c179e\"],[0.4444444444444444,\"#bd3786\"],[0.5555555555555556,\"#d8576b\"],[0.6666666666666666,\"#ed7953\"],[0.7777777777777778,\"#fb9f3a\"],[0.8888888888888888,\"#fdca26\"],[1.0,\"#f0f921\"]],\"sequentialminus\":[[0.0,\"#0d0887\"],[0.1111111111111111,\"#46039f\"],[0.2222222222222222,\"#7201a8\"],[0.3333333333333333,\"#9c179e\"],[0.4444444444444444,\"#bd3786\"],[0.5555555555555556,\"#d8576b\"],[0.6666666666666666,\"#ed7953\"],[0.7777777777777778,\"#fb9f3a\"],[0.8888888888888888,\"#fdca26\"],[1.0,\"#f0f921\"]],\"diverging\":[[0,\"#8e0152\"],[0.1,\"#c51b7d\"],[0.2,\"#de77ae\"],[0.3,\"#f1b6da\"],[0.4,\"#fde0ef\"],[0.5,\"#f7f7f7\"],[0.6,\"#e6f5d0\"],[0.7,\"#b8e186\"],[0.8,\"#7fbc41\"],[0.9,\"#4d9221\"],[1,\"#276419\"]]},\"xaxis\":{\"gridcolor\":\"white\",\"linecolor\":\"white\",\"ticks\":\"\",\"title\":{\"standoff\":15},\"zerolinecolor\":\"white\",\"automargin\":true,\"zerolinewidth\":2},\"yaxis\":{\"gridcolor\":\"white\",\"linecolor\":\"white\",\"ticks\":\"\",\"title\":{\"standoff\":15},\"zerolinecolor\":\"white\",\"automargin\":true,\"zerolinewidth\":2},\"scene\":{\"xaxis\":{\"backgroundcolor\":\"#E5ECF6\",\"gridcolor\":\"white\",\"linecolor\":\"white\",\"showbackground\":true,\"ticks\":\"\",\"zerolinecolor\":\"white\",\"gridwidth\":2},\"yaxis\":{\"backgroundcolor\":\"#E5ECF6\",\"gridcolor\":\"white\",\"linecolor\":\"white\",\"showbackground\":true,\"ticks\":\"\",\"zerolinecolor\":\"white\",\"gridwidth\":2},\"zaxis\":{\"backgroundcolor\":\"#E5ECF6\",\"gridcolor\":\"white\",\"linecolor\":\"white\",\"showbackground\":true,\"ticks\":\"\",\"zerolinecolor\":\"white\",\"gridwidth\":2}},\"shapedefaults\":{\"line\":{\"color\":\"#2a3f5f\"}},\"annotationdefaults\":{\"arrowcolor\":\"#2a3f5f\",\"arrowhead\":0,\"arrowwidth\":1},\"geo\":{\"bgcolor\":\"white\",\"landcolor\":\"#E5ECF6\",\"subunitcolor\":\"white\",\"showland\":true,\"showlakes\":true,\"lakecolor\":\"white\"},\"title\":{\"x\":0.05},\"mapbox\":{\"style\":\"light\"}}}},                        {\"responsive\": true}                    ).then(function(){\n",
       "                            \n",
       "var gd = document.getElementById('7b9fe23d-5535-416b-b90a-6fb32c9ba12f');\n",
       "var x = new MutationObserver(function (mutations, observer) {{\n",
       "        var display = window.getComputedStyle(gd).display;\n",
       "        if (!display || display === 'none') {{\n",
       "            console.log([gd, 'removed!']);\n",
       "            Plotly.purge(gd);\n",
       "            observer.disconnect();\n",
       "        }}\n",
       "}});\n",
       "\n",
       "// Listen for the removal of the full notebook cells\n",
       "var notebookContainer = gd.closest('#notebook-container');\n",
       "if (notebookContainer) {{\n",
       "    x.observe(notebookContainer, {childList: true});\n",
       "}}\n",
       "\n",
       "// Listen for the clearing of the current output cell\n",
       "var outputEl = gd.closest('.output');\n",
       "if (outputEl) {{\n",
       "    x.observe(outputEl, {childList: true});\n",
       "}}\n",
       "\n",
       "                        })                };                });            </script>        </div>"
      ]
     },
     "metadata": {},
     "output_type": "display_data"
    }
   ],
   "source": [
    "fig = go.Figure(go.Funnel(\n",
    "    y = users_count['event_name'],\n",
    "    x = users_count['user_id'],\n",
    "    textinfo = \"value+percent initial\"))\n",
    "\n",
    "fig.show()"
   ]
  },
  {
   "cell_type": "markdown",
   "metadata": {},
   "source": [
    "Посчитаем долю пользователей, которые хоть раз совершали событие:"
   ]
  },
  {
   "cell_type": "code",
   "execution_count": 25,
   "metadata": {},
   "outputs": [
    {
     "data": {
      "text/plain": [
       "7538"
      ]
     },
     "execution_count": 25,
     "metadata": {},
     "output_type": "execute_result"
    }
   ],
   "source": [
    "users_count_1 = new_logs['user_id'].nunique()\n",
    "users_count_1"
   ]
  },
  {
   "cell_type": "code",
   "execution_count": 26,
   "metadata": {},
   "outputs": [
    {
     "data": {
      "text/html": [
       "<div>\n",
       "<style scoped>\n",
       "    .dataframe tbody tr th:only-of-type {\n",
       "        vertical-align: middle;\n",
       "    }\n",
       "\n",
       "    .dataframe tbody tr th {\n",
       "        vertical-align: top;\n",
       "    }\n",
       "\n",
       "    .dataframe thead th {\n",
       "        text-align: right;\n",
       "    }\n",
       "</style>\n",
       "<table border=\"1\" class=\"dataframe\">\n",
       "  <thead>\n",
       "    <tr style=\"text-align: right;\">\n",
       "      <th></th>\n",
       "      <th>event_name</th>\n",
       "      <th>percent</th>\n",
       "    </tr>\n",
       "  </thead>\n",
       "  <tbody>\n",
       "    <tr>\n",
       "      <th>0</th>\n",
       "      <td>MainScreenAppear</td>\n",
       "      <td>98.47</td>\n",
       "    </tr>\n",
       "    <tr>\n",
       "      <th>1</th>\n",
       "      <td>OffersScreenAppear</td>\n",
       "      <td>60.98</td>\n",
       "    </tr>\n",
       "    <tr>\n",
       "      <th>2</th>\n",
       "      <td>CartScreenAppear</td>\n",
       "      <td>49.56</td>\n",
       "    </tr>\n",
       "    <tr>\n",
       "      <th>3</th>\n",
       "      <td>PaymentScreenSuccessful</td>\n",
       "      <td>46.96</td>\n",
       "    </tr>\n",
       "    <tr>\n",
       "      <th>4</th>\n",
       "      <td>Tutorial</td>\n",
       "      <td>11.18</td>\n",
       "    </tr>\n",
       "  </tbody>\n",
       "</table>\n",
       "</div>"
      ],
      "text/plain": [
       "                event_name  percent\n",
       "0         MainScreenAppear    98.47\n",
       "1       OffersScreenAppear    60.98\n",
       "2         CartScreenAppear    49.56\n",
       "3  PaymentScreenSuccessful    46.96\n",
       "4                 Tutorial    11.18"
      ]
     },
     "metadata": {},
     "output_type": "display_data"
    }
   ],
   "source": [
    "users_count_1 = new_logs['user_id'].nunique()\n",
    "users = users_count['event_name'].reset_index()\n",
    "users['percent'] = round((users_count['user_id']/users_count_1) * 100,2)\n",
    "display(users[['event_name','percent']])"
   ]
  },
  {
   "cell_type": "markdown",
   "metadata": {},
   "source": [
    "Можно предположить, что события происходят в таком порядке:\n",
    "1. MainScreenAppear (посмотреть главную страницу)\n",
    "2. OffersScreenAppear (перейти на страницу предложений)\n",
    "3. CartScreenAppear (перейти на страницу \"корзина\")\n",
    "4. PaymentScreenSuccessful (перейти на страницу \"оплата\")\n",
    "5. Tutorial (перейти на страницу \"руководство\") - не будем учитывать данное событие, так как оно редко используется пользователями."
   ]
  },
  {
   "cell_type": "markdown",
   "metadata": {},
   "source": [
    "По воронке событий посчитаем, какая доля пользователей проходит на следующий шаг воронки (от числа пользователей на предыдущем). То есть для последовательности событий A → B → C посчитаем отношение числа пользователей с событием B к количеству пользователей с событием A, а также отношение числа пользователей с событием C к количеству пользователей с событием B."
   ]
  },
  {
   "cell_type": "code",
   "execution_count": 27,
   "metadata": {},
   "outputs": [
    {
     "data": {
      "text/html": [
       "<div>\n",
       "<style scoped>\n",
       "    .dataframe tbody tr th:only-of-type {\n",
       "        vertical-align: middle;\n",
       "    }\n",
       "\n",
       "    .dataframe tbody tr th {\n",
       "        vertical-align: top;\n",
       "    }\n",
       "\n",
       "    .dataframe thead th {\n",
       "        text-align: right;\n",
       "    }\n",
       "</style>\n",
       "<table border=\"1\" class=\"dataframe\">\n",
       "  <thead>\n",
       "    <tr style=\"text-align: right;\">\n",
       "      <th></th>\n",
       "      <th>event_name</th>\n",
       "      <th>user_id</th>\n",
       "      <th>percent</th>\n",
       "    </tr>\n",
       "  </thead>\n",
       "  <tbody>\n",
       "    <tr>\n",
       "      <th>1</th>\n",
       "      <td>OffersScreenAppear</td>\n",
       "      <td>4597</td>\n",
       "      <td>61.93</td>\n",
       "    </tr>\n",
       "    <tr>\n",
       "      <th>2</th>\n",
       "      <td>CartScreenAppear</td>\n",
       "      <td>3736</td>\n",
       "      <td>81.27</td>\n",
       "    </tr>\n",
       "    <tr>\n",
       "      <th>3</th>\n",
       "      <td>PaymentScreenSuccessful</td>\n",
       "      <td>3540</td>\n",
       "      <td>94.75</td>\n",
       "    </tr>\n",
       "  </tbody>\n",
       "</table>\n",
       "</div>"
      ],
      "text/plain": [
       "                event_name  user_id  percent\n",
       "1       OffersScreenAppear     4597    61.93\n",
       "2         CartScreenAppear     3736    81.27\n",
       "3  PaymentScreenSuccessful     3540    94.75"
      ]
     },
     "execution_count": 27,
     "metadata": {},
     "output_type": "execute_result"
    }
   ],
   "source": [
    "users_count = users_count [:-1]\n",
    "users_count ['percent'] = round(users_count['user_id']/users_count['user_id'].shift()*100, 2)\n",
    "users_count [1:]"
   ]
  },
  {
   "cell_type": "markdown",
   "metadata": {},
   "source": [
    "Доля пользователей, перешедших с главной страницы на страницу предложения: 61.93 % Доля пользователей, перешедших со страницы предложения на страницу \"корзина\": 81.27 % Доля пользователей, перешедших со страницы \"корзина\" на страницу \"оплата\": 94.75 %"
   ]
  },
  {
   "cell_type": "markdown",
   "metadata": {},
   "source": [
    "Определим, на каком шаге мы теряем больше всего пользователей:"
   ]
  },
  {
   "cell_type": "code",
   "execution_count": 28,
   "metadata": {},
   "outputs": [
    {
     "data": {
      "text/html": [
       "<div>\n",
       "<style scoped>\n",
       "    .dataframe tbody tr th:only-of-type {\n",
       "        vertical-align: middle;\n",
       "    }\n",
       "\n",
       "    .dataframe tbody tr th {\n",
       "        vertical-align: top;\n",
       "    }\n",
       "\n",
       "    .dataframe thead th {\n",
       "        text-align: right;\n",
       "    }\n",
       "</style>\n",
       "<table border=\"1\" class=\"dataframe\">\n",
       "  <thead>\n",
       "    <tr style=\"text-align: right;\">\n",
       "      <th></th>\n",
       "      <th>user_id</th>\n",
       "      <th>lost</th>\n",
       "    </tr>\n",
       "    <tr>\n",
       "      <th>event_name</th>\n",
       "      <th></th>\n",
       "      <th></th>\n",
       "    </tr>\n",
       "  </thead>\n",
       "  <tbody>\n",
       "    <tr>\n",
       "      <th>OffersScreenAppear</th>\n",
       "      <td>4597</td>\n",
       "      <td>-2826.0</td>\n",
       "    </tr>\n",
       "    <tr>\n",
       "      <th>CartScreenAppear</th>\n",
       "      <td>3736</td>\n",
       "      <td>-861.0</td>\n",
       "    </tr>\n",
       "    <tr>\n",
       "      <th>PaymentScreenSuccessful</th>\n",
       "      <td>3540</td>\n",
       "      <td>-196.0</td>\n",
       "    </tr>\n",
       "  </tbody>\n",
       "</table>\n",
       "</div>"
      ],
      "text/plain": [
       "                         user_id    lost\n",
       "event_name                              \n",
       "OffersScreenAppear          4597 -2826.0\n",
       "CartScreenAppear            3736  -861.0\n",
       "PaymentScreenSuccessful     3540  -196.0"
      ]
     },
     "execution_count": 28,
     "metadata": {},
     "output_type": "execute_result"
    }
   ],
   "source": [
    "users_count = new_logs.groupby('event_name').agg({'user_id': 'nunique'}).sort_values(by = 'user_id', ascending = False)\n",
    "users_count = users_count [:-1]\n",
    "users_count ['lost'] = round(users_count['user_id']-users_count['user_id'].shift())\n",
    "users_count [1:]"
   ]
  },
  {
   "cell_type": "markdown",
   "metadata": {},
   "source": [
    "После перехода на страницу предложения потеряно 2826 пользователей;\n",
    "\n",
    "После перехода в корзину потеряно 861 пользователь;\n",
    "\n",
    "После перехода на оплату потеряно 196 пользователей.\n",
    "\n",
    "Оказывается, больше всего пользователей теряется после перехода на страницу предложений, то есть многие пользователи просматривают только главную страницу."
   ]
  },
  {
   "cell_type": "markdown",
   "metadata": {},
   "source": [
    "Определим, какая доля пользователей доходит от первого события до оплаты:"
   ]
  },
  {
   "cell_type": "code",
   "execution_count": 29,
   "metadata": {},
   "outputs": [
    {
     "name": "stdout",
     "output_type": "stream",
     "text": [
      "Доля пользователей, которая дошла от первого события до оплаты: 47.69 %\n"
     ]
    }
   ],
   "source": [
    "percent_4 = users_count['user_id'].iloc[3]/users_count['user_id'].iloc[0]*100\n",
    "\n",
    "print('Доля пользователей, которая дошла от первого события до оплаты:', round(percent_4,2),'%')"
   ]
  },
  {
   "cell_type": "markdown",
   "metadata": {},
   "source": [
    "На этапе изучения воронки событий, мы определили, как часто встречается каждое событие и сколько пользователей совершало каждое из этих событий; так же определили долю пользователей, которые хоть раз совершали каждое из событий.\n",
    "Предположили, что события происходят в таком порядке:\n",
    "1. MainScreenAppear (посмотреть главную страницу)\n",
    "2. OffersScreenAppear (перейти на страницу предложений)\n",
    "3. CartScreenAppear (перейти на страницу \"корзина\")\n",
    "4. PaymentScreenSuccessful (перейти на страницу \"оплата\")\n",
    "5. Tutorial (перейти на страницу \"руководство\") \n",
    "\n",
    "Далее, мы по воронке событий посчитали, какая доля пользователей проходит на следующий шаг воронки; определили, на каком шаге мы теряем больше всего пользователей (после перехода на страницу предложений). Так же оказалось, что доля пользователей, которая дошла от первого события до оплаты составляет 47.69 %."
   ]
  },
  {
   "cell_type": "markdown",
   "metadata": {},
   "source": [
    "### Изучение результатов эксперимента"
   ]
  },
  {
   "cell_type": "markdown",
   "metadata": {},
   "source": [
    "Определим, cколько пользователей в каждой экспериментальной группе:"
   ]
  },
  {
   "cell_type": "code",
   "execution_count": 30,
   "metadata": {},
   "outputs": [
    {
     "data": {
      "text/html": [
       "<div>\n",
       "<style scoped>\n",
       "    .dataframe tbody tr th:only-of-type {\n",
       "        vertical-align: middle;\n",
       "    }\n",
       "\n",
       "    .dataframe tbody tr th {\n",
       "        vertical-align: top;\n",
       "    }\n",
       "\n",
       "    .dataframe thead th {\n",
       "        text-align: right;\n",
       "    }\n",
       "</style>\n",
       "<table border=\"1\" class=\"dataframe\">\n",
       "  <thead>\n",
       "    <tr style=\"text-align: right;\">\n",
       "      <th></th>\n",
       "      <th>user_id</th>\n",
       "    </tr>\n",
       "    <tr>\n",
       "      <th>group</th>\n",
       "      <th></th>\n",
       "    </tr>\n",
       "  </thead>\n",
       "  <tbody>\n",
       "    <tr>\n",
       "      <th>246</th>\n",
       "      <td>2484</td>\n",
       "    </tr>\n",
       "    <tr>\n",
       "      <th>247</th>\n",
       "      <td>2517</td>\n",
       "    </tr>\n",
       "    <tr>\n",
       "      <th>248</th>\n",
       "      <td>2537</td>\n",
       "    </tr>\n",
       "  </tbody>\n",
       "</table>\n",
       "</div>"
      ],
      "text/plain": [
       "       user_id\n",
       "group         \n",
       "246       2484\n",
       "247       2517\n",
       "248       2537"
      ]
     },
     "execution_count": 30,
     "metadata": {},
     "output_type": "execute_result"
    }
   ],
   "source": [
    "new_logs.groupby('group').agg({'user_id':'nunique'})"
   ]
  },
  {
   "cell_type": "markdown",
   "metadata": {},
   "source": [
    "По всем событиям посчитаем число пользователей, совершивших это событие в каждой из контрольных групп. Посчитаем долю пользователей, совершивших это событие. Проверим, будет ли отличие между группами статистически достоверным. \n",
    "\n",
    "Сформулируем гипотезы: Нулевая гипотеза:  Доли уникальных пользователей, побывавших на этапе воронки, одинаковы. Альтернативная гипотеза: Между долями уникальных пользователей, побывавших на этапе воронки, есть значимая разница."
   ]
  },
  {
   "cell_type": "code",
   "execution_count": 31,
   "metadata": {},
   "outputs": [],
   "source": [
    "alpha = .05 # критический уровень статистической значимости\n",
    "\n",
    "def test (successes, trials): # функция проверки z-критерия на равенство долей \n",
    "    # пропорция успехов в первой группе\n",
    "    p1 = successes[0]/trials[0]\n",
    "    # пропорция успехов во второй группе\n",
    "    p2 = successes[1]/trials[1]\n",
    "    # пропорция успехов в комбинированном датасете\n",
    "    p_combined = (successes[0] + successes[1]) / (trials[0] + trials[1])\n",
    "    # разница пропорций в датасетах\n",
    "    difference = p1 - p2\n",
    "    # считаем статистику в ст.отклонениях стандартного нормального распределения\n",
    "    z_value = (difference / mth.sqrt(p_combined*(1 - p_combined) * (1/trials[0] + 1/trials[1])))\n",
    "    # задаем стандартное нормальное распределение (среднее 0, ст.отклонение 1)\n",
    "    distr = st.norm(0, 1)\n",
    "    \n",
    "    p_value = (1 - distr.cdf(abs(z_value))) * 2\n",
    "    \n",
    "    print('р-значение:', p_value)\n",
    "    if (p_value < alpha):\n",
    "        print(\"Отвергаем нулевую гипотезу: между группами есть значимая разница\")\n",
    "    else:\n",
    "        print(\"Не получилось отвергнуть нулевую гипотезу, нет оснований считать группы разными\")"
   ]
  },
  {
   "cell_type": "code",
   "execution_count": 32,
   "metadata": {},
   "outputs": [
    {
     "name": "stdout",
     "output_type": "stream",
     "text": [
      "MainScreenAppear :\n"
     ]
    },
    {
     "data": {
      "text/html": [
       "<div>\n",
       "<style scoped>\n",
       "    .dataframe tbody tr th:only-of-type {\n",
       "        vertical-align: middle;\n",
       "    }\n",
       "\n",
       "    .dataframe tbody tr th {\n",
       "        vertical-align: top;\n",
       "    }\n",
       "\n",
       "    .dataframe thead th {\n",
       "        text-align: right;\n",
       "    }\n",
       "</style>\n",
       "<table border=\"1\" class=\"dataframe\">\n",
       "  <thead>\n",
       "    <tr style=\"text-align: right;\">\n",
       "      <th></th>\n",
       "      <th>users_count</th>\n",
       "      <th>users_total</th>\n",
       "      <th>percent</th>\n",
       "    </tr>\n",
       "    <tr>\n",
       "      <th>group</th>\n",
       "      <th></th>\n",
       "      <th></th>\n",
       "      <th></th>\n",
       "    </tr>\n",
       "  </thead>\n",
       "  <tbody>\n",
       "    <tr>\n",
       "      <th>246</th>\n",
       "      <td>2450.0</td>\n",
       "      <td>2484.0</td>\n",
       "      <td>98.63</td>\n",
       "    </tr>\n",
       "    <tr>\n",
       "      <th>247</th>\n",
       "      <td>2479.0</td>\n",
       "      <td>2517.0</td>\n",
       "      <td>98.49</td>\n",
       "    </tr>\n",
       "    <tr>\n",
       "      <th>248</th>\n",
       "      <td>2494.0</td>\n",
       "      <td>2537.0</td>\n",
       "      <td>98.31</td>\n",
       "    </tr>\n",
       "    <tr>\n",
       "      <th>246+247</th>\n",
       "      <td>4929.0</td>\n",
       "      <td>5001.0</td>\n",
       "      <td>197.12</td>\n",
       "    </tr>\n",
       "  </tbody>\n",
       "</table>\n",
       "</div>"
      ],
      "text/plain": [
       "         users_count  users_total  percent\n",
       "group                                     \n",
       "246           2450.0       2484.0    98.63\n",
       "247           2479.0       2517.0    98.49\n",
       "248           2494.0       2537.0    98.31\n",
       "246+247       4929.0       5001.0   197.12"
      ]
     },
     "metadata": {},
     "output_type": "display_data"
    },
    {
     "name": "stdout",
     "output_type": "stream",
     "text": [
      "OffersScreenAppear :\n"
     ]
    },
    {
     "data": {
      "text/html": [
       "<div>\n",
       "<style scoped>\n",
       "    .dataframe tbody tr th:only-of-type {\n",
       "        vertical-align: middle;\n",
       "    }\n",
       "\n",
       "    .dataframe tbody tr th {\n",
       "        vertical-align: top;\n",
       "    }\n",
       "\n",
       "    .dataframe thead th {\n",
       "        text-align: right;\n",
       "    }\n",
       "</style>\n",
       "<table border=\"1\" class=\"dataframe\">\n",
       "  <thead>\n",
       "    <tr style=\"text-align: right;\">\n",
       "      <th></th>\n",
       "      <th>users_count</th>\n",
       "      <th>users_total</th>\n",
       "      <th>percent</th>\n",
       "    </tr>\n",
       "    <tr>\n",
       "      <th>group</th>\n",
       "      <th></th>\n",
       "      <th></th>\n",
       "      <th></th>\n",
       "    </tr>\n",
       "  </thead>\n",
       "  <tbody>\n",
       "    <tr>\n",
       "      <th>246</th>\n",
       "      <td>1542.0</td>\n",
       "      <td>2484.0</td>\n",
       "      <td>62.08</td>\n",
       "    </tr>\n",
       "    <tr>\n",
       "      <th>247</th>\n",
       "      <td>1524.0</td>\n",
       "      <td>2517.0</td>\n",
       "      <td>60.55</td>\n",
       "    </tr>\n",
       "    <tr>\n",
       "      <th>248</th>\n",
       "      <td>1531.0</td>\n",
       "      <td>2537.0</td>\n",
       "      <td>60.35</td>\n",
       "    </tr>\n",
       "    <tr>\n",
       "      <th>246+247</th>\n",
       "      <td>3066.0</td>\n",
       "      <td>5001.0</td>\n",
       "      <td>122.63</td>\n",
       "    </tr>\n",
       "  </tbody>\n",
       "</table>\n",
       "</div>"
      ],
      "text/plain": [
       "         users_count  users_total  percent\n",
       "group                                     \n",
       "246           1542.0       2484.0    62.08\n",
       "247           1524.0       2517.0    60.55\n",
       "248           1531.0       2537.0    60.35\n",
       "246+247       3066.0       5001.0   122.63"
      ]
     },
     "metadata": {},
     "output_type": "display_data"
    },
    {
     "name": "stdout",
     "output_type": "stream",
     "text": [
      "CartScreenAppear :\n"
     ]
    },
    {
     "data": {
      "text/html": [
       "<div>\n",
       "<style scoped>\n",
       "    .dataframe tbody tr th:only-of-type {\n",
       "        vertical-align: middle;\n",
       "    }\n",
       "\n",
       "    .dataframe tbody tr th {\n",
       "        vertical-align: top;\n",
       "    }\n",
       "\n",
       "    .dataframe thead th {\n",
       "        text-align: right;\n",
       "    }\n",
       "</style>\n",
       "<table border=\"1\" class=\"dataframe\">\n",
       "  <thead>\n",
       "    <tr style=\"text-align: right;\">\n",
       "      <th></th>\n",
       "      <th>users_count</th>\n",
       "      <th>users_total</th>\n",
       "      <th>percent</th>\n",
       "    </tr>\n",
       "    <tr>\n",
       "      <th>group</th>\n",
       "      <th></th>\n",
       "      <th></th>\n",
       "      <th></th>\n",
       "    </tr>\n",
       "  </thead>\n",
       "  <tbody>\n",
       "    <tr>\n",
       "      <th>246</th>\n",
       "      <td>1266.0</td>\n",
       "      <td>2484.0</td>\n",
       "      <td>50.97</td>\n",
       "    </tr>\n",
       "    <tr>\n",
       "      <th>247</th>\n",
       "      <td>1239.0</td>\n",
       "      <td>2517.0</td>\n",
       "      <td>49.23</td>\n",
       "    </tr>\n",
       "    <tr>\n",
       "      <th>248</th>\n",
       "      <td>1231.0</td>\n",
       "      <td>2537.0</td>\n",
       "      <td>48.52</td>\n",
       "    </tr>\n",
       "    <tr>\n",
       "      <th>246+247</th>\n",
       "      <td>2505.0</td>\n",
       "      <td>5001.0</td>\n",
       "      <td>100.20</td>\n",
       "    </tr>\n",
       "  </tbody>\n",
       "</table>\n",
       "</div>"
      ],
      "text/plain": [
       "         users_count  users_total  percent\n",
       "group                                     \n",
       "246           1266.0       2484.0    50.97\n",
       "247           1239.0       2517.0    49.23\n",
       "248           1231.0       2537.0    48.52\n",
       "246+247       2505.0       5001.0   100.20"
      ]
     },
     "metadata": {},
     "output_type": "display_data"
    },
    {
     "name": "stdout",
     "output_type": "stream",
     "text": [
      "PaymentScreenSuccessful :\n"
     ]
    },
    {
     "data": {
      "text/html": [
       "<div>\n",
       "<style scoped>\n",
       "    .dataframe tbody tr th:only-of-type {\n",
       "        vertical-align: middle;\n",
       "    }\n",
       "\n",
       "    .dataframe tbody tr th {\n",
       "        vertical-align: top;\n",
       "    }\n",
       "\n",
       "    .dataframe thead th {\n",
       "        text-align: right;\n",
       "    }\n",
       "</style>\n",
       "<table border=\"1\" class=\"dataframe\">\n",
       "  <thead>\n",
       "    <tr style=\"text-align: right;\">\n",
       "      <th></th>\n",
       "      <th>users_count</th>\n",
       "      <th>users_total</th>\n",
       "      <th>percent</th>\n",
       "    </tr>\n",
       "    <tr>\n",
       "      <th>group</th>\n",
       "      <th></th>\n",
       "      <th></th>\n",
       "      <th></th>\n",
       "    </tr>\n",
       "  </thead>\n",
       "  <tbody>\n",
       "    <tr>\n",
       "      <th>246</th>\n",
       "      <td>1200.0</td>\n",
       "      <td>2484.0</td>\n",
       "      <td>48.31</td>\n",
       "    </tr>\n",
       "    <tr>\n",
       "      <th>247</th>\n",
       "      <td>1158.0</td>\n",
       "      <td>2517.0</td>\n",
       "      <td>46.01</td>\n",
       "    </tr>\n",
       "    <tr>\n",
       "      <th>248</th>\n",
       "      <td>1182.0</td>\n",
       "      <td>2537.0</td>\n",
       "      <td>46.59</td>\n",
       "    </tr>\n",
       "    <tr>\n",
       "      <th>246+247</th>\n",
       "      <td>2358.0</td>\n",
       "      <td>5001.0</td>\n",
       "      <td>94.32</td>\n",
       "    </tr>\n",
       "  </tbody>\n",
       "</table>\n",
       "</div>"
      ],
      "text/plain": [
       "         users_count  users_total  percent\n",
       "group                                     \n",
       "246           1200.0       2484.0    48.31\n",
       "247           1158.0       2517.0    46.01\n",
       "248           1182.0       2537.0    46.59\n",
       "246+247       2358.0       5001.0    94.32"
      ]
     },
     "metadata": {},
     "output_type": "display_data"
    }
   ],
   "source": [
    "def event(event_name):\n",
    "    print(event_name,':')\n",
    "    event_groups = new_logs.loc[(new_logs['event_name'] == event_name)].groupby('group').agg({'user_id':'nunique'})\n",
    "    event_groups.columns = ['users_count']\n",
    "    event_groups['users_total'] = new_logs.groupby('group').agg({'user_id':'nunique'})\n",
    "    event_groups['percent'] = round(event_groups['users_count']/ event_groups['users_total'] * 100, 2) \n",
    "    event_groups.loc['246+247']=event_groups.loc[246]+event_groups.loc[247]\n",
    "    display(event_groups)\n",
    "\n",
    "event('MainScreenAppear')\n",
    "event('OffersScreenAppear')\n",
    "event('CartScreenAppear')\n",
    "event('PaymentScreenSuccessful')    "
   ]
  },
  {
   "cell_type": "code",
   "execution_count": 33,
   "metadata": {},
   "outputs": [
    {
     "name": "stdout",
     "output_type": "stream",
     "text": [
      "Группы 246 и 247: \n",
      "MainScreenAppear :\n",
      "р-значение: 0.6756217702005545\n",
      "Не получилось отвергнуть нулевую гипотезу, нет оснований считать группы разными\n",
      "OffersScreenAppear :\n",
      "р-значение: 0.26698769175859516\n",
      "Не получилось отвергнуть нулевую гипотезу, нет оснований считать группы разными\n",
      "CartScreenAppear :\n",
      "р-значение: 0.2182812140633792\n",
      "Не получилось отвергнуть нулевую гипотезу, нет оснований считать группы разными\n",
      "PaymentScreenSuccessful :\n",
      "р-значение: 0.10298394982948822\n",
      "Не получилось отвергнуть нулевую гипотезу, нет оснований считать группы разными\n"
     ]
    }
   ],
   "source": [
    "def events(event_name, group_1, group_2): \n",
    "    print(event_name,':')\n",
    "    event_groups = new_logs.loc[(new_logs['event_name'] == event_name) & (new_logs['group'].isin([group_1, group_2]))].groupby('group').agg({'user_id':'nunique'})\n",
    "    event_groups.columns = ['users_count']\n",
    "    event_groups['users_total'] = new_logs.groupby('group').agg({'user_id':'nunique'})\n",
    "    event_groups['percent'] = round(event_groups['users_count']/ event_groups['users_total'] * 100, 2) \n",
    "    test(np.array(event_groups['users_count']), np.array(event_groups['users_total']))\n",
    "\n",
    "print('Группы 246 и 247: ')\n",
    "events('MainScreenAppear',246,247)\n",
    "events('OffersScreenAppear',246,247)\n",
    "events('CartScreenAppear',246,247)\n",
    "events('PaymentScreenSuccessful',246,247)"
   ]
  },
  {
   "cell_type": "markdown",
   "metadata": {},
   "source": [
    "По полученным результатам, можно сделать вывод, что по всем событиям нет оснований считать, что между группами есть статистически значимое различие. "
   ]
  },
  {
   "cell_type": "markdown",
   "metadata": {},
   "source": [
    "Аналогично поступим с группой с изменённым шрифтом. Сравним результаты с каждой из контрольных групп в отдельности по каждому событию. "
   ]
  },
  {
   "cell_type": "code",
   "execution_count": 34,
   "metadata": {},
   "outputs": [
    {
     "name": "stdout",
     "output_type": "stream",
     "text": [
      "Группы 246 и 248: \n",
      "MainScreenAppear :\n",
      "р-значение: 0.34705881021236484\n",
      "Не получилось отвергнуть нулевую гипотезу, нет оснований считать группы разными\n",
      "OffersScreenAppear :\n",
      "р-значение: 0.20836205402738917\n",
      "Не получилось отвергнуть нулевую гипотезу, нет оснований считать группы разными\n",
      "CartScreenAppear :\n",
      "р-значение: 0.08328412977507749\n",
      "Не получилось отвергнуть нулевую гипотезу, нет оснований считать группы разными\n",
      "PaymentScreenSuccessful :\n",
      "р-значение: 0.22269358994682742\n",
      "Не получилось отвергнуть нулевую гипотезу, нет оснований считать группы разными\n"
     ]
    }
   ],
   "source": [
    "print('Группы 246 и 248: ')\n",
    "events('MainScreenAppear',246,248)\n",
    "events('OffersScreenAppear',246,248)\n",
    "events('CartScreenAppear',246,248)\n",
    "events('PaymentScreenSuccessful',246,248)"
   ]
  },
  {
   "cell_type": "markdown",
   "metadata": {},
   "source": [
    "По полученным результатам, можно сделать вывод, что по всем событиям нет оснований считать, что между контрольной группой 246 и экспериментальной группой 248 есть статистически значимое различие. "
   ]
  },
  {
   "cell_type": "code",
   "execution_count": 35,
   "metadata": {},
   "outputs": [
    {
     "name": "stdout",
     "output_type": "stream",
     "text": [
      "Группы 247 и 248: \n",
      "MainScreenAppear :\n",
      "р-значение: 0.6001661582453706\n",
      "Не получилось отвергнуть нулевую гипотезу, нет оснований считать группы разными\n",
      "OffersScreenAppear :\n",
      "р-значение: 0.8835956656016957\n",
      "Не получилось отвергнуть нулевую гипотезу, нет оснований считать группы разными\n",
      "CartScreenAppear :\n",
      "р-значение: 0.6169517476996997\n",
      "Не получилось отвергнуть нулевую гипотезу, нет оснований считать группы разными\n",
      "PaymentScreenSuccessful :\n",
      "р-значение: 0.6775413642906454\n",
      "Не получилось отвергнуть нулевую гипотезу, нет оснований считать группы разными\n"
     ]
    }
   ],
   "source": [
    "print('Группы 247 и 248: ')\n",
    "events('MainScreenAppear',247,248)\n",
    "events('OffersScreenAppear',247,248)\n",
    "events('CartScreenAppear',247,248)\n",
    "events('PaymentScreenSuccessful',247,248)"
   ]
  },
  {
   "cell_type": "markdown",
   "metadata": {},
   "source": [
    "По полученным результатам, можно сделать вывод, что по всем событиям нет оснований считать, что между контрольной группой 247 и экспериментальной группой 248 есть статистически значимое различие. "
   ]
  },
  {
   "cell_type": "markdown",
   "metadata": {},
   "source": [
    "Сравним результаты с объединённой контрольной группой."
   ]
  },
  {
   "cell_type": "code",
   "execution_count": 36,
   "metadata": {},
   "outputs": [
    {
     "name": "stdout",
     "output_type": "stream",
     "text": [
      "Группы 246+247 и 248: \n",
      "р-значение: 0.39298914928006035\n",
      "Не получилось отвергнуть нулевую гипотезу, нет оснований считать группы разными\n",
      "р-значение: 0.418998284007599\n",
      "Не получилось отвергнуть нулевую гипотезу, нет оснований считать группы разными\n",
      "р-значение: 0.19819340844527744\n",
      "Не получилось отвергнуть нулевую гипотезу, нет оснований считать группы разными\n",
      "р-значение: 0.6452057673098244\n",
      "Не получилось отвергнуть нулевую гипотезу, нет оснований считать группы разными\n"
     ]
    }
   ],
   "source": [
    "def events_1(event_name):\n",
    "    event_groups = new_logs.loc[(new_logs['event_name'] == event_name) & (new_logs['group'].isin([246, 247, 248]))].groupby('group').agg({'user_id':'nunique'})\n",
    "    event_groups.columns = ['users_count']\n",
    "    event_groups['users_total'] = new_logs.groupby('group').agg({'user_id':'nunique'})\n",
    "    event_groups['percent'] = round(event_groups['users_count']/ event_groups['users_total'] * 100, 2) \n",
    "    event_groups.loc['246+247']=event_groups.loc[246]+event_groups.loc[247]\n",
    "    event_groups = event_groups.drop (index=[246, 247])\n",
    "    test(np.array(event_groups['users_count']), np.array(event_groups['users_total']))\n",
    "\n",
    "print('Группы 246+247 и 248: ')\n",
    "events_1('MainScreenAppear')\n",
    "events_1('OffersScreenAppear')\n",
    "events_1('CartScreenAppear')\n",
    "events_1('PaymentScreenSuccessful')"
   ]
  },
  {
   "cell_type": "markdown",
   "metadata": {},
   "source": [
    "По полученным результатам, так же можно сделать вывод, что по всем событиям нет оснований считать, что между объединенной контрольной группой  и экспериментальной группой есть статистически значимое различие. "
   ]
  },
  {
   "cell_type": "markdown",
   "metadata": {},
   "source": [
    "Попробуем проделать те же самые действия, при уровне значимости, равным 0.1:"
   ]
  },
  {
   "cell_type": "code",
   "execution_count": 37,
   "metadata": {},
   "outputs": [
    {
     "name": "stdout",
     "output_type": "stream",
     "text": [
      "Группы 246 и 247: \n",
      "MainScreenAppear :\n",
      "р-значение: 0.6756217702005545\n",
      "Не получилось отвергнуть нулевую гипотезу, нет оснований считать группы разными\n",
      "OffersScreenAppear :\n",
      "р-значение: 0.26698769175859516\n",
      "Не получилось отвергнуть нулевую гипотезу, нет оснований считать группы разными\n",
      "CartScreenAppear :\n",
      "р-значение: 0.2182812140633792\n",
      "Не получилось отвергнуть нулевую гипотезу, нет оснований считать группы разными\n",
      "PaymentScreenSuccessful :\n",
      "р-значение: 0.10298394982948822\n",
      "Не получилось отвергнуть нулевую гипотезу, нет оснований считать группы разными\n"
     ]
    }
   ],
   "source": [
    "alpha = .1 # критический уровень статистической значимости\n",
    "\n",
    "print('Группы 246 и 247: ')\n",
    "events('MainScreenAppear',246,247)\n",
    "events('OffersScreenAppear',246,247)\n",
    "events('CartScreenAppear',246,247)\n",
    "events('PaymentScreenSuccessful',246,247)"
   ]
  },
  {
   "cell_type": "code",
   "execution_count": 38,
   "metadata": {},
   "outputs": [
    {
     "name": "stdout",
     "output_type": "stream",
     "text": [
      "Группы 246 и 248: \n",
      "MainScreenAppear :\n",
      "р-значение: 0.34705881021236484\n",
      "Не получилось отвергнуть нулевую гипотезу, нет оснований считать группы разными\n",
      "OffersScreenAppear :\n",
      "р-значение: 0.20836205402738917\n",
      "Не получилось отвергнуть нулевую гипотезу, нет оснований считать группы разными\n",
      "CartScreenAppear :\n",
      "р-значение: 0.08328412977507749\n",
      "Отвергаем нулевую гипотезу: между группами есть значимая разница\n",
      "PaymentScreenSuccessful :\n",
      "р-значение: 0.22269358994682742\n",
      "Не получилось отвергнуть нулевую гипотезу, нет оснований считать группы разными\n"
     ]
    }
   ],
   "source": [
    "print('Группы 246 и 248: ')\n",
    "events('MainScreenAppear',246,248)\n",
    "events('OffersScreenAppear',246,248)\n",
    "events('CartScreenAppear',246,248)\n",
    "events('PaymentScreenSuccessful',246,248)"
   ]
  },
  {
   "cell_type": "code",
   "execution_count": 39,
   "metadata": {},
   "outputs": [
    {
     "name": "stdout",
     "output_type": "stream",
     "text": [
      "Группы 247 и 248: \n",
      "MainScreenAppear :\n",
      "р-значение: 0.6001661582453706\n",
      "Не получилось отвергнуть нулевую гипотезу, нет оснований считать группы разными\n",
      "OffersScreenAppear :\n",
      "р-значение: 0.8835956656016957\n",
      "Не получилось отвергнуть нулевую гипотезу, нет оснований считать группы разными\n",
      "CartScreenAppear :\n",
      "р-значение: 0.6169517476996997\n",
      "Не получилось отвергнуть нулевую гипотезу, нет оснований считать группы разными\n",
      "PaymentScreenSuccessful :\n",
      "р-значение: 0.6775413642906454\n",
      "Не получилось отвергнуть нулевую гипотезу, нет оснований считать группы разными\n"
     ]
    }
   ],
   "source": [
    "print('Группы 247 и 248: ')\n",
    "events('MainScreenAppear',247,248)\n",
    "events('OffersScreenAppear',247,248)\n",
    "events('CartScreenAppear',247,248)\n",
    "events('PaymentScreenSuccessful',247,248)"
   ]
  },
  {
   "cell_type": "code",
   "execution_count": 40,
   "metadata": {},
   "outputs": [
    {
     "name": "stdout",
     "output_type": "stream",
     "text": [
      "Группы 246+247 и 248: \n",
      "р-значение: 0.39298914928006035\n",
      "Не получилось отвергнуть нулевую гипотезу, нет оснований считать группы разными\n",
      "р-значение: 0.418998284007599\n",
      "Не получилось отвергнуть нулевую гипотезу, нет оснований считать группы разными\n",
      "р-значение: 0.19819340844527744\n",
      "Не получилось отвергнуть нулевую гипотезу, нет оснований считать группы разными\n",
      "р-значение: 0.6452057673098244\n",
      "Не получилось отвергнуть нулевую гипотезу, нет оснований считать группы разными\n"
     ]
    }
   ],
   "source": [
    "print('Группы 246+247 и 248: ')\n",
    "events_1('MainScreenAppear')\n",
    "events_1('OffersScreenAppear')\n",
    "events_1('CartScreenAppear')\n",
    "events_1('PaymentScreenSuccessful')"
   ]
  },
  {
   "cell_type": "markdown",
   "metadata": {},
   "source": [
    "По событию CartScreenAppear между группами 246 и 248 есть статистически значимое различие, в остальных случаях нет оснований считать группы разными.\n",
    "\n",
    "При выборе порогового значения необходимо обращать внимание на объем выборки; при малом объеме выборки более вероятно получить случайный результат, например, различия в двух однородных выборках. А при большом объеме выборки, случайные отклонения компенсируют друг друга и получить значимое различие в однородных выборках менее вероятно, поэтому надо брать меньший уровень значимости. Так как выборка у нас небольшая, то уровень значимости равный 0.05 будет оптимальным, при 0.1 уже появляется ошибка первого рода. Выбирая уровень значимости, равный 0.05, то допускаем, что с вероятностью 5/100 результат можент оказаться ложноположительным. Так как у нас идет множественная проверка гипотез, увеличивается риск ложноположительного результата, и можно найти различия там, где их на самом деле нет."
   ]
  },
  {
   "cell_type": "markdown",
   "metadata": {},
   "source": [
    "# Вывод"
   ]
  },
  {
   "cell_type": "markdown",
   "metadata": {},
   "source": [
    "В данном исследовании мы использовали данные за период с 2019-07-31 21:00:57 по 2019-08-07 21:15:17.\n",
    "\n",
    "При изучении воронки продаж, мы выяснили, что пользователи доходят до покупки в таком порядке:\n",
    "1. MainScreenAppear (посмотреть главную страницу)\n",
    "2. OffersScreenAppear (перейти на страницу предложений)\n",
    "3. CartScreenAppear (перейти на страницу \"корзина\")\n",
    "4. PaymentScreenSuccessful (перейти на страницу \"оплата\")\n",
    "5. Tutorial (перейти на страницу \"руководство\") \n",
    "\n",
    "Определили, что после перехода на страницу предложений теряется 3220 пользователей, после перехода в корзину теряется 2422 пользователей,а после перехода на оплату теряется 1323 пользователей.\n",
    "Доля пользователей, которая дошла от первого события до оплаты составляет 6.17 %.\n",
    "\n",
    "Далее, мы исследовали результаты A/A/B-эксперимента. Между двумя контрольными группами не оказалось статистически значимой разницы, следовательно тестирование было проведено верно.\n",
    " \n",
    "Судя по полученным результатам, на поведение пользователей изменение шрифта сильно не повлияло (непривычно им не стало). \n",
    "Следовательно, дизайнеры могут поменять шрифт во всем приложении, и это не отпугнет пользователей."
   ]
  }
 ],
 "metadata": {
  "ExecuteTimeLog": [
   {
    "duration": 1340,
    "start_time": "2023-02-19T13:59:10.236Z"
   },
   {
    "duration": 43,
    "start_time": "2023-02-19T14:00:04.528Z"
   },
   {
    "duration": 40,
    "start_time": "2023-02-19T14:00:09.788Z"
   },
   {
    "duration": 877,
    "start_time": "2023-02-19T14:00:35.243Z"
   },
   {
    "duration": 279,
    "start_time": "2023-02-19T14:00:52.328Z"
   },
   {
    "duration": 264,
    "start_time": "2023-02-19T14:01:03.591Z"
   },
   {
    "duration": 72,
    "start_time": "2023-02-19T14:01:15.504Z"
   },
   {
    "duration": 147,
    "start_time": "2023-02-19T14:02:30.389Z"
   },
   {
    "duration": 166,
    "start_time": "2023-02-19T14:03:15.764Z"
   },
   {
    "duration": 153,
    "start_time": "2023-02-19T14:03:47.640Z"
   },
   {
    "duration": 2,
    "start_time": "2023-02-19T14:06:41.714Z"
   },
   {
    "duration": 53,
    "start_time": "2023-02-19T14:08:15.358Z"
   },
   {
    "duration": 19,
    "start_time": "2023-02-19T14:19:11.804Z"
   },
   {
    "duration": 155,
    "start_time": "2023-02-19T14:20:30.466Z"
   },
   {
    "duration": 3,
    "start_time": "2023-02-19T14:20:31.988Z"
   },
   {
    "duration": 29,
    "start_time": "2023-02-19T14:20:32.995Z"
   },
   {
    "duration": 82,
    "start_time": "2023-02-19T14:20:34.542Z"
   },
   {
    "duration": 78,
    "start_time": "2023-02-19T14:20:36.177Z"
   },
   {
    "duration": 19,
    "start_time": "2023-02-19T14:20:48.206Z"
   },
   {
    "duration": 25,
    "start_time": "2023-02-19T14:21:02.684Z"
   },
   {
    "duration": 23,
    "start_time": "2023-02-19T14:21:14.560Z"
   },
   {
    "duration": 67,
    "start_time": "2023-02-19T14:21:34.497Z"
   },
   {
    "duration": 26,
    "start_time": "2023-02-19T14:23:14.557Z"
   },
   {
    "duration": 17,
    "start_time": "2023-02-19T14:27:59.436Z"
   },
   {
    "duration": 6,
    "start_time": "2023-02-19T14:29:33.062Z"
   },
   {
    "duration": 10,
    "start_time": "2023-02-19T14:29:43.278Z"
   },
   {
    "duration": 10,
    "start_time": "2023-02-19T14:30:58.196Z"
   },
   {
    "duration": 4,
    "start_time": "2023-02-19T14:31:35.214Z"
   },
   {
    "duration": 8,
    "start_time": "2023-02-19T14:32:02.964Z"
   },
   {
    "duration": 16,
    "start_time": "2023-02-19T14:35:48.550Z"
   },
   {
    "duration": 85,
    "start_time": "2023-02-19T14:36:05.808Z"
   },
   {
    "duration": 16,
    "start_time": "2023-02-19T14:36:13.006Z"
   },
   {
    "duration": 5,
    "start_time": "2023-02-19T14:39:09.767Z"
   },
   {
    "duration": 6,
    "start_time": "2023-02-19T14:39:47.400Z"
   },
   {
    "duration": 291,
    "start_time": "2023-02-19T14:44:47.830Z"
   },
   {
    "duration": 159,
    "start_time": "2023-02-19T14:45:14.040Z"
   },
   {
    "duration": 384,
    "start_time": "2023-02-19T14:45:29.669Z"
   },
   {
    "duration": 232,
    "start_time": "2023-02-19T14:45:34.183Z"
   },
   {
    "duration": 187,
    "start_time": "2023-02-19T14:45:43.348Z"
   },
   {
    "duration": 183,
    "start_time": "2023-02-19T14:45:50.484Z"
   },
   {
    "duration": 183,
    "start_time": "2023-02-19T14:46:19.251Z"
   },
   {
    "duration": 217,
    "start_time": "2023-02-19T14:47:33.184Z"
   },
   {
    "duration": 206,
    "start_time": "2023-02-19T14:47:38.415Z"
   },
   {
    "duration": 375,
    "start_time": "2023-02-19T14:49:45.565Z"
   },
   {
    "duration": 291,
    "start_time": "2023-02-19T14:50:02.434Z"
   },
   {
    "duration": 355,
    "start_time": "2023-02-19T14:50:17.261Z"
   },
   {
    "duration": 381,
    "start_time": "2023-02-19T14:50:28.501Z"
   },
   {
    "duration": 240,
    "start_time": "2023-02-19T14:50:37.472Z"
   },
   {
    "duration": 376,
    "start_time": "2023-02-19T14:50:44.927Z"
   },
   {
    "duration": 251,
    "start_time": "2023-02-19T14:50:51.214Z"
   },
   {
    "duration": 219,
    "start_time": "2023-02-19T14:50:58.372Z"
   },
   {
    "duration": 208,
    "start_time": "2023-02-19T14:51:04.410Z"
   },
   {
    "duration": 454,
    "start_time": "2023-02-19T14:59:20.660Z"
   },
   {
    "duration": 31,
    "start_time": "2023-02-19T15:00:45.416Z"
   },
   {
    "duration": 219,
    "start_time": "2023-02-19T15:01:05.735Z"
   },
   {
    "duration": 3,
    "start_time": "2023-02-19T15:01:08.811Z"
   },
   {
    "duration": 19,
    "start_time": "2023-02-19T15:01:09.646Z"
   },
   {
    "duration": 65,
    "start_time": "2023-02-19T15:01:10.491Z"
   },
   {
    "duration": 58,
    "start_time": "2023-02-19T15:01:11.363Z"
   },
   {
    "duration": 28,
    "start_time": "2023-02-19T15:01:11.823Z"
   },
   {
    "duration": 19,
    "start_time": "2023-02-19T15:01:13.867Z"
   },
   {
    "duration": 7,
    "start_time": "2023-02-19T15:01:14.780Z"
   },
   {
    "duration": 26,
    "start_time": "2023-02-19T15:01:15.860Z"
   },
   {
    "duration": 10,
    "start_time": "2023-02-19T15:01:16.874Z"
   },
   {
    "duration": 197,
    "start_time": "2023-02-19T15:01:18.061Z"
   },
   {
    "duration": 532,
    "start_time": "2023-02-19T15:01:20.169Z"
   },
   {
    "duration": 5577,
    "start_time": "2023-02-19T15:01:22.971Z"
   },
   {
    "duration": 504,
    "start_time": "2023-02-19T15:03:11.702Z"
   },
   {
    "duration": 773,
    "start_time": "2023-02-19T15:04:22.900Z"
   },
   {
    "duration": 32,
    "start_time": "2023-02-19T15:05:51.838Z"
   },
   {
    "duration": 345,
    "start_time": "2023-02-19T15:07:37.298Z"
   },
   {
    "duration": 169,
    "start_time": "2023-02-19T15:07:42.512Z"
   },
   {
    "duration": 3,
    "start_time": "2023-02-19T15:07:44.347Z"
   },
   {
    "duration": 25,
    "start_time": "2023-02-19T15:07:45.596Z"
   },
   {
    "duration": 65,
    "start_time": "2023-02-19T15:07:46.501Z"
   },
   {
    "duration": 67,
    "start_time": "2023-02-19T15:07:47.383Z"
   },
   {
    "duration": 35,
    "start_time": "2023-02-19T15:07:47.802Z"
   },
   {
    "duration": 11,
    "start_time": "2023-02-19T15:07:49.913Z"
   },
   {
    "duration": 7,
    "start_time": "2023-02-19T15:07:50.930Z"
   },
   {
    "duration": 23,
    "start_time": "2023-02-19T15:07:52.017Z"
   },
   {
    "duration": 6,
    "start_time": "2023-02-19T15:07:53.172Z"
   },
   {
    "duration": 235,
    "start_time": "2023-02-19T15:07:54.336Z"
   },
   {
    "duration": 1348,
    "start_time": "2023-02-19T15:08:09.717Z"
   },
   {
    "duration": 3,
    "start_time": "2023-02-19T15:08:11.248Z"
   },
   {
    "duration": 28,
    "start_time": "2023-02-19T15:08:12.397Z"
   },
   {
    "duration": 82,
    "start_time": "2023-02-19T15:08:13.839Z"
   },
   {
    "duration": 92,
    "start_time": "2023-02-19T15:08:15.205Z"
   },
   {
    "duration": 26,
    "start_time": "2023-02-19T15:08:16.758Z"
   },
   {
    "duration": 11,
    "start_time": "2023-02-19T15:08:25.127Z"
   },
   {
    "duration": 10,
    "start_time": "2023-02-19T15:08:26.133Z"
   },
   {
    "duration": 18,
    "start_time": "2023-02-19T15:08:27.224Z"
   },
   {
    "duration": 6,
    "start_time": "2023-02-19T15:08:28.219Z"
   },
   {
    "duration": 350,
    "start_time": "2023-02-19T15:08:29.449Z"
   },
   {
    "duration": 512,
    "start_time": "2023-02-19T15:08:31.587Z"
   },
   {
    "duration": 742,
    "start_time": "2023-02-19T15:08:33.315Z"
   },
   {
    "duration": 39,
    "start_time": "2023-02-19T15:08:35.078Z"
   },
   {
    "duration": 5,
    "start_time": "2023-02-19T15:08:51.925Z"
   },
   {
    "duration": 11,
    "start_time": "2023-02-19T15:09:44.863Z"
   },
   {
    "duration": 42,
    "start_time": "2023-02-19T15:10:04.602Z"
   },
   {
    "duration": 41,
    "start_time": "2023-02-19T15:10:42.117Z"
   },
   {
    "duration": 39,
    "start_time": "2023-02-19T15:13:10.811Z"
   },
   {
    "duration": 163,
    "start_time": "2023-02-19T15:25:09.183Z"
   },
   {
    "duration": 6,
    "start_time": "2023-02-19T15:25:15.895Z"
   },
   {
    "duration": 19,
    "start_time": "2023-02-19T15:35:22.101Z"
   },
   {
    "duration": 280,
    "start_time": "2023-02-19T15:38:07.284Z"
   },
   {
    "duration": 74,
    "start_time": "2023-02-19T15:38:38.750Z"
   },
   {
    "duration": 24,
    "start_time": "2023-02-19T15:39:05.246Z"
   },
   {
    "duration": 61,
    "start_time": "2023-02-19T15:41:13.916Z"
   },
   {
    "duration": 21,
    "start_time": "2023-02-19T15:45:39.855Z"
   },
   {
    "duration": 22,
    "start_time": "2023-02-19T15:45:49.393Z"
   },
   {
    "duration": 22,
    "start_time": "2023-02-19T15:46:05.165Z"
   },
   {
    "duration": 26,
    "start_time": "2023-02-19T15:46:19.690Z"
   },
   {
    "duration": 50,
    "start_time": "2023-02-19T15:49:08.622Z"
   },
   {
    "duration": 48,
    "start_time": "2023-02-19T15:51:03.433Z"
   },
   {
    "duration": 53,
    "start_time": "2023-02-19T15:51:28.537Z"
   },
   {
    "duration": 12,
    "start_time": "2023-02-19T15:53:27.744Z"
   },
   {
    "duration": 129,
    "start_time": "2023-02-19T15:55:27.489Z"
   },
   {
    "duration": 148,
    "start_time": "2023-02-19T15:56:27.180Z"
   },
   {
    "duration": 10,
    "start_time": "2023-02-19T15:56:53.289Z"
   },
   {
    "duration": 151,
    "start_time": "2023-02-19T16:00:25.441Z"
   },
   {
    "duration": 10,
    "start_time": "2023-02-19T16:00:32.294Z"
   },
   {
    "duration": 210,
    "start_time": "2023-02-19T16:14:31.322Z"
   },
   {
    "duration": 51,
    "start_time": "2023-02-19T16:14:42.103Z"
   },
   {
    "duration": 152,
    "start_time": "2023-02-19T16:14:47.797Z"
   },
   {
    "duration": 144,
    "start_time": "2023-02-19T16:14:58.537Z"
   },
   {
    "duration": 163,
    "start_time": "2023-02-19T16:15:12.613Z"
   },
   {
    "duration": 152,
    "start_time": "2023-02-19T16:19:13.634Z"
   },
   {
    "duration": 126,
    "start_time": "2023-02-19T16:19:43.094Z"
   },
   {
    "duration": 116,
    "start_time": "2023-02-19T16:19:47.700Z"
   },
   {
    "duration": 168,
    "start_time": "2023-02-19T16:20:36.227Z"
   },
   {
    "duration": 238,
    "start_time": "2023-02-19T16:20:50.424Z"
   },
   {
    "duration": 164,
    "start_time": "2023-02-19T16:21:19.256Z"
   },
   {
    "duration": 215,
    "start_time": "2023-02-19T16:21:49.253Z"
   },
   {
    "duration": 456,
    "start_time": "2023-02-19T16:21:54.156Z"
   },
   {
    "duration": 672,
    "start_time": "2023-02-19T16:21:57.451Z"
   },
   {
    "duration": 850,
    "start_time": "2023-02-19T16:22:03.658Z"
   },
   {
    "duration": 197,
    "start_time": "2023-02-19T16:22:55.486Z"
   },
   {
    "duration": 154,
    "start_time": "2023-02-19T16:23:22.474Z"
   },
   {
    "duration": 690,
    "start_time": "2023-02-19T16:24:04.490Z"
   },
   {
    "duration": 139,
    "start_time": "2023-02-19T16:24:40.842Z"
   },
   {
    "duration": 153,
    "start_time": "2023-02-19T16:25:13.440Z"
   },
   {
    "duration": 243,
    "start_time": "2023-02-19T16:26:34.075Z"
   },
   {
    "duration": 150,
    "start_time": "2023-02-19T16:27:06.935Z"
   },
   {
    "duration": 12,
    "start_time": "2023-02-19T16:27:28.730Z"
   },
   {
    "duration": 170,
    "start_time": "2023-02-19T16:27:50.977Z"
   },
   {
    "duration": 12,
    "start_time": "2023-02-19T16:28:47.818Z"
   },
   {
    "duration": 147,
    "start_time": "2023-02-19T16:29:01.558Z"
   },
   {
    "duration": 186,
    "start_time": "2023-02-19T16:29:44.455Z"
   },
   {
    "duration": 290,
    "start_time": "2023-02-19T16:29:51.029Z"
   },
   {
    "duration": 156,
    "start_time": "2023-02-19T16:29:56.310Z"
   },
   {
    "duration": 164,
    "start_time": "2023-02-19T16:33:30.716Z"
   },
   {
    "duration": 23,
    "start_time": "2023-02-19T17:19:17.208Z"
   },
   {
    "duration": 26,
    "start_time": "2023-02-19T17:19:29.220Z"
   },
   {
    "duration": 21,
    "start_time": "2023-02-19T17:19:34.030Z"
   },
   {
    "duration": 3,
    "start_time": "2023-02-19T17:20:53.177Z"
   },
   {
    "duration": 29,
    "start_time": "2023-02-19T17:20:56.286Z"
   },
   {
    "duration": 26,
    "start_time": "2023-02-19T17:21:18.702Z"
   },
   {
    "duration": 9,
    "start_time": "2023-02-19T17:22:34.791Z"
   },
   {
    "duration": 149,
    "start_time": "2023-02-19T17:22:50.409Z"
   },
   {
    "duration": 53,
    "start_time": "2023-02-19T17:23:52.108Z"
   },
   {
    "duration": 161,
    "start_time": "2023-02-19T17:24:04.967Z"
   },
   {
    "duration": 11,
    "start_time": "2023-02-19T17:25:14.996Z"
   },
   {
    "duration": 150,
    "start_time": "2023-02-19T17:25:21.847Z"
   },
   {
    "duration": 20,
    "start_time": "2023-02-19T17:37:11.071Z"
   },
   {
    "duration": 85,
    "start_time": "2023-02-19T17:40:05.840Z"
   },
   {
    "duration": 72,
    "start_time": "2023-02-19T17:41:01.451Z"
   },
   {
    "duration": 72,
    "start_time": "2023-02-19T17:42:38.303Z"
   },
   {
    "duration": 93,
    "start_time": "2023-02-19T17:46:45.529Z"
   },
   {
    "duration": 88,
    "start_time": "2023-02-19T17:46:56.080Z"
   },
   {
    "duration": 77,
    "start_time": "2023-02-19T17:47:02.593Z"
   },
   {
    "duration": 76,
    "start_time": "2023-02-19T17:50:18.122Z"
   },
   {
    "duration": 77,
    "start_time": "2023-02-19T17:50:30.336Z"
   },
   {
    "duration": 83,
    "start_time": "2023-02-19T17:51:02.412Z"
   },
   {
    "duration": 2185,
    "start_time": "2023-02-20T16:42:13.551Z"
   },
   {
    "duration": 3,
    "start_time": "2023-02-20T16:42:15.737Z"
   },
   {
    "duration": 24,
    "start_time": "2023-02-20T16:42:17.300Z"
   },
   {
    "duration": 76,
    "start_time": "2023-02-20T16:42:20.252Z"
   },
   {
    "duration": 84,
    "start_time": "2023-02-20T16:42:20.763Z"
   },
   {
    "duration": 26,
    "start_time": "2023-02-20T16:42:20.998Z"
   },
   {
    "duration": 11,
    "start_time": "2023-02-20T16:42:22.013Z"
   },
   {
    "duration": 8,
    "start_time": "2023-02-20T16:42:22.419Z"
   },
   {
    "duration": 21,
    "start_time": "2023-02-20T16:42:23.002Z"
   },
   {
    "duration": 6,
    "start_time": "2023-02-20T16:42:23.334Z"
   },
   {
    "duration": 287,
    "start_time": "2023-02-20T16:42:23.918Z"
   },
   {
    "duration": 388,
    "start_time": "2023-02-20T16:42:25.014Z"
   },
   {
    "duration": 597,
    "start_time": "2023-02-20T16:42:25.884Z"
   },
   {
    "duration": 38,
    "start_time": "2023-02-20T16:42:26.520Z"
   },
   {
    "duration": 41,
    "start_time": "2023-02-20T16:42:27.556Z"
   },
   {
    "duration": 26,
    "start_time": "2023-02-20T16:42:29.325Z"
   },
   {
    "duration": 146,
    "start_time": "2023-02-20T16:42:29.723Z"
   },
   {
    "duration": 52,
    "start_time": "2023-02-20T16:42:30.542Z"
   },
   {
    "duration": 224,
    "start_time": "2023-02-20T16:42:31.279Z"
   },
   {
    "duration": 48,
    "start_time": "2023-02-20T16:42:32.017Z"
   },
   {
    "duration": 145,
    "start_time": "2023-02-20T16:42:32.595Z"
   },
   {
    "duration": 75,
    "start_time": "2023-02-20T16:42:34.621Z"
   },
   {
    "duration": 106,
    "start_time": "2023-02-20T16:45:04.716Z"
   },
   {
    "duration": 170,
    "start_time": "2023-02-20T16:46:17.571Z"
   },
   {
    "duration": 11,
    "start_time": "2023-02-20T16:48:21.948Z"
   },
   {
    "duration": 10,
    "start_time": "2023-02-20T16:49:14.932Z"
   },
   {
    "duration": 11,
    "start_time": "2023-02-20T16:49:20.837Z"
   },
   {
    "duration": 5,
    "start_time": "2023-02-20T16:59:01.721Z"
   },
   {
    "duration": 5,
    "start_time": "2023-02-20T16:59:11.777Z"
   },
   {
    "duration": 5,
    "start_time": "2023-02-20T17:03:00.944Z"
   },
   {
    "duration": 5,
    "start_time": "2023-02-20T17:04:03.817Z"
   },
   {
    "duration": 7,
    "start_time": "2023-02-20T17:04:25.617Z"
   },
   {
    "duration": 4,
    "start_time": "2023-02-20T17:10:19.349Z"
   },
   {
    "duration": 8,
    "start_time": "2023-02-20T17:12:30.200Z"
   },
   {
    "duration": 11,
    "start_time": "2023-02-20T17:19:43.341Z"
   },
   {
    "duration": 4,
    "start_time": "2023-02-20T17:20:12.149Z"
   },
   {
    "duration": 75,
    "start_time": "2023-02-20T17:20:31.235Z"
   },
   {
    "duration": 73,
    "start_time": "2023-02-20T17:20:34.596Z"
   },
   {
    "duration": 102,
    "start_time": "2023-02-20T17:20:50.252Z"
   },
   {
    "duration": 10,
    "start_time": "2023-02-20T17:21:22.318Z"
   },
   {
    "duration": 14,
    "start_time": "2023-02-20T17:21:26.983Z"
   },
   {
    "duration": 10,
    "start_time": "2023-02-20T17:21:38.524Z"
   },
   {
    "duration": 5,
    "start_time": "2023-02-20T17:49:06.138Z"
   },
   {
    "duration": 94,
    "start_time": "2023-02-20T18:15:26.361Z"
   },
   {
    "duration": 47,
    "start_time": "2023-02-20T18:16:54.034Z"
   },
   {
    "duration": 89,
    "start_time": "2023-02-20T18:17:25.744Z"
   },
   {
    "duration": 66,
    "start_time": "2023-02-20T18:17:31.841Z"
   },
   {
    "duration": 2322,
    "start_time": "2023-02-21T16:55:51.505Z"
   },
   {
    "duration": 3,
    "start_time": "2023-02-21T16:55:53.830Z"
   },
   {
    "duration": 25,
    "start_time": "2023-02-21T16:55:58.132Z"
   },
   {
    "duration": 24,
    "start_time": "2023-02-21T16:56:02.644Z"
   },
   {
    "duration": 80,
    "start_time": "2023-02-21T16:56:03.323Z"
   },
   {
    "duration": 91,
    "start_time": "2023-02-21T16:56:03.674Z"
   },
   {
    "duration": 25,
    "start_time": "2023-02-21T16:56:03.867Z"
   },
   {
    "duration": 14,
    "start_time": "2023-02-21T16:56:06.753Z"
   },
   {
    "duration": 6,
    "start_time": "2023-02-21T16:56:09.868Z"
   },
   {
    "duration": 17,
    "start_time": "2023-02-21T16:56:13.199Z"
   },
   {
    "duration": 8,
    "start_time": "2023-02-21T16:56:16.223Z"
   },
   {
    "duration": 324,
    "start_time": "2023-02-21T16:56:17.131Z"
   },
   {
    "duration": 426,
    "start_time": "2023-02-21T16:56:18.095Z"
   },
   {
    "duration": 637,
    "start_time": "2023-02-21T16:56:19.780Z"
   },
   {
    "duration": 31,
    "start_time": "2023-02-21T16:56:21.180Z"
   },
   {
    "duration": 122,
    "start_time": "2023-02-21T16:56:22.204Z"
   },
   {
    "duration": 35,
    "start_time": "2023-02-21T16:56:25.114Z"
   },
   {
    "duration": 154,
    "start_time": "2023-02-21T16:56:25.750Z"
   },
   {
    "duration": 56,
    "start_time": "2023-02-21T16:56:27.038Z"
   },
   {
    "duration": 190,
    "start_time": "2023-02-21T16:56:27.909Z"
   },
   {
    "duration": 44,
    "start_time": "2023-02-21T16:56:29.060Z"
   },
   {
    "duration": 155,
    "start_time": "2023-02-21T16:56:30.070Z"
   },
   {
    "duration": 80,
    "start_time": "2023-02-21T16:56:32.510Z"
   },
   {
    "duration": 186,
    "start_time": "2023-02-21T16:56:33.230Z"
   },
   {
    "duration": 7,
    "start_time": "2023-02-21T16:56:34.020Z"
   },
   {
    "duration": 6,
    "start_time": "2023-02-21T16:56:35.598Z"
   },
   {
    "duration": 5,
    "start_time": "2023-02-21T16:56:37.139Z"
   },
   {
    "duration": 7,
    "start_time": "2023-02-21T16:56:39.859Z"
   },
   {
    "duration": 2042,
    "start_time": "2023-02-22T10:48:31.253Z"
   },
   {
    "duration": 3,
    "start_time": "2023-02-22T10:48:33.298Z"
   },
   {
    "duration": 31,
    "start_time": "2023-02-22T10:48:33.497Z"
   },
   {
    "duration": 86,
    "start_time": "2023-02-22T10:48:34.364Z"
   },
   {
    "duration": 100,
    "start_time": "2023-02-22T10:48:35.265Z"
   },
   {
    "duration": 25,
    "start_time": "2023-02-22T10:48:35.754Z"
   },
   {
    "duration": 12,
    "start_time": "2023-02-22T10:48:37.575Z"
   },
   {
    "duration": 10,
    "start_time": "2023-02-22T10:48:38.518Z"
   },
   {
    "duration": 17,
    "start_time": "2023-02-22T10:48:39.469Z"
   },
   {
    "duration": 5,
    "start_time": "2023-02-22T10:48:40.397Z"
   },
   {
    "duration": 285,
    "start_time": "2023-02-22T10:48:43.552Z"
   },
   {
    "duration": 373,
    "start_time": "2023-02-22T10:48:45.332Z"
   },
   {
    "duration": 599,
    "start_time": "2023-02-22T10:48:46.724Z"
   },
   {
    "duration": 31,
    "start_time": "2023-02-22T10:48:47.714Z"
   },
   {
    "duration": 39,
    "start_time": "2023-02-22T10:48:48.746Z"
   },
   {
    "duration": 27,
    "start_time": "2023-02-22T10:48:51.199Z"
   },
   {
    "duration": 145,
    "start_time": "2023-02-22T10:48:51.815Z"
   },
   {
    "duration": 58,
    "start_time": "2023-02-22T10:48:53.381Z"
   },
   {
    "duration": 225,
    "start_time": "2023-02-22T10:48:53.873Z"
   },
   {
    "duration": 44,
    "start_time": "2023-02-22T10:48:54.797Z"
   },
   {
    "duration": 152,
    "start_time": "2023-02-22T10:48:56.501Z"
   },
   {
    "duration": 74,
    "start_time": "2023-02-22T10:48:57.851Z"
   },
   {
    "duration": 171,
    "start_time": "2023-02-22T10:48:58.397Z"
   },
   {
    "duration": 6,
    "start_time": "2023-02-22T10:48:59.101Z"
   },
   {
    "duration": 4,
    "start_time": "2023-02-22T10:49:00.219Z"
   },
   {
    "duration": 3,
    "start_time": "2023-02-22T10:49:01.621Z"
   },
   {
    "duration": 7,
    "start_time": "2023-02-22T10:49:07.084Z"
   },
   {
    "duration": 5,
    "start_time": "2023-02-22T10:49:08.052Z"
   },
   {
    "duration": 147,
    "start_time": "2023-02-22T10:59:03.963Z"
   },
   {
    "duration": 79,
    "start_time": "2023-02-22T10:59:17.468Z"
   },
   {
    "duration": 38,
    "start_time": "2023-02-22T10:59:27.202Z"
   },
   {
    "duration": 30,
    "start_time": "2023-02-22T11:00:23.122Z"
   },
   {
    "duration": 31,
    "start_time": "2023-02-22T11:00:47.021Z"
   },
   {
    "duration": 56,
    "start_time": "2023-02-22T11:16:52.655Z"
   },
   {
    "duration": 47,
    "start_time": "2023-02-22T11:18:25.851Z"
   },
   {
    "duration": 6,
    "start_time": "2023-02-22T11:22:42.376Z"
   },
   {
    "duration": 62,
    "start_time": "2023-02-22T11:24:27.495Z"
   },
   {
    "duration": 6,
    "start_time": "2023-02-22T11:27:14.951Z"
   },
   {
    "duration": 9,
    "start_time": "2023-02-22T11:29:18.186Z"
   },
   {
    "duration": 11,
    "start_time": "2023-02-22T11:48:41.991Z"
   },
   {
    "duration": 11,
    "start_time": "2023-02-22T11:49:25.733Z"
   },
   {
    "duration": 11,
    "start_time": "2023-02-22T11:49:31.013Z"
   },
   {
    "duration": 10,
    "start_time": "2023-02-22T11:50:36.550Z"
   },
   {
    "duration": 1266,
    "start_time": "2023-02-22T11:51:30.689Z"
   },
   {
    "duration": 60,
    "start_time": "2023-02-22T11:51:51.809Z"
   },
   {
    "duration": 61,
    "start_time": "2023-02-22T12:04:04.923Z"
   },
   {
    "duration": 53,
    "start_time": "2023-02-22T12:05:23.426Z"
   },
   {
    "duration": 110,
    "start_time": "2023-02-22T12:06:12.561Z"
   },
   {
    "duration": 57,
    "start_time": "2023-02-22T12:06:32.124Z"
   },
   {
    "duration": 103,
    "start_time": "2023-02-22T12:06:38.798Z"
   },
   {
    "duration": 54,
    "start_time": "2023-02-22T12:06:50.373Z"
   },
   {
    "duration": 57,
    "start_time": "2023-02-22T12:06:52.661Z"
   },
   {
    "duration": 53,
    "start_time": "2023-02-22T12:07:48.277Z"
   },
   {
    "duration": 51,
    "start_time": "2023-02-22T12:07:48.783Z"
   },
   {
    "duration": 1287,
    "start_time": "2023-02-22T12:52:56.868Z"
   },
   {
    "duration": 3,
    "start_time": "2023-02-22T12:53:09.088Z"
   },
   {
    "duration": 29,
    "start_time": "2023-02-22T12:53:19.257Z"
   },
   {
    "duration": 80,
    "start_time": "2023-02-22T12:53:21.683Z"
   },
   {
    "duration": 85,
    "start_time": "2023-02-22T12:53:29.520Z"
   },
   {
    "duration": 24,
    "start_time": "2023-02-22T12:53:47.405Z"
   },
   {
    "duration": 11,
    "start_time": "2023-02-22T12:54:01.023Z"
   },
   {
    "duration": 7,
    "start_time": "2023-02-22T12:54:03.200Z"
   },
   {
    "duration": 16,
    "start_time": "2023-02-22T12:54:15.801Z"
   },
   {
    "duration": 5,
    "start_time": "2023-02-22T12:54:19.681Z"
   },
   {
    "duration": 300,
    "start_time": "2023-02-22T12:54:23.220Z"
   },
   {
    "duration": 376,
    "start_time": "2023-02-22T12:54:45.187Z"
   },
   {
    "duration": 619,
    "start_time": "2023-02-22T12:55:01.851Z"
   },
   {
    "duration": 31,
    "start_time": "2023-02-22T12:55:09.324Z"
   },
   {
    "duration": 40,
    "start_time": "2023-02-22T12:55:12.179Z"
   },
   {
    "duration": 39,
    "start_time": "2023-02-22T12:55:52.675Z"
   },
   {
    "duration": 27,
    "start_time": "2023-02-22T12:56:55.419Z"
   },
   {
    "duration": 147,
    "start_time": "2023-02-22T12:57:14.680Z"
   },
   {
    "duration": 60,
    "start_time": "2023-02-22T12:57:29.097Z"
   },
   {
    "duration": 224,
    "start_time": "2023-02-22T12:57:39.015Z"
   },
   {
    "duration": 43,
    "start_time": "2023-02-22T12:58:57.845Z"
   },
   {
    "duration": 143,
    "start_time": "2023-02-22T12:59:08.523Z"
   },
   {
    "duration": 85,
    "start_time": "2023-02-22T13:07:31.202Z"
   },
   {
    "duration": 75,
    "start_time": "2023-02-22T13:10:33.620Z"
   },
   {
    "duration": 76,
    "start_time": "2023-02-22T13:10:37.053Z"
   },
   {
    "duration": 1237,
    "start_time": "2023-02-22T13:10:41.584Z"
   },
   {
    "duration": 1136,
    "start_time": "2023-02-22T13:11:13.421Z"
   },
   {
    "duration": 10,
    "start_time": "2023-02-22T13:11:20.801Z"
   },
   {
    "duration": 161,
    "start_time": "2023-02-22T13:15:35.666Z"
   },
   {
    "duration": 5,
    "start_time": "2023-02-22T13:18:45.725Z"
   },
   {
    "duration": 5,
    "start_time": "2023-02-22T13:19:22.871Z"
   },
   {
    "duration": 4,
    "start_time": "2023-02-22T13:21:51.103Z"
   },
   {
    "duration": 10,
    "start_time": "2023-02-22T13:28:35.033Z"
   },
   {
    "duration": 6,
    "start_time": "2023-02-22T13:30:31.021Z"
   },
   {
    "duration": 40,
    "start_time": "2023-02-22T13:40:46.594Z"
   },
   {
    "duration": 16,
    "start_time": "2023-02-22T13:44:17.873Z"
   },
   {
    "duration": 63,
    "start_time": "2023-02-22T14:22:09.602Z"
   },
   {
    "duration": 36,
    "start_time": "2023-02-22T14:34:34.876Z"
   },
   {
    "duration": 53,
    "start_time": "2023-02-22T14:34:41.735Z"
   },
   {
    "duration": 32,
    "start_time": "2023-02-22T14:34:51.569Z"
   },
   {
    "duration": 76,
    "start_time": "2023-02-22T14:39:27.129Z"
   },
   {
    "duration": 57,
    "start_time": "2023-02-22T14:39:34.374Z"
   },
   {
    "duration": 67,
    "start_time": "2023-02-22T14:39:41.763Z"
   },
   {
    "duration": 5,
    "start_time": "2023-02-22T14:48:17.585Z"
   },
   {
    "duration": 1236,
    "start_time": "2023-02-22T14:49:04.527Z"
   },
   {
    "duration": 3,
    "start_time": "2023-02-22T14:49:05.947Z"
   },
   {
    "duration": 25,
    "start_time": "2023-02-22T14:49:07.193Z"
   },
   {
    "duration": 77,
    "start_time": "2023-02-22T14:49:08.455Z"
   },
   {
    "duration": 86,
    "start_time": "2023-02-22T14:49:09.202Z"
   },
   {
    "duration": 25,
    "start_time": "2023-02-22T14:49:09.713Z"
   },
   {
    "duration": 15,
    "start_time": "2023-02-22T14:49:11.962Z"
   },
   {
    "duration": 7,
    "start_time": "2023-02-22T14:49:13.047Z"
   },
   {
    "duration": 17,
    "start_time": "2023-02-22T14:49:14.148Z"
   },
   {
    "duration": 6,
    "start_time": "2023-02-22T14:49:15.213Z"
   },
   {
    "duration": 285,
    "start_time": "2023-02-22T14:49:16.373Z"
   },
   {
    "duration": 421,
    "start_time": "2023-02-22T14:49:17.496Z"
   },
   {
    "duration": 592,
    "start_time": "2023-02-22T14:49:19.386Z"
   },
   {
    "duration": 30,
    "start_time": "2023-02-22T14:49:20.789Z"
   },
   {
    "duration": 39,
    "start_time": "2023-02-22T14:49:21.962Z"
   },
   {
    "duration": 27,
    "start_time": "2023-02-22T14:49:24.766Z"
   },
   {
    "duration": 179,
    "start_time": "2023-02-22T14:49:27.002Z"
   },
   {
    "duration": 55,
    "start_time": "2023-02-22T14:49:27.983Z"
   },
   {
    "duration": 220,
    "start_time": "2023-02-22T14:49:28.659Z"
   },
   {
    "duration": 53,
    "start_time": "2023-02-22T14:49:29.605Z"
   },
   {
    "duration": 150,
    "start_time": "2023-02-22T14:49:30.186Z"
   },
   {
    "duration": 87,
    "start_time": "2023-02-22T14:49:31.951Z"
   },
   {
    "duration": 148,
    "start_time": "2023-02-22T14:49:32.936Z"
   },
   {
    "duration": 5,
    "start_time": "2023-02-22T14:49:33.602Z"
   },
   {
    "duration": 5,
    "start_time": "2023-02-22T14:49:35.764Z"
   },
   {
    "duration": 4,
    "start_time": "2023-02-22T14:49:38.098Z"
   },
   {
    "duration": 43,
    "start_time": "2023-02-22T14:49:49.316Z"
   },
   {
    "duration": 6,
    "start_time": "2023-02-22T14:49:50.686Z"
   },
   {
    "duration": 64,
    "start_time": "2023-02-22T14:49:51.299Z"
   },
   {
    "duration": 64,
    "start_time": "2023-02-22T14:49:53.912Z"
   },
   {
    "duration": 5,
    "start_time": "2023-02-22T14:49:56.271Z"
   },
   {
    "duration": 4,
    "start_time": "2023-02-22T14:53:13.233Z"
   },
   {
    "duration": 5,
    "start_time": "2023-02-22T14:56:11.990Z"
   },
   {
    "duration": 160,
    "start_time": "2023-02-22T15:13:47.564Z"
   },
   {
    "duration": 1242,
    "start_time": "2023-02-22T15:16:32.400Z"
   },
   {
    "duration": 1159,
    "start_time": "2023-02-22T15:19:01.000Z"
   },
   {
    "duration": 65,
    "start_time": "2023-02-22T15:21:09.090Z"
   },
   {
    "duration": 63,
    "start_time": "2023-02-22T15:21:40.512Z"
   },
   {
    "duration": 68,
    "start_time": "2023-02-22T15:22:00.064Z"
   },
   {
    "duration": 1199,
    "start_time": "2023-02-22T15:23:00.887Z"
   },
   {
    "duration": 69,
    "start_time": "2023-02-22T15:23:55.760Z"
   },
   {
    "duration": 72,
    "start_time": "2023-02-22T15:24:15.482Z"
   },
   {
    "duration": 1266,
    "start_time": "2023-02-22T15:25:21.586Z"
   },
   {
    "duration": 1178,
    "start_time": "2023-02-22T15:25:48.424Z"
   },
   {
    "duration": 1229,
    "start_time": "2023-02-22T15:25:57.329Z"
   },
   {
    "duration": 68,
    "start_time": "2023-02-22T15:26:43.127Z"
   },
   {
    "duration": 80,
    "start_time": "2023-02-22T15:27:26.982Z"
   },
   {
    "duration": 1244,
    "start_time": "2023-02-22T15:27:49.724Z"
   },
   {
    "duration": 1234,
    "start_time": "2023-02-22T15:28:22.161Z"
   },
   {
    "duration": 68,
    "start_time": "2023-02-22T15:28:28.457Z"
   },
   {
    "duration": 1219,
    "start_time": "2023-02-22T15:28:59.067Z"
   },
   {
    "duration": 68,
    "start_time": "2023-02-22T15:29:58.655Z"
   },
   {
    "duration": 5,
    "start_time": "2023-02-22T15:30:20.100Z"
   },
   {
    "duration": 60,
    "start_time": "2023-02-22T15:32:39.462Z"
   },
   {
    "duration": 66,
    "start_time": "2023-02-22T15:33:40.217Z"
   },
   {
    "duration": 66,
    "start_time": "2023-02-22T15:33:51.331Z"
   },
   {
    "duration": 5,
    "start_time": "2023-02-22T15:34:02.224Z"
   },
   {
    "duration": 60,
    "start_time": "2023-02-22T15:34:22.256Z"
   },
   {
    "duration": 5,
    "start_time": "2023-02-22T15:34:46.178Z"
   },
   {
    "duration": 59,
    "start_time": "2023-02-22T15:36:22.569Z"
   },
   {
    "duration": 6,
    "start_time": "2023-02-22T15:36:25.958Z"
   },
   {
    "duration": 59,
    "start_time": "2023-02-22T15:37:16.971Z"
   },
   {
    "duration": 5,
    "start_time": "2023-02-22T15:37:42.957Z"
   },
   {
    "duration": 54,
    "start_time": "2023-02-22T15:40:56.284Z"
   },
   {
    "duration": 5,
    "start_time": "2023-02-22T15:41:18.483Z"
   },
   {
    "duration": 8,
    "start_time": "2023-02-22T15:46:18.483Z"
   },
   {
    "duration": 69,
    "start_time": "2023-02-22T15:46:33.925Z"
   },
   {
    "duration": 66,
    "start_time": "2023-02-22T15:47:13.327Z"
   },
   {
    "duration": 65,
    "start_time": "2023-02-22T15:47:44.528Z"
   },
   {
    "duration": 231,
    "start_time": "2023-02-22T16:03:50.699Z"
   },
   {
    "duration": 226,
    "start_time": "2023-02-22T16:04:00.328Z"
   },
   {
    "duration": 242,
    "start_time": "2023-02-22T16:04:11.725Z"
   },
   {
    "duration": 5,
    "start_time": "2023-02-22T16:04:20.841Z"
   },
   {
    "duration": 258,
    "start_time": "2023-02-22T16:07:14.896Z"
   },
   {
    "duration": 247,
    "start_time": "2023-02-22T16:08:34.647Z"
   },
   {
    "duration": 9,
    "start_time": "2023-02-22T16:18:40.773Z"
   },
   {
    "duration": 34,
    "start_time": "2023-02-22T16:18:45.952Z"
   },
   {
    "duration": 32,
    "start_time": "2023-02-22T16:18:54.996Z"
   },
   {
    "duration": 33,
    "start_time": "2023-02-22T16:19:02.577Z"
   },
   {
    "duration": 264,
    "start_time": "2023-02-22T16:20:33.530Z"
   },
   {
    "duration": 5,
    "start_time": "2023-02-22T16:38:30.338Z"
   },
   {
    "duration": 4,
    "start_time": "2023-02-22T16:38:42.216Z"
   },
   {
    "duration": 4,
    "start_time": "2023-02-22T16:39:00.952Z"
   },
   {
    "duration": 77,
    "start_time": "2023-02-22T16:39:23.016Z"
   },
   {
    "duration": 125,
    "start_time": "2023-02-22T16:39:36.828Z"
   },
   {
    "duration": 134,
    "start_time": "2023-02-22T16:40:17.594Z"
   },
   {
    "duration": 145,
    "start_time": "2023-02-22T16:40:25.568Z"
   },
   {
    "duration": 137,
    "start_time": "2023-02-22T16:40:46.319Z"
   },
   {
    "duration": 131,
    "start_time": "2023-02-22T16:41:12.612Z"
   },
   {
    "duration": 73,
    "start_time": "2023-02-22T16:42:54.325Z"
   },
   {
    "duration": 73,
    "start_time": "2023-02-22T16:43:39.116Z"
   },
   {
    "duration": 75,
    "start_time": "2023-02-22T16:45:04.160Z"
   },
   {
    "duration": 69,
    "start_time": "2023-02-22T16:45:10.857Z"
   },
   {
    "duration": 73,
    "start_time": "2023-02-22T16:46:18.124Z"
   },
   {
    "duration": 65,
    "start_time": "2023-02-22T16:46:46.253Z"
   },
   {
    "duration": 72,
    "start_time": "2023-02-22T16:48:41.413Z"
   },
   {
    "duration": 71,
    "start_time": "2023-02-22T16:48:56.353Z"
   },
   {
    "duration": 261,
    "start_time": "2023-02-22T16:50:05.685Z"
   },
   {
    "duration": 263,
    "start_time": "2023-02-22T16:51:32.407Z"
   },
   {
    "duration": 100,
    "start_time": "2023-02-22T16:52:13.389Z"
   },
   {
    "duration": 251,
    "start_time": "2023-02-22T16:52:25.534Z"
   },
   {
    "duration": 321,
    "start_time": "2023-02-22T16:52:58.574Z"
   },
   {
    "duration": 30,
    "start_time": "2023-02-22T17:09:01.548Z"
   },
   {
    "duration": 105,
    "start_time": "2023-02-22T17:10:48.456Z"
   },
   {
    "duration": 107,
    "start_time": "2023-02-22T17:13:12.347Z"
   },
   {
    "duration": 17,
    "start_time": "2023-02-22T17:24:41.849Z"
   },
   {
    "duration": 7826,
    "start_time": "2023-02-22T17:28:07.590Z"
   },
   {
    "duration": 42,
    "start_time": "2023-02-22T17:31:15.710Z"
   },
   {
    "duration": 1148,
    "start_time": "2023-02-22T17:33:21.215Z"
   },
   {
    "duration": 1303,
    "start_time": "2023-02-22T17:36:06.994Z"
   },
   {
    "duration": 1073,
    "start_time": "2023-02-22T17:36:31.802Z"
   },
   {
    "duration": 1123,
    "start_time": "2023-02-22T17:36:49.396Z"
   },
   {
    "duration": 0,
    "start_time": "2023-02-22T17:36:50.521Z"
   },
   {
    "duration": 311,
    "start_time": "2023-02-22T17:37:29.077Z"
   },
   {
    "duration": 376,
    "start_time": "2023-02-22T17:38:06.390Z"
   },
   {
    "duration": 284,
    "start_time": "2023-02-22T17:38:47.677Z"
   },
   {
    "duration": 153,
    "start_time": "2023-02-22T17:53:40.901Z"
   },
   {
    "duration": 3,
    "start_time": "2023-02-22T17:53:42.180Z"
   },
   {
    "duration": 19,
    "start_time": "2023-02-22T17:53:43.189Z"
   },
   {
    "duration": 64,
    "start_time": "2023-02-22T17:53:44.135Z"
   },
   {
    "duration": 85,
    "start_time": "2023-02-22T17:53:45.014Z"
   },
   {
    "duration": 40,
    "start_time": "2023-02-22T17:53:45.493Z"
   },
   {
    "duration": 1218,
    "start_time": "2023-02-22T17:53:53.756Z"
   },
   {
    "duration": 4,
    "start_time": "2023-02-22T17:53:56.769Z"
   },
   {
    "duration": 27,
    "start_time": "2023-02-22T17:53:57.678Z"
   },
   {
    "duration": 101,
    "start_time": "2023-02-22T17:53:58.631Z"
   },
   {
    "duration": 89,
    "start_time": "2023-02-22T17:53:59.727Z"
   },
   {
    "duration": 24,
    "start_time": "2023-02-22T17:54:00.766Z"
   },
   {
    "duration": 11,
    "start_time": "2023-02-22T17:54:02.761Z"
   },
   {
    "duration": 8,
    "start_time": "2023-02-22T17:54:03.733Z"
   },
   {
    "duration": 30,
    "start_time": "2023-02-22T17:54:04.664Z"
   },
   {
    "duration": 7,
    "start_time": "2023-02-22T17:54:05.670Z"
   },
   {
    "duration": 310,
    "start_time": "2023-02-22T17:54:06.615Z"
   },
   {
    "duration": 390,
    "start_time": "2023-02-22T17:54:07.756Z"
   },
   {
    "duration": 609,
    "start_time": "2023-02-22T17:54:09.300Z"
   },
   {
    "duration": 32,
    "start_time": "2023-02-22T17:54:10.401Z"
   },
   {
    "duration": 41,
    "start_time": "2023-02-22T17:54:11.442Z"
   },
   {
    "duration": 27,
    "start_time": "2023-02-22T17:54:13.989Z"
   },
   {
    "duration": 153,
    "start_time": "2023-02-22T17:54:14.622Z"
   },
   {
    "duration": 54,
    "start_time": "2023-02-22T17:54:15.814Z"
   },
   {
    "duration": 238,
    "start_time": "2023-02-22T17:54:16.389Z"
   },
   {
    "duration": 46,
    "start_time": "2023-02-22T17:54:17.567Z"
   },
   {
    "duration": 146,
    "start_time": "2023-02-22T17:54:18.127Z"
   },
   {
    "duration": 78,
    "start_time": "2023-02-22T17:54:19.821Z"
   },
   {
    "duration": 188,
    "start_time": "2023-02-22T17:54:20.320Z"
   },
   {
    "duration": 9,
    "start_time": "2023-02-22T17:54:20.860Z"
   },
   {
    "duration": 6,
    "start_time": "2023-02-22T17:54:21.908Z"
   },
   {
    "duration": 5,
    "start_time": "2023-02-22T17:54:24.458Z"
   },
   {
    "duration": 39,
    "start_time": "2023-02-22T17:54:27.182Z"
   },
   {
    "duration": 5,
    "start_time": "2023-02-22T17:54:29.008Z"
   },
   {
    "duration": 52,
    "start_time": "2023-02-22T17:54:55.377Z"
   },
   {
    "duration": 5,
    "start_time": "2023-02-22T17:54:59.814Z"
   },
   {
    "duration": 287,
    "start_time": "2023-02-22T17:58:48.927Z"
   },
   {
    "duration": 260,
    "start_time": "2023-02-22T18:08:22.708Z"
   },
   {
    "duration": 266,
    "start_time": "2023-02-22T18:10:09.789Z"
   },
   {
    "duration": 197,
    "start_time": "2023-02-22T18:15:31.130Z"
   },
   {
    "duration": 313,
    "start_time": "2023-02-22T18:15:46.499Z"
   },
   {
    "duration": 162,
    "start_time": "2023-02-22T18:19:25.958Z"
   },
   {
    "duration": 3,
    "start_time": "2023-02-22T18:19:27.260Z"
   },
   {
    "duration": 19,
    "start_time": "2023-02-22T18:19:28.156Z"
   },
   {
    "duration": 67,
    "start_time": "2023-02-22T18:19:29.060Z"
   },
   {
    "duration": 61,
    "start_time": "2023-02-22T18:19:30.010Z"
   },
   {
    "duration": 26,
    "start_time": "2023-02-22T18:19:30.440Z"
   },
   {
    "duration": 11,
    "start_time": "2023-02-22T18:19:32.280Z"
   },
   {
    "duration": 6,
    "start_time": "2023-02-22T18:19:33.230Z"
   },
   {
    "duration": 17,
    "start_time": "2023-02-22T18:19:34.141Z"
   },
   {
    "duration": 6,
    "start_time": "2023-02-22T18:19:35.068Z"
   },
   {
    "duration": 212,
    "start_time": "2023-02-22T18:19:35.998Z"
   },
   {
    "duration": 406,
    "start_time": "2023-02-22T18:19:37.127Z"
   },
   {
    "duration": 669,
    "start_time": "2023-02-22T18:19:39.490Z"
   },
   {
    "duration": 31,
    "start_time": "2023-02-22T18:19:40.379Z"
   },
   {
    "duration": 38,
    "start_time": "2023-02-22T18:19:41.560Z"
   },
   {
    "duration": 29,
    "start_time": "2023-02-22T18:19:44.888Z"
   },
   {
    "duration": 154,
    "start_time": "2023-02-22T18:19:45.358Z"
   },
   {
    "duration": 58,
    "start_time": "2023-02-22T18:19:46.255Z"
   },
   {
    "duration": 181,
    "start_time": "2023-02-22T18:19:46.970Z"
   },
   {
    "duration": 10,
    "start_time": "2023-02-22T18:19:47.965Z"
   },
   {
    "duration": 151,
    "start_time": "2023-02-22T18:19:48.507Z"
   },
   {
    "duration": 74,
    "start_time": "2023-02-22T18:19:50.175Z"
   },
   {
    "duration": 10,
    "start_time": "2023-02-22T18:19:50.657Z"
   },
   {
    "duration": 6,
    "start_time": "2023-02-22T18:19:51.197Z"
   },
   {
    "duration": 6,
    "start_time": "2023-02-22T18:19:52.348Z"
   },
   {
    "duration": 4,
    "start_time": "2023-02-22T18:19:53.897Z"
   },
   {
    "duration": 33,
    "start_time": "2023-02-22T18:19:56.586Z"
   },
   {
    "duration": 5,
    "start_time": "2023-02-22T18:19:57.619Z"
   },
   {
    "duration": 52,
    "start_time": "2023-02-22T18:19:58.167Z"
   },
   {
    "duration": 6,
    "start_time": "2023-02-22T18:19:59.278Z"
   },
   {
    "duration": 349,
    "start_time": "2023-02-22T18:19:59.869Z"
   },
   {
    "duration": 278,
    "start_time": "2023-02-22T18:20:01.690Z"
   },
   {
    "duration": 273,
    "start_time": "2023-02-22T18:20:03.091Z"
   },
   {
    "duration": 302,
    "start_time": "2023-02-22T18:20:04.927Z"
   },
   {
    "duration": 2,
    "start_time": "2023-02-22T18:20:10.397Z"
   },
   {
    "duration": 261,
    "start_time": "2023-02-22T18:20:35.777Z"
   },
   {
    "duration": 289,
    "start_time": "2023-02-22T18:21:01.166Z"
   },
   {
    "duration": 264,
    "start_time": "2023-02-22T18:21:29.989Z"
   },
   {
    "duration": 291,
    "start_time": "2023-02-22T18:21:50.829Z"
   },
   {
    "duration": 1781,
    "start_time": "2023-02-23T11:17:28.092Z"
   },
   {
    "duration": 3,
    "start_time": "2023-02-23T11:17:32.228Z"
   },
   {
    "duration": 32,
    "start_time": "2023-02-23T11:17:34.602Z"
   },
   {
    "duration": 78,
    "start_time": "2023-02-23T11:17:35.980Z"
   },
   {
    "duration": 87,
    "start_time": "2023-02-23T11:17:38.776Z"
   },
   {
    "duration": 29,
    "start_time": "2023-02-23T11:17:40.055Z"
   },
   {
    "duration": 12,
    "start_time": "2023-02-23T11:17:47.238Z"
   },
   {
    "duration": 9,
    "start_time": "2023-02-23T11:17:49.434Z"
   },
   {
    "duration": 19,
    "start_time": "2023-02-23T11:17:52.082Z"
   },
   {
    "duration": 6,
    "start_time": "2023-02-23T11:17:53.649Z"
   },
   {
    "duration": 294,
    "start_time": "2023-02-23T11:17:56.171Z"
   },
   {
    "duration": 467,
    "start_time": "2023-02-23T11:17:59.953Z"
   },
   {
    "duration": 681,
    "start_time": "2023-02-23T11:18:12.755Z"
   },
   {
    "duration": 42,
    "start_time": "2023-02-23T11:18:16.647Z"
   },
   {
    "duration": 51,
    "start_time": "2023-02-23T11:18:20.427Z"
   },
   {
    "duration": 27,
    "start_time": "2023-02-23T11:18:31.154Z"
   },
   {
    "duration": 157,
    "start_time": "2023-02-23T11:18:32.063Z"
   },
   {
    "duration": 62,
    "start_time": "2023-02-23T11:18:35.402Z"
   },
   {
    "duration": 243,
    "start_time": "2023-02-23T11:18:37.920Z"
   },
   {
    "duration": 44,
    "start_time": "2023-02-23T11:18:41.829Z"
   },
   {
    "duration": 154,
    "start_time": "2023-02-23T11:18:43.528Z"
   },
   {
    "duration": 83,
    "start_time": "2023-02-23T11:18:50.101Z"
   },
   {
    "duration": 147,
    "start_time": "2023-02-23T11:18:51.612Z"
   },
   {
    "duration": 8,
    "start_time": "2023-02-23T11:19:08.308Z"
   },
   {
    "duration": 5,
    "start_time": "2023-02-23T11:19:10.240Z"
   },
   {
    "duration": 4,
    "start_time": "2023-02-23T11:19:16.942Z"
   },
   {
    "duration": 41,
    "start_time": "2023-02-23T11:19:21.673Z"
   },
   {
    "duration": 5,
    "start_time": "2023-02-23T11:20:48.613Z"
   },
   {
    "duration": 52,
    "start_time": "2023-02-23T11:20:52.222Z"
   },
   {
    "duration": 6,
    "start_time": "2023-02-23T11:21:16.248Z"
   },
   {
    "duration": 279,
    "start_time": "2023-02-23T11:22:26.816Z"
   },
   {
    "duration": 264,
    "start_time": "2023-02-23T11:22:44.660Z"
   },
   {
    "duration": 284,
    "start_time": "2023-02-23T11:22:55.317Z"
   },
   {
    "duration": 298,
    "start_time": "2023-02-23T11:23:32.928Z"
   },
   {
    "duration": 252,
    "start_time": "2023-02-23T11:25:35.069Z"
   },
   {
    "duration": 245,
    "start_time": "2023-02-23T11:25:41.260Z"
   },
   {
    "duration": 264,
    "start_time": "2023-02-23T11:25:53.067Z"
   },
   {
    "duration": 328,
    "start_time": "2023-02-23T11:26:02.130Z"
   },
   {
    "duration": 1835,
    "start_time": "2023-02-23T14:55:23.268Z"
   },
   {
    "duration": 3,
    "start_time": "2023-02-23T14:55:25.105Z"
   },
   {
    "duration": 39,
    "start_time": "2023-02-23T14:55:25.110Z"
   },
   {
    "duration": 79,
    "start_time": "2023-02-23T14:55:25.151Z"
   },
   {
    "duration": 90,
    "start_time": "2023-02-23T14:55:25.232Z"
   },
   {
    "duration": 41,
    "start_time": "2023-02-23T14:55:25.323Z"
   },
   {
    "duration": 12,
    "start_time": "2023-02-23T14:55:25.366Z"
   },
   {
    "duration": 14,
    "start_time": "2023-02-23T14:55:25.380Z"
   },
   {
    "duration": 24,
    "start_time": "2023-02-23T14:55:25.396Z"
   },
   {
    "duration": 23,
    "start_time": "2023-02-23T14:55:25.422Z"
   },
   {
    "duration": 321,
    "start_time": "2023-02-23T14:55:25.447Z"
   },
   {
    "duration": 463,
    "start_time": "2023-02-23T14:55:25.770Z"
   },
   {
    "duration": 686,
    "start_time": "2023-02-23T14:55:26.235Z"
   },
   {
    "duration": 43,
    "start_time": "2023-02-23T14:55:26.924Z"
   },
   {
    "duration": 44,
    "start_time": "2023-02-23T14:55:26.969Z"
   },
   {
    "duration": 47,
    "start_time": "2023-02-23T14:55:27.014Z"
   },
   {
    "duration": 168,
    "start_time": "2023-02-23T14:55:27.063Z"
   },
   {
    "duration": 61,
    "start_time": "2023-02-23T14:55:27.233Z"
   },
   {
    "duration": 257,
    "start_time": "2023-02-23T14:55:27.295Z"
   },
   {
    "duration": 46,
    "start_time": "2023-02-23T14:55:27.554Z"
   },
   {
    "duration": 170,
    "start_time": "2023-02-23T14:55:27.602Z"
   },
   {
    "duration": 105,
    "start_time": "2023-02-23T14:55:27.773Z"
   },
   {
    "duration": 297,
    "start_time": "2023-02-23T14:55:27.880Z"
   },
   {
    "duration": 6,
    "start_time": "2023-02-23T14:55:28.180Z"
   },
   {
    "duration": 13,
    "start_time": "2023-02-23T14:55:28.187Z"
   },
   {
    "duration": 4,
    "start_time": "2023-02-23T14:55:28.201Z"
   },
   {
    "duration": 73,
    "start_time": "2023-02-23T14:55:28.206Z"
   },
   {
    "duration": 6,
    "start_time": "2023-02-23T14:55:28.280Z"
   },
   {
    "duration": 108,
    "start_time": "2023-02-23T14:55:28.287Z"
   },
   {
    "duration": 5,
    "start_time": "2023-02-23T14:55:28.397Z"
   },
   {
    "duration": 290,
    "start_time": "2023-02-23T14:55:28.403Z"
   },
   {
    "duration": 277,
    "start_time": "2023-02-23T14:55:28.695Z"
   },
   {
    "duration": 275,
    "start_time": "2023-02-23T14:55:28.974Z"
   },
   {
    "duration": 305,
    "start_time": "2023-02-23T14:55:29.250Z"
   },
   {
    "duration": 290,
    "start_time": "2023-02-23T14:55:29.556Z"
   },
   {
    "duration": 270,
    "start_time": "2023-02-23T14:55:29.848Z"
   },
   {
    "duration": 295,
    "start_time": "2023-02-23T14:55:30.120Z"
   },
   {
    "duration": 352,
    "start_time": "2023-02-23T14:55:30.417Z"
   },
   {
    "duration": 5,
    "start_time": "2023-02-23T15:00:00.134Z"
   },
   {
    "duration": 65,
    "start_time": "2023-02-23T15:00:01.513Z"
   },
   {
    "duration": 59,
    "start_time": "2023-02-23T15:00:14.374Z"
   },
   {
    "duration": 5,
    "start_time": "2023-02-23T15:00:16.555Z"
   },
   {
    "duration": 57,
    "start_time": "2023-02-23T15:00:17.000Z"
   },
   {
    "duration": 3,
    "start_time": "2023-02-23T15:33:26.290Z"
   },
   {
    "duration": 181,
    "start_time": "2023-02-23T15:33:27.153Z"
   },
   {
    "duration": 13,
    "start_time": "2023-02-23T15:33:31.871Z"
   },
   {
    "duration": 784,
    "start_time": "2023-02-23T15:33:55.583Z"
   },
   {
    "duration": 5,
    "start_time": "2023-02-23T15:34:11.051Z"
   },
   {
    "duration": 25,
    "start_time": "2023-02-23T15:34:16.749Z"
   },
   {
    "duration": 75,
    "start_time": "2023-02-23T15:34:17.937Z"
   },
   {
    "duration": 82,
    "start_time": "2023-02-23T15:34:19.147Z"
   },
   {
    "duration": 40,
    "start_time": "2023-02-23T15:34:19.984Z"
   },
   {
    "duration": 28,
    "start_time": "2023-02-23T15:41:54.626Z"
   },
   {
    "duration": 13,
    "start_time": "2023-02-23T15:41:57.066Z"
   },
   {
    "duration": 7,
    "start_time": "2023-02-23T15:41:58.084Z"
   },
   {
    "duration": 19,
    "start_time": "2023-02-23T15:41:59.312Z"
   },
   {
    "duration": 5,
    "start_time": "2023-02-23T15:42:00.830Z"
   },
   {
    "duration": 215,
    "start_time": "2023-02-23T15:42:03.205Z"
   },
   {
    "duration": 460,
    "start_time": "2023-02-23T15:42:04.110Z"
   },
   {
    "duration": 769,
    "start_time": "2023-02-23T15:42:06.255Z"
   },
   {
    "duration": 33,
    "start_time": "2023-02-23T15:42:09.344Z"
   },
   {
    "duration": 42,
    "start_time": "2023-02-23T15:42:11.011Z"
   },
   {
    "duration": 26,
    "start_time": "2023-02-23T15:42:45.605Z"
   },
   {
    "duration": 156,
    "start_time": "2023-02-23T15:42:46.866Z"
   },
   {
    "duration": 54,
    "start_time": "2023-02-23T15:42:48.625Z"
   },
   {
    "duration": 175,
    "start_time": "2023-02-23T15:42:49.356Z"
   },
   {
    "duration": 10,
    "start_time": "2023-02-23T15:42:51.617Z"
   },
   {
    "duration": 151,
    "start_time": "2023-02-23T15:42:52.180Z"
   },
   {
    "duration": 78,
    "start_time": "2023-02-23T15:42:58.570Z"
   },
   {
    "duration": 9,
    "start_time": "2023-02-23T15:42:59.437Z"
   },
   {
    "duration": 7,
    "start_time": "2023-02-23T15:43:14.702Z"
   },
   {
    "duration": 5,
    "start_time": "2023-02-23T15:43:16.924Z"
   },
   {
    "duration": 1259,
    "start_time": "2023-02-24T07:14:46.780Z"
   },
   {
    "duration": 716,
    "start_time": "2023-02-24T07:14:48.702Z"
   },
   {
    "duration": 9,
    "start_time": "2023-02-24T07:15:11.911Z"
   },
   {
    "duration": 31,
    "start_time": "2023-02-24T07:15:13.883Z"
   },
   {
    "duration": 79,
    "start_time": "2023-02-24T07:15:14.801Z"
   },
   {
    "duration": 80,
    "start_time": "2023-02-24T07:15:15.971Z"
   },
   {
    "duration": 26,
    "start_time": "2023-02-24T07:15:16.542Z"
   },
   {
    "duration": 13,
    "start_time": "2023-02-24T07:17:04.378Z"
   },
   {
    "duration": 7,
    "start_time": "2023-02-24T07:17:06.636Z"
   },
   {
    "duration": 19,
    "start_time": "2023-02-24T07:17:12.697Z"
   },
   {
    "duration": 144,
    "start_time": "2023-02-24T07:17:32.977Z"
   },
   {
    "duration": 10246,
    "start_time": "2023-02-24T07:19:01.262Z"
   },
   {
    "duration": 113,
    "start_time": "2023-02-24T07:21:29.098Z"
   },
   {
    "duration": 64,
    "start_time": "2023-02-24T07:22:00.614Z"
   },
   {
    "duration": 1204,
    "start_time": "2023-02-24T07:25:14.231Z"
   },
   {
    "duration": 184,
    "start_time": "2023-02-24T07:25:15.438Z"
   },
   {
    "duration": 7,
    "start_time": "2023-02-24T07:25:17.334Z"
   },
   {
    "duration": 24,
    "start_time": "2023-02-24T07:25:18.772Z"
   },
   {
    "duration": 88,
    "start_time": "2023-02-24T07:25:19.873Z"
   },
   {
    "duration": 81,
    "start_time": "2023-02-24T07:25:20.878Z"
   },
   {
    "duration": 25,
    "start_time": "2023-02-24T07:25:21.448Z"
   },
   {
    "duration": 14,
    "start_time": "2023-02-24T07:25:23.874Z"
   },
   {
    "duration": 8,
    "start_time": "2023-02-24T07:25:25.026Z"
   },
   {
    "duration": 19,
    "start_time": "2023-02-24T07:25:26.289Z"
   },
   {
    "duration": 208770,
    "start_time": "2023-02-24T07:28:45.705Z"
   },
   {
    "duration": 139,
    "start_time": "2023-02-24T07:37:33.941Z"
   },
   {
    "duration": 10157,
    "start_time": "2023-02-24T07:37:50.158Z"
   },
   {
    "duration": 141,
    "start_time": "2023-02-24T07:44:05.416Z"
   },
   {
    "duration": 153,
    "start_time": "2023-02-24T07:44:11.634Z"
   },
   {
    "duration": 215,
    "start_time": "2023-02-24T07:52:55.220Z"
   },
   {
    "duration": 12933,
    "start_time": "2023-02-24T07:55:21.497Z"
   },
   {
    "duration": 10757,
    "start_time": "2023-02-24T07:55:45.105Z"
   },
   {
    "duration": 14795,
    "start_time": "2023-02-24T07:56:02.067Z"
   },
   {
    "duration": 828,
    "start_time": "2023-02-24T07:56:39.507Z"
   },
   {
    "duration": 186,
    "start_time": "2023-02-24T07:56:57.286Z"
   },
   {
    "duration": 232,
    "start_time": "2023-02-24T07:57:43.087Z"
   },
   {
    "duration": 235,
    "start_time": "2023-02-24T07:57:49.434Z"
   },
   {
    "duration": 5,
    "start_time": "2023-02-24T07:58:00.500Z"
   },
   {
    "duration": 357,
    "start_time": "2023-02-24T07:58:01.933Z"
   },
   {
    "duration": 584,
    "start_time": "2023-02-24T07:58:27.134Z"
   },
   {
    "duration": 582,
    "start_time": "2023-02-24T08:01:26.432Z"
   },
   {
    "duration": 250,
    "start_time": "2023-02-24T08:03:51.984Z"
   },
   {
    "duration": 645,
    "start_time": "2023-02-24T08:05:56.845Z"
   },
   {
    "duration": 36,
    "start_time": "2023-02-24T08:06:03.871Z"
   },
   {
    "duration": 3,
    "start_time": "2023-02-24T08:17:25.017Z"
   },
   {
    "duration": 223,
    "start_time": "2023-02-24T08:17:25.176Z"
   },
   {
    "duration": 1189,
    "start_time": "2023-02-24T08:17:37.825Z"
   },
   {
    "duration": 199,
    "start_time": "2023-02-24T08:17:39.016Z"
   },
   {
    "duration": 8,
    "start_time": "2023-02-24T08:17:41.564Z"
   },
   {
    "duration": 26,
    "start_time": "2023-02-24T08:17:42.689Z"
   },
   {
    "duration": 81,
    "start_time": "2023-02-24T08:17:43.629Z"
   },
   {
    "duration": 79,
    "start_time": "2023-02-24T08:17:44.617Z"
   },
   {
    "duration": 28,
    "start_time": "2023-02-24T08:17:45.033Z"
   },
   {
    "duration": 14,
    "start_time": "2023-02-24T08:17:47.087Z"
   },
   {
    "duration": 7,
    "start_time": "2023-02-24T08:17:48.916Z"
   },
   {
    "duration": 34,
    "start_time": "2023-02-24T08:17:50.095Z"
   },
   {
    "duration": 211,
    "start_time": "2023-02-24T08:17:50.715Z"
   },
   {
    "duration": 7,
    "start_time": "2023-02-24T08:17:52.962Z"
   },
   {
    "duration": 353,
    "start_time": "2023-02-24T08:17:55.220Z"
   },
   {
    "duration": 631,
    "start_time": "2023-02-24T08:17:56.113Z"
   },
   {
    "duration": 229,
    "start_time": "2023-02-24T08:17:56.811Z"
   },
   {
    "duration": 765,
    "start_time": "2023-02-24T08:18:02.396Z"
   },
   {
    "duration": 50,
    "start_time": "2023-02-24T08:18:05.294Z"
   },
   {
    "duration": 36,
    "start_time": "2023-02-24T08:22:09.614Z"
   },
   {
    "duration": 22,
    "start_time": "2023-02-24T08:22:18.457Z"
   },
   {
    "duration": 30,
    "start_time": "2023-02-24T08:22:37.335Z"
   },
   {
    "duration": 41,
    "start_time": "2023-02-24T08:30:33.196Z"
   },
   {
    "duration": 84,
    "start_time": "2023-02-24T08:38:27.994Z"
   },
   {
    "duration": 168,
    "start_time": "2023-02-24T08:38:49.728Z"
   },
   {
    "duration": 6,
    "start_time": "2023-02-24T08:43:10.428Z"
   },
   {
    "duration": 5,
    "start_time": "2023-02-24T08:44:11.284Z"
   },
   {
    "duration": 6,
    "start_time": "2023-02-24T08:45:57.879Z"
   },
   {
    "duration": 4,
    "start_time": "2023-02-24T08:46:49.020Z"
   },
   {
    "duration": 9,
    "start_time": "2023-02-24T08:59:47.676Z"
   },
   {
    "duration": 100,
    "start_time": "2023-02-24T09:07:54.459Z"
   },
   {
    "duration": 29,
    "start_time": "2023-02-24T09:08:24.459Z"
   },
   {
    "duration": 142,
    "start_time": "2023-02-24T09:08:24.908Z"
   },
   {
    "duration": 48,
    "start_time": "2023-02-24T09:08:25.785Z"
   },
   {
    "duration": 149,
    "start_time": "2023-02-24T09:08:27.146Z"
   },
   {
    "duration": 8,
    "start_time": "2023-02-24T09:08:27.678Z"
   },
   {
    "duration": 8,
    "start_time": "2023-02-24T09:08:30.304Z"
   },
   {
    "duration": 9,
    "start_time": "2023-02-24T09:09:37.970Z"
   },
   {
    "duration": 24,
    "start_time": "2023-02-24T09:10:10.893Z"
   },
   {
    "duration": 1026,
    "start_time": "2023-02-24T09:10:39.014Z"
   },
   {
    "duration": 177,
    "start_time": "2023-02-24T09:10:40.042Z"
   },
   {
    "duration": 8,
    "start_time": "2023-02-24T09:10:40.678Z"
   },
   {
    "duration": 24,
    "start_time": "2023-02-24T09:10:41.831Z"
   },
   {
    "duration": 74,
    "start_time": "2023-02-24T09:10:42.951Z"
   },
   {
    "duration": 3,
    "start_time": "2023-02-24T09:11:02.667Z"
   },
   {
    "duration": 167,
    "start_time": "2023-02-24T09:11:03.107Z"
   },
   {
    "duration": 7,
    "start_time": "2023-02-24T09:11:04.620Z"
   },
   {
    "duration": 21,
    "start_time": "2023-02-24T09:11:06.341Z"
   },
   {
    "duration": 68,
    "start_time": "2023-02-24T09:11:07.404Z"
   },
   {
    "duration": 68,
    "start_time": "2023-02-24T09:11:08.919Z"
   },
   {
    "duration": 23,
    "start_time": "2023-02-24T09:11:09.443Z"
   },
   {
    "duration": 11,
    "start_time": "2023-02-24T09:11:12.170Z"
   },
   {
    "duration": 7,
    "start_time": "2023-02-24T09:11:13.344Z"
   },
   {
    "duration": 17,
    "start_time": "2023-02-24T09:11:14.503Z"
   },
   {
    "duration": 197,
    "start_time": "2023-02-24T09:11:15.022Z"
   },
   {
    "duration": 6,
    "start_time": "2023-02-24T09:11:16.640Z"
   },
   {
    "duration": 268,
    "start_time": "2023-02-24T09:11:17.639Z"
   },
   {
    "duration": 573,
    "start_time": "2023-02-24T09:11:18.794Z"
   },
   {
    "duration": 194,
    "start_time": "2023-02-24T09:11:19.369Z"
   },
   {
    "duration": 660,
    "start_time": "2023-02-24T09:11:21.999Z"
   },
   {
    "duration": 33,
    "start_time": "2023-02-24T09:11:23.352Z"
   },
   {
    "duration": 26,
    "start_time": "2023-02-24T09:11:23.932Z"
   },
   {
    "duration": 36,
    "start_time": "2023-02-24T09:11:25.992Z"
   },
   {
    "duration": 22,
    "start_time": "2023-02-24T09:11:29.717Z"
   },
   {
    "duration": 25,
    "start_time": "2023-02-24T09:11:40.197Z"
   },
   {
    "duration": 61,
    "start_time": "2023-02-24T09:13:19.657Z"
   },
   {
    "duration": 51,
    "start_time": "2023-02-24T09:13:27.235Z"
   },
   {
    "duration": 144,
    "start_time": "2023-02-24T09:13:32.542Z"
   },
   {
    "duration": 50,
    "start_time": "2023-02-24T09:13:38.087Z"
   },
   {
    "duration": 142,
    "start_time": "2023-02-24T09:13:38.933Z"
   },
   {
    "duration": 117,
    "start_time": "2023-02-24T09:13:39.577Z"
   },
   {
    "duration": 8,
    "start_time": "2023-02-24T09:13:41.057Z"
   },
   {
    "duration": 1265,
    "start_time": "2023-02-24T14:50:52.706Z"
   },
   {
    "duration": 726,
    "start_time": "2023-02-24T14:50:53.974Z"
   },
   {
    "duration": 8,
    "start_time": "2023-02-24T14:50:54.702Z"
   },
   {
    "duration": 27,
    "start_time": "2023-02-24T14:50:55.919Z"
   },
   {
    "duration": 88,
    "start_time": "2023-02-24T14:50:56.829Z"
   },
   {
    "duration": 88,
    "start_time": "2023-02-24T14:50:57.970Z"
   },
   {
    "duration": 31,
    "start_time": "2023-02-24T14:50:58.501Z"
   },
   {
    "duration": 12,
    "start_time": "2023-02-24T14:51:01.048Z"
   },
   {
    "duration": 7,
    "start_time": "2023-02-24T14:51:02.253Z"
   },
   {
    "duration": 18,
    "start_time": "2023-02-24T14:51:04.128Z"
   },
   {
    "duration": 219,
    "start_time": "2023-02-24T14:51:04.698Z"
   },
   {
    "duration": 5,
    "start_time": "2023-02-24T14:51:06.422Z"
   },
   {
    "duration": 339,
    "start_time": "2023-02-24T14:51:07.585Z"
   },
   {
    "duration": 579,
    "start_time": "2023-02-24T14:51:08.843Z"
   },
   {
    "duration": 221,
    "start_time": "2023-02-24T14:51:09.453Z"
   },
   {
    "duration": 711,
    "start_time": "2023-02-24T14:51:12.627Z"
   },
   {
    "duration": 32,
    "start_time": "2023-02-24T14:51:14.425Z"
   },
   {
    "duration": 31,
    "start_time": "2023-02-24T14:51:15.893Z"
   },
   {
    "duration": 52,
    "start_time": "2023-02-24T15:07:00.420Z"
   },
   {
    "duration": 55,
    "start_time": "2023-02-24T15:07:24.128Z"
   },
   {
    "duration": 42,
    "start_time": "2023-02-24T15:09:31.688Z"
   },
   {
    "duration": 39,
    "start_time": "2023-02-24T15:09:48.762Z"
   },
   {
    "duration": 56,
    "start_time": "2023-02-24T15:10:04.146Z"
   },
   {
    "duration": 52,
    "start_time": "2023-02-24T15:10:44.004Z"
   },
   {
    "duration": 160,
    "start_time": "2023-02-24T15:10:46.238Z"
   },
   {
    "duration": 80,
    "start_time": "2023-02-24T15:10:48.009Z"
   },
   {
    "duration": 157,
    "start_time": "2023-02-24T15:10:49.073Z"
   },
   {
    "duration": 27,
    "start_time": "2023-02-24T15:13:06.967Z"
   },
   {
    "duration": 144,
    "start_time": "2023-02-24T15:13:20.166Z"
   },
   {
    "duration": 60,
    "start_time": "2023-02-24T15:13:30.542Z"
   },
   {
    "duration": 177,
    "start_time": "2023-02-24T15:13:31.392Z"
   },
   {
    "duration": 174,
    "start_time": "2023-02-24T15:13:35.651Z"
   },
   {
    "duration": 11,
    "start_time": "2023-02-24T15:14:54.262Z"
   },
   {
    "duration": 55,
    "start_time": "2023-02-24T15:18:27.202Z"
   },
   {
    "duration": 245,
    "start_time": "2023-02-24T15:18:27.735Z"
   },
   {
    "duration": 89,
    "start_time": "2023-02-24T15:18:30.716Z"
   },
   {
    "duration": 83,
    "start_time": "2023-02-24T15:20:35.703Z"
   },
   {
    "duration": 12,
    "start_time": "2023-02-24T15:20:45.190Z"
   },
   {
    "duration": 28,
    "start_time": "2023-02-24T15:37:23.647Z"
   },
   {
    "duration": 26,
    "start_time": "2023-02-24T15:37:49.430Z"
   },
   {
    "duration": 142,
    "start_time": "2023-02-24T15:39:46.025Z"
   },
   {
    "duration": 27,
    "start_time": "2023-02-24T15:40:33.916Z"
   },
   {
    "duration": 44,
    "start_time": "2023-02-24T15:40:37.624Z"
   },
   {
    "duration": 39,
    "start_time": "2023-02-24T15:40:59.247Z"
   },
   {
    "duration": 35,
    "start_time": "2023-02-24T15:41:08.096Z"
   },
   {
    "duration": 29,
    "start_time": "2023-02-24T15:43:50.495Z"
   },
   {
    "duration": 76,
    "start_time": "2023-02-24T15:44:03.446Z"
   },
   {
    "duration": 97,
    "start_time": "2023-02-24T15:44:23.841Z"
   },
   {
    "duration": 39,
    "start_time": "2023-02-24T15:44:30.829Z"
   },
   {
    "duration": 40,
    "start_time": "2023-02-24T15:44:47.710Z"
   },
   {
    "duration": 30,
    "start_time": "2023-02-24T15:44:56.894Z"
   },
   {
    "duration": 9,
    "start_time": "2023-02-24T15:53:08.538Z"
   },
   {
    "duration": 9,
    "start_time": "2023-02-24T15:53:25.402Z"
   },
   {
    "duration": 10,
    "start_time": "2023-02-24T15:53:51.807Z"
   },
   {
    "duration": 2,
    "start_time": "2023-02-24T15:54:34.289Z"
   },
   {
    "duration": 6,
    "start_time": "2023-02-24T15:54:44.841Z"
   },
   {
    "duration": 8,
    "start_time": "2023-02-24T15:56:09.425Z"
   },
   {
    "duration": 8,
    "start_time": "2023-02-24T15:56:26.404Z"
   },
   {
    "duration": 7,
    "start_time": "2023-02-24T15:56:54.507Z"
   },
   {
    "duration": 35,
    "start_time": "2023-02-24T15:59:50.737Z"
   },
   {
    "duration": 10,
    "start_time": "2023-02-24T16:00:44.175Z"
   },
   {
    "duration": 8,
    "start_time": "2023-02-24T16:06:04.123Z"
   },
   {
    "duration": 20,
    "start_time": "2023-02-24T16:06:06.674Z"
   },
   {
    "duration": 21,
    "start_time": "2023-02-24T16:07:27.075Z"
   },
   {
    "duration": 11,
    "start_time": "2023-02-24T16:09:36.119Z"
   },
   {
    "duration": 9,
    "start_time": "2023-02-24T16:09:49.289Z"
   },
   {
    "duration": 9,
    "start_time": "2023-02-24T16:10:54.303Z"
   },
   {
    "duration": 3,
    "start_time": "2023-02-24T16:11:12.292Z"
   },
   {
    "duration": 176,
    "start_time": "2023-02-24T16:11:12.727Z"
   },
   {
    "duration": 6,
    "start_time": "2023-02-24T16:11:14.014Z"
   },
   {
    "duration": 27,
    "start_time": "2023-02-24T16:11:15.258Z"
   },
   {
    "duration": 77,
    "start_time": "2023-02-24T16:11:16.203Z"
   },
   {
    "duration": 80,
    "start_time": "2023-02-24T16:11:17.348Z"
   },
   {
    "duration": 27,
    "start_time": "2023-02-24T16:11:17.869Z"
   },
   {
    "duration": 12,
    "start_time": "2023-02-24T16:11:20.133Z"
   },
   {
    "duration": 8,
    "start_time": "2023-02-24T16:11:21.097Z"
   },
   {
    "duration": 19,
    "start_time": "2023-02-24T16:11:21.962Z"
   },
   {
    "duration": 188,
    "start_time": "2023-02-24T16:11:22.426Z"
   },
   {
    "duration": 6,
    "start_time": "2023-02-24T16:11:23.917Z"
   },
   {
    "duration": 239,
    "start_time": "2023-02-24T16:11:25.051Z"
   },
   {
    "duration": 636,
    "start_time": "2023-02-24T16:11:26.255Z"
   },
   {
    "duration": 228,
    "start_time": "2023-02-24T16:11:26.944Z"
   },
   {
    "duration": 737,
    "start_time": "2023-02-24T16:11:30.324Z"
   },
   {
    "duration": 40,
    "start_time": "2023-02-24T16:11:31.309Z"
   },
   {
    "duration": 38,
    "start_time": "2023-02-24T16:11:35.686Z"
   },
   {
    "duration": 45,
    "start_time": "2023-02-24T16:11:37.138Z"
   },
   {
    "duration": 28,
    "start_time": "2023-02-24T16:11:40.004Z"
   },
   {
    "duration": 175,
    "start_time": "2023-02-24T16:11:40.504Z"
   },
   {
    "duration": 56,
    "start_time": "2023-02-24T16:11:41.791Z"
   },
   {
    "duration": 175,
    "start_time": "2023-02-24T16:11:42.661Z"
   },
   {
    "duration": 9,
    "start_time": "2023-02-24T16:11:43.439Z"
   },
   {
    "duration": 12,
    "start_time": "2023-02-24T16:11:45.246Z"
   },
   {
    "duration": 157,
    "start_time": "2023-02-24T16:11:46.078Z"
   },
   {
    "duration": 79,
    "start_time": "2023-02-24T16:11:49.786Z"
   },
   {
    "duration": 12,
    "start_time": "2023-02-24T16:11:50.644Z"
   },
   {
    "duration": 8,
    "start_time": "2023-02-24T16:11:54.080Z"
   },
   {
    "duration": 9,
    "start_time": "2023-02-24T16:12:54.601Z"
   },
   {
    "duration": 9,
    "start_time": "2023-02-24T16:13:24.331Z"
   },
   {
    "duration": 18,
    "start_time": "2023-02-24T16:13:28.750Z"
   },
   {
    "duration": 10,
    "start_time": "2023-02-24T16:13:30.638Z"
   },
   {
    "duration": 1124,
    "start_time": "2023-02-24T16:15:28.164Z"
   },
   {
    "duration": 193,
    "start_time": "2023-02-24T16:15:29.290Z"
   },
   {
    "duration": 8,
    "start_time": "2023-02-24T16:15:31.021Z"
   },
   {
    "duration": 35,
    "start_time": "2023-02-24T16:15:32.381Z"
   },
   {
    "duration": 78,
    "start_time": "2023-02-24T16:15:33.259Z"
   },
   {
    "duration": 87,
    "start_time": "2023-02-24T16:15:34.125Z"
   },
   {
    "duration": 26,
    "start_time": "2023-02-24T16:15:34.570Z"
   },
   {
    "duration": 13,
    "start_time": "2023-02-24T16:15:37.025Z"
   },
   {
    "duration": 8,
    "start_time": "2023-02-24T16:15:37.904Z"
   },
   {
    "duration": 19,
    "start_time": "2023-02-24T16:15:38.870Z"
   },
   {
    "duration": 235,
    "start_time": "2023-02-24T16:15:39.358Z"
   },
   {
    "duration": 7,
    "start_time": "2023-02-24T16:15:40.954Z"
   },
   {
    "duration": 284,
    "start_time": "2023-02-24T16:15:42.243Z"
   },
   {
    "duration": 630,
    "start_time": "2023-02-24T16:15:43.298Z"
   },
   {
    "duration": 207,
    "start_time": "2023-02-24T16:15:43.930Z"
   },
   {
    "duration": 736,
    "start_time": "2023-02-24T16:15:46.152Z"
   },
   {
    "duration": 34,
    "start_time": "2023-02-24T16:15:48.252Z"
   },
   {
    "duration": 42,
    "start_time": "2023-02-24T16:15:48.813Z"
   },
   {
    "duration": 40,
    "start_time": "2023-02-24T16:15:50.675Z"
   },
   {
    "duration": 25,
    "start_time": "2023-02-24T16:15:54.383Z"
   },
   {
    "duration": 175,
    "start_time": "2023-02-24T16:15:55.365Z"
   },
   {
    "duration": 61,
    "start_time": "2023-02-24T16:15:56.657Z"
   },
   {
    "duration": 169,
    "start_time": "2023-02-24T16:15:57.618Z"
   },
   {
    "duration": 158,
    "start_time": "2023-02-24T16:15:58.666Z"
   },
   {
    "duration": 49,
    "start_time": "2023-02-24T16:16:00.403Z"
   },
   {
    "duration": 157,
    "start_time": "2023-02-24T16:16:01.000Z"
   },
   {
    "duration": 84,
    "start_time": "2023-02-24T16:16:03.748Z"
   },
   {
    "duration": 10,
    "start_time": "2023-02-24T16:16:05.276Z"
   },
   {
    "duration": 10,
    "start_time": "2023-02-24T16:16:15.932Z"
   },
   {
    "duration": 5,
    "start_time": "2023-02-24T16:17:28.645Z"
   },
   {
    "duration": 4,
    "start_time": "2023-02-24T16:17:30.753Z"
   },
   {
    "duration": 34,
    "start_time": "2023-02-24T16:17:39.099Z"
   },
   {
    "duration": 5,
    "start_time": "2023-02-24T16:19:37.520Z"
   },
   {
    "duration": 170,
    "start_time": "2023-02-24T16:31:52.090Z"
   },
   {
    "duration": 6,
    "start_time": "2023-02-24T16:32:26.561Z"
   },
   {
    "duration": 226,
    "start_time": "2023-02-24T16:32:28.943Z"
   },
   {
    "duration": 64,
    "start_time": "2023-02-24T16:35:56.494Z"
   },
   {
    "duration": 64,
    "start_time": "2023-02-24T16:36:11.607Z"
   },
   {
    "duration": 63,
    "start_time": "2023-02-24T16:36:21.275Z"
   },
   {
    "duration": 71,
    "start_time": "2023-02-24T16:37:58.729Z"
   },
   {
    "duration": 99,
    "start_time": "2023-02-24T16:38:36.848Z"
   },
   {
    "duration": 59,
    "start_time": "2023-02-24T16:39:42.950Z"
   },
   {
    "duration": 54,
    "start_time": "2023-02-24T16:40:02.639Z"
   },
   {
    "duration": 80,
    "start_time": "2023-02-24T16:40:30.542Z"
   },
   {
    "duration": 266,
    "start_time": "2023-02-24T16:42:01.531Z"
   },
   {
    "duration": 269,
    "start_time": "2023-02-24T16:46:11.034Z"
   },
   {
    "duration": 275,
    "start_time": "2023-02-24T16:46:19.616Z"
   },
   {
    "duration": 93,
    "start_time": "2023-02-24T16:46:28.874Z"
   },
   {
    "duration": 249,
    "start_time": "2023-02-24T16:46:34.823Z"
   },
   {
    "duration": 236,
    "start_time": "2023-02-24T16:49:19.491Z"
   },
   {
    "duration": 229,
    "start_time": "2023-02-24T16:57:41.874Z"
   },
   {
    "duration": 250,
    "start_time": "2023-02-24T16:57:59.624Z"
   },
   {
    "duration": 274,
    "start_time": "2023-02-24T16:58:20.053Z"
   },
   {
    "duration": 59,
    "start_time": "2023-02-24T17:07:34.965Z"
   },
   {
    "duration": 99,
    "start_time": "2023-02-24T17:07:49.098Z"
   },
   {
    "duration": 65,
    "start_time": "2023-02-24T17:07:55.756Z"
   },
   {
    "duration": 262,
    "start_time": "2023-02-24T17:08:02.309Z"
   },
   {
    "duration": 278,
    "start_time": "2023-02-24T17:11:05.627Z"
   },
   {
    "duration": 17,
    "start_time": "2023-02-24T17:15:03.658Z"
   },
   {
    "duration": 302,
    "start_time": "2023-02-24T17:15:17.284Z"
   },
   {
    "duration": 223,
    "start_time": "2023-02-24T17:15:47.672Z"
   },
   {
    "duration": 245,
    "start_time": "2023-02-24T17:21:37.092Z"
   },
   {
    "duration": 247,
    "start_time": "2023-02-24T17:23:21.124Z"
   },
   {
    "duration": 246,
    "start_time": "2023-02-24T17:23:26.491Z"
   },
   {
    "duration": 353,
    "start_time": "2023-02-24T17:24:08.229Z"
   },
   {
    "duration": 264,
    "start_time": "2023-02-24T17:24:25.229Z"
   },
   {
    "duration": 329,
    "start_time": "2023-02-24T17:24:30.501Z"
   },
   {
    "duration": 258,
    "start_time": "2023-02-24T17:24:36.049Z"
   },
   {
    "duration": 358,
    "start_time": "2023-02-24T17:24:40.447Z"
   },
   {
    "duration": 1202,
    "start_time": "2023-02-24T18:00:00.315Z"
   },
   {
    "duration": 183,
    "start_time": "2023-02-24T18:00:02.731Z"
   },
   {
    "duration": 1461,
    "start_time": "2023-02-24T18:01:36.629Z"
   },
   {
    "duration": 8,
    "start_time": "2023-02-24T18:01:40.647Z"
   },
   {
    "duration": 28,
    "start_time": "2023-02-24T18:01:44.091Z"
   },
   {
    "duration": 106,
    "start_time": "2023-02-24T18:01:58.087Z"
   },
   {
    "duration": 98,
    "start_time": "2023-02-24T18:02:01.430Z"
   },
   {
    "duration": 28,
    "start_time": "2023-02-24T18:02:02.870Z"
   },
   {
    "duration": 13,
    "start_time": "2023-02-24T18:02:19.208Z"
   },
   {
    "duration": 10,
    "start_time": "2023-02-24T18:02:20.571Z"
   },
   {
    "duration": 17,
    "start_time": "2023-02-24T18:02:23.885Z"
   },
   {
    "duration": 233,
    "start_time": "2023-02-24T18:02:32.433Z"
   },
   {
    "duration": 257,
    "start_time": "2023-02-24T18:03:08.143Z"
   },
   {
    "duration": 6,
    "start_time": "2023-02-24T18:03:31.944Z"
   },
   {
    "duration": 290,
    "start_time": "2023-02-24T18:03:34.754Z"
   },
   {
    "duration": 716,
    "start_time": "2023-02-24T18:03:39.578Z"
   },
   {
    "duration": 241,
    "start_time": "2023-02-24T18:03:40.296Z"
   },
   {
    "duration": 681,
    "start_time": "2023-02-24T18:04:36.814Z"
   },
   {
    "duration": 41,
    "start_time": "2023-02-24T18:06:23.087Z"
   },
   {
    "duration": 37,
    "start_time": "2023-02-24T18:06:33.194Z"
   },
   {
    "duration": 42,
    "start_time": "2023-02-24T18:07:50.710Z"
   },
   {
    "duration": 25,
    "start_time": "2023-02-24T18:12:01.716Z"
   },
   {
    "duration": 153,
    "start_time": "2023-02-24T18:12:03.450Z"
   },
   {
    "duration": 54,
    "start_time": "2023-02-24T18:12:06.261Z"
   },
   {
    "duration": 174,
    "start_time": "2023-02-24T18:12:08.019Z"
   },
   {
    "duration": 189,
    "start_time": "2023-02-24T18:12:18.882Z"
   },
   {
    "duration": 4,
    "start_time": "2023-02-24T18:14:24.312Z"
   },
   {
    "duration": 184,
    "start_time": "2023-02-24T18:14:24.751Z"
   },
   {
    "duration": 9,
    "start_time": "2023-02-24T18:14:26.033Z"
   },
   {
    "duration": 22,
    "start_time": "2023-02-24T18:14:27.790Z"
   },
   {
    "duration": 66,
    "start_time": "2023-02-24T18:14:28.682Z"
   },
   {
    "duration": 93,
    "start_time": "2023-02-24T18:14:29.777Z"
   },
   {
    "duration": 25,
    "start_time": "2023-02-24T18:14:30.292Z"
   },
   {
    "duration": 12,
    "start_time": "2023-02-24T18:14:33.020Z"
   },
   {
    "duration": 7,
    "start_time": "2023-02-24T18:14:33.937Z"
   },
   {
    "duration": 20,
    "start_time": "2023-02-24T18:14:34.840Z"
   },
   {
    "duration": 421,
    "start_time": "2023-02-24T18:14:35.323Z"
   },
   {
    "duration": 7,
    "start_time": "2023-02-24T18:14:37.373Z"
   },
   {
    "duration": 222,
    "start_time": "2023-02-24T18:14:38.433Z"
   },
   {
    "duration": 647,
    "start_time": "2023-02-24T18:14:39.445Z"
   },
   {
    "duration": 214,
    "start_time": "2023-02-24T18:14:40.095Z"
   },
   {
    "duration": 744,
    "start_time": "2023-02-24T18:14:42.807Z"
   },
   {
    "duration": 36,
    "start_time": "2023-02-24T18:14:43.863Z"
   },
   {
    "duration": 45,
    "start_time": "2023-02-24T18:14:44.964Z"
   },
   {
    "duration": 41,
    "start_time": "2023-02-24T18:14:47.109Z"
   },
   {
    "duration": 30,
    "start_time": "2023-02-24T18:14:53.023Z"
   },
   {
    "duration": 160,
    "start_time": "2023-02-24T18:14:53.928Z"
   },
   {
    "duration": 56,
    "start_time": "2023-02-24T18:14:57.271Z"
   },
   {
    "duration": 164,
    "start_time": "2023-02-24T18:14:57.734Z"
   },
   {
    "duration": 9,
    "start_time": "2023-02-24T18:14:58.712Z"
   },
   {
    "duration": 1185,
    "start_time": "2023-02-24T18:15:22.429Z"
   },
   {
    "duration": 189,
    "start_time": "2023-02-24T18:15:23.616Z"
   },
   {
    "duration": 7,
    "start_time": "2023-02-24T18:15:25.278Z"
   },
   {
    "duration": 26,
    "start_time": "2023-02-24T18:15:26.940Z"
   },
   {
    "duration": 87,
    "start_time": "2023-02-24T18:15:27.837Z"
   },
   {
    "duration": 85,
    "start_time": "2023-02-24T18:15:28.694Z"
   },
   {
    "duration": 44,
    "start_time": "2023-02-24T18:15:29.164Z"
   },
   {
    "duration": 15,
    "start_time": "2023-02-24T18:15:31.499Z"
   },
   {
    "duration": 7,
    "start_time": "2023-02-24T18:15:32.438Z"
   },
   {
    "duration": 26,
    "start_time": "2023-02-24T18:15:33.338Z"
   },
   {
    "duration": 287,
    "start_time": "2023-02-24T18:15:34.001Z"
   },
   {
    "duration": 7,
    "start_time": "2023-02-24T18:15:36.207Z"
   },
   {
    "duration": 308,
    "start_time": "2023-02-24T18:15:37.063Z"
   },
   {
    "duration": 604,
    "start_time": "2023-02-24T18:15:38.017Z"
   },
   {
    "duration": 322,
    "start_time": "2023-02-24T18:15:38.623Z"
   },
   {
    "duration": 671,
    "start_time": "2023-02-24T18:15:40.824Z"
   },
   {
    "duration": 36,
    "start_time": "2023-02-24T18:15:42.056Z"
   },
   {
    "duration": 39,
    "start_time": "2023-02-24T18:15:43.158Z"
   },
   {
    "duration": 44,
    "start_time": "2023-02-24T18:15:45.394Z"
   },
   {
    "duration": 26,
    "start_time": "2023-02-24T18:15:49.257Z"
   },
   {
    "duration": 150,
    "start_time": "2023-02-24T18:15:49.930Z"
   },
   {
    "duration": 55,
    "start_time": "2023-02-24T18:15:50.979Z"
   },
   {
    "duration": 173,
    "start_time": "2023-02-24T18:15:51.410Z"
   },
   {
    "duration": 143,
    "start_time": "2023-02-24T18:15:52.640Z"
   },
   {
    "duration": 75,
    "start_time": "2023-02-24T18:15:58.483Z"
   },
   {
    "duration": 158,
    "start_time": "2023-02-24T18:16:21.715Z"
   },
   {
    "duration": 182,
    "start_time": "2023-02-24T18:16:35.724Z"
   },
   {
    "duration": 9,
    "start_time": "2023-02-24T18:16:50.239Z"
   },
   {
    "duration": 18,
    "start_time": "2023-02-24T18:19:10.654Z"
   },
   {
    "duration": 12,
    "start_time": "2023-02-24T18:19:25.129Z"
   },
   {
    "duration": 12,
    "start_time": "2023-02-24T18:19:42.638Z"
   },
   {
    "duration": 5,
    "start_time": "2023-02-24T18:19:54.698Z"
   },
   {
    "duration": 4,
    "start_time": "2023-02-24T18:20:01.299Z"
   },
   {
    "duration": 36,
    "start_time": "2023-02-24T18:21:13.892Z"
   },
   {
    "duration": 5,
    "start_time": "2023-02-24T18:23:18.458Z"
   },
   {
    "duration": 256,
    "start_time": "2023-02-24T18:23:42.999Z"
   },
   {
    "duration": 220,
    "start_time": "2023-02-24T18:24:10.130Z"
   },
   {
    "duration": 237,
    "start_time": "2023-02-24T18:24:40.492Z"
   },
   {
    "duration": 240,
    "start_time": "2023-02-24T18:24:46.005Z"
   },
   {
    "duration": 237,
    "start_time": "2023-02-24T18:24:58.678Z"
   },
   {
    "duration": 239,
    "start_time": "2023-02-24T18:25:10.875Z"
   },
   {
    "duration": 235,
    "start_time": "2023-02-24T18:25:11.728Z"
   },
   {
    "duration": 219,
    "start_time": "2023-02-24T18:25:12.483Z"
   },
   {
    "duration": 237,
    "start_time": "2023-02-24T18:25:14.766Z"
   },
   {
    "duration": 1175,
    "start_time": "2023-02-25T15:50:37.812Z"
   },
   {
    "duration": 198,
    "start_time": "2023-02-25T15:50:38.989Z"
   },
   {
    "duration": 8,
    "start_time": "2023-02-25T15:50:39.189Z"
   },
   {
    "duration": 26,
    "start_time": "2023-02-25T15:50:39.199Z"
   },
   {
    "duration": 95,
    "start_time": "2023-02-25T15:50:39.228Z"
   },
   {
    "duration": 110,
    "start_time": "2023-02-25T15:50:39.325Z"
   },
   {
    "duration": 33,
    "start_time": "2023-02-25T15:50:39.436Z"
   },
   {
    "duration": 14,
    "start_time": "2023-02-25T15:50:39.471Z"
   },
   {
    "duration": 11,
    "start_time": "2023-02-25T15:50:39.487Z"
   },
   {
    "duration": 19,
    "start_time": "2023-02-25T15:50:39.500Z"
   },
   {
    "duration": 324,
    "start_time": "2023-02-25T15:50:39.521Z"
   },
   {
    "duration": 7,
    "start_time": "2023-02-25T15:50:39.846Z"
   },
   {
    "duration": 311,
    "start_time": "2023-02-25T15:50:39.854Z"
   },
   {
    "duration": 611,
    "start_time": "2023-02-25T15:50:40.170Z"
   },
   {
    "duration": 290,
    "start_time": "2023-02-25T15:50:40.783Z"
   },
   {
    "duration": 667,
    "start_time": "2023-02-25T15:50:41.075Z"
   },
   {
    "duration": 34,
    "start_time": "2023-02-25T15:50:41.749Z"
   },
   {
    "duration": 46,
    "start_time": "2023-02-25T15:50:41.785Z"
   },
   {
    "duration": 41,
    "start_time": "2023-02-25T15:50:41.849Z"
   },
   {
    "duration": 28,
    "start_time": "2023-02-25T15:50:41.892Z"
   },
   {
    "duration": 188,
    "start_time": "2023-02-25T15:50:41.922Z"
   },
   {
    "duration": 66,
    "start_time": "2023-02-25T15:50:42.112Z"
   },
   {
    "duration": 169,
    "start_time": "2023-02-25T15:50:42.180Z"
   },
   {
    "duration": 352,
    "start_time": "2023-02-25T15:50:42.350Z"
   },
   {
    "duration": 63,
    "start_time": "2023-02-25T15:50:42.703Z"
   },
   {
    "duration": 232,
    "start_time": "2023-02-25T15:50:42.768Z"
   },
   {
    "duration": 198,
    "start_time": "2023-02-25T15:50:43.002Z"
   },
   {
    "duration": 11,
    "start_time": "2023-02-25T15:50:43.203Z"
   },
   {
    "duration": 8,
    "start_time": "2023-02-25T15:50:43.216Z"
   },
   {
    "duration": 12,
    "start_time": "2023-02-25T15:50:43.225Z"
   },
   {
    "duration": 41,
    "start_time": "2023-02-25T15:50:43.249Z"
   },
   {
    "duration": 5,
    "start_time": "2023-02-25T15:50:43.292Z"
   },
   {
    "duration": 341,
    "start_time": "2023-02-25T15:50:43.299Z"
   },
   {
    "duration": 246,
    "start_time": "2023-02-25T15:50:43.649Z"
   },
   {
    "duration": 254,
    "start_time": "2023-02-25T15:50:43.897Z"
   },
   {
    "duration": 241,
    "start_time": "2023-02-25T15:50:44.153Z"
   },
   {
    "duration": 257,
    "start_time": "2023-02-25T15:50:44.397Z"
   },
   {
    "duration": 241,
    "start_time": "2023-02-25T15:50:44.656Z"
   },
   {
    "duration": 252,
    "start_time": "2023-02-25T15:50:44.899Z"
   },
   {
    "duration": 250,
    "start_time": "2023-02-25T15:50:45.153Z"
   },
   {
    "duration": 267,
    "start_time": "2023-02-25T15:50:45.408Z"
   },
   {
    "duration": 2225,
    "start_time": "2023-02-25T16:07:36.349Z"
   },
   {
    "duration": 1866,
    "start_time": "2023-02-25T16:07:38.585Z"
   },
   {
    "duration": 23,
    "start_time": "2023-02-25T16:07:40.456Z"
   },
   {
    "duration": 52,
    "start_time": "2023-02-25T16:07:43.759Z"
   },
   {
    "duration": 151,
    "start_time": "2023-02-25T16:07:44.864Z"
   },
   {
    "duration": 254,
    "start_time": "2023-02-25T16:07:45.733Z"
   },
   {
    "duration": 31,
    "start_time": "2023-02-25T16:07:51.487Z"
   },
   {
    "duration": 35,
    "start_time": "2023-02-25T16:07:55.464Z"
   },
   {
    "duration": 20,
    "start_time": "2023-02-25T16:07:56.831Z"
   },
   {
    "duration": 67,
    "start_time": "2023-02-25T16:07:58.433Z"
   },
   {
    "duration": 599,
    "start_time": "2023-02-25T16:09:15.296Z"
   },
   {
    "duration": 46,
    "start_time": "2023-02-25T16:22:29.552Z"
   },
   {
    "duration": 42,
    "start_time": "2023-02-25T16:22:58.789Z"
   },
   {
    "duration": 569,
    "start_time": "2023-02-25T16:24:21.193Z"
   },
   {
    "duration": 441,
    "start_time": "2023-02-25T16:24:36.172Z"
   },
   {
    "duration": 26,
    "start_time": "2023-02-25T16:28:25.171Z"
   },
   {
    "duration": 2355,
    "start_time": "2023-02-25T16:30:06.084Z"
   },
   {
    "duration": 555,
    "start_time": "2023-02-25T16:31:06.129Z"
   },
   {
    "duration": 35,
    "start_time": "2023-02-25T16:31:42.692Z"
   },
   {
    "duration": 196,
    "start_time": "2023-02-25T16:32:38.197Z"
   },
   {
    "duration": 1393,
    "start_time": "2023-02-25T16:32:50.666Z"
   },
   {
    "duration": 1472,
    "start_time": "2023-02-25T16:33:14.056Z"
   },
   {
    "duration": 29,
    "start_time": "2023-02-25T16:33:16.438Z"
   },
   {
    "duration": 797,
    "start_time": "2023-02-25T16:33:59.354Z"
   },
   {
    "duration": 24,
    "start_time": "2023-02-25T16:34:05.940Z"
   },
   {
    "duration": 141,
    "start_time": "2023-02-25T16:35:33.348Z"
   },
   {
    "duration": 10435,
    "start_time": "2023-02-25T16:35:50.750Z"
   },
   {
    "duration": 176,
    "start_time": "2023-02-25T16:38:26.763Z"
   },
   {
    "duration": 29,
    "start_time": "2023-02-25T16:38:45.060Z"
   },
   {
    "duration": 169,
    "start_time": "2023-02-25T16:38:57.228Z"
   },
   {
    "duration": 264,
    "start_time": "2023-02-25T16:39:13.771Z"
   },
   {
    "duration": 55,
    "start_time": "2023-02-25T16:40:02.194Z"
   },
   {
    "duration": 293,
    "start_time": "2023-02-25T16:41:29.085Z"
   },
   {
    "duration": 333,
    "start_time": "2023-02-25T16:41:53.284Z"
   },
   {
    "duration": 1821,
    "start_time": "2023-02-25T16:43:39.340Z"
   },
   {
    "duration": 7134,
    "start_time": "2023-02-25T16:43:48.475Z"
   },
   {
    "duration": 1545,
    "start_time": "2023-02-25T16:43:57.710Z"
   },
   {
    "duration": 1374,
    "start_time": "2023-02-25T16:44:32.710Z"
   },
   {
    "duration": 245,
    "start_time": "2023-02-25T16:44:34.086Z"
   },
   {
    "duration": 7,
    "start_time": "2023-02-25T16:44:34.378Z"
   },
   {
    "duration": 47,
    "start_time": "2023-02-25T16:44:36.830Z"
   },
   {
    "duration": 104,
    "start_time": "2023-02-25T16:44:39.170Z"
   },
   {
    "duration": 125,
    "start_time": "2023-02-25T16:44:40.034Z"
   },
   {
    "duration": 25,
    "start_time": "2023-02-25T16:44:40.675Z"
   },
   {
    "duration": 17,
    "start_time": "2023-02-25T16:44:43.054Z"
   },
   {
    "duration": 9,
    "start_time": "2023-02-25T16:44:44.052Z"
   },
   {
    "duration": 29,
    "start_time": "2023-02-25T16:44:44.944Z"
   },
   {
    "duration": 873,
    "start_time": "2023-02-25T16:44:45.994Z"
   },
   {
    "duration": 8,
    "start_time": "2023-02-25T16:46:49.082Z"
   },
   {
    "duration": 9,
    "start_time": "2023-02-25T16:47:17.170Z"
   },
   {
    "duration": 29,
    "start_time": "2023-02-25T16:47:26.206Z"
   },
   {
    "duration": 10154,
    "start_time": "2023-02-25T16:47:35.828Z"
   },
   {
    "duration": 20,
    "start_time": "2023-02-25T16:48:09.232Z"
   },
   {
    "duration": 9,
    "start_time": "2023-02-25T16:48:18.785Z"
   },
   {
    "duration": 559,
    "start_time": "2023-02-25T16:48:33.524Z"
   },
   {
    "duration": 6,
    "start_time": "2023-02-25T16:53:53.948Z"
   },
   {
    "duration": 336,
    "start_time": "2023-02-25T16:53:55.983Z"
   },
   {
    "duration": 1576,
    "start_time": "2023-02-25T16:53:56.891Z"
   },
   {
    "duration": 219,
    "start_time": "2023-02-25T16:53:58.469Z"
   },
   {
    "duration": 685,
    "start_time": "2023-02-25T16:54:00.593Z"
   },
   {
    "duration": 59,
    "start_time": "2023-02-25T16:54:01.493Z"
   },
   {
    "duration": 58,
    "start_time": "2023-02-25T16:54:17.428Z"
   },
   {
    "duration": 63,
    "start_time": "2023-02-25T16:54:19.998Z"
   },
   {
    "duration": 32,
    "start_time": "2023-02-25T16:54:25.234Z"
   },
   {
    "duration": 169,
    "start_time": "2023-02-25T16:54:39.038Z"
   },
   {
    "duration": 74,
    "start_time": "2023-02-25T16:54:40.213Z"
   },
   {
    "duration": 183,
    "start_time": "2023-02-25T16:54:41.209Z"
   },
   {
    "duration": 200,
    "start_time": "2023-02-25T16:54:43.446Z"
   },
   {
    "duration": 84,
    "start_time": "2023-02-25T16:55:17.496Z"
   },
   {
    "duration": 5,
    "start_time": "2023-02-25T16:55:36.445Z"
   },
   {
    "duration": 643,
    "start_time": "2023-02-25T16:59:34.864Z"
   },
   {
    "duration": 96,
    "start_time": "2023-02-25T17:00:05.627Z"
   },
   {
    "duration": 97,
    "start_time": "2023-02-25T17:00:14.770Z"
   },
   {
    "duration": 73,
    "start_time": "2023-02-25T17:00:24.628Z"
   },
   {
    "duration": 131,
    "start_time": "2023-02-25T17:01:22.408Z"
   },
   {
    "duration": 5,
    "start_time": "2023-02-25T17:01:28.588Z"
   },
   {
    "duration": 16,
    "start_time": "2023-02-25T17:01:34.654Z"
   },
   {
    "duration": 2167,
    "start_time": "2023-02-25T17:03:10.428Z"
   },
   {
    "duration": 79,
    "start_time": "2023-02-25T17:04:24.564Z"
   },
   {
    "duration": 80,
    "start_time": "2023-02-25T17:04:36.147Z"
   },
   {
    "duration": 77,
    "start_time": "2023-02-25T17:04:41.176Z"
   },
   {
    "duration": 353,
    "start_time": "2023-02-25T17:04:41.472Z"
   },
   {
    "duration": 14,
    "start_time": "2023-02-25T17:04:44.359Z"
   },
   {
    "duration": 29,
    "start_time": "2023-02-25T17:05:44.334Z"
   },
   {
    "duration": 70,
    "start_time": "2023-02-25T17:06:16.256Z"
   },
   {
    "duration": 154,
    "start_time": "2023-02-25T17:06:17.951Z"
   },
   {
    "duration": 9,
    "start_time": "2023-02-25T17:06:19.653Z"
   },
   {
    "duration": 24,
    "start_time": "2023-02-25T17:07:32.065Z"
   },
   {
    "duration": 13,
    "start_time": "2023-02-25T17:12:53.579Z"
   },
   {
    "duration": 18,
    "start_time": "2023-02-25T17:13:22.770Z"
   },
   {
    "duration": 28,
    "start_time": "2023-02-25T17:13:50.331Z"
   },
   {
    "duration": 16,
    "start_time": "2023-02-25T17:13:57.403Z"
   },
   {
    "duration": 22,
    "start_time": "2023-02-25T17:15:45.932Z"
   },
   {
    "duration": 17,
    "start_time": "2023-02-25T17:17:38.461Z"
   },
   {
    "duration": 15,
    "start_time": "2023-02-25T17:18:06.468Z"
   },
   {
    "duration": 29,
    "start_time": "2023-02-25T17:18:42.738Z"
   },
   {
    "duration": 1269,
    "start_time": "2023-02-25T17:19:07.604Z"
   },
   {
    "duration": 245,
    "start_time": "2023-02-25T17:19:08.877Z"
   },
   {
    "duration": 8,
    "start_time": "2023-02-25T17:19:09.168Z"
   },
   {
    "duration": 41,
    "start_time": "2023-02-25T17:19:13.310Z"
   },
   {
    "duration": 105,
    "start_time": "2023-02-25T17:19:14.134Z"
   },
   {
    "duration": 130,
    "start_time": "2023-02-25T17:19:14.893Z"
   },
   {
    "duration": 64,
    "start_time": "2023-02-25T17:19:15.281Z"
   },
   {
    "duration": 13,
    "start_time": "2023-02-25T17:19:17.242Z"
   },
   {
    "duration": 17,
    "start_time": "2023-02-25T17:19:18.103Z"
   },
   {
    "duration": 17,
    "start_time": "2023-02-25T17:19:18.858Z"
   },
   {
    "duration": 554,
    "start_time": "2023-02-25T17:19:19.239Z"
   },
   {
    "duration": 6,
    "start_time": "2023-02-25T17:19:22.687Z"
   },
   {
    "duration": 325,
    "start_time": "2023-02-25T17:19:23.644Z"
   },
   {
    "duration": 754,
    "start_time": "2023-02-25T17:19:24.993Z"
   },
   {
    "duration": 269,
    "start_time": "2023-02-25T17:19:25.750Z"
   },
   {
    "duration": 666,
    "start_time": "2023-02-25T17:19:28.430Z"
   },
   {
    "duration": 48,
    "start_time": "2023-02-25T17:19:29.349Z"
   },
   {
    "duration": 79,
    "start_time": "2023-02-25T17:19:30.348Z"
   },
   {
    "duration": 65,
    "start_time": "2023-02-25T17:19:33.133Z"
   },
   {
    "duration": 42,
    "start_time": "2023-02-25T17:19:37.160Z"
   },
   {
    "duration": 185,
    "start_time": "2023-02-25T17:19:38.758Z"
   },
   {
    "duration": 85,
    "start_time": "2023-02-25T17:19:45.735Z"
   },
   {
    "duration": 195,
    "start_time": "2023-02-25T17:19:49.148Z"
   },
   {
    "duration": 244,
    "start_time": "2023-02-25T17:19:55.840Z"
   },
   {
    "duration": 12,
    "start_time": "2023-02-25T17:20:02.383Z"
   },
   {
    "duration": 17,
    "start_time": "2023-02-25T17:20:13.045Z"
   },
   {
    "duration": 11,
    "start_time": "2023-02-25T17:20:20.956Z"
   },
   {
    "duration": 1233,
    "start_time": "2023-02-25T17:20:43.744Z"
   },
   {
    "duration": 227,
    "start_time": "2023-02-25T17:20:44.979Z"
   },
   {
    "duration": 238,
    "start_time": "2023-02-25T17:20:49.956Z"
   },
   {
    "duration": 7,
    "start_time": "2023-02-25T17:20:51.081Z"
   },
   {
    "duration": 37,
    "start_time": "2023-02-25T17:20:52.789Z"
   },
   {
    "duration": 89,
    "start_time": "2023-02-25T17:20:55.582Z"
   },
   {
    "duration": 114,
    "start_time": "2023-02-25T17:20:56.140Z"
   },
   {
    "duration": 43,
    "start_time": "2023-02-25T17:20:56.530Z"
   },
   {
    "duration": 22,
    "start_time": "2023-02-25T17:20:58.436Z"
   },
   {
    "duration": 14,
    "start_time": "2023-02-25T17:20:59.235Z"
   },
   {
    "duration": 33,
    "start_time": "2023-02-25T17:20:59.858Z"
   },
   {
    "duration": 620,
    "start_time": "2023-02-25T17:21:00.205Z"
   },
   {
    "duration": 8,
    "start_time": "2023-02-25T17:21:03.240Z"
   },
   {
    "duration": 404,
    "start_time": "2023-02-25T17:21:03.933Z"
   },
   {
    "duration": 717,
    "start_time": "2023-02-25T17:21:05.384Z"
   },
   {
    "duration": 251,
    "start_time": "2023-02-25T17:21:06.103Z"
   },
   {
    "duration": 700,
    "start_time": "2023-02-25T17:21:08.574Z"
   },
   {
    "duration": 38,
    "start_time": "2023-02-25T17:21:09.440Z"
   },
   {
    "duration": 66,
    "start_time": "2023-02-25T17:21:10.299Z"
   },
   {
    "duration": 41,
    "start_time": "2023-02-25T17:21:12.451Z"
   },
   {
    "duration": 39,
    "start_time": "2023-02-25T17:21:17.049Z"
   },
   {
    "duration": 184,
    "start_time": "2023-02-25T17:21:17.967Z"
   },
   {
    "duration": 110,
    "start_time": "2023-02-25T17:21:19.637Z"
   },
   {
    "duration": 171,
    "start_time": "2023-02-25T17:21:20.836Z"
   },
   {
    "duration": 189,
    "start_time": "2023-02-25T17:21:22.060Z"
   },
   {
    "duration": 28,
    "start_time": "2023-02-25T17:21:25.207Z"
   },
   {
    "duration": 4,
    "start_time": "2023-02-25T17:24:04.804Z"
   },
   {
    "duration": 10,
    "start_time": "2023-02-25T17:24:10.743Z"
   },
   {
    "duration": 14,
    "start_time": "2023-02-25T17:24:17.411Z"
   },
   {
    "duration": 9,
    "start_time": "2023-02-25T17:24:35.145Z"
   },
   {
    "duration": 17,
    "start_time": "2023-02-25T17:24:37.010Z"
   },
   {
    "duration": 81,
    "start_time": "2023-02-25T17:24:42.170Z"
   },
   {
    "duration": 287,
    "start_time": "2023-02-25T17:24:43.606Z"
   },
   {
    "duration": 11,
    "start_time": "2023-02-25T17:24:45.349Z"
   },
   {
    "duration": 25,
    "start_time": "2023-02-25T17:24:48.904Z"
   },
   {
    "duration": 15,
    "start_time": "2023-02-25T17:24:56.477Z"
   },
   {
    "duration": 10,
    "start_time": "2023-02-25T17:25:04.486Z"
   },
   {
    "duration": 15,
    "start_time": "2023-02-25T17:25:20.337Z"
   },
   {
    "duration": 9,
    "start_time": "2023-02-25T17:25:28.040Z"
   },
   {
    "duration": 14,
    "start_time": "2023-02-25T17:25:32.882Z"
   },
   {
    "duration": 128,
    "start_time": "2023-02-25T17:26:36.184Z"
   },
   {
    "duration": 106,
    "start_time": "2023-02-25T17:29:35.581Z"
   },
   {
    "duration": 13,
    "start_time": "2023-02-25T17:36:11.941Z"
   },
   {
    "duration": 9,
    "start_time": "2023-02-25T17:37:09.674Z"
   },
   {
    "duration": 13,
    "start_time": "2023-02-25T17:37:46.334Z"
   },
   {
    "duration": 10,
    "start_time": "2023-02-25T17:38:12.283Z"
   },
   {
    "duration": 33,
    "start_time": "2023-02-25T17:38:17.606Z"
   },
   {
    "duration": 107,
    "start_time": "2023-02-25T17:38:22.749Z"
   },
   {
    "duration": 170,
    "start_time": "2023-02-25T17:38:23.650Z"
   },
   {
    "duration": 14,
    "start_time": "2023-02-25T17:38:26.149Z"
   },
   {
    "duration": 11,
    "start_time": "2023-02-25T17:38:37.637Z"
   },
   {
    "duration": 10,
    "start_time": "2023-02-25T17:44:10.837Z"
   },
   {
    "duration": 75,
    "start_time": "2023-02-25T17:54:19.607Z"
   },
   {
    "duration": 145,
    "start_time": "2023-02-25T17:54:21.330Z"
   },
   {
    "duration": 12,
    "start_time": "2023-02-25T17:54:22.866Z"
   },
   {
    "duration": 157,
    "start_time": "2023-02-25T17:55:37.130Z"
   },
   {
    "duration": 22,
    "start_time": "2023-02-25T17:59:55.357Z"
   },
   {
    "duration": 8,
    "start_time": "2023-02-25T18:00:15.032Z"
   },
   {
    "duration": 33,
    "start_time": "2023-02-25T18:00:23.692Z"
   },
   {
    "duration": 13,
    "start_time": "2023-02-25T18:01:12.986Z"
   },
   {
    "duration": 8,
    "start_time": "2023-02-25T18:01:47.596Z"
   },
   {
    "duration": 32,
    "start_time": "2023-02-25T18:02:02.407Z"
   },
   {
    "duration": 1216,
    "start_time": "2023-02-25T18:04:24.035Z"
   },
   {
    "duration": 204,
    "start_time": "2023-02-25T18:04:25.253Z"
   },
   {
    "duration": 7,
    "start_time": "2023-02-25T18:04:25.459Z"
   },
   {
    "duration": 24,
    "start_time": "2023-02-25T18:04:28.783Z"
   },
   {
    "duration": 90,
    "start_time": "2023-02-25T18:04:29.586Z"
   },
   {
    "duration": 122,
    "start_time": "2023-02-25T18:04:31.809Z"
   },
   {
    "duration": 28,
    "start_time": "2023-02-25T18:04:32.161Z"
   },
   {
    "duration": 22,
    "start_time": "2023-02-25T18:04:34.278Z"
   },
   {
    "duration": 7,
    "start_time": "2023-02-25T18:04:35.137Z"
   },
   {
    "duration": 37,
    "start_time": "2023-02-25T18:04:39.002Z"
   },
   {
    "duration": 711,
    "start_time": "2023-02-25T18:04:39.883Z"
   },
   {
    "duration": 6,
    "start_time": "2023-02-25T18:04:41.865Z"
   },
   {
    "duration": 313,
    "start_time": "2023-02-25T18:04:43.179Z"
   },
   {
    "duration": 770,
    "start_time": "2023-02-25T18:04:44.577Z"
   },
   {
    "duration": 266,
    "start_time": "2023-02-25T18:04:45.437Z"
   },
   {
    "duration": 711,
    "start_time": "2023-02-25T18:04:47.231Z"
   },
   {
    "duration": 45,
    "start_time": "2023-02-25T18:04:49.799Z"
   },
   {
    "duration": 40,
    "start_time": "2023-02-25T18:04:50.634Z"
   },
   {
    "duration": 48,
    "start_time": "2023-02-25T18:04:54.437Z"
   },
   {
    "duration": 27,
    "start_time": "2023-02-25T18:04:56.549Z"
   },
   {
    "duration": 166,
    "start_time": "2023-02-25T18:04:58.307Z"
   },
   {
    "duration": 69,
    "start_time": "2023-02-25T18:05:01.803Z"
   },
   {
    "duration": 160,
    "start_time": "2023-02-25T18:05:08.508Z"
   },
   {
    "duration": 170,
    "start_time": "2023-02-25T18:05:10.374Z"
   },
   {
    "duration": 153,
    "start_time": "2023-02-25T18:05:16.101Z"
   },
   {
    "duration": 10,
    "start_time": "2023-02-25T18:05:35.958Z"
   },
   {
    "duration": 31,
    "start_time": "2023-02-25T18:05:57.277Z"
   },
   {
    "duration": 30,
    "start_time": "2023-02-25T18:06:21.605Z"
   },
   {
    "duration": 18,
    "start_time": "2023-02-25T18:07:54.175Z"
   },
   {
    "duration": 13,
    "start_time": "2023-02-25T18:08:04.162Z"
   },
   {
    "duration": 10,
    "start_time": "2023-02-25T18:08:22.962Z"
   },
   {
    "duration": 13,
    "start_time": "2023-02-25T18:08:47.258Z"
   },
   {
    "duration": 13,
    "start_time": "2023-02-25T18:09:19.762Z"
   },
   {
    "duration": 10,
    "start_time": "2023-02-25T18:09:25.084Z"
   },
   {
    "duration": 15,
    "start_time": "2023-02-25T18:09:29.287Z"
   },
   {
    "duration": 1667,
    "start_time": "2023-02-25T18:09:57.160Z"
   },
   {
    "duration": 16,
    "start_time": "2023-02-25T18:10:08.770Z"
   },
   {
    "duration": 17,
    "start_time": "2023-02-25T18:10:39.654Z"
   },
   {
    "duration": 1333,
    "start_time": "2023-02-25T18:12:54.952Z"
   },
   {
    "duration": 266,
    "start_time": "2023-02-25T18:12:56.362Z"
   },
   {
    "duration": 9,
    "start_time": "2023-02-25T18:13:01.247Z"
   },
   {
    "duration": 23,
    "start_time": "2023-02-25T18:13:04.257Z"
   },
   {
    "duration": 104,
    "start_time": "2023-02-25T18:13:05.759Z"
   },
   {
    "duration": 126,
    "start_time": "2023-02-25T18:13:06.930Z"
   },
   {
    "duration": 58,
    "start_time": "2023-02-25T18:13:08.607Z"
   },
   {
    "duration": 45,
    "start_time": "2023-02-25T18:13:11.407Z"
   },
   {
    "duration": 18,
    "start_time": "2023-02-25T18:13:12.738Z"
   },
   {
    "duration": 28,
    "start_time": "2023-02-25T18:13:13.934Z"
   },
   {
    "duration": 634,
    "start_time": "2023-02-25T18:13:43.444Z"
   },
   {
    "duration": 6,
    "start_time": "2023-02-25T18:13:45.875Z"
   },
   {
    "duration": 322,
    "start_time": "2023-02-25T18:13:48.862Z"
   },
   {
    "duration": 735,
    "start_time": "2023-02-25T18:13:50.735Z"
   },
   {
    "duration": 223,
    "start_time": "2023-02-25T18:13:52.669Z"
   },
   {
    "duration": 736,
    "start_time": "2023-02-25T18:14:01.544Z"
   },
   {
    "duration": 59,
    "start_time": "2023-02-25T18:14:07.472Z"
   },
   {
    "duration": 45,
    "start_time": "2023-02-25T18:14:08.678Z"
   },
   {
    "duration": 44,
    "start_time": "2023-02-25T18:14:11.044Z"
   },
   {
    "duration": 28,
    "start_time": "2023-02-25T18:14:34.776Z"
   },
   {
    "duration": 172,
    "start_time": "2023-02-25T18:14:42.432Z"
   },
   {
    "duration": 84,
    "start_time": "2023-02-25T18:15:21.301Z"
   },
   {
    "duration": 154,
    "start_time": "2023-02-25T18:15:28.053Z"
   },
   {
    "duration": 193,
    "start_time": "2023-02-25T18:15:33.876Z"
   },
   {
    "duration": 28,
    "start_time": "2023-02-25T18:16:05.564Z"
   },
   {
    "duration": 31,
    "start_time": "2023-02-25T18:16:29.004Z"
   },
   {
    "duration": 23,
    "start_time": "2023-02-25T18:16:52.533Z"
   },
   {
    "duration": 14,
    "start_time": "2023-02-25T18:17:16.578Z"
   },
   {
    "duration": 76,
    "start_time": "2023-02-25T18:17:54.754Z"
   },
   {
    "duration": 15,
    "start_time": "2023-02-25T18:18:38.504Z"
   },
   {
    "duration": 1271,
    "start_time": "2023-03-27T19:03:59.461Z"
   },
   {
    "duration": 1206,
    "start_time": "2023-03-27T19:04:00.734Z"
   },
   {
    "duration": 10,
    "start_time": "2023-03-27T19:04:01.942Z"
   },
   {
    "duration": 37,
    "start_time": "2023-03-27T19:04:05.320Z"
   },
   {
    "duration": 86,
    "start_time": "2023-03-27T19:04:05.992Z"
   },
   {
    "duration": 100,
    "start_time": "2023-03-27T19:04:06.760Z"
   },
   {
    "duration": 39,
    "start_time": "2023-03-27T19:04:07.171Z"
   },
   {
    "duration": 12,
    "start_time": "2023-03-27T19:04:09.097Z"
   },
   {
    "duration": 9,
    "start_time": "2023-03-27T19:04:10.049Z"
   },
   {
    "duration": 27,
    "start_time": "2023-03-27T19:04:10.896Z"
   },
   {
    "duration": 630,
    "start_time": "2023-03-27T19:04:11.322Z"
   },
   {
    "duration": 8,
    "start_time": "2023-03-27T19:04:14.204Z"
   },
   {
    "duration": 355,
    "start_time": "2023-03-27T19:04:14.813Z"
   },
   {
    "duration": 810,
    "start_time": "2023-03-27T19:04:16.199Z"
   },
   {
    "duration": 250,
    "start_time": "2023-03-27T19:04:17.011Z"
   },
   {
    "duration": 820,
    "start_time": "2023-03-27T19:04:18.832Z"
   },
   {
    "duration": 43,
    "start_time": "2023-03-27T19:04:19.695Z"
   },
   {
    "duration": 62,
    "start_time": "2023-03-27T19:04:20.309Z"
   },
   {
    "duration": 52,
    "start_time": "2023-03-27T19:04:22.516Z"
   },
   {
    "duration": 37,
    "start_time": "2023-03-27T19:04:26.661Z"
   },
   {
    "duration": 189,
    "start_time": "2023-03-27T19:04:28.599Z"
   },
   {
    "duration": 82,
    "start_time": "2023-03-27T19:04:33.030Z"
   },
   {
    "duration": 219,
    "start_time": "2023-03-27T19:04:34.470Z"
   },
   {
    "duration": 199,
    "start_time": "2023-03-27T19:04:36.823Z"
   },
   {
    "duration": 12,
    "start_time": "2023-03-27T19:05:14.124Z"
   },
   {
    "duration": 1252,
    "start_time": "2023-04-29T13:22:52.121Z"
   },
   {
    "duration": 545,
    "start_time": "2023-04-29T13:22:53.375Z"
   },
   {
    "duration": 8,
    "start_time": "2023-04-29T13:22:53.922Z"
   },
   {
    "duration": 26,
    "start_time": "2023-04-29T13:22:55.716Z"
   },
   {
    "duration": 83,
    "start_time": "2023-04-29T13:22:56.227Z"
   },
   {
    "duration": 114,
    "start_time": "2023-04-29T13:23:19.020Z"
   },
   {
    "duration": 28,
    "start_time": "2023-04-29T13:23:28.921Z"
   },
   {
    "duration": 14,
    "start_time": "2023-04-29T13:23:30.573Z"
   },
   {
    "duration": 11,
    "start_time": "2023-04-29T13:23:31.571Z"
   },
   {
    "duration": 20,
    "start_time": "2023-04-29T13:23:32.221Z"
   },
   {
    "duration": 527,
    "start_time": "2023-04-29T13:23:32.530Z"
   },
   {
    "duration": 5,
    "start_time": "2023-04-29T13:23:37.027Z"
   },
   {
    "duration": 304,
    "start_time": "2023-04-29T13:23:37.835Z"
   },
   {
    "duration": 711,
    "start_time": "2023-04-29T13:23:38.577Z"
   },
   {
    "duration": 234,
    "start_time": "2023-04-29T13:23:39.290Z"
   },
   {
    "duration": 681,
    "start_time": "2023-04-29T13:23:42.475Z"
   },
   {
    "duration": 37,
    "start_time": "2023-04-29T13:23:43.716Z"
   },
   {
    "duration": 41,
    "start_time": "2023-04-29T13:23:44.975Z"
   },
   {
    "duration": 43,
    "start_time": "2023-04-29T13:23:49.472Z"
   },
   {
    "duration": 28,
    "start_time": "2023-04-29T13:23:53.053Z"
   },
   {
    "duration": 171,
    "start_time": "2023-04-29T13:23:55.518Z"
   },
   {
    "duration": 58,
    "start_time": "2023-04-29T13:23:57.772Z"
   },
   {
    "duration": 143,
    "start_time": "2023-04-29T13:23:59.309Z"
   },
   {
    "duration": 181,
    "start_time": "2023-04-29T13:24:01.543Z"
   }
  ],
  "kernelspec": {
   "display_name": "Python 3 (ipykernel)",
   "language": "python",
   "name": "python3"
  },
  "language_info": {
   "codemirror_mode": {
    "name": "ipython",
    "version": 3
   },
   "file_extension": ".py",
   "mimetype": "text/x-python",
   "name": "python",
   "nbconvert_exporter": "python",
   "pygments_lexer": "ipython3",
   "version": "3.10.9"
  },
  "toc": {
   "base_numbering": 1,
   "nav_menu": {},
   "number_sections": false,
   "sideBar": true,
   "skip_h1_title": false,
   "title_cell": "Table of Contents",
   "title_sidebar": "Contents",
   "toc_cell": false,
   "toc_position": {
    "height": "calc(100% - 180px)",
    "left": "10px",
    "top": "150px",
    "width": "165px"
   },
   "toc_section_display": true,
   "toc_window_display": true
  }
 },
 "nbformat": 4,
 "nbformat_minor": 2
}
