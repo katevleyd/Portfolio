{
 "cells": [
  {
   "cell_type": "markdown",
   "metadata": {},
   "source": [
    "# Исследование данных о компьютерных играх\n",
    "Мы работаем в интернет-магазине «Стримчик», который продаёт по всему миру компьютерные игры. Из открытых источников доступны исторические данные о продажах игр, оценки пользователей и экспертов, жанры и платформы (например, Xbox или PlayStation). \n",
    "Перед нами данные до 2016 года. Представим, что сейчас декабрь 2016 г., и мы планируем кампанию на 2017-й. Нужно отработать принцип работы с данными. Неважно, прогнозируем мы продажи на 2017 год по данным 2016-го или же 2027-й — по данным 2026 года.\n",
    "\n",
    "Цель исследования — выявить определяющие успешность игры закономерности. Это позволит сделать ставку на потенциально популярный продукт и спланировать рекламные кампании.\n",
    "\n",
    "Для этого нам необходимо узнать сколько игр выпускалось в разные годы; определить, как менялись продажи по платформам; выяснить, какие платформы лидируют по продажам, растут или падают; как влияют на продажи отзывы пользователей и критиков; определить, какие жанры игр самые прибыльные; так же определить для пользователя каждого региона (NA, EU, JP) самые популярные платформы и самые популярные жанры; выяснить, влияет ли рейтинг ESRB на продажи в отдельном регионе. Далее, проверить две гипотезы: 1)средние пользовательские рейтинги платформ Xbox One и PC одинаковые;\n",
    "2)средние пользовательские рейтинги жанров Action и Sports разные.\n",
    "\n",
    "Данные о играх мы получим из файла games.csv. О качестве данных ничего не известно. Поэтому перед исследованием понадобится обзор данных.\n",
    "\n",
    "Мы проверим данные на ошибки и оценим их влияние на исследование. Затем, на этапе предобработки поищем возможность исправить самые критичные ошибки данных.\n",
    "\n",
    "Таким образом, исследование пройдёт в пять этапов:\n",
    "\n",
    "1. Обзор данных.\n",
    "    \n",
    "2. Предобработка данных.\n",
    "    \n",
    "3. Исследовательский анализ данных.\n",
    "    \n",
    "4. Формирование портрета пользователя каждого региона.\n",
    "    \n",
    "5. Проверка гипотез."
   ]
  },
  {
   "cell_type": "markdown",
   "metadata": {},
   "source": [
    "### Откроем файл с данными и изучим общую информацию."
   ]
  },
  {
   "cell_type": "code",
   "execution_count": null,
   "metadata": {},
   "outputs": [],
   "source": [
    "import pandas as pd\n",
    "import numpy as np\n",
    "import matplotlib.pyplot as plt\n",
    "import seaborn as sns\n",
    "from scipy import stats as st"
   ]
  },
  {
   "cell_type": "code",
   "execution_count": 51,
   "metadata": {},
   "outputs": [
    {
     "data": {
      "text/html": [
       "<div>\n",
       "<style scoped>\n",
       "    .dataframe tbody tr th:only-of-type {\n",
       "        vertical-align: middle;\n",
       "    }\n",
       "\n",
       "    .dataframe tbody tr th {\n",
       "        vertical-align: top;\n",
       "    }\n",
       "\n",
       "    .dataframe thead th {\n",
       "        text-align: right;\n",
       "    }\n",
       "</style>\n",
       "<table border=\"1\" class=\"dataframe\">\n",
       "  <thead>\n",
       "    <tr style=\"text-align: right;\">\n",
       "      <th></th>\n",
       "      <th>Name</th>\n",
       "      <th>Platform</th>\n",
       "      <th>Year_of_Release</th>\n",
       "      <th>Genre</th>\n",
       "      <th>NA_sales</th>\n",
       "      <th>EU_sales</th>\n",
       "      <th>JP_sales</th>\n",
       "      <th>Other_sales</th>\n",
       "      <th>Critic_Score</th>\n",
       "      <th>User_Score</th>\n",
       "      <th>Rating</th>\n",
       "    </tr>\n",
       "  </thead>\n",
       "  <tbody>\n",
       "    <tr>\n",
       "      <th>0</th>\n",
       "      <td>Wii Sports</td>\n",
       "      <td>Wii</td>\n",
       "      <td>2006.0</td>\n",
       "      <td>Sports</td>\n",
       "      <td>41.36</td>\n",
       "      <td>28.96</td>\n",
       "      <td>3.77</td>\n",
       "      <td>8.45</td>\n",
       "      <td>76.0</td>\n",
       "      <td>8</td>\n",
       "      <td>E</td>\n",
       "    </tr>\n",
       "    <tr>\n",
       "      <th>1</th>\n",
       "      <td>Super Mario Bros.</td>\n",
       "      <td>NES</td>\n",
       "      <td>1985.0</td>\n",
       "      <td>Platform</td>\n",
       "      <td>29.08</td>\n",
       "      <td>3.58</td>\n",
       "      <td>6.81</td>\n",
       "      <td>0.77</td>\n",
       "      <td>NaN</td>\n",
       "      <td>NaN</td>\n",
       "      <td>NaN</td>\n",
       "    </tr>\n",
       "    <tr>\n",
       "      <th>2</th>\n",
       "      <td>Mario Kart Wii</td>\n",
       "      <td>Wii</td>\n",
       "      <td>2008.0</td>\n",
       "      <td>Racing</td>\n",
       "      <td>15.68</td>\n",
       "      <td>12.76</td>\n",
       "      <td>3.79</td>\n",
       "      <td>3.29</td>\n",
       "      <td>82.0</td>\n",
       "      <td>8.3</td>\n",
       "      <td>E</td>\n",
       "    </tr>\n",
       "    <tr>\n",
       "      <th>3</th>\n",
       "      <td>Wii Sports Resort</td>\n",
       "      <td>Wii</td>\n",
       "      <td>2009.0</td>\n",
       "      <td>Sports</td>\n",
       "      <td>15.61</td>\n",
       "      <td>10.93</td>\n",
       "      <td>3.28</td>\n",
       "      <td>2.95</td>\n",
       "      <td>80.0</td>\n",
       "      <td>8</td>\n",
       "      <td>E</td>\n",
       "    </tr>\n",
       "    <tr>\n",
       "      <th>4</th>\n",
       "      <td>Pokemon Red/Pokemon Blue</td>\n",
       "      <td>GB</td>\n",
       "      <td>1996.0</td>\n",
       "      <td>Role-Playing</td>\n",
       "      <td>11.27</td>\n",
       "      <td>8.89</td>\n",
       "      <td>10.22</td>\n",
       "      <td>1.00</td>\n",
       "      <td>NaN</td>\n",
       "      <td>NaN</td>\n",
       "      <td>NaN</td>\n",
       "    </tr>\n",
       "    <tr>\n",
       "      <th>5</th>\n",
       "      <td>Tetris</td>\n",
       "      <td>GB</td>\n",
       "      <td>1989.0</td>\n",
       "      <td>Puzzle</td>\n",
       "      <td>23.20</td>\n",
       "      <td>2.26</td>\n",
       "      <td>4.22</td>\n",
       "      <td>0.58</td>\n",
       "      <td>NaN</td>\n",
       "      <td>NaN</td>\n",
       "      <td>NaN</td>\n",
       "    </tr>\n",
       "    <tr>\n",
       "      <th>6</th>\n",
       "      <td>New Super Mario Bros.</td>\n",
       "      <td>DS</td>\n",
       "      <td>2006.0</td>\n",
       "      <td>Platform</td>\n",
       "      <td>11.28</td>\n",
       "      <td>9.14</td>\n",
       "      <td>6.50</td>\n",
       "      <td>2.88</td>\n",
       "      <td>89.0</td>\n",
       "      <td>8.5</td>\n",
       "      <td>E</td>\n",
       "    </tr>\n",
       "    <tr>\n",
       "      <th>7</th>\n",
       "      <td>Wii Play</td>\n",
       "      <td>Wii</td>\n",
       "      <td>2006.0</td>\n",
       "      <td>Misc</td>\n",
       "      <td>13.96</td>\n",
       "      <td>9.18</td>\n",
       "      <td>2.93</td>\n",
       "      <td>2.84</td>\n",
       "      <td>58.0</td>\n",
       "      <td>6.6</td>\n",
       "      <td>E</td>\n",
       "    </tr>\n",
       "    <tr>\n",
       "      <th>8</th>\n",
       "      <td>New Super Mario Bros. Wii</td>\n",
       "      <td>Wii</td>\n",
       "      <td>2009.0</td>\n",
       "      <td>Platform</td>\n",
       "      <td>14.44</td>\n",
       "      <td>6.94</td>\n",
       "      <td>4.70</td>\n",
       "      <td>2.24</td>\n",
       "      <td>87.0</td>\n",
       "      <td>8.4</td>\n",
       "      <td>E</td>\n",
       "    </tr>\n",
       "    <tr>\n",
       "      <th>9</th>\n",
       "      <td>Duck Hunt</td>\n",
       "      <td>NES</td>\n",
       "      <td>1984.0</td>\n",
       "      <td>Shooter</td>\n",
       "      <td>26.93</td>\n",
       "      <td>0.63</td>\n",
       "      <td>0.28</td>\n",
       "      <td>0.47</td>\n",
       "      <td>NaN</td>\n",
       "      <td>NaN</td>\n",
       "      <td>NaN</td>\n",
       "    </tr>\n",
       "  </tbody>\n",
       "</table>\n",
       "</div>"
      ],
      "text/plain": [
       "                        Name Platform  Year_of_Release         Genre  \\\n",
       "0                 Wii Sports      Wii           2006.0        Sports   \n",
       "1          Super Mario Bros.      NES           1985.0      Platform   \n",
       "2             Mario Kart Wii      Wii           2008.0        Racing   \n",
       "3          Wii Sports Resort      Wii           2009.0        Sports   \n",
       "4   Pokemon Red/Pokemon Blue       GB           1996.0  Role-Playing   \n",
       "5                     Tetris       GB           1989.0        Puzzle   \n",
       "6      New Super Mario Bros.       DS           2006.0      Platform   \n",
       "7                   Wii Play      Wii           2006.0          Misc   \n",
       "8  New Super Mario Bros. Wii      Wii           2009.0      Platform   \n",
       "9                  Duck Hunt      NES           1984.0       Shooter   \n",
       "\n",
       "   NA_sales  EU_sales  JP_sales  Other_sales  Critic_Score User_Score Rating  \n",
       "0     41.36     28.96      3.77         8.45          76.0          8      E  \n",
       "1     29.08      3.58      6.81         0.77           NaN        NaN    NaN  \n",
       "2     15.68     12.76      3.79         3.29          82.0        8.3      E  \n",
       "3     15.61     10.93      3.28         2.95          80.0          8      E  \n",
       "4     11.27      8.89     10.22         1.00           NaN        NaN    NaN  \n",
       "5     23.20      2.26      4.22         0.58           NaN        NaN    NaN  \n",
       "6     11.28      9.14      6.50         2.88          89.0        8.5      E  \n",
       "7     13.96      9.18      2.93         2.84          58.0        6.6      E  \n",
       "8     14.44      6.94      4.70         2.24          87.0        8.4      E  \n",
       "9     26.93      0.63      0.28         0.47           NaN        NaN    NaN  "
      ]
     },
     "metadata": {},
     "output_type": "display_data"
    },
    {
     "name": "stdout",
     "output_type": "stream",
     "text": [
      "<class 'pandas.core.frame.DataFrame'>\n",
      "RangeIndex: 16715 entries, 0 to 16714\n",
      "Data columns (total 11 columns):\n",
      " #   Column           Non-Null Count  Dtype  \n",
      "---  ------           --------------  -----  \n",
      " 0   Name             16713 non-null  object \n",
      " 1   Platform         16715 non-null  object \n",
      " 2   Year_of_Release  16446 non-null  float64\n",
      " 3   Genre            16713 non-null  object \n",
      " 4   NA_sales         16715 non-null  float64\n",
      " 5   EU_sales         16715 non-null  float64\n",
      " 6   JP_sales         16715 non-null  float64\n",
      " 7   Other_sales      16715 non-null  float64\n",
      " 8   Critic_Score     8137 non-null   float64\n",
      " 9   User_Score       10014 non-null  object \n",
      " 10  Rating           9949 non-null   object \n",
      "dtypes: float64(6), object(5)\n",
      "memory usage: 1.4+ MB\n",
      "None\n"
     ]
    }
   ],
   "source": [
    "data=pd.read_csv('/datasets/games.csv')\n",
    "display(data.head(10)) #выведем первые 10 строк\n",
    "print(data.info()) #получим общую информацию о датафрейме"
   ]
  },
  {
   "cell_type": "markdown",
   "metadata": {},
   "source": [
    "### Предобработка данных."
   ]
  },
  {
   "cell_type": "markdown",
   "metadata": {},
   "source": [
    "Приведем названия столбцов к нижнему регистру."
   ]
  },
  {
   "cell_type": "code",
   "execution_count": 52,
   "metadata": {},
   "outputs": [
    {
     "name": "stdout",
     "output_type": "stream",
     "text": [
      "Index(['name', 'platform', 'year_of_release', 'genre', 'na_sales', 'eu_sales',\n",
      "       'jp_sales', 'other_sales', 'critic_score', 'user_score', 'rating'],\n",
      "      dtype='object')\n"
     ]
    }
   ],
   "source": [
    "data.columns = data.columns.str.lower()\n",
    "print(data.columns)"
   ]
  },
  {
   "cell_type": "markdown",
   "metadata": {},
   "source": [
    "Преобразуем данные в нужные типы."
   ]
  },
  {
   "cell_type": "code",
   "execution_count": 53,
   "metadata": {},
   "outputs": [
    {
     "name": "stdout",
     "output_type": "stream",
     "text": [
      "<class 'pandas.core.frame.DataFrame'>\n",
      "RangeIndex: 16715 entries, 0 to 16714\n",
      "Data columns (total 11 columns):\n",
      " #   Column           Non-Null Count  Dtype  \n",
      "---  ------           --------------  -----  \n",
      " 0   name             16715 non-null  object \n",
      " 1   platform         16715 non-null  object \n",
      " 2   year_of_release  16446 non-null  Int64  \n",
      " 3   genre            16715 non-null  object \n",
      " 4   na_sales         16715 non-null  float64\n",
      " 5   eu_sales         16715 non-null  float64\n",
      " 6   jp_sales         16715 non-null  float64\n",
      " 7   other_sales      16715 non-null  float64\n",
      " 8   critic_score     8137 non-null   float64\n",
      " 9   user_score       10014 non-null  object \n",
      " 10  rating           9949 non-null   object \n",
      "dtypes: Int64(1), float64(5), object(5)\n",
      "memory usage: 1.4+ MB\n",
      "None\n"
     ]
    }
   ],
   "source": [
    "data['name'] = data['name'].astype('str')\n",
    "data['platform'] = data['platform'].astype('str')\n",
    "data['year_of_release'] = data['year_of_release'].astype('Int64')\n",
    "data['genre'] = data['genre'].astype('str')\n",
    "print(data.info())"
   ]
  },
  {
   "cell_type": "markdown",
   "metadata": {},
   "source": [
    "Мы привели данные в столбцах с названием игры, платформы и жанром игры к строковому типу, так как, очевидно, они содержат текстовую информацию (рейтинг от организации ESRB так же необходимо привести к строковому типу, но мы сделаем это следующим шагом, после заполнения пропусков). Данные в столбце с годом выпуска мы привели к целочисленному типу, потому что год не может быть вещественным числом. "
   ]
  },
  {
   "cell_type": "markdown",
   "metadata": {},
   "source": [
    "Обработаем пропуски и сделаем проверку на дубликаты:"
   ]
  },
  {
   "cell_type": "code",
   "execution_count": 55,
   "metadata": {},
   "outputs": [
    {
     "name": "stdout",
     "output_type": "stream",
     "text": [
      "name                  0\n",
      "platform              0\n",
      "year_of_release     269\n",
      "genre                 0\n",
      "na_sales              0\n",
      "eu_sales              0\n",
      "jp_sales              0\n",
      "other_sales           0\n",
      "critic_score       8578\n",
      "user_score         6701\n",
      "rating             6766\n",
      "dtype: int64\n",
      "Количество явных дубликатов: 0\n"
     ]
    }
   ],
   "source": [
    "print(data.isna().sum()) # посчитаем количество пропусков в столбцах\n",
    "print('Количество явных дубликатов:',data.duplicated().sum()) # подсчёт явных дубликатов"
   ]
  },
  {
   "cell_type": "code",
   "execution_count": 56,
   "metadata": {},
   "outputs": [
    {
     "data": {
      "text/html": [
       "<style  type=\"text/css\" >\n",
       "#T_2a327_row0_col0,#T_2a327_row1_col0,#T_2a327_row3_col0,#T_2a327_row4_col0,#T_2a327_row5_col0,#T_2a327_row6_col0,#T_2a327_row7_col0{\n",
       "            background-color:  #3b4cc0;\n",
       "            color:  #f1f1f1;\n",
       "        }#T_2a327_row2_col0{\n",
       "            background-color:  #4358cb;\n",
       "            color:  #f1f1f1;\n",
       "        }#T_2a327_row8_col0{\n",
       "            background-color:  #b40426;\n",
       "            color:  #f1f1f1;\n",
       "        }#T_2a327_row9_col0{\n",
       "            background-color:  #f08b6e;\n",
       "            color:  #000000;\n",
       "        }#T_2a327_row10_col0{\n",
       "            background-color:  #ef886b;\n",
       "            color:  #000000;\n",
       "        }</style><table id=\"T_2a327_\" ><thead>    <tr>        <th class=\"blank level0\" ></th>        <th class=\"col_heading level0 col0\" >0</th>    </tr></thead><tbody>\n",
       "                <tr>\n",
       "                        <th id=\"T_2a327_level0_row0\" class=\"row_heading level0 row0\" >name</th>\n",
       "                        <td id=\"T_2a327_row0_col0\" class=\"data row0 col0\" >0.000000</td>\n",
       "            </tr>\n",
       "            <tr>\n",
       "                        <th id=\"T_2a327_level0_row1\" class=\"row_heading level0 row1\" >platform</th>\n",
       "                        <td id=\"T_2a327_row1_col0\" class=\"data row1 col0\" >0.000000</td>\n",
       "            </tr>\n",
       "            <tr>\n",
       "                        <th id=\"T_2a327_level0_row2\" class=\"row_heading level0 row2\" >year_of_release</th>\n",
       "                        <td id=\"T_2a327_row2_col0\" class=\"data row2 col0\" >1.600000</td>\n",
       "            </tr>\n",
       "            <tr>\n",
       "                        <th id=\"T_2a327_level0_row3\" class=\"row_heading level0 row3\" >genre</th>\n",
       "                        <td id=\"T_2a327_row3_col0\" class=\"data row3 col0\" >0.000000</td>\n",
       "            </tr>\n",
       "            <tr>\n",
       "                        <th id=\"T_2a327_level0_row4\" class=\"row_heading level0 row4\" >na_sales</th>\n",
       "                        <td id=\"T_2a327_row4_col0\" class=\"data row4 col0\" >0.000000</td>\n",
       "            </tr>\n",
       "            <tr>\n",
       "                        <th id=\"T_2a327_level0_row5\" class=\"row_heading level0 row5\" >eu_sales</th>\n",
       "                        <td id=\"T_2a327_row5_col0\" class=\"data row5 col0\" >0.000000</td>\n",
       "            </tr>\n",
       "            <tr>\n",
       "                        <th id=\"T_2a327_level0_row6\" class=\"row_heading level0 row6\" >jp_sales</th>\n",
       "                        <td id=\"T_2a327_row6_col0\" class=\"data row6 col0\" >0.000000</td>\n",
       "            </tr>\n",
       "            <tr>\n",
       "                        <th id=\"T_2a327_level0_row7\" class=\"row_heading level0 row7\" >other_sales</th>\n",
       "                        <td id=\"T_2a327_row7_col0\" class=\"data row7 col0\" >0.000000</td>\n",
       "            </tr>\n",
       "            <tr>\n",
       "                        <th id=\"T_2a327_level0_row8\" class=\"row_heading level0 row8\" >critic_score</th>\n",
       "                        <td id=\"T_2a327_row8_col0\" class=\"data row8 col0\" >51.300000</td>\n",
       "            </tr>\n",
       "            <tr>\n",
       "                        <th id=\"T_2a327_level0_row9\" class=\"row_heading level0 row9\" >user_score</th>\n",
       "                        <td id=\"T_2a327_row9_col0\" class=\"data row9 col0\" >40.100000</td>\n",
       "            </tr>\n",
       "            <tr>\n",
       "                        <th id=\"T_2a327_level0_row10\" class=\"row_heading level0 row10\" >rating</th>\n",
       "                        <td id=\"T_2a327_row10_col0\" class=\"data row10 col0\" >40.500000</td>\n",
       "            </tr>\n",
       "    </tbody></table>"
      ],
      "text/plain": [
       "<pandas.io.formats.style.Styler at 0x7fbf59a7bca0>"
      ]
     },
     "execution_count": 56,
     "metadata": {},
     "output_type": "execute_result"
    }
   ],
   "source": [
    "pd.DataFrame(round(data.isna().mean()*100,1)).style.background_gradient('coolwarm')"
   ]
  },
  {
   "cell_type": "markdown",
   "metadata": {},
   "source": [
    "Дубликатов в данных не оказалось, а вот пропуски есть. Можем заметить, что в столбце year_of_release доля пропусков составляет менее 2% от общего числа строк - их можно удалить. \n",
    "А вот в стобцах critic_score, user_score и rating оказалось довольно много пропусков, их необходимо обработать каким-либо образом. Заполним пропуски, где это возможно."
   ]
  },
  {
   "cell_type": "code",
   "execution_count": 57,
   "metadata": {},
   "outputs": [
    {
     "name": "stdout",
     "output_type": "stream",
     "text": [
      "name                  0\n",
      "platform              0\n",
      "year_of_release       0\n",
      "genre                 0\n",
      "na_sales              0\n",
      "eu_sales              0\n",
      "jp_sales              0\n",
      "other_sales           0\n",
      "critic_score       8463\n",
      "user_score         8983\n",
      "rating                0\n",
      "dtype: int64\n"
     ]
    }
   ],
   "source": [
    "data.dropna(subset = ['year_of_release'], inplace = True)\n",
    "    \n",
    "data['user_score'] = data['user_score'].replace('tbd', np.nan, regex=True)\n",
    "data['user_score'] = data['user_score'].astype('float')\n",
    "\n",
    "data['rating'] = data['rating'].replace('K-A', 'E10+')\n",
    "data.loc[:,'rating'].fillna('Не определен', inplace=True)\n",
    "data['rating'] = data['rating'].astype('str')\n",
    "\n",
    "print(data.isna().sum())"
   ]
  },
  {
   "cell_type": "markdown",
   "metadata": {},
   "source": [
    "Пропуски в годе выпуска мы удалим, так как их немного и это не повлияет на дальнейшее исследование. Пропуски в данном столбце могли возникнуть по таким причинам: точный год выпуска игры не определен или их просто забыли указать при заполнении.\n",
    "\n",
    "В столбцах critic_score, user_score и rating оказалось довольно много пропусков. Причинами появления пропусков могут быть отсутствие оценок по данным играм (возможно, игры еще только вышли и не получили оценок).\n",
    "\n",
    "Обратим внимание на аббревиатуру tbd в столбце с оценкой пользователей. Аббревиатура tbd означает, что данные еще не определены. То есть, данные были специально не заполнены, потому что с рейтингом просто напросто еще не определились. Поэтому заменим заменим tbd на NaN, а потом приведем к типу float, так как значения столбца являются вещественными переменными.\n",
    "\n",
    "В столбце rating есть значения 'K-A' и 'E10+' - они носят один и тот же смысл (K-A было переименовано на E10+), поэтому значения 'K-A' заменим на 'E10+'. Далее, заменим пропуски в столбце rating с nan на 'Неопределенный', так как неизвестно какими точными значениями можно заполнить данные пропуски."
   ]
  },
  {
   "cell_type": "markdown",
   "metadata": {},
   "source": [
    "Посчитаем суммарные продажи во всех регионах и запишем их в отдельный столбец."
   ]
  },
  {
   "cell_type": "code",
   "execution_count": 58,
   "metadata": {},
   "outputs": [],
   "source": [
    "data['sum_sales']=data[['na_sales','eu_sales','jp_sales', 'other_sales']].sum(axis = 1)"
   ]
  },
  {
   "cell_type": "markdown",
   "metadata": {},
   "source": [
    "На этапе предобработки данных в нашей задаче мы получили общую информацию о датафрейме; привели названия столбцов к нижнему регистру; поменяли типы данных, где это было необходимо; проверили данные на дубликаты; определили в каких столбцах есть пропуски и заполнили их различными способами; а так же посчитали суммарные продажи во всех регионах."
   ]
  },
  {
   "cell_type": "markdown",
   "metadata": {},
   "source": [
    "### Исследовательский анализ данных"
   ]
  },
  {
   "cell_type": "markdown",
   "metadata": {},
   "source": [
    "Посмотрим, сколько игр выпускалось в разные годы."
   ]
  },
  {
   "cell_type": "code",
   "execution_count": 59,
   "metadata": {},
   "outputs": [
    {
     "data": {
      "text/plain": [
       "Text(0, 0.5, 'Количество выпущенных игр')"
      ]
     },
     "execution_count": 59,
     "metadata": {},
     "output_type": "execute_result"
    },
    {
     "data": {
      "image/png": "[encoded data removed]",
      "text/plain": [
       "<Figure size 1080x360 with 1 Axes>"
      ]
     },
     "metadata": {
      "needs_background": "light"
     },
     "output_type": "display_data"
    }
   ],
   "source": [
    "data.pivot_table(index='year_of_release', values='name', aggfunc='count').reset_index().plot(x='year_of_release',y='name',figsize=(15,5))\n",
    "plt.xlabel(\"Год выпуска\")\n",
    "plt.ylabel(\"Количество выпущенных игр\")"
   ]
  },
  {
   "cell_type": "markdown",
   "metadata": {},
   "source": [
    "Из графика видно, что рост выпуска компьютерных игр начался только с 1990х годов и продолжался примерно до 2008 года, после 2008 года вплоть до 2016 года наблюдается резкий спад количества выпущенных игр. Я думаю, что рассматривать данные за весь период не имеет смысла, поэтому будем работать с последними 3 годами, то есть с играми выпущенными после 2013 года."
   ]
  },
  {
   "cell_type": "markdown",
   "metadata": {},
   "source": [
    "Посмотрим, как менялись продажи по платформам."
   ]
  },
  {
   "cell_type": "code",
   "execution_count": 60,
   "metadata": {},
   "outputs": [
    {
     "data": {
      "text/plain": [
       "Text(0, 0.5, 'Количество продаж')"
      ]
     },
     "execution_count": 60,
     "metadata": {},
     "output_type": "execute_result"
    },
    {
     "data": {
      "image/png": "[encoded data removed]",
      "text/plain": [
       "<Figure size 1080x360 with 1 Axes>"
      ]
     },
     "metadata": {
      "needs_background": "light"
     },
     "output_type": "display_data"
    }
   ],
   "source": [
    "platform_sales = data.pivot_table(index='platform', values='sum_sales', aggfunc='sum').sort_values(by='sum_sales', ascending=False)\n",
    "plt.figure(figsize=(15,5))\n",
    "sns.barplot(x=platform_sales.index,y=platform_sales['sum_sales'])\n",
    "plt.title('Суммарные продажи у игровых платформ за весь период')\n",
    "plt.xlabel(\"Платформа\")\n",
    "plt.ylabel(\"Количество продаж\")"
   ]
  },
  {
   "cell_type": "markdown",
   "metadata": {},
   "source": [
    "По диаграмме видно, что платформами с самыми наибольшими суммарными продажами за весь период являются PS2, X360, PS3, Wii, DS И PS."
   ]
  },
  {
   "cell_type": "markdown",
   "metadata": {},
   "source": [
    "Определим так же суммарные продажи платформ после 2013 года (актуальный период)."
   ]
  },
  {
   "cell_type": "code",
   "execution_count": 61,
   "metadata": {},
   "outputs": [
    {
     "data": {
      "text/plain": [
       "Text(0, 0.5, 'Количество продаж')"
      ]
     },
     "execution_count": 61,
     "metadata": {},
     "output_type": "execute_result"
    },
    {
     "data": {
      "image/png": "[encoded data removed]",
      "text/plain": [
       "<Figure size 1080x360 with 1 Axes>"
      ]
     },
     "metadata": {
      "needs_background": "light"
     },
     "output_type": "display_data"
    }
   ],
   "source": [
    "new_data = data.query('2013 < year_of_release') # получим срез данных после 2013 года\n",
    "new_platform_sales = new_data.pivot_table(index='platform', values='sum_sales', aggfunc='sum').sort_values(by='sum_sales', ascending=False)\n",
    "plt.figure(figsize=(15,5))\n",
    "sns.barplot(x=new_platform_sales.index,y=new_platform_sales['sum_sales'])\n",
    "plt.title('Суммарные продажи у игровых платформ после 2013 года')\n",
    "plt.xlabel(\"Платформа\")\n",
    "plt.ylabel(\"Количество продаж\")"
   ]
  },
  {
   "cell_type": "markdown",
   "metadata": {},
   "source": [
    "По диаграмме видно, что платформами с самыми наибольшими суммарными продажами после 2013 года являются PS4 и XOne. "
   ]
  },
  {
   "cell_type": "markdown",
   "metadata": {},
   "source": [
    "Построим распределение по годам у самых популярных платформ (чтобы определить характерный срок существования платформы, возьмем данные за последние 10 лет):"
   ]
  },
  {
   "cell_type": "code",
   "execution_count": 62,
   "metadata": {},
   "outputs": [
    {
     "data": {
      "image/png": "[encoded data removed]",
      "text/plain": [
       "<Figure size 1080x360 with 1 Axes>"
      ]
     },
     "metadata": {
      "needs_background": "light"
     },
     "output_type": "display_data"
    }
   ],
   "source": [
    "neww_data = data.query('(2005 < year_of_release) and (platform==\"PS2\" or platform==\"X360\" or platform==\"PS3\" or platform==\"Wii\" or platform==\"DS\")')\n",
    "neww_data.pivot_table(index='year_of_release', columns = 'platform', values='sum_sales', aggfunc='sum').plot(grid=True, figsize=(15, 5))\n",
    "plt.title('Суммарные продажи у самых популярных игровых платформ с 2005 по 2016 год')\n",
    "plt.xlabel('Годы выпуска')\n",
    "plt.ylabel('Суммарные продажи')\n",
    "plt.show()"
   ]
  },
  {
   "cell_type": "markdown",
   "metadata": {},
   "source": [
    "Характерный срок существования платформы - это примерно 10 лет. Из графика так же можно увидеть, что платформы PS3, X360 и Wii продавались до 2016 года, DS до 2013, а PS2 до 2011. У платформы Wii наблюдается резкий скачок по продажам к 2009 году, а после резкий спад. А самыми продаваевыми являются платформы PS3 и X360. "
   ]
  },
  {
   "cell_type": "code",
   "execution_count": 63,
   "metadata": {},
   "outputs": [
    {
     "data": {
      "image/png": "[encoded data removed]",
      "text/plain": [
       "<Figure size 1080x360 with 1 Axes>"
      ]
     },
     "metadata": {
      "needs_background": "light"
     },
     "output_type": "display_data"
    }
   ],
   "source": [
    "new5_data = new_data.query('platform==\"PS4\" or platform==\"XOne\" or platform==\"3DS\" or platform==\"PS3\" or platform==\"X360\"')\n",
    "new5_data.pivot_table(index='year_of_release', columns = 'platform', values='sum_sales', aggfunc='sum').plot(grid=True, figsize=(15, 5))\n",
    "plt.title('Суммарные продажи у самых популярных игровых платформ после 2013 года')\n",
    "plt.xlabel('Годы выпуска')\n",
    "plt.ylabel('Суммарные продажи')\n",
    "plt.show()"
   ]
  },
  {
   "cell_type": "markdown",
   "metadata": {},
   "source": [
    "Потенциально прибыльными платформами за актуальный период являются PS4 и XOne. Платформы 3DS PS3 и X360 являются менее прибыльными, ведь за весь актуальный период их продажи падают."
   ]
  },
  {
   "cell_type": "markdown",
   "metadata": {},
   "source": [
    "Построим график «ящик с усами» по глобальным продажам игр в разбивке по платформам. "
   ]
  },
  {
   "cell_type": "code",
   "execution_count": 64,
   "metadata": {},
   "outputs": [
    {
     "data": {
      "text/html": [
       "<div>\n",
       "<style scoped>\n",
       "    .dataframe tbody tr th:only-of-type {\n",
       "        vertical-align: middle;\n",
       "    }\n",
       "\n",
       "    .dataframe tbody tr th {\n",
       "        vertical-align: top;\n",
       "    }\n",
       "\n",
       "    .dataframe thead th {\n",
       "        text-align: right;\n",
       "    }\n",
       "</style>\n",
       "<table border=\"1\" class=\"dataframe\">\n",
       "  <thead>\n",
       "    <tr style=\"text-align: right;\">\n",
       "      <th></th>\n",
       "      <th>count</th>\n",
       "      <th>mean</th>\n",
       "      <th>std</th>\n",
       "      <th>min</th>\n",
       "      <th>25%</th>\n",
       "      <th>50%</th>\n",
       "      <th>75%</th>\n",
       "      <th>max</th>\n",
       "    </tr>\n",
       "    <tr>\n",
       "      <th>platform</th>\n",
       "      <th></th>\n",
       "      <th></th>\n",
       "      <th></th>\n",
       "      <th></th>\n",
       "      <th></th>\n",
       "      <th></th>\n",
       "      <th></th>\n",
       "      <th></th>\n",
       "    </tr>\n",
       "  </thead>\n",
       "  <tbody>\n",
       "    <tr>\n",
       "      <th>3DS</th>\n",
       "      <td>212.0</td>\n",
       "      <td>0.408868</td>\n",
       "      <td>1.188368</td>\n",
       "      <td>0.01</td>\n",
       "      <td>0.0300</td>\n",
       "      <td>0.090</td>\n",
       "      <td>0.2500</td>\n",
       "      <td>11.68</td>\n",
       "    </tr>\n",
       "    <tr>\n",
       "      <th>PC</th>\n",
       "      <td>151.0</td>\n",
       "      <td>0.179139</td>\n",
       "      <td>0.329359</td>\n",
       "      <td>0.01</td>\n",
       "      <td>0.0200</td>\n",
       "      <td>0.060</td>\n",
       "      <td>0.2000</td>\n",
       "      <td>3.05</td>\n",
       "    </tr>\n",
       "    <tr>\n",
       "      <th>PS3</th>\n",
       "      <td>219.0</td>\n",
       "      <td>0.311324</td>\n",
       "      <td>0.633059</td>\n",
       "      <td>0.01</td>\n",
       "      <td>0.0400</td>\n",
       "      <td>0.110</td>\n",
       "      <td>0.3250</td>\n",
       "      <td>5.27</td>\n",
       "    </tr>\n",
       "    <tr>\n",
       "      <th>PS4</th>\n",
       "      <td>376.0</td>\n",
       "      <td>0.766356</td>\n",
       "      <td>1.614969</td>\n",
       "      <td>0.01</td>\n",
       "      <td>0.0575</td>\n",
       "      <td>0.185</td>\n",
       "      <td>0.6900</td>\n",
       "      <td>14.63</td>\n",
       "    </tr>\n",
       "    <tr>\n",
       "      <th>PSP</th>\n",
       "      <td>13.0</td>\n",
       "      <td>0.027692</td>\n",
       "      <td>0.027735</td>\n",
       "      <td>0.01</td>\n",
       "      <td>0.0100</td>\n",
       "      <td>0.020</td>\n",
       "      <td>0.0200</td>\n",
       "      <td>0.09</td>\n",
       "    </tr>\n",
       "    <tr>\n",
       "      <th>PSV</th>\n",
       "      <td>295.0</td>\n",
       "      <td>0.075932</td>\n",
       "      <td>0.141591</td>\n",
       "      <td>0.01</td>\n",
       "      <td>0.0200</td>\n",
       "      <td>0.040</td>\n",
       "      <td>0.0900</td>\n",
       "      <td>1.96</td>\n",
       "    </tr>\n",
       "    <tr>\n",
       "      <th>Wii</th>\n",
       "      <td>11.0</td>\n",
       "      <td>0.460909</td>\n",
       "      <td>0.625451</td>\n",
       "      <td>0.01</td>\n",
       "      <td>0.0350</td>\n",
       "      <td>0.180</td>\n",
       "      <td>0.7550</td>\n",
       "      <td>2.01</td>\n",
       "    </tr>\n",
       "    <tr>\n",
       "      <th>WiiU</th>\n",
       "      <td>73.0</td>\n",
       "      <td>0.588767</td>\n",
       "      <td>1.161467</td>\n",
       "      <td>0.01</td>\n",
       "      <td>0.0500</td>\n",
       "      <td>0.190</td>\n",
       "      <td>0.5700</td>\n",
       "      <td>7.09</td>\n",
       "    </tr>\n",
       "    <tr>\n",
       "      <th>X360</th>\n",
       "      <td>111.0</td>\n",
       "      <td>0.434414</td>\n",
       "      <td>0.628967</td>\n",
       "      <td>0.01</td>\n",
       "      <td>0.0700</td>\n",
       "      <td>0.180</td>\n",
       "      <td>0.5050</td>\n",
       "      <td>4.28</td>\n",
       "    </tr>\n",
       "    <tr>\n",
       "      <th>XOne</th>\n",
       "      <td>228.0</td>\n",
       "      <td>0.615614</td>\n",
       "      <td>1.046513</td>\n",
       "      <td>0.01</td>\n",
       "      <td>0.0500</td>\n",
       "      <td>0.205</td>\n",
       "      <td>0.6325</td>\n",
       "      <td>7.39</td>\n",
       "    </tr>\n",
       "  </tbody>\n",
       "</table>\n",
       "</div>"
      ],
      "text/plain": [
       "          count      mean       std   min     25%    50%     75%    max\n",
       "platform                                                               \n",
       "3DS       212.0  0.408868  1.188368  0.01  0.0300  0.090  0.2500  11.68\n",
       "PC        151.0  0.179139  0.329359  0.01  0.0200  0.060  0.2000   3.05\n",
       "PS3       219.0  0.311324  0.633059  0.01  0.0400  0.110  0.3250   5.27\n",
       "PS4       376.0  0.766356  1.614969  0.01  0.0575  0.185  0.6900  14.63\n",
       "PSP        13.0  0.027692  0.027735  0.01  0.0100  0.020  0.0200   0.09\n",
       "PSV       295.0  0.075932  0.141591  0.01  0.0200  0.040  0.0900   1.96\n",
       "Wii        11.0  0.460909  0.625451  0.01  0.0350  0.180  0.7550   2.01\n",
       "WiiU       73.0  0.588767  1.161467  0.01  0.0500  0.190  0.5700   7.09\n",
       "X360      111.0  0.434414  0.628967  0.01  0.0700  0.180  0.5050   4.28\n",
       "XOne      228.0  0.615614  1.046513  0.01  0.0500  0.205  0.6325   7.39"
      ]
     },
     "execution_count": 64,
     "metadata": {},
     "output_type": "execute_result"
    }
   ],
   "source": [
    "new_data.groupby('platform')['sum_sales'].describe()"
   ]
  },
  {
   "cell_type": "code",
   "execution_count": 65,
   "metadata": {
    "scrolled": false
   },
   "outputs": [
    {
     "data": {
      "text/plain": [
       "Text(0, 0.5, 'Глобальные продажи')"
      ]
     },
     "execution_count": 65,
     "metadata": {},
     "output_type": "execute_result"
    },
    {
     "data": {
      "image/png": "[encoded data removed]",
      "text/plain": [
       "<Figure size 1080x1440 with 1 Axes>"
      ]
     },
     "metadata": {
      "needs_background": "light"
     },
     "output_type": "display_data"
    }
   ],
   "source": [
    "plt.figure(figsize=(15,20))\n",
    "sns.boxplot(data=new_data, x='platform', y='sum_sales')\n",
    "plt.title('Ящик с усами')\n",
    "plt.xlabel('Платформа')\n",
    "plt.ylabel('Глобальные продажи')"
   ]
  },
  {
   "cell_type": "markdown",
   "metadata": {},
   "source": [
    "В данной диаграмме можно увидеть, что есть очень редкие выбросы (например, с продажами до 15 млн у PS4 и до 12 млн у 3DS). Уберем выбросы и сделаем более массштабированную диаграмму, чтобы лучше увидеть квартили и медианы. Для этого будем использовать параметр ylim()."
   ]
  },
  {
   "cell_type": "code",
   "execution_count": 66,
   "metadata": {},
   "outputs": [
    {
     "data": {
      "text/plain": [
       "Text(0, 0.5, 'Глобальные продажи')"
      ]
     },
     "execution_count": 66,
     "metadata": {},
     "output_type": "execute_result"
    },
    {
     "data": {
      "image/png": "[encoded data removed]",
      "text/plain": [
       "<Figure size 1080x1440 with 1 Axes>"
      ]
     },
     "metadata": {
      "needs_background": "light"
     },
     "output_type": "display_data"
    }
   ],
   "source": [
    "plt.figure(figsize=(15,20))\n",
    "sns.boxplot(data=new_data, x='platform', y='sum_sales')\n",
    "plt.ylim(0, 0.8)\n",
    "plt.title('Ящик с усами')\n",
    "plt.xlabel('Платформа')\n",
    "plt.ylabel('Глобальные продажи')"
   ]
  },
  {
   "cell_type": "markdown",
   "metadata": {},
   "source": [
    "В данной диаграмме можем увидеть, что медиана у всех платформ протекает по разному. Можно выделить несколько платформ с самым большим числом продаж: XOne, WiiU и PS4. Так же можно заметить, что у WiiU очень большой диапазон значений по продажам, а у PSP наоборот, очень маленький."
   ]
  },
  {
   "cell_type": "markdown",
   "metadata": {},
   "source": [
    "Посмотрим, как влияют на продажи внутри одной популярной платформы отзывы пользователей и критиков. Построим диаграмму рассеяния и посчитаем корреляцию между отзывами и продажами. Для диагностики возьмем платформу PS4."
   ]
  },
  {
   "cell_type": "code",
   "execution_count": 67,
   "metadata": {},
   "outputs": [
    {
     "name": "stdout",
     "output_type": "stream",
     "text": [
      "Корреляция междуотзывами пользователей и продажами платформы PS4: -0.04\n"
     ]
    },
    {
     "data": {
      "image/png": "[encoded data removed]",
      "text/plain": [
       "<Figure size 1080x360 with 1 Axes>"
      ]
     },
     "metadata": {
      "needs_background": "light"
     },
     "output_type": "display_data"
    }
   ],
   "source": [
    "ps_4 = new_data[new_data['platform']=='PS4']\n",
    "plt.figure(figsize=(15,5))\n",
    "sns.scatterplot(data=ps_4, x='user_score', y='sum_sales')\n",
    "print('Корреляция междуотзывами пользователей и продажами платформы PS4:',ps_4['user_score'].corr(ps_4['sum_sales']).round(2))"
   ]
  },
  {
   "cell_type": "markdown",
   "metadata": {},
   "source": [
    "Игры с минимальными оценками пользователей вообще не имеют разброса в количестве продаж. Далее, с более высокими отзывами разброс появляется, но не очень сильный, хотя и есть некоторые выбросы. Можем сделать вывод, что связь между отзывами пользователей и продажами практически отсутствует (так как коэффициент Пирсона очень близок к нулю), то есть отзывы пользователей практически не влияют на продажи."
   ]
  },
  {
   "cell_type": "code",
   "execution_count": 68,
   "metadata": {},
   "outputs": [
    {
     "name": "stdout",
     "output_type": "stream",
     "text": [
      "Корреляция между отзывами критиков и продажами платформы PS4: 0.4\n"
     ]
    },
    {
     "data": {
      "image/png": "[encoded data removed]",
      "text/plain": [
       "<Figure size 1080x360 with 1 Axes>"
      ]
     },
     "metadata": {
      "needs_background": "light"
     },
     "output_type": "display_data"
    }
   ],
   "source": [
    "plt.figure(figsize=(15,5))\n",
    "sns.scatterplot(data=ps_4, x='critic_score', y='sum_sales')\n",
    "print('Корреляция между отзывами критиков и продажами платформы PS4:',ps_4['critic_score'].corr(ps_4['sum_sales']).round(2))"
   ]
  },
  {
   "cell_type": "markdown",
   "metadata": {},
   "source": [
    "Игры с минимальными оценками критиков так же не имеют разброса в количестве продаж. Постепенно, с более высокими отзывами разброс появляется, а у игр с высокими отзывами разброс максимальный. Корреляция равна 0.4, что уже гораздо больше, чем у отзывов пользователей. Можем сделать вывод, что связь между отзывами критиков и продажами уже сильнее, чем между отзывами пользователей и продажам, но все же она не очень сильная, отзывы критиков не особо влияют на продажи."
   ]
  },
  {
   "cell_type": "code",
   "execution_count": 69,
   "metadata": {},
   "outputs": [
    {
     "name": "stdout",
     "output_type": "stream",
     "text": [
      "Корреляция между отзывами пользователей и продажами платформы XOne: -0.07\n",
      "Корреляция между отзывами критиков и продажами платформы XOne: 0.43\n",
      "Корреляция между отзывами пользователей и продажами платформы 3DS: 0.22\n",
      "Корреляция между отзывами критиков и продажами платформы 3DS: 0.31\n",
      "Корреляция между отзывами пользователей и продажами платформы PS3: -0.17\n",
      "Корреляция между отзывами критиков и продажами платформы PS3: 0.45\n",
      "Корреляция между отзывами пользователей и продажами платформы X360: -0.14\n",
      "Корреляция между отзывами критиков и продажами платформы X360: 0.53\n"
     ]
    }
   ],
   "source": [
    "x_one = new_data[new_data['platform']=='XOne']\n",
    "print('Корреляция между отзывами пользователей и продажами платформы XOne:',x_one['user_score'].corr(x_one['sum_sales']).round(2))\n",
    "print('Корреляция между отзывами критиков и продажами платформы XOne:',x_one['critic_score'].corr(x_one['sum_sales']).round(2))\n",
    "\n",
    "ds_3 = new_data[new_data['platform']=='3DS']\n",
    "print('Корреляция между отзывами пользователей и продажами платформы 3DS:',ds_3['user_score'].corr(ds_3['sum_sales']).round(2))\n",
    "print('Корреляция между отзывами критиков и продажами платформы 3DS:',ds_3['critic_score'].corr(ds_3['sum_sales']).round(2))\n",
    "\n",
    "ps_3 = new_data[new_data['platform']=='PS3']\n",
    "print('Корреляция между отзывами пользователей и продажами платформы PS3:',ps_3['user_score'].corr(ps_3['sum_sales']).round(2))\n",
    "print('Корреляция между отзывами критиков и продажами платформы PS3:',ps_3['critic_score'].corr(ps_3['sum_sales']).round(2))\n",
    "\n",
    "x_360 = new_data[new_data['platform']=='X360']\n",
    "print('Корреляция между отзывами пользователей и продажами платформы X360:',x_360['user_score'].corr(x_360['sum_sales']).round(2))\n",
    "print('Корреляция между отзывами критиков и продажами платформы X360:',x_360['critic_score'].corr(x_360['sum_sales']).round(2))"
   ]
  },
  {
   "cell_type": "markdown",
   "metadata": {},
   "source": [
    "У других платформ так же нет особой связи между отывами и продажами. Но можно заметить, что связь между отзывами критиков и продажами больше, чем отзывами пользователей, но все равно является достаточно слабой."
   ]
  },
  {
   "cell_type": "markdown",
   "metadata": {},
   "source": [
    "Посмотрим на общее распределение игр по жанрам. "
   ]
  },
  {
   "cell_type": "code",
   "execution_count": 70,
   "metadata": {},
   "outputs": [
    {
     "data": {
      "text/plain": [
       "Text(0, 0.5, 'Продажи')"
      ]
     },
     "execution_count": 70,
     "metadata": {},
     "output_type": "execute_result"
    },
    {
     "data": {
      "image/png": "[encoded data removed]",
      "text/plain": [
       "<Figure size 1080x360 with 1 Axes>"
      ]
     },
     "metadata": {
      "needs_background": "light"
     },
     "output_type": "display_data"
    }
   ],
   "source": [
    "genre_sales = new_data.pivot_table(index='genre', values='sum_sales', aggfunc='sum').sort_values(by='sum_sales', ascending=False)\n",
    "genre_sales = genre_sales.reset_index().rename_axis(None, axis=1)\n",
    "plt.figure(figsize=(15,5))\n",
    "sns.barplot(data=genre_sales, x='genre', y='sum_sales')\n",
    "plt.xlabel('Жанры игр')\n",
    "plt.ylabel('Продажи')"
   ]
  },
  {
   "cell_type": "markdown",
   "metadata": {},
   "source": [
    "Судя по данной диаграмме, жанры с самыми высокими продажами - экшен, на втором месте расположились игры с жанром шутер, на третьем - спортивные игры, на четвертом - ролевые игры. Самые низкие продажи у игр с жанром стратегия и пазл. Но не факт, что максимальные продажи являются самыми прибыльными. Так как в данных продажи по жанру для разных платформ, и одна платформа со своей одной игрой в данном жанре выстрелила, а остальные провалились, то мы все равно будем видеть максимум общих продаж, даже если остальные платформы провалились. Но для прибыльности нам нужны стабильные жанры, который приносит доход не зависимо от платформы, значит на этот жанр есть устойчивый спрос. Поэтому, далее построим диаграмму размаха для сравнения медианных продаж."
   ]
  },
  {
   "cell_type": "code",
   "execution_count": 71,
   "metadata": {},
   "outputs": [
    {
     "data": {
      "text/plain": [
       "Text(0, 0.5, 'Продажи')"
      ]
     },
     "execution_count": 71,
     "metadata": {},
     "output_type": "execute_result"
    },
    {
     "data": {
      "image/png": "[encoded data removed]",
      "text/plain": [
       "<Figure size 1080x1440 with 1 Axes>"
      ]
     },
     "metadata": {
      "needs_background": "light"
     },
     "output_type": "display_data"
    }
   ],
   "source": [
    "plt.figure(figsize=(15,20))\n",
    "sns.boxplot(data=new_data, x='genre', y='sum_sales')\n",
    "plt.title('Ящик с усами')\n",
    "plt.xlabel('Жанр')\n",
    "plt.ylabel('Продажи')"
   ]
  },
  {
   "cell_type": "markdown",
   "metadata": {},
   "source": [
    "В данной диаграмме можно увидеть, что есть очень редкие выбросы (например, с продажами до 15 млн у игр с жанром shooter и до 13 млн у игр с жанром action). Уберем выбросы и сделаем более массштабированную диаграмму, чтобы лучше увидеть квартили и медианы. Для этого будем использовать параметр ylim()."
   ]
  },
  {
   "cell_type": "code",
   "execution_count": 72,
   "metadata": {},
   "outputs": [
    {
     "data": {
      "text/plain": [
       "Text(0, 0.5, 'Продажи')"
      ]
     },
     "execution_count": 72,
     "metadata": {},
     "output_type": "execute_result"
    },
    {
     "data": {
      "image/png": "[encoded data removed]",
      "text/plain": [
       "<Figure size 1080x1440 with 1 Axes>"
      ]
     },
     "metadata": {
      "needs_background": "light"
     },
     "output_type": "display_data"
    }
   ],
   "source": [
    "plt.figure(figsize=(15,20))\n",
    "sns.boxplot(data=new_data, x='genre', y='sum_sales')\n",
    "plt.ylim(0, 1.75)\n",
    "plt.title('Ящик с усами')\n",
    "plt.xlabel('Жанр')\n",
    "plt.ylabel('Продажи')"
   ]
  },
  {
   "cell_type": "markdown",
   "metadata": {},
   "source": [
    "В данной диаграмме можем увидеть, что медиана у всех жанров протекает по разному. И на этой диаграмме уже другие жанры, являются более прибыльными, shooter является самым продаваемым жанром, на втором месте расположились игры с жанром sport. Напомним, что в диаграмме с рапределеним продаж по жанрам, жанрами с самым большим число продаж были action и shooter; здесь же картинка совсем другая, и жанр action, сильно устпуает по продажам другим жанрам, это как раз произошло из-за того, что одна платформа со своей одной игрой в данном жанре выстрелила, а остальные провалились. Так что теперь можем сделать вывод, что стабильные прибыльные жанры, который приносит доход не зависимо от платформы - это shooter, sports и platform. Самые низкие продажи у игр с жанром adventure и puzzle."
   ]
  },
  {
   "cell_type": "markdown",
   "metadata": {},
   "source": [
    "На этапе исследовательского анализа данных мы выяснили, что рост выпуска компьютерных игр начался только с 1990х годов и продолжался примерно до 2008 года, после 2008 года вплоть до 2016 года наблюдается резкий спад количества выпущенных игр.\n",
    "Платформами с самыми наибольшими суммарными продажами за весь период являются PS2, X360, PS3, Wii, DS И PS. А после 2013 года (то есть за актуальный период) платформами с самыми наибольшими суммарными продажами являются PS4 и XOne (потенциально прибыльные). Характерный срок существования платформы - это примерно 10 лет. Так же определили, что у платформ нет особой связи между отывами критиков и пользователей с продажами. А стабильно прибыльными жанрами являются shooter, sports и platform. Самые низкие продажи у игр с жанром adventure и puzzle."
   ]
  },
  {
   "cell_type": "markdown",
   "metadata": {},
   "source": [
    "### Портрет пользователя каждого региона"
   ]
  },
  {
   "cell_type": "markdown",
   "metadata": {},
   "source": [
    "Определите для пользователя каждого региона (NA, EU, JP):\n",
    "Самые популярные платформы (топ-5)."
   ]
  },
  {
   "cell_type": "code",
   "execution_count": 73,
   "metadata": {},
   "outputs": [
    {
     "data": {
      "image/png": "[encoded data removed]",
      "text/plain": [
       "<Figure size 2160x2160 with 3 Axes>"
      ]
     },
     "metadata": {},
     "output_type": "display_data"
    }
   ],
   "source": [
    "plt.figure(figsize=[30,30])\n",
    "\n",
    "platform_na = new_data.groupby('platform')['na_sales'].sum().sort_values(ascending=False).head(5)\n",
    "plt.subplot(2, 3, 1)\n",
    "platform_na.plot(y = 'na_sales', kind = 'pie',fontsize=25, autopct='%1.1f%%')\n",
    "plt.title('ТОП-5 самых популярных платформ в Северной Америке', fontsize=22)\n",
    "plt.legend(bbox_to_anchor=(0.6,0.3,0.4,0.6), fontsize=18)\n",
    "\n",
    "platform_eu = new_data.groupby('platform')['eu_sales'].sum().sort_values(ascending=False).head(5)\n",
    "plt.subplot(2, 3, 2)\n",
    "platform_eu.plot(y = 'eu_sales', kind = 'pie',fontsize=25, autopct='%1.1f%%')\n",
    "plt.title('ТОП-5 самых популярных платформ в Европе', fontsize=22)\n",
    "plt.legend(bbox_to_anchor=(0.6,0.3,0.4,0.6), fontsize=18)\n",
    "\n",
    "platform_jp = new_data.groupby('platform')['jp_sales'].sum().sort_values(ascending=False).head(5)\n",
    "plt.subplot(2, 3, 3)\n",
    "platform_jp.plot(y = 'jp_sales', kind = 'pie',fontsize=25, autopct='%1.1f%%')\n",
    "plt.title('ТОП-5 самых популярных платформ в Японии', fontsize=22)\n",
    "plt.legend(bbox_to_anchor=(0.6,0.3,0.4,0.6), fontsize=18)\n",
    "\n",
    "plt.show()"
   ]
  },
  {
   "cell_type": "markdown",
   "metadata": {},
   "source": [
    "Самыми популярными платформами в Северной Америке являются (по убыванию продаж): PS4, XOne, X360, 3DS, PS3. Платформы PS4 и XOne являются в данном регионе самыми продаваемыми; X360, 3DS и PS3 уже не так популярны.\n",
    "\n",
    "Самыми популярными платформами в Европе являются (по убыванию продаж): PS4, Xone, PS3, PC, 3DS. Платформа PS4 занимает больше половины доли продаж, немало продаж так же у платформы XOne. \n",
    "\n",
    "Самыми популярными платформами в Японии являются (по убыванию продаж): 3DS, PS4, PSV, PS3, WiiU. Платформа 3DS занимает почти половину доли продаж. Вторую половину делят другие 4 платформы в данном топе."
   ]
  },
  {
   "cell_type": "code",
   "execution_count": 74,
   "metadata": {},
   "outputs": [
    {
     "data": {
      "image/png": "[encoded data removed]",
      "text/plain": [
       "<Figure size 2160x2160 with 3 Axes>"
      ]
     },
     "metadata": {},
     "output_type": "display_data"
    }
   ],
   "source": [
    "plt.figure(figsize=[30,30])\n",
    "\n",
    "genre_na = new_data.groupby('genre')['na_sales'].sum().sort_values(ascending=False).head(5)\n",
    "plt.subplot(2, 3, 1)\n",
    "genre_na.plot(y = 'na_sales', kind = 'pie',fontsize=25, autopct='%1.1f%%')\n",
    "plt.title('ТОП-5 самых популярных жанров в Северной Америке', fontsize=22)\n",
    "plt.legend(bbox_to_anchor=(0.6,0.25,0.4,0.6), fontsize=18)\n",
    "\n",
    "genre_eu = new_data.groupby('genre')['eu_sales'].sum().sort_values(ascending=False).head(5)\n",
    "plt.subplot(2, 3, 2)\n",
    "genre_eu.plot(y = 'eu_sales', kind = 'pie',fontsize=25, autopct='%1.1f%%')\n",
    "plt.title('ТОП-5 самых популярных жанров в Европе', fontsize=22)\n",
    "plt.legend(bbox_to_anchor=(0.6,0.25,0.4,0.6), fontsize=18)\n",
    "\n",
    "genre_jp = new_data.groupby('genre')['jp_sales'].sum().sort_values(ascending=False).head(5)\n",
    "plt.subplot(2, 3, 3)\n",
    "genre_jp.plot(y = 'jp_sales', kind = 'pie',fontsize=25, autopct='%1.1f%%')\n",
    "plt.title('ТОП-5 самых популярных платформ в Японии', fontsize=22)\n",
    "plt.legend(bbox_to_anchor=(0.6,0.25,0.4,0.6), fontsize=18)\n",
    "\n",
    "plt.show()"
   ]
  },
  {
   "cell_type": "markdown",
   "metadata": {},
   "source": [
    "Самыми популярными жанрами в Северной Америке являются (по убыванию продаж): shooter, action, sports, role-playing, misc.\n",
    "\n",
    "Самыми популярными жанрами в Европе являются (по убыванию продаж): action, shooter, sports, role-playing, racing.\n",
    "\n",
    "Самыми популярными жанрами в Японии являются (по убыванию продаж): role-playing, action, fighting, misc, shooter.\n",
    "\n",
    "Если смотреть в совокупности по всем регионам, все-таки самыми популярными являются жанры shooter и action, чуть менее популярными role-playing и sports. И еще меньше в различных регионах играют в жанрах misc, racing и fighting."
   ]
  },
  {
   "cell_type": "markdown",
   "metadata": {},
   "source": [
    "Влияет ли рейтинг ESRB на продажи в отдельном регионе?"
   ]
  },
  {
   "cell_type": "code",
   "execution_count": 75,
   "metadata": {},
   "outputs": [
    {
     "data": {
      "image/png": "[encoded data removed]",
      "text/plain": [
       "<Figure size 2160x2160 with 3 Axes>"
      ]
     },
     "metadata": {},
     "output_type": "display_data"
    }
   ],
   "source": [
    "plt.figure(figsize=[30,30])\n",
    "\n",
    "rating_na = new_data.groupby('rating')['na_sales'].sum().sort_values(ascending=False)\n",
    "plt.subplot(2, 3, 1)\n",
    "rating_na.plot(y = 'na_sales', kind = 'pie',fontsize=25, autopct='%1.1f%%')\n",
    "plt.title('Рейтинг от организации ESRB в Северной Америке', fontsize=22)\n",
    "plt.legend(bbox_to_anchor=(0.01,0.4,0.4,0.6), fontsize=18)\n",
    "\n",
    "rating_eu = new_data.groupby('rating')['eu_sales'].sum().sort_values(ascending=False)\n",
    "plt.subplot(2, 3, 2)\n",
    "rating_eu.plot(y = 'eu_sales', kind = 'pie',fontsize=25, autopct='%1.1f%%')\n",
    "plt.title('Рейтинг от организации ESRB в Европе', fontsize=22)\n",
    "plt.legend(bbox_to_anchor=(0.01,0.4,0.4,0.6), fontsize=18)\n",
    "\n",
    "rating_jp = new_data.groupby('rating')['jp_sales'].sum().sort_values(ascending=False)\n",
    "plt.subplot(2, 3, 3)\n",
    "rating_jp.plot(y = 'jp_sales', kind = 'pie',fontsize=25, autopct='%1.1f%%')\n",
    "plt.title('Рейтинг от организации ESRB в Японии', fontsize=22)\n",
    "plt.legend(bbox_to_anchor=(0.01,0.4,0.4,0.6), fontsize=18)\n",
    "\n",
    "plt.show()"
   ]
  },
  {
   "cell_type": "markdown",
   "metadata": {},
   "source": [
    "В Северной Америке больше всего продаж у игр с рейтингом \"для взрослых\", на втором месте игры с неопределенным рейтингом и на третьем месте игры с рейтингом \"для всех\".\n",
    "\n",
    "    \n",
    "В Европе больше всего продаж у игр с рейтингом \"для взрослых\", далее идут игры с неопределенным рейтингом и на третьем месте игры с рейтингом \"для всех\".\n",
    "\n",
    "В Японии большинство продаж у игр с неопределенным рейтингом, на втором месте игры с рейтингом \"подросткам\" и на третьем месте игры с рейтингом \"для всех\". ESRB - американский рейтинг, поэтому большое количество игр с неопределенным рейтингом в Японии можно объяснить тем, что в Японии игры просто другого производства и у них своя рейтинг-система."
   ]
  },
  {
   "cell_type": "markdown",
   "metadata": {},
   "source": [
    "На данном этапе мы составили портрет пользователя каждого региона, и выяснили, что ТОП-5 платформ в Северной Америке: PS4, XOne, X360, 3DS, PS3; в Европе: PS4, Xone, PS3, PC, 3DS; в Японии: 3DS, PS4, PSV, PS3, WiiU. \n",
    "\n",
    "Так же оказалось, что ТОП-5 жанров в Северной Америке: shooter, action, sports, role-playing, misc; в Европе: action, shooter, sports, role-playing, racing; в Японии: role-playing, action, fighting, misc, shooter. \n",
    "\n",
    "Выяснилось так же, что самые продаваемые игры в Северной Америке и Европе с рейтингом \"для взрослых\", с неопределенным рейтингом и рейтингом \"для всех\". А в Японии преобладают игры с неопределенным рейтингом (так как в Японии своя рейтинг-система), так же продаваемыми являются игры с рейтингом \"подросткам\" и рейтингом \"для всех\". "
   ]
  },
  {
   "cell_type": "markdown",
   "metadata": {},
   "source": [
    "### Проверка гипотез"
   ]
  },
  {
   "cell_type": "markdown",
   "metadata": {},
   "source": [
    "Проверка гипотезы: средние пользовательские рейтинги платформ Xbox One и PC одинаковые;\n",
    "\n",
    "H_0: Средние пользовательские рейтинги (user_score) платформ Xbox One = средние пользовательские рейтинги (user_score) платформ PC\n",
    "\n",
    "H_a: Средние пользовательские рейтинги (user_score) платформ Xbox One ≠ средние пользовательские рейтинги (user_score) платформ PC"
   ]
  },
  {
   "cell_type": "code",
   "execution_count": 21,
   "metadata": {},
   "outputs": [
    {
     "name": "stdout",
     "output_type": "stream",
     "text": [
      "Среднее платформы XOne:  6.594545454545454\n",
      "Среднее платформы PC:  6.316260162601626\n",
      "p-значение: 0.139237120435483\n",
      "Не получилось отвергнуть нулевую гипотезу\n"
     ]
    }
   ],
   "source": [
    "xone_hyp = new_data[(new_data['platform']=='XOne')]['user_score']\n",
    "pc_hyp = new_data[(new_data['platform']=='PC')]['user_score']\n",
    "\n",
    "print('Среднее платформы XOne: ',xone_hyp.mean())\n",
    "print('Среднее платформы PC: ',pc_hyp.mean())\n",
    "\n",
    "results = st.ttest_ind(xone_hyp.dropna(), pc_hyp.dropna(), equal_var=False) #вызов метода для проверки гипотезы\n",
    "alpha = .05 #зададим значение уровня значимости\n",
    "\n",
    "print('p-значение:', results.pvalue) # вывод значения p-value на экран \n",
    "if (results.pvalue < alpha): # условный оператор с выводом строки с ответом\n",
    "    print(\"Отвергаем нулевую гипотезу\")\n",
    "else:\n",
    "    print(\"Не получилось отвергнуть нулевую гипотезу\")"
   ]
  },
  {
   "cell_type": "markdown",
   "metadata": {},
   "source": [
    "Kритический уровень статистической значимости alpha мы взяли равным 0.05 (он является оптимальным). \n",
    "Значение p-value равно почти 14%. Таким образом, нам не получилось отвергнуть нулевую гипотезу. То есть, с вероятностью в 14% можно получить одинаковые средние пользовательские рейтинги платформ Xbox One и PC."
   ]
  },
  {
   "cell_type": "markdown",
   "metadata": {},
   "source": [
    "Проверка гипотезы: средние пользовательские рейтинги жанров Action и Sports разные.\n",
    "\n",
    "H_0: Средние пользовательские рейтинги (user_score) жанров Action = средние пользовательские рейтинги (user_score) жанров Sports\n",
    "\n",
    "H_a: Средние пользовательские рейтинги (user_score) жанров Action ≠ средние пользовательские рейтинги (user_score) жанров Sports"
   ]
  },
  {
   "cell_type": "code",
   "execution_count": 22,
   "metadata": {},
   "outputs": [
    {
     "name": "stdout",
     "output_type": "stream",
     "text": [
      "Среднее экшн-игры:  6.766442953020134\n",
      "Среднее спортивной игры:  5.225196850393701\n",
      "p-значение: 9.658176026869598e-15\n",
      "Отвергаем нулевую гипотезу\n"
     ]
    }
   ],
   "source": [
    "genre_action_hyp = new_data[(new_data['genre']=='Action')]['user_score']\n",
    "genre_sports_hyp = new_data[(new_data['genre']=='Sports')]['user_score']\n",
    "\n",
    "print('Среднее экшн-игры: ',genre_action_hyp.mean())\n",
    "print('Среднее спортивной игры: ',genre_sports_hyp.mean())\n",
    "\n",
    "results = st.ttest_ind(genre_action_hyp. dropna(), genre_sports_hyp.dropna(), equal_var=False) #вызов метода для проверки гипотезы\n",
    "alpha = .05 #зададим значение уровня значимости\n",
    "\n",
    "print('p-значение:', results.pvalue) # вывод значения p-value на экран \n",
    "if (results.pvalue < alpha): # условный оператор с выводом строки с ответом\n",
    "    print(\"Отвергаем нулевую гипотезу\")\n",
    "else:\n",
    "    print(\"Не получилось отвергнуть нулевую гипотезу\")"
   ]
  },
  {
   "cell_type": "markdown",
   "metadata": {},
   "source": [
    "Kритический уровень статистической значимости alpha мы взяли равным 0.05. \n",
    "Получив p-value, мы отвергли нулевую гипотезу. Таким образом, у нас практически нет вероятности получить одинаковые средние пользовательские рейнтинги по жанрам Action и Sports."
   ]
  },
  {
   "cell_type": "markdown",
   "metadata": {},
   "source": [
    "### Общий вывод"
   ]
  },
  {
   "cell_type": "markdown",
   "metadata": {},
   "source": [
    "В данном проекте мы выполнили предобработку данных, то есть заполнили пропуски в данных, где это было возможно; преобразовали типы данных. \n",
    "\n",
    "Так же мы провели исследовательский анализ данных, из которого можно сделать выводы: рост выпуска компьютерных игр начался только с 1990х годов и продолжался примерно до 2008 года, после 2008 года вплоть до 2016 года наблюдался резкий спад количества выпущенных игр. Платформами с самыми наибольшими суммарными продажами за весь период являются PS2, X360, PS3, Wii, DS И PS. А после 2013 года (то есть за актуальный период) платформами с самыми наибольшими суммарными продажами являются PS4 и XOne (потенциально прибыльные). Так же определили, что у платформ нет особой связи между отывами критиков и пользователей с продажами. А стабильно прибыльными жанрами являются shooter, sports и platform. Самые низкие продажи у игр с жанром adventure и puzzle.\n",
    "\n",
    "Так же нам удалось составить портрет пользователя каждого региона (NA, EU, JP), вследствие чего были сделаны следующие выводы;\n",
    "ТОП-5 платформ в Северной Америке: PS4, XOne, X360, 3DS, PS3; в Европе: PS4, Xone, PS3, PC, 3DS; в Японии: 3DS, PS4, PSV, PS3, WiiU.\n",
    "\n",
    "ТОП-5 жанров в Северной Америке: shooter, action, sports, role-playing, misc; в Европе: action, shooter, sports, role-playing, racing; в Японии: role-playing, action, fighting, misc, shooter.\n",
    "\n",
    "Cамые продаваемые игры в Северной Америке и Европе с рейтингом \"для взрослых\", с неопределенным рейтингом и рейтингом \"для всех\". А в Японии преобладают игры с неопределенным рейтингом (так как в Японии своя рейтинг-система), так же продаваемыми являются игры с рейтингом \"подросткам\" и рейтингом \"для всех\". \n",
    "\n",
    "На последнем этапы мы проверили 2 гипотезы и выяснили, что с вероятностью в 14% можно получить одинаковые средние пользовательские рейтинги платформ Xbox One и PC; а так же то, что практически нет вероятности получить одинаковые средние пользовательские рейнтинги по жанрам Action и Sports."
   ]
  }
 ],
 "metadata": {
  "ExecuteTimeLog": [
   {
    "duration": 523,
    "start_time": "2022-11-28T16:42:39.493Z"
   },
   {
    "duration": 88,
    "start_time": "2022-11-28T16:43:06.955Z"
   },
   {
    "duration": 4,
    "start_time": "2022-11-28T16:46:45.503Z"
   },
   {
    "duration": 16,
    "start_time": "2022-11-28T16:46:58.456Z"
   },
   {
    "duration": 15,
    "start_time": "2022-11-28T16:47:27.500Z"
   },
   {
    "duration": 76,
    "start_time": "2022-11-28T16:47:34.885Z"
   },
   {
    "duration": 16,
    "start_time": "2022-11-28T16:47:37.667Z"
   },
   {
    "duration": 12,
    "start_time": "2022-11-28T16:52:52.175Z"
   },
   {
    "duration": 73,
    "start_time": "2022-11-28T16:57:06.835Z"
   },
   {
    "duration": 21,
    "start_time": "2022-11-28T16:57:28.827Z"
   },
   {
    "duration": 14,
    "start_time": "2022-11-28T16:58:13.025Z"
   },
   {
    "duration": 22,
    "start_time": "2022-11-28T16:58:22.651Z"
   },
   {
    "duration": 13,
    "start_time": "2022-11-28T16:58:28.960Z"
   },
   {
    "duration": 10,
    "start_time": "2022-11-28T16:58:34.632Z"
   },
   {
    "duration": 79,
    "start_time": "2022-11-28T16:58:45.069Z"
   },
   {
    "duration": 15,
    "start_time": "2022-11-28T16:58:47.513Z"
   },
   {
    "duration": 10,
    "start_time": "2022-11-28T16:58:50.908Z"
   },
   {
    "duration": 13,
    "start_time": "2022-11-28T16:58:54.866Z"
   },
   {
    "duration": 14,
    "start_time": "2022-11-28T16:59:03.147Z"
   },
   {
    "duration": 11,
    "start_time": "2022-11-28T17:00:06.417Z"
   },
   {
    "duration": 16,
    "start_time": "2022-11-28T17:00:11.241Z"
   },
   {
    "duration": 23,
    "start_time": "2022-11-28T17:00:25.739Z"
   },
   {
    "duration": 27,
    "start_time": "2022-11-28T17:02:12.322Z"
   },
   {
    "duration": 23,
    "start_time": "2022-11-28T17:03:56.868Z"
   },
   {
    "duration": 20,
    "start_time": "2022-11-28T17:04:22.119Z"
   },
   {
    "duration": 79,
    "start_time": "2022-11-28T17:05:44.768Z"
   },
   {
    "duration": 18,
    "start_time": "2022-11-28T17:05:46.479Z"
   },
   {
    "duration": 20,
    "start_time": "2022-11-28T17:05:51.305Z"
   },
   {
    "duration": 24,
    "start_time": "2022-11-28T17:05:58.609Z"
   },
   {
    "duration": 18,
    "start_time": "2022-11-28T17:06:05.761Z"
   },
   {
    "duration": 20,
    "start_time": "2022-11-28T17:06:24.631Z"
   },
   {
    "duration": 18,
    "start_time": "2022-11-28T17:07:06.843Z"
   },
   {
    "duration": 19,
    "start_time": "2022-11-28T17:08:53.667Z"
   },
   {
    "duration": 21,
    "start_time": "2022-11-28T17:09:03.959Z"
   },
   {
    "duration": 15,
    "start_time": "2022-11-28T17:11:15.602Z"
   },
   {
    "duration": 619,
    "start_time": "2022-11-29T15:16:44.779Z"
   },
   {
    "duration": 13,
    "start_time": "2022-11-29T15:16:49.743Z"
   },
   {
    "duration": 4,
    "start_time": "2022-11-29T15:19:34.636Z"
   },
   {
    "duration": 68,
    "start_time": "2022-11-29T15:19:55.772Z"
   },
   {
    "duration": 32,
    "start_time": "2022-11-29T15:28:23.684Z"
   },
   {
    "duration": 25,
    "start_time": "2022-11-29T15:28:35.818Z"
   },
   {
    "duration": 7,
    "start_time": "2022-11-29T15:28:42.723Z"
   },
   {
    "duration": 9,
    "start_time": "2022-11-29T15:29:22.939Z"
   },
   {
    "duration": 17,
    "start_time": "2022-11-29T15:32:59.843Z"
   },
   {
    "duration": 12,
    "start_time": "2022-11-29T15:44:17.322Z"
   },
   {
    "duration": 78,
    "start_time": "2022-11-29T15:45:08.911Z"
   },
   {
    "duration": 14,
    "start_time": "2022-11-29T15:45:12.270Z"
   },
   {
    "duration": 40,
    "start_time": "2022-11-29T15:45:16.354Z"
   },
   {
    "duration": 9,
    "start_time": "2022-11-29T15:45:23.406Z"
   },
   {
    "duration": 314,
    "start_time": "2022-11-29T15:45:39.940Z"
   },
   {
    "duration": 207,
    "start_time": "2022-11-29T15:46:56.855Z"
   },
   {
    "duration": 5,
    "start_time": "2022-11-29T15:48:12.710Z"
   },
   {
    "duration": 12,
    "start_time": "2022-11-29T15:48:49.169Z"
   },
   {
    "duration": 14,
    "start_time": "2022-11-29T15:50:42.843Z"
   },
   {
    "duration": 407,
    "start_time": "2022-11-29T15:51:19.710Z"
   },
   {
    "duration": 20,
    "start_time": "2022-11-29T15:51:30.637Z"
   },
   {
    "duration": 295,
    "start_time": "2022-11-29T15:57:38.325Z"
   },
   {
    "duration": 18,
    "start_time": "2022-11-29T15:57:58.044Z"
   },
   {
    "duration": 323,
    "start_time": "2022-11-29T15:58:45.985Z"
   },
   {
    "duration": 288,
    "start_time": "2022-11-29T16:00:49.084Z"
   },
   {
    "duration": 176,
    "start_time": "2022-11-29T16:01:06.056Z"
   },
   {
    "duration": 169,
    "start_time": "2022-11-29T16:01:14.009Z"
   },
   {
    "duration": 261,
    "start_time": "2022-11-29T16:02:57.359Z"
   },
   {
    "duration": 144,
    "start_time": "2022-11-29T16:03:41.441Z"
   },
   {
    "duration": 23,
    "start_time": "2022-11-29T16:06:38.645Z"
   },
   {
    "duration": 556,
    "start_time": "2022-11-29T16:07:27.060Z"
   },
   {
    "duration": 18,
    "start_time": "2022-11-29T16:07:40.708Z"
   },
   {
    "duration": 1310,
    "start_time": "2022-11-29T16:07:56.120Z"
   },
   {
    "duration": 324,
    "start_time": "2022-11-29T16:08:10.207Z"
   },
   {
    "duration": 181,
    "start_time": "2022-11-29T16:09:59.760Z"
   },
   {
    "duration": 350,
    "start_time": "2022-11-29T16:10:05.584Z"
   },
   {
    "duration": 637,
    "start_time": "2022-12-02T11:43:36.456Z"
   },
   {
    "duration": 66,
    "start_time": "2022-12-02T11:43:41.746Z"
   },
   {
    "duration": 20,
    "start_time": "2022-12-02T11:43:44.072Z"
   },
   {
    "duration": 34,
    "start_time": "2022-12-02T11:43:45.844Z"
   },
   {
    "duration": 8,
    "start_time": "2022-12-02T11:43:47.881Z"
   },
   {
    "duration": 391,
    "start_time": "2022-12-02T11:43:49.168Z"
   },
   {
    "duration": 1176,
    "start_time": "2022-12-02T11:43:52.830Z"
   },
   {
    "duration": 98,
    "start_time": "2022-12-02T11:43:56.044Z"
   },
   {
    "duration": 13,
    "start_time": "2022-12-02T11:44:03.977Z"
   },
   {
    "duration": 208,
    "start_time": "2022-12-02T11:44:06.270Z"
   },
   {
    "duration": 282,
    "start_time": "2022-12-02T11:44:08.435Z"
   },
   {
    "duration": 3,
    "start_time": "2022-12-02T11:44:10.945Z"
   },
   {
    "duration": 8,
    "start_time": "2022-12-02T11:44:27.470Z"
   },
   {
    "duration": 4,
    "start_time": "2022-12-02T11:46:24.566Z"
   },
   {
    "duration": 10,
    "start_time": "2022-12-02T11:46:38.012Z"
   },
   {
    "duration": 11,
    "start_time": "2022-12-02T11:46:58.617Z"
   },
   {
    "duration": 8,
    "start_time": "2022-12-02T11:47:14.271Z"
   },
   {
    "duration": 135,
    "start_time": "2022-12-02T11:47:47.299Z"
   },
   {
    "duration": 140,
    "start_time": "2022-12-02T11:47:54.282Z"
   },
   {
    "duration": 136,
    "start_time": "2022-12-02T11:48:21.199Z"
   },
   {
    "duration": 64,
    "start_time": "2022-12-02T11:48:52.161Z"
   },
   {
    "duration": 14,
    "start_time": "2022-12-02T11:48:56.618Z"
   },
   {
    "duration": 97,
    "start_time": "2022-12-02T11:48:58.127Z"
   },
   {
    "duration": 8,
    "start_time": "2022-12-02T11:49:00.628Z"
   },
   {
    "duration": 368,
    "start_time": "2022-12-02T11:49:01.944Z"
   },
   {
    "duration": 11,
    "start_time": "2022-12-02T11:49:04.337Z"
   },
   {
    "duration": 182,
    "start_time": "2022-12-02T11:49:06.104Z"
   },
   {
    "duration": 282,
    "start_time": "2022-12-02T11:49:08.054Z"
   },
   {
    "duration": 4,
    "start_time": "2022-12-02T11:49:09.882Z"
   },
   {
    "duration": 11,
    "start_time": "2022-12-02T11:49:11.586Z"
   },
   {
    "duration": 8,
    "start_time": "2022-12-02T11:49:12.395Z"
   },
   {
    "duration": 137,
    "start_time": "2022-12-02T11:49:15.429Z"
   },
   {
    "duration": 137,
    "start_time": "2022-12-02T11:52:07.342Z"
   },
   {
    "duration": 73,
    "start_time": "2022-12-02T11:52:46.695Z"
   },
   {
    "duration": 13,
    "start_time": "2022-12-02T11:52:48.298Z"
   },
   {
    "duration": 33,
    "start_time": "2022-12-02T11:52:49.565Z"
   },
   {
    "duration": 8,
    "start_time": "2022-12-02T11:52:51.457Z"
   },
   {
    "duration": 349,
    "start_time": "2022-12-02T11:52:52.816Z"
   },
   {
    "duration": 12,
    "start_time": "2022-12-02T11:52:56.033Z"
   },
   {
    "duration": 140,
    "start_time": "2022-12-02T11:52:57.491Z"
   },
   {
    "duration": 177,
    "start_time": "2022-12-02T11:53:13.145Z"
   },
   {
    "duration": 144,
    "start_time": "2022-12-02T11:53:17.685Z"
   },
   {
    "duration": 184,
    "start_time": "2022-12-02T11:53:23.523Z"
   },
   {
    "duration": 312,
    "start_time": "2022-12-02T11:54:03.422Z"
   },
   {
    "duration": 4,
    "start_time": "2022-12-02T11:56:18.802Z"
   },
   {
    "duration": 10,
    "start_time": "2022-12-02T11:56:29.865Z"
   },
   {
    "duration": 7,
    "start_time": "2022-12-02T11:56:32.099Z"
   },
   {
    "duration": 385,
    "start_time": "2022-12-02T11:56:55.436Z"
   },
   {
    "duration": 8,
    "start_time": "2022-12-02T11:58:18.004Z"
   },
   {
    "duration": 8,
    "start_time": "2022-12-02T11:58:35.629Z"
   },
   {
    "duration": 4,
    "start_time": "2022-12-02T11:58:58.190Z"
   },
   {
    "duration": 6,
    "start_time": "2022-12-02T11:59:51.248Z"
   },
   {
    "duration": 4,
    "start_time": "2022-12-02T12:01:04.051Z"
   },
   {
    "duration": 9,
    "start_time": "2022-12-02T12:03:09.990Z"
   },
   {
    "duration": 11,
    "start_time": "2022-12-02T12:03:24.803Z"
   },
   {
    "duration": 7,
    "start_time": "2022-12-02T12:05:23.661Z"
   },
   {
    "duration": 7,
    "start_time": "2022-12-02T12:05:26.462Z"
   },
   {
    "duration": 187,
    "start_time": "2022-12-02T12:06:08.858Z"
   },
   {
    "duration": 8,
    "start_time": "2022-12-02T12:07:07.220Z"
   },
   {
    "duration": 135,
    "start_time": "2022-12-02T12:07:28.887Z"
   },
   {
    "duration": 146,
    "start_time": "2022-12-02T12:07:49.470Z"
   },
   {
    "duration": 243,
    "start_time": "2022-12-02T12:08:04.848Z"
   },
   {
    "duration": 9,
    "start_time": "2022-12-02T12:09:44.961Z"
   },
   {
    "duration": 180,
    "start_time": "2022-12-02T12:09:56.038Z"
   },
   {
    "duration": 71,
    "start_time": "2022-12-02T12:14:48.567Z"
   },
   {
    "duration": 18,
    "start_time": "2022-12-02T12:14:59.260Z"
   },
   {
    "duration": 5,
    "start_time": "2022-12-02T12:15:14.156Z"
   },
   {
    "duration": 22,
    "start_time": "2022-12-02T12:18:13.904Z"
   },
   {
    "duration": 11,
    "start_time": "2022-12-02T12:19:04.123Z"
   },
   {
    "duration": 393,
    "start_time": "2022-12-02T12:29:20.173Z"
   },
   {
    "duration": 14,
    "start_time": "2022-12-02T12:32:25.760Z"
   },
   {
    "duration": 154,
    "start_time": "2022-12-02T12:35:58.197Z"
   },
   {
    "duration": 141,
    "start_time": "2022-12-02T12:41:40.006Z"
   },
   {
    "duration": 159,
    "start_time": "2022-12-02T12:44:03.230Z"
   },
   {
    "duration": 164,
    "start_time": "2022-12-02T12:44:37.604Z"
   },
   {
    "duration": 1116,
    "start_time": "2022-12-02T12:45:27.360Z"
   },
   {
    "duration": 172,
    "start_time": "2022-12-02T12:45:40.742Z"
   },
   {
    "duration": 168,
    "start_time": "2022-12-02T12:50:09.976Z"
   },
   {
    "duration": 182,
    "start_time": "2022-12-02T12:50:46.690Z"
   },
   {
    "duration": 170,
    "start_time": "2022-12-02T12:51:13.280Z"
   },
   {
    "duration": 296,
    "start_time": "2022-12-02T12:51:30.027Z"
   },
   {
    "duration": 178,
    "start_time": "2022-12-02T12:51:42.859Z"
   },
   {
    "duration": 122,
    "start_time": "2022-12-02T12:57:02.937Z"
   },
   {
    "duration": 298,
    "start_time": "2022-12-02T12:57:08.800Z"
   },
   {
    "duration": 21,
    "start_time": "2022-12-02T13:04:29.830Z"
   },
   {
    "duration": 282,
    "start_time": "2022-12-02T13:04:35.090Z"
   },
   {
    "duration": 261,
    "start_time": "2022-12-02T13:04:44.485Z"
   },
   {
    "duration": 392,
    "start_time": "2022-12-02T13:04:55.922Z"
   },
   {
    "duration": 435,
    "start_time": "2022-12-02T13:05:20.892Z"
   },
   {
    "duration": 292,
    "start_time": "2022-12-02T13:05:35.949Z"
   },
   {
    "duration": 134,
    "start_time": "2022-12-02T13:28:39.156Z"
   },
   {
    "duration": 277,
    "start_time": "2022-12-02T13:29:15.839Z"
   },
   {
    "duration": 1546,
    "start_time": "2022-12-02T13:32:17.600Z"
   },
   {
    "duration": 64,
    "start_time": "2022-12-02T13:32:37.586Z"
   },
   {
    "duration": 4,
    "start_time": "2022-12-02T13:32:41.949Z"
   },
   {
    "duration": 21,
    "start_time": "2022-12-02T13:32:43.058Z"
   },
   {
    "duration": 9,
    "start_time": "2022-12-02T13:32:44.789Z"
   },
   {
    "duration": 331,
    "start_time": "2022-12-02T13:32:46.538Z"
   },
   {
    "duration": 11,
    "start_time": "2022-12-02T13:32:48.971Z"
   },
   {
    "duration": 164,
    "start_time": "2022-12-02T13:32:50.805Z"
   },
   {
    "duration": 283,
    "start_time": "2022-12-02T13:32:53.200Z"
   },
   {
    "duration": 1496,
    "start_time": "2022-12-02T13:32:56.521Z"
   },
   {
    "duration": 15,
    "start_time": "2022-12-02T13:35:43.127Z"
   },
   {
    "duration": 10,
    "start_time": "2022-12-02T13:36:39.951Z"
   },
   {
    "duration": 12,
    "start_time": "2022-12-02T13:36:55.081Z"
   },
   {
    "duration": 1312,
    "start_time": "2022-12-02T13:38:36.008Z"
   },
   {
    "duration": 12,
    "start_time": "2022-12-02T13:40:20.976Z"
   },
   {
    "duration": 1581,
    "start_time": "2022-12-02T13:40:26.981Z"
   },
   {
    "duration": 12,
    "start_time": "2022-12-02T13:40:47.368Z"
   },
   {
    "duration": 13,
    "start_time": "2022-12-02T13:44:16.386Z"
   },
   {
    "duration": 21,
    "start_time": "2022-12-02T13:44:25.934Z"
   },
   {
    "duration": 3148,
    "start_time": "2022-12-02T13:45:21.118Z"
   },
   {
    "duration": 3002,
    "start_time": "2022-12-02T13:45:26.294Z"
   },
   {
    "duration": 11,
    "start_time": "2022-12-02T13:46:22.092Z"
   },
   {
    "duration": 13,
    "start_time": "2022-12-02T14:01:25.905Z"
   },
   {
    "duration": 13,
    "start_time": "2022-12-02T14:03:11.377Z"
   },
   {
    "duration": 1409,
    "start_time": "2022-12-02T14:05:36.905Z"
   },
   {
    "duration": 13,
    "start_time": "2022-12-02T14:06:16.712Z"
   },
   {
    "duration": 1484,
    "start_time": "2022-12-02T14:06:17.862Z"
   },
   {
    "duration": 315,
    "start_time": "2022-12-02T14:09:36.887Z"
   },
   {
    "duration": 74,
    "start_time": "2022-12-02T14:12:41.249Z"
   },
   {
    "duration": 187,
    "start_time": "2022-12-02T14:13:03.781Z"
   },
   {
    "duration": 25,
    "start_time": "2022-12-02T14:13:40.336Z"
   },
   {
    "duration": 25,
    "start_time": "2022-12-02T14:14:00.036Z"
   },
   {
    "duration": 19,
    "start_time": "2022-12-02T14:14:21.165Z"
   },
   {
    "duration": 67,
    "start_time": "2022-12-02T14:14:27.979Z"
   },
   {
    "duration": 5,
    "start_time": "2022-12-02T14:14:30.422Z"
   },
   {
    "duration": 28,
    "start_time": "2022-12-02T14:14:32.103Z"
   },
   {
    "duration": 8,
    "start_time": "2022-12-02T14:14:33.808Z"
   },
   {
    "duration": 353,
    "start_time": "2022-12-02T14:14:36.068Z"
   },
   {
    "duration": 12,
    "start_time": "2022-12-02T14:14:38.451Z"
   },
   {
    "duration": 188,
    "start_time": "2022-12-02T14:14:40.961Z"
   },
   {
    "duration": 317,
    "start_time": "2022-12-02T14:14:42.726Z"
   },
   {
    "duration": 13,
    "start_time": "2022-12-02T14:14:44.868Z"
   },
   {
    "duration": 197,
    "start_time": "2022-12-02T14:14:47.733Z"
   },
   {
    "duration": 24,
    "start_time": "2022-12-02T14:15:14.862Z"
   },
   {
    "duration": 33,
    "start_time": "2022-12-02T14:15:27.737Z"
   },
   {
    "duration": 14,
    "start_time": "2022-12-02T14:15:32.994Z"
   },
   {
    "duration": 68,
    "start_time": "2022-12-02T14:15:52.366Z"
   },
   {
    "duration": 5,
    "start_time": "2022-12-02T14:15:55.033Z"
   },
   {
    "duration": 20,
    "start_time": "2022-12-02T14:15:56.194Z"
   },
   {
    "duration": 8,
    "start_time": "2022-12-02T14:15:58.433Z"
   },
   {
    "duration": 350,
    "start_time": "2022-12-02T14:15:59.407Z"
   },
   {
    "duration": 12,
    "start_time": "2022-12-02T14:16:01.658Z"
   },
   {
    "duration": 173,
    "start_time": "2022-12-02T14:16:03.426Z"
   },
   {
    "duration": 313,
    "start_time": "2022-12-02T14:16:04.943Z"
   },
   {
    "duration": 12,
    "start_time": "2022-12-02T14:16:07.818Z"
   },
   {
    "duration": 194,
    "start_time": "2022-12-02T14:16:13.132Z"
   },
   {
    "duration": 115,
    "start_time": "2022-12-02T14:20:29.970Z"
   },
   {
    "duration": 4,
    "start_time": "2022-12-02T14:23:35.793Z"
   },
   {
    "duration": 69,
    "start_time": "2022-12-02T14:27:33.619Z"
   },
   {
    "duration": 71,
    "start_time": "2022-12-02T14:27:39.408Z"
   },
   {
    "duration": 65,
    "start_time": "2022-12-02T14:27:55.858Z"
   },
   {
    "duration": 1341,
    "start_time": "2022-12-02T14:30:08.994Z"
   },
   {
    "duration": 66,
    "start_time": "2022-12-02T14:30:30.408Z"
   },
   {
    "duration": 1161,
    "start_time": "2022-12-02T14:30:37.261Z"
   },
   {
    "duration": 74,
    "start_time": "2022-12-02T14:30:53.916Z"
   },
   {
    "duration": 3,
    "start_time": "2022-12-02T14:30:56.017Z"
   },
   {
    "duration": 10,
    "start_time": "2022-12-02T14:31:00.962Z"
   },
   {
    "duration": 13,
    "start_time": "2022-12-02T14:31:54.672Z"
   },
   {
    "duration": 6,
    "start_time": "2022-12-02T14:32:36.200Z"
   },
   {
    "duration": 66,
    "start_time": "2022-12-02T14:39:47.175Z"
   },
   {
    "duration": 4,
    "start_time": "2022-12-02T14:39:49.100Z"
   },
   {
    "duration": 21,
    "start_time": "2022-12-02T14:39:50.897Z"
   },
   {
    "duration": 9,
    "start_time": "2022-12-02T14:39:52.288Z"
   },
   {
    "duration": 387,
    "start_time": "2022-12-02T14:39:53.719Z"
   },
   {
    "duration": 11,
    "start_time": "2022-12-02T14:39:58.748Z"
   },
   {
    "duration": 190,
    "start_time": "2022-12-02T14:40:02.010Z"
   },
   {
    "duration": 378,
    "start_time": "2022-12-02T14:40:03.764Z"
   },
   {
    "duration": 194,
    "start_time": "2022-12-02T14:40:07.374Z"
   },
   {
    "duration": 66,
    "start_time": "2022-12-02T14:41:07.320Z"
   },
   {
    "duration": 4,
    "start_time": "2022-12-02T14:41:09.488Z"
   },
   {
    "duration": 22,
    "start_time": "2022-12-02T14:41:10.933Z"
   },
   {
    "duration": 9,
    "start_time": "2022-12-02T14:41:12.309Z"
   },
   {
    "duration": 523,
    "start_time": "2022-12-02T14:41:13.070Z"
   },
   {
    "duration": 15,
    "start_time": "2022-12-02T14:41:13.809Z"
   },
   {
    "duration": 156,
    "start_time": "2022-12-02T14:41:14.836Z"
   },
   {
    "duration": 291,
    "start_time": "2022-12-02T14:41:17.290Z"
   },
   {
    "duration": 452,
    "start_time": "2022-12-02T14:42:01.212Z"
   },
   {
    "duration": 467,
    "start_time": "2022-12-02T14:42:07.522Z"
   },
   {
    "duration": 185,
    "start_time": "2022-12-02T14:42:18.510Z"
   },
   {
    "duration": 196,
    "start_time": "2022-12-02T14:46:14.214Z"
   },
   {
    "duration": 208,
    "start_time": "2022-12-02T14:47:39.594Z"
   },
   {
    "duration": 249,
    "start_time": "2022-12-02T14:47:53.953Z"
   },
   {
    "duration": 6,
    "start_time": "2022-12-02T14:57:52.231Z"
   },
   {
    "duration": 8,
    "start_time": "2022-12-02T14:57:53.016Z"
   },
   {
    "duration": 174,
    "start_time": "2022-12-02T15:10:19.279Z"
   },
   {
    "duration": 9,
    "start_time": "2022-12-02T15:20:23.698Z"
   },
   {
    "duration": 133,
    "start_time": "2022-12-02T15:21:17.845Z"
   },
   {
    "duration": 123,
    "start_time": "2022-12-02T15:21:34.441Z"
   },
   {
    "duration": 141,
    "start_time": "2022-12-02T15:21:43.184Z"
   },
   {
    "duration": 263,
    "start_time": "2022-12-02T15:22:21.084Z"
   },
   {
    "duration": 70,
    "start_time": "2022-12-02T15:23:39.028Z"
   },
   {
    "duration": 4,
    "start_time": "2022-12-02T15:23:40.630Z"
   },
   {
    "duration": 20,
    "start_time": "2022-12-02T15:23:42.747Z"
   },
   {
    "duration": 9,
    "start_time": "2022-12-02T15:23:43.605Z"
   },
   {
    "duration": 324,
    "start_time": "2022-12-02T15:23:44.590Z"
   },
   {
    "duration": 22,
    "start_time": "2022-12-02T15:24:03.205Z"
   },
   {
    "duration": 67,
    "start_time": "2022-12-02T15:25:16.066Z"
   },
   {
    "duration": 4,
    "start_time": "2022-12-02T15:25:16.716Z"
   },
   {
    "duration": 22,
    "start_time": "2022-12-02T15:25:18.603Z"
   },
   {
    "duration": 10,
    "start_time": "2022-12-02T15:25:20.024Z"
   },
   {
    "duration": 357,
    "start_time": "2022-12-02T15:25:21.382Z"
   },
   {
    "duration": 11,
    "start_time": "2022-12-02T15:25:25.390Z"
   },
   {
    "duration": 166,
    "start_time": "2022-12-02T15:25:25.818Z"
   },
   {
    "duration": 276,
    "start_time": "2022-12-02T15:25:26.338Z"
   },
   {
    "duration": 362,
    "start_time": "2022-12-02T15:25:28.090Z"
   },
   {
    "duration": 4,
    "start_time": "2022-12-02T15:25:28.454Z"
   },
   {
    "duration": 8,
    "start_time": "2022-12-02T15:25:30.085Z"
   },
   {
    "duration": 182,
    "start_time": "2022-12-02T15:25:30.898Z"
   },
   {
    "duration": 7,
    "start_time": "2022-12-02T15:25:32.293Z"
   },
   {
    "duration": 135,
    "start_time": "2022-12-02T15:25:33.086Z"
   },
   {
    "duration": 143,
    "start_time": "2022-12-02T15:25:34.137Z"
   },
   {
    "duration": 5,
    "start_time": "2022-12-02T15:25:39.139Z"
   },
   {
    "duration": 113,
    "start_time": "2022-12-02T15:31:54.248Z"
   },
   {
    "duration": 445,
    "start_time": "2022-12-02T15:32:07.273Z"
   },
   {
    "duration": 482,
    "start_time": "2022-12-02T15:32:40.724Z"
   },
   {
    "duration": 721,
    "start_time": "2022-12-02T15:37:00.272Z"
   },
   {
    "duration": 478,
    "start_time": "2022-12-02T15:37:10.909Z"
   },
   {
    "duration": 510,
    "start_time": "2022-12-02T15:37:22.634Z"
   },
   {
    "duration": 490,
    "start_time": "2022-12-02T15:37:28.565Z"
   },
   {
    "duration": 137,
    "start_time": "2022-12-02T15:38:23.178Z"
   },
   {
    "duration": 773,
    "start_time": "2022-12-02T15:38:36.888Z"
   },
   {
    "duration": 529,
    "start_time": "2022-12-02T15:39:11.253Z"
   },
   {
    "duration": 418,
    "start_time": "2022-12-02T15:43:05.341Z"
   },
   {
    "duration": 201,
    "start_time": "2022-12-02T15:46:04.582Z"
   },
   {
    "duration": 194,
    "start_time": "2022-12-02T15:46:10.494Z"
   },
   {
    "duration": 129,
    "start_time": "2022-12-02T15:46:20.675Z"
   },
   {
    "duration": 192,
    "start_time": "2022-12-02T15:46:24.779Z"
   },
   {
    "duration": 189,
    "start_time": "2022-12-02T15:48:40.493Z"
   },
   {
    "duration": 187,
    "start_time": "2022-12-02T15:50:10.151Z"
   },
   {
    "duration": 192,
    "start_time": "2022-12-02T15:50:24.674Z"
   },
   {
    "duration": 185,
    "start_time": "2022-12-02T15:52:36.124Z"
   },
   {
    "duration": 10,
    "start_time": "2022-12-02T15:53:51.246Z"
   },
   {
    "duration": 186,
    "start_time": "2022-12-02T15:54:04.217Z"
   },
   {
    "duration": 188,
    "start_time": "2022-12-02T15:54:13.566Z"
   },
   {
    "duration": 205,
    "start_time": "2022-12-02T15:54:20.151Z"
   },
   {
    "duration": 366,
    "start_time": "2022-12-02T15:59:05.131Z"
   },
   {
    "duration": 146,
    "start_time": "2022-12-02T16:02:30.996Z"
   },
   {
    "duration": 148,
    "start_time": "2022-12-02T16:03:36.073Z"
   },
   {
    "duration": 142,
    "start_time": "2022-12-02T16:04:05.963Z"
   },
   {
    "duration": 126,
    "start_time": "2022-12-02T16:04:16.670Z"
   },
   {
    "duration": 142,
    "start_time": "2022-12-02T16:04:20.161Z"
   },
   {
    "duration": 116,
    "start_time": "2022-12-02T16:06:08.540Z"
   },
   {
    "duration": 121,
    "start_time": "2022-12-02T16:07:17.830Z"
   },
   {
    "duration": 136,
    "start_time": "2022-12-02T16:08:06.491Z"
   },
   {
    "duration": 142,
    "start_time": "2022-12-02T16:14:18.736Z"
   },
   {
    "duration": 71,
    "start_time": "2022-12-02T16:18:15.242Z"
   },
   {
    "duration": 222,
    "start_time": "2022-12-02T16:18:42.448Z"
   },
   {
    "duration": 77,
    "start_time": "2022-12-02T16:23:36.902Z"
   },
   {
    "duration": 227,
    "start_time": "2022-12-02T16:23:47.684Z"
   },
   {
    "duration": 138,
    "start_time": "2022-12-02T16:23:56.430Z"
   },
   {
    "duration": 168,
    "start_time": "2022-12-02T16:43:03.843Z"
   },
   {
    "duration": 173,
    "start_time": "2022-12-02T16:44:03.205Z"
   },
   {
    "duration": 12,
    "start_time": "2022-12-02T16:48:13.927Z"
   },
   {
    "duration": 4,
    "start_time": "2022-12-02T16:48:35.338Z"
   },
   {
    "duration": 9,
    "start_time": "2022-12-02T16:49:18.977Z"
   },
   {
    "duration": 11,
    "start_time": "2022-12-02T16:50:56.923Z"
   },
   {
    "duration": 4,
    "start_time": "2022-12-02T16:51:06.859Z"
   },
   {
    "duration": 9,
    "start_time": "2022-12-02T16:51:34.860Z"
   },
   {
    "duration": 10,
    "start_time": "2022-12-02T16:52:31.537Z"
   },
   {
    "duration": 6,
    "start_time": "2022-12-02T16:52:37.755Z"
   },
   {
    "duration": 6,
    "start_time": "2022-12-02T16:52:41.830Z"
   },
   {
    "duration": 520,
    "start_time": "2022-12-03T07:37:12.994Z"
   },
   {
    "duration": 4,
    "start_time": "2022-12-03T07:38:52.427Z"
   },
   {
    "duration": 18,
    "start_time": "2022-12-03T07:49:30.244Z"
   },
   {
    "duration": 8,
    "start_time": "2022-12-03T07:50:50.229Z"
   },
   {
    "duration": 341,
    "start_time": "2022-12-03T08:09:12.174Z"
   },
   {
    "duration": 9,
    "start_time": "2022-12-03T08:10:11.581Z"
   },
   {
    "duration": 65,
    "start_time": "2022-12-03T08:10:17.332Z"
   },
   {
    "duration": 3,
    "start_time": "2022-12-03T08:10:19.865Z"
   },
   {
    "duration": 20,
    "start_time": "2022-12-03T08:10:21.273Z"
   },
   {
    "duration": 9,
    "start_time": "2022-12-03T08:10:23.693Z"
   },
   {
    "duration": 354,
    "start_time": "2022-12-03T08:10:25.449Z"
   },
   {
    "duration": 206,
    "start_time": "2022-12-03T08:31:04.956Z"
   },
   {
    "duration": 190,
    "start_time": "2022-12-03T08:32:16.124Z"
   },
   {
    "duration": 254,
    "start_time": "2022-12-03T08:32:34.222Z"
   },
   {
    "duration": 213,
    "start_time": "2022-12-03T08:32:43.011Z"
   },
   {
    "duration": 67,
    "start_time": "2022-12-03T08:32:49.227Z"
   },
   {
    "duration": 3,
    "start_time": "2022-12-03T08:32:51.739Z"
   },
   {
    "duration": 20,
    "start_time": "2022-12-03T08:32:53.748Z"
   },
   {
    "duration": 8,
    "start_time": "2022-12-03T08:32:56.085Z"
   },
   {
    "duration": 337,
    "start_time": "2022-12-03T08:32:58.765Z"
   },
   {
    "duration": 196,
    "start_time": "2022-12-03T08:34:24.319Z"
   },
   {
    "duration": 206,
    "start_time": "2022-12-03T08:35:02.314Z"
   },
   {
    "duration": 66,
    "start_time": "2022-12-03T08:35:07.967Z"
   },
   {
    "duration": 4,
    "start_time": "2022-12-03T08:35:10.176Z"
   },
   {
    "duration": 19,
    "start_time": "2022-12-03T08:35:11.494Z"
   },
   {
    "duration": 7,
    "start_time": "2022-12-03T08:35:13.185Z"
   },
   {
    "duration": 416,
    "start_time": "2022-12-03T08:35:14.493Z"
   },
   {
    "duration": 182,
    "start_time": "2022-12-03T08:35:42.734Z"
   },
   {
    "duration": 185,
    "start_time": "2022-12-03T08:38:58.282Z"
   },
   {
    "duration": 183,
    "start_time": "2022-12-03T08:39:09.403Z"
   },
   {
    "duration": 218,
    "start_time": "2022-12-03T08:39:24.679Z"
   },
   {
    "duration": 207,
    "start_time": "2022-12-03T08:39:39.871Z"
   },
   {
    "duration": 67,
    "start_time": "2022-12-03T08:40:52.797Z"
   },
   {
    "duration": 8,
    "start_time": "2022-12-03T08:40:54.957Z"
   },
   {
    "duration": 19,
    "start_time": "2022-12-03T08:40:56.185Z"
   },
   {
    "duration": 10,
    "start_time": "2022-12-03T08:40:58.049Z"
   },
   {
    "duration": 347,
    "start_time": "2022-12-03T08:40:59.471Z"
   },
   {
    "duration": 5,
    "start_time": "2022-12-03T08:45:14.258Z"
   },
   {
    "duration": 536,
    "start_time": "2022-12-03T08:50:20.373Z"
   },
   {
    "duration": 787,
    "start_time": "2022-12-03T08:58:50.970Z"
   },
   {
    "duration": 218,
    "start_time": "2022-12-03T08:59:36.572Z"
   },
   {
    "duration": 7,
    "start_time": "2022-12-03T09:32:26.260Z"
   },
   {
    "duration": 7,
    "start_time": "2022-12-03T09:33:01.798Z"
   },
   {
    "duration": 24,
    "start_time": "2022-12-03T09:38:00.131Z"
   },
   {
    "duration": 3,
    "start_time": "2022-12-03T09:38:31.643Z"
   },
   {
    "duration": 23,
    "start_time": "2022-12-03T09:38:40.239Z"
   },
   {
    "duration": 21,
    "start_time": "2022-12-03T09:43:25.067Z"
   },
   {
    "duration": 116,
    "start_time": "2022-12-03T09:44:20.252Z"
   },
   {
    "duration": 163,
    "start_time": "2022-12-03T09:44:29.273Z"
   },
   {
    "duration": 23,
    "start_time": "2022-12-03T09:49:48.793Z"
   },
   {
    "duration": 207,
    "start_time": "2022-12-03T09:49:59.123Z"
   },
   {
    "duration": 254,
    "start_time": "2022-12-03T09:50:05.292Z"
   },
   {
    "duration": 212,
    "start_time": "2022-12-03T09:50:23.964Z"
   },
   {
    "duration": 227,
    "start_time": "2022-12-03T09:51:41.691Z"
   },
   {
    "duration": 257,
    "start_time": "2022-12-03T09:55:42.810Z"
   },
   {
    "duration": 247,
    "start_time": "2022-12-03T09:55:57.233Z"
   },
   {
    "duration": 238,
    "start_time": "2022-12-03T09:56:22.533Z"
   },
   {
    "duration": 163,
    "start_time": "2022-12-03T10:08:50.767Z"
   },
   {
    "duration": 134,
    "start_time": "2022-12-03T10:09:26.088Z"
   },
   {
    "duration": 155,
    "start_time": "2022-12-03T10:09:47.357Z"
   },
   {
    "duration": 67,
    "start_time": "2022-12-03T10:10:19.535Z"
   },
   {
    "duration": 4,
    "start_time": "2022-12-03T10:10:21.857Z"
   },
   {
    "duration": 20,
    "start_time": "2022-12-03T10:10:23.350Z"
   },
   {
    "duration": 8,
    "start_time": "2022-12-03T10:10:25.098Z"
   },
   {
    "duration": 326,
    "start_time": "2022-12-03T10:10:26.400Z"
   },
   {
    "duration": 5,
    "start_time": "2022-12-03T10:10:28.952Z"
   },
   {
    "duration": 186,
    "start_time": "2022-12-03T10:10:29.923Z"
   },
   {
    "duration": 369,
    "start_time": "2022-12-03T10:10:31.827Z"
   },
   {
    "duration": 207,
    "start_time": "2022-12-03T10:10:34.000Z"
   },
   {
    "duration": 22,
    "start_time": "2022-12-03T10:10:37.560Z"
   },
   {
    "duration": 8,
    "start_time": "2022-12-03T10:10:40.767Z"
   },
   {
    "duration": 147,
    "start_time": "2022-12-03T10:10:45.431Z"
   },
   {
    "duration": 129,
    "start_time": "2022-12-03T10:18:37.328Z"
   },
   {
    "duration": 130,
    "start_time": "2022-12-03T10:27:43.838Z"
   },
   {
    "duration": 176,
    "start_time": "2022-12-03T10:36:18.321Z"
   },
   {
    "duration": 204,
    "start_time": "2022-12-03T10:36:50.399Z"
   },
   {
    "duration": 237,
    "start_time": "2022-12-03T10:37:36.594Z"
   },
   {
    "duration": 613,
    "start_time": "2022-12-03T10:39:12.257Z"
   },
   {
    "duration": 200,
    "start_time": "2022-12-03T10:39:33.003Z"
   },
   {
    "duration": 593,
    "start_time": "2022-12-03T10:40:07.537Z"
   },
   {
    "duration": 517,
    "start_time": "2022-12-03T10:41:08.491Z"
   },
   {
    "duration": 273,
    "start_time": "2022-12-03T10:53:05.758Z"
   },
   {
    "duration": 1128,
    "start_time": "2022-12-03T10:57:18.511Z"
   },
   {
    "duration": 20,
    "start_time": "2022-12-03T10:58:45.040Z"
   },
   {
    "duration": 21,
    "start_time": "2022-12-03T11:03:27.609Z"
   },
   {
    "duration": 183,
    "start_time": "2022-12-03T11:03:30.314Z"
   },
   {
    "duration": 180,
    "start_time": "2022-12-03T11:06:01.150Z"
   },
   {
    "duration": 66,
    "start_time": "2022-12-03T11:07:03.839Z"
   },
   {
    "duration": 4,
    "start_time": "2022-12-03T11:07:06.224Z"
   },
   {
    "duration": 19,
    "start_time": "2022-12-03T11:07:07.605Z"
   },
   {
    "duration": 8,
    "start_time": "2022-12-03T11:07:09.264Z"
   },
   {
    "duration": 319,
    "start_time": "2022-12-03T11:07:10.939Z"
   },
   {
    "duration": 4,
    "start_time": "2022-12-03T11:07:13.602Z"
   },
   {
    "duration": 165,
    "start_time": "2022-12-03T11:07:14.839Z"
   },
   {
    "duration": 429,
    "start_time": "2022-12-03T11:07:16.447Z"
   },
   {
    "duration": 202,
    "start_time": "2022-12-03T11:07:18.837Z"
   },
   {
    "duration": 23,
    "start_time": "2022-12-03T11:07:21.321Z"
   },
   {
    "duration": 128,
    "start_time": "2022-12-03T11:07:24.122Z"
   },
   {
    "duration": 126,
    "start_time": "2022-12-03T11:07:25.778Z"
   },
   {
    "duration": 20,
    "start_time": "2022-12-03T11:07:30.623Z"
   },
   {
    "duration": 180,
    "start_time": "2022-12-03T11:07:32.627Z"
   },
   {
    "duration": 59,
    "start_time": "2022-12-03T11:07:59.829Z"
   },
   {
    "duration": 5,
    "start_time": "2022-12-03T11:08:01.777Z"
   },
   {
    "duration": 20,
    "start_time": "2022-12-03T11:08:03.021Z"
   },
   {
    "duration": 9,
    "start_time": "2022-12-03T11:08:04.506Z"
   },
   {
    "duration": 338,
    "start_time": "2022-12-03T11:08:05.684Z"
   },
   {
    "duration": 4,
    "start_time": "2022-12-03T11:08:08.327Z"
   },
   {
    "duration": 159,
    "start_time": "2022-12-03T11:08:09.434Z"
   },
   {
    "duration": 278,
    "start_time": "2022-12-03T11:08:11.394Z"
   },
   {
    "duration": 194,
    "start_time": "2022-12-03T11:08:13.403Z"
   },
   {
    "duration": 232,
    "start_time": "2022-12-03T11:08:14.927Z"
   },
   {
    "duration": 131,
    "start_time": "2022-12-03T11:08:17.242Z"
   },
   {
    "duration": 125,
    "start_time": "2022-12-03T11:08:18.715Z"
   },
   {
    "duration": 20,
    "start_time": "2022-12-03T11:08:20.149Z"
   },
   {
    "duration": 188,
    "start_time": "2022-12-03T11:08:22.034Z"
   },
   {
    "duration": 248,
    "start_time": "2022-12-03T11:19:58.483Z"
   },
   {
    "duration": 18,
    "start_time": "2022-12-03T11:21:47.669Z"
   },
   {
    "duration": 69,
    "start_time": "2022-12-03T11:22:04.721Z"
   },
   {
    "duration": 4,
    "start_time": "2022-12-03T11:22:07.665Z"
   },
   {
    "duration": 20,
    "start_time": "2022-12-03T11:22:09.032Z"
   },
   {
    "duration": 9,
    "start_time": "2022-12-03T11:22:10.735Z"
   },
   {
    "duration": 394,
    "start_time": "2022-12-03T11:22:12.077Z"
   },
   {
    "duration": 5,
    "start_time": "2022-12-03T11:22:13.783Z"
   },
   {
    "duration": 199,
    "start_time": "2022-12-03T11:22:15.094Z"
   },
   {
    "duration": 493,
    "start_time": "2022-12-03T11:22:16.974Z"
   },
   {
    "duration": 232,
    "start_time": "2022-12-03T11:22:18.937Z"
   },
   {
    "duration": 22,
    "start_time": "2022-12-03T11:22:21.240Z"
   },
   {
    "duration": 279,
    "start_time": "2022-12-03T11:22:22.963Z"
   },
   {
    "duration": 165,
    "start_time": "2022-12-03T11:22:25.780Z"
   },
   {
    "duration": 145,
    "start_time": "2022-12-03T11:22:27.572Z"
   },
   {
    "duration": 20,
    "start_time": "2022-12-03T11:22:29.760Z"
   },
   {
    "duration": 205,
    "start_time": "2022-12-03T11:22:31.100Z"
   },
   {
    "duration": 16,
    "start_time": "2022-12-03T11:22:33.654Z"
   },
   {
    "duration": 137,
    "start_time": "2022-12-03T11:23:31.287Z"
   },
   {
    "duration": 147,
    "start_time": "2022-12-03T11:23:39.705Z"
   },
   {
    "duration": 129,
    "start_time": "2022-12-03T11:24:17.383Z"
   },
   {
    "duration": 134,
    "start_time": "2022-12-03T11:24:23.093Z"
   },
   {
    "duration": 115,
    "start_time": "2022-12-03T11:30:41.317Z"
   },
   {
    "duration": 101,
    "start_time": "2022-12-03T11:30:48.134Z"
   },
   {
    "duration": 96,
    "start_time": "2022-12-03T11:30:56.222Z"
   },
   {
    "duration": 96,
    "start_time": "2022-12-03T11:35:29.279Z"
   },
   {
    "duration": 104,
    "start_time": "2022-12-03T11:35:32.196Z"
   },
   {
    "duration": 92,
    "start_time": "2022-12-03T11:35:40.540Z"
   },
   {
    "duration": 107,
    "start_time": "2022-12-03T11:36:34.155Z"
   },
   {
    "duration": 107,
    "start_time": "2022-12-03T11:37:55.696Z"
   },
   {
    "duration": 493,
    "start_time": "2022-12-03T11:54:01.247Z"
   },
   {
    "duration": 592,
    "start_time": "2022-12-03T11:54:11.295Z"
   },
   {
    "duration": 424,
    "start_time": "2022-12-03T11:54:20.964Z"
   },
   {
    "duration": 157,
    "start_time": "2022-12-03T11:54:28.722Z"
   },
   {
    "duration": 205,
    "start_time": "2022-12-03T11:57:21.802Z"
   },
   {
    "duration": 213,
    "start_time": "2022-12-03T11:58:34.465Z"
   },
   {
    "duration": 193,
    "start_time": "2022-12-03T12:00:26.306Z"
   },
   {
    "duration": 188,
    "start_time": "2022-12-03T12:01:04.045Z"
   },
   {
    "duration": 191,
    "start_time": "2022-12-03T12:01:59.710Z"
   },
   {
    "duration": 244,
    "start_time": "2022-12-03T12:02:37.495Z"
   },
   {
    "duration": 181,
    "start_time": "2022-12-03T12:10:05.962Z"
   },
   {
    "duration": 187,
    "start_time": "2022-12-03T12:10:55.710Z"
   },
   {
    "duration": 178,
    "start_time": "2022-12-03T12:11:40.741Z"
   },
   {
    "duration": 194,
    "start_time": "2022-12-03T12:12:33.040Z"
   },
   {
    "duration": 236,
    "start_time": "2022-12-03T12:14:54.538Z"
   },
   {
    "duration": 225,
    "start_time": "2022-12-03T12:23:15.616Z"
   },
   {
    "duration": 195,
    "start_time": "2022-12-03T12:23:17.096Z"
   },
   {
    "duration": 200,
    "start_time": "2022-12-03T12:23:19.623Z"
   },
   {
    "duration": 212,
    "start_time": "2022-12-03T12:23:21.946Z"
   },
   {
    "duration": 214,
    "start_time": "2022-12-03T12:23:28.033Z"
   },
   {
    "duration": 203,
    "start_time": "2022-12-03T12:23:29.618Z"
   },
   {
    "duration": 206,
    "start_time": "2022-12-03T12:23:31.217Z"
   },
   {
    "duration": 212,
    "start_time": "2022-12-03T12:23:38.696Z"
   },
   {
    "duration": 201,
    "start_time": "2022-12-03T12:23:40.548Z"
   },
   {
    "duration": 219,
    "start_time": "2022-12-03T12:23:42.111Z"
   },
   {
    "duration": 524,
    "start_time": "2022-12-05T11:57:57.925Z"
   },
   {
    "duration": 4,
    "start_time": "2022-12-05T11:58:05.683Z"
   },
   {
    "duration": 18,
    "start_time": "2022-12-05T11:58:08.774Z"
   },
   {
    "duration": 8,
    "start_time": "2022-12-05T11:58:14.337Z"
   },
   {
    "duration": 348,
    "start_time": "2022-12-05T11:58:22.477Z"
   },
   {
    "duration": 5,
    "start_time": "2022-12-05T11:58:30.193Z"
   },
   {
    "duration": 538,
    "start_time": "2022-12-05T11:58:34.571Z"
   },
   {
    "duration": 658,
    "start_time": "2022-12-05T12:00:27.737Z"
   },
   {
    "duration": 220,
    "start_time": "2022-12-05T12:02:42.663Z"
   },
   {
    "duration": 308,
    "start_time": "2022-12-05T12:05:59.524Z"
   },
   {
    "duration": 194,
    "start_time": "2022-12-05T12:15:06.148Z"
   },
   {
    "duration": 107,
    "start_time": "2022-12-05T12:16:46.071Z"
   },
   {
    "duration": 21,
    "start_time": "2022-12-05T12:17:11.348Z"
   },
   {
    "duration": 67,
    "start_time": "2022-12-05T12:17:19.619Z"
   },
   {
    "duration": 4,
    "start_time": "2022-12-05T12:17:21.719Z"
   },
   {
    "duration": 31,
    "start_time": "2022-12-05T12:17:22.566Z"
   },
   {
    "duration": 9,
    "start_time": "2022-12-05T12:17:24.152Z"
   },
   {
    "duration": 358,
    "start_time": "2022-12-05T12:17:28.827Z"
   },
   {
    "duration": 5,
    "start_time": "2022-12-05T12:17:30.705Z"
   },
   {
    "duration": 169,
    "start_time": "2022-12-05T12:17:32.282Z"
   },
   {
    "duration": 350,
    "start_time": "2022-12-05T12:17:34.405Z"
   },
   {
    "duration": 170,
    "start_time": "2022-12-05T12:17:36.701Z"
   },
   {
    "duration": 25,
    "start_time": "2022-12-05T12:17:39.825Z"
   },
   {
    "duration": 52,
    "start_time": "2022-12-05T12:19:26.084Z"
   },
   {
    "duration": 252,
    "start_time": "2022-12-05T12:19:32.380Z"
   },
   {
    "duration": 226,
    "start_time": "2022-12-05T12:20:42.259Z"
   },
   {
    "duration": 23,
    "start_time": "2022-12-05T12:23:56.446Z"
   },
   {
    "duration": 199,
    "start_time": "2022-12-05T12:24:11.655Z"
   },
   {
    "duration": 146,
    "start_time": "2022-12-05T12:27:06.495Z"
   },
   {
    "duration": 184,
    "start_time": "2022-12-05T12:27:34.135Z"
   },
   {
    "duration": 6,
    "start_time": "2022-12-05T12:31:56.548Z"
   },
   {
    "duration": 14,
    "start_time": "2022-12-05T12:32:25.122Z"
   },
   {
    "duration": 198,
    "start_time": "2022-12-05T12:34:00.823Z"
   },
   {
    "duration": 191,
    "start_time": "2022-12-05T12:36:20.249Z"
   },
   {
    "duration": 192,
    "start_time": "2022-12-05T12:36:43.212Z"
   },
   {
    "duration": 269,
    "start_time": "2022-12-05T12:36:49.160Z"
   },
   {
    "duration": 198,
    "start_time": "2022-12-05T12:37:05.830Z"
   },
   {
    "duration": 198,
    "start_time": "2022-12-05T12:37:59.734Z"
   },
   {
    "duration": 194,
    "start_time": "2022-12-05T12:38:05.022Z"
   },
   {
    "duration": 126,
    "start_time": "2022-12-05T12:38:33.412Z"
   },
   {
    "duration": 205,
    "start_time": "2022-12-05T12:48:45.350Z"
   },
   {
    "duration": 217,
    "start_time": "2022-12-05T12:50:06.957Z"
   },
   {
    "duration": 66,
    "start_time": "2022-12-05T12:52:17.435Z"
   },
   {
    "duration": 4,
    "start_time": "2022-12-05T12:52:19.482Z"
   },
   {
    "duration": 19,
    "start_time": "2022-12-05T12:52:20.651Z"
   },
   {
    "duration": 9,
    "start_time": "2022-12-05T12:52:22.341Z"
   },
   {
    "duration": 369,
    "start_time": "2022-12-05T12:52:23.577Z"
   },
   {
    "duration": 208,
    "start_time": "2022-12-05T12:52:32.223Z"
   },
   {
    "duration": 221,
    "start_time": "2022-12-05T12:53:22.910Z"
   },
   {
    "duration": 217,
    "start_time": "2022-12-05T12:55:30.017Z"
   },
   {
    "duration": 198,
    "start_time": "2022-12-05T12:57:08.376Z"
   },
   {
    "duration": 63,
    "start_time": "2022-12-05T12:58:07.068Z"
   },
   {
    "duration": 4,
    "start_time": "2022-12-05T12:58:09.600Z"
   },
   {
    "duration": 20,
    "start_time": "2022-12-05T12:58:10.787Z"
   },
   {
    "duration": 10,
    "start_time": "2022-12-05T12:58:12.497Z"
   },
   {
    "duration": 369,
    "start_time": "2022-12-05T12:58:13.692Z"
   },
   {
    "duration": 4,
    "start_time": "2022-12-05T12:58:16.123Z"
   },
   {
    "duration": 179,
    "start_time": "2022-12-05T12:58:18.316Z"
   },
   {
    "duration": 295,
    "start_time": "2022-12-05T12:58:19.963Z"
   },
   {
    "duration": 172,
    "start_time": "2022-12-05T12:58:21.629Z"
   },
   {
    "duration": 204,
    "start_time": "2022-12-05T12:58:23.730Z"
   },
   {
    "duration": 231,
    "start_time": "2022-12-05T12:58:25.676Z"
   },
   {
    "duration": 20,
    "start_time": "2022-12-05T12:58:27.679Z"
   },
   {
    "duration": 205,
    "start_time": "2022-12-05T12:58:29.163Z"
   },
   {
    "duration": 272,
    "start_time": "2022-12-05T12:58:32.384Z"
   },
   {
    "duration": 157,
    "start_time": "2022-12-05T12:58:33.896Z"
   },
   {
    "duration": 17,
    "start_time": "2022-12-05T12:58:35.843Z"
   },
   {
    "duration": 195,
    "start_time": "2022-12-05T12:58:38.632Z"
   },
   {
    "duration": 134,
    "start_time": "2022-12-05T12:58:47.388Z"
   },
   {
    "duration": 177,
    "start_time": "2022-12-05T13:00:41.146Z"
   },
   {
    "duration": 197,
    "start_time": "2022-12-05T13:02:43.925Z"
   },
   {
    "duration": 196,
    "start_time": "2022-12-05T13:03:15.286Z"
   },
   {
    "duration": 7,
    "start_time": "2022-12-05T13:06:07.294Z"
   },
   {
    "duration": 4,
    "start_time": "2022-12-05T13:06:08.520Z"
   },
   {
    "duration": 7,
    "start_time": "2022-12-05T13:09:16.247Z"
   },
   {
    "duration": 4,
    "start_time": "2022-12-05T13:09:18.792Z"
   },
   {
    "duration": 5,
    "start_time": "2022-12-05T13:09:47.382Z"
   },
   {
    "duration": 8,
    "start_time": "2022-12-05T13:12:04.159Z"
   },
   {
    "duration": 4,
    "start_time": "2022-12-05T13:12:06.865Z"
   },
   {
    "duration": 4,
    "start_time": "2022-12-05T13:12:09.250Z"
   },
   {
    "duration": 9,
    "start_time": "2022-12-05T13:13:15.577Z"
   },
   {
    "duration": 4,
    "start_time": "2022-12-05T13:13:17.888Z"
   },
   {
    "duration": 6,
    "start_time": "2022-12-05T13:13:43.420Z"
   },
   {
    "duration": 14,
    "start_time": "2022-12-05T13:21:22.145Z"
   },
   {
    "duration": 12,
    "start_time": "2022-12-05T13:21:48.106Z"
   },
   {
    "duration": 12,
    "start_time": "2022-12-05T13:27:10.185Z"
   },
   {
    "duration": 68,
    "start_time": "2022-12-05T15:09:28.184Z"
   },
   {
    "duration": 3,
    "start_time": "2022-12-05T15:09:34.333Z"
   },
   {
    "duration": 20,
    "start_time": "2022-12-05T15:09:40.681Z"
   },
   {
    "duration": 63,
    "start_time": "2022-12-05T15:10:25.484Z"
   },
   {
    "duration": 4,
    "start_time": "2022-12-05T15:10:27.783Z"
   },
   {
    "duration": 21,
    "start_time": "2022-12-05T15:10:29.293Z"
   },
   {
    "duration": 65,
    "start_time": "2022-12-05T15:10:47.068Z"
   },
   {
    "duration": 4,
    "start_time": "2022-12-05T15:10:49.307Z"
   },
   {
    "duration": 27,
    "start_time": "2022-12-05T15:10:50.265Z"
   },
   {
    "duration": 10,
    "start_time": "2022-12-05T15:10:52.596Z"
   },
   {
    "duration": 367,
    "start_time": "2022-12-05T15:10:53.981Z"
   },
   {
    "duration": 65,
    "start_time": "2022-12-05T15:11:27.544Z"
   },
   {
    "duration": 5,
    "start_time": "2022-12-05T15:11:31.773Z"
   },
   {
    "duration": 17,
    "start_time": "2022-12-05T15:11:46.484Z"
   },
   {
    "duration": 9,
    "start_time": "2022-12-05T15:15:27.663Z"
   },
   {
    "duration": 372,
    "start_time": "2022-12-05T15:16:27.380Z"
   },
   {
    "duration": 212,
    "start_time": "2022-12-05T15:16:33.407Z"
   },
   {
    "duration": 228,
    "start_time": "2022-12-05T15:18:24.650Z"
   },
   {
    "duration": 204,
    "start_time": "2022-12-05T15:19:01.042Z"
   },
   {
    "duration": 5,
    "start_time": "2022-12-05T15:26:44.586Z"
   },
   {
    "duration": 168,
    "start_time": "2022-12-05T15:27:07.810Z"
   },
   {
    "duration": 295,
    "start_time": "2022-12-05T15:29:08.188Z"
   },
   {
    "duration": 308,
    "start_time": "2022-12-05T15:32:28.988Z"
   },
   {
    "duration": 31,
    "start_time": "2022-12-05T15:40:54.522Z"
   },
   {
    "duration": 305,
    "start_time": "2022-12-05T15:41:23.043Z"
   },
   {
    "duration": 211,
    "start_time": "2022-12-05T15:47:29.150Z"
   },
   {
    "duration": 235,
    "start_time": "2022-12-05T15:50:42.660Z"
   },
   {
    "duration": 19,
    "start_time": "2022-12-05T16:02:45.074Z"
   },
   {
    "duration": 198,
    "start_time": "2022-12-05T16:03:14.832Z"
   },
   {
    "duration": 150,
    "start_time": "2022-12-05T16:06:24.014Z"
   },
   {
    "duration": 156,
    "start_time": "2022-12-05T16:09:58.600Z"
   },
   {
    "duration": 16,
    "start_time": "2022-12-05T16:11:27.468Z"
   },
   {
    "duration": 192,
    "start_time": "2022-12-05T16:13:51.556Z"
   },
   {
    "duration": 206,
    "start_time": "2022-12-05T16:32:05.781Z"
   },
   {
    "duration": 676,
    "start_time": "2022-12-05T16:32:34.336Z"
   },
   {
    "duration": 689,
    "start_time": "2022-12-05T16:35:27.098Z"
   },
   {
    "duration": 489,
    "start_time": "2022-12-05T16:35:54.518Z"
   },
   {
    "duration": 582,
    "start_time": "2022-12-05T16:36:26.399Z"
   },
   {
    "duration": 481,
    "start_time": "2022-12-05T16:36:37.658Z"
   },
   {
    "duration": 486,
    "start_time": "2022-12-05T16:36:45.733Z"
   },
   {
    "duration": 258,
    "start_time": "2022-12-05T16:37:06.737Z"
   },
   {
    "duration": 13,
    "start_time": "2022-12-05T16:39:07.353Z"
   },
   {
    "duration": 15,
    "start_time": "2022-12-05T16:39:38.134Z"
   },
   {
    "duration": 268,
    "start_time": "2022-12-05T16:39:49.683Z"
   },
   {
    "duration": 413,
    "start_time": "2022-12-05T16:40:32.149Z"
   },
   {
    "duration": 319,
    "start_time": "2022-12-05T16:42:16.413Z"
   },
   {
    "duration": 949,
    "start_time": "2022-12-05T16:42:27.188Z"
   },
   {
    "duration": 671,
    "start_time": "2022-12-05T16:45:59.917Z"
   },
   {
    "duration": 971,
    "start_time": "2022-12-05T16:46:52.961Z"
   },
   {
    "duration": 854,
    "start_time": "2022-12-05T16:47:03.453Z"
   },
   {
    "duration": 1085,
    "start_time": "2022-12-05T16:47:14.232Z"
   },
   {
    "duration": 860,
    "start_time": "2022-12-05T16:48:44.664Z"
   },
   {
    "duration": 272,
    "start_time": "2022-12-05T16:51:03.719Z"
   },
   {
    "duration": 270,
    "start_time": "2022-12-05T16:51:21.678Z"
   },
   {
    "duration": 66,
    "start_time": "2022-12-05T16:52:54.047Z"
   },
   {
    "duration": 5,
    "start_time": "2022-12-05T16:52:56.418Z"
   },
   {
    "duration": 22,
    "start_time": "2022-12-05T16:52:57.622Z"
   },
   {
    "duration": 9,
    "start_time": "2022-12-05T16:52:59.504Z"
   },
   {
    "duration": 348,
    "start_time": "2022-12-05T16:53:01.022Z"
   },
   {
    "duration": 5,
    "start_time": "2022-12-05T16:53:02.956Z"
   },
   {
    "duration": 414,
    "start_time": "2022-12-05T16:53:04.358Z"
   },
   {
    "duration": 806,
    "start_time": "2022-12-05T16:53:06.128Z"
   },
   {
    "duration": 473,
    "start_time": "2022-12-05T16:53:08.775Z"
   },
   {
    "duration": 445,
    "start_time": "2022-12-05T16:53:10.945Z"
   },
   {
    "duration": 524,
    "start_time": "2022-12-05T16:53:13.575Z"
   },
   {
    "duration": 21,
    "start_time": "2022-12-05T16:53:15.542Z"
   },
   {
    "duration": 488,
    "start_time": "2022-12-05T16:53:17.366Z"
   },
   {
    "duration": 437,
    "start_time": "2022-12-05T16:53:22.211Z"
   },
   {
    "duration": 440,
    "start_time": "2022-12-05T16:53:24.045Z"
   },
   {
    "duration": 16,
    "start_time": "2022-12-05T16:53:26.315Z"
   },
   {
    "duration": 482,
    "start_time": "2022-12-05T16:53:27.975Z"
   },
   {
    "duration": 276,
    "start_time": "2022-12-05T16:53:30.419Z"
   },
   {
    "duration": 409,
    "start_time": "2022-12-05T16:54:13.735Z"
   },
   {
    "duration": 1153,
    "start_time": "2022-12-05T16:54:27.324Z"
   },
   {
    "duration": 1016,
    "start_time": "2022-12-05T16:55:27.360Z"
   },
   {
    "duration": 1216,
    "start_time": "2022-12-05T16:57:04.358Z"
   },
   {
    "duration": 997,
    "start_time": "2022-12-05T16:57:59.372Z"
   },
   {
    "duration": 1032,
    "start_time": "2022-12-05T16:58:15.822Z"
   },
   {
    "duration": 1227,
    "start_time": "2022-12-05T16:58:29.530Z"
   },
   {
    "duration": 1204,
    "start_time": "2022-12-05T16:58:36.164Z"
   },
   {
    "duration": 1295,
    "start_time": "2022-12-05T17:02:03.353Z"
   },
   {
    "duration": 1120,
    "start_time": "2022-12-05T17:02:10.615Z"
   },
   {
    "duration": 1115,
    "start_time": "2022-12-05T17:02:18.904Z"
   },
   {
    "duration": 1332,
    "start_time": "2022-12-05T17:02:25.325Z"
   },
   {
    "duration": 1289,
    "start_time": "2022-12-05T17:06:01.390Z"
   },
   {
    "duration": 1348,
    "start_time": "2022-12-05T17:06:18.197Z"
   },
   {
    "duration": 1310,
    "start_time": "2022-12-05T17:06:33.940Z"
   },
   {
    "duration": 1671,
    "start_time": "2022-12-05T17:06:45.866Z"
   },
   {
    "duration": 451,
    "start_time": "2022-12-05T17:07:35.728Z"
   },
   {
    "duration": 1390,
    "start_time": "2022-12-05T17:07:49.743Z"
   },
   {
    "duration": 1718,
    "start_time": "2022-12-05T17:07:58.318Z"
   },
   {
    "duration": 1337,
    "start_time": "2022-12-05T17:08:02.476Z"
   },
   {
    "duration": 1317,
    "start_time": "2022-12-05T17:08:14.495Z"
   },
   {
    "duration": 1581,
    "start_time": "2022-12-05T17:08:25.830Z"
   },
   {
    "duration": 1317,
    "start_time": "2022-12-05T17:10:05.404Z"
   },
   {
    "duration": 1556,
    "start_time": "2022-12-05T17:28:58.797Z"
   },
   {
    "duration": 1399,
    "start_time": "2022-12-05T17:29:18.044Z"
   },
   {
    "duration": 1539,
    "start_time": "2022-12-05T17:29:32.137Z"
   },
   {
    "duration": 1379,
    "start_time": "2022-12-05T17:37:42.121Z"
   },
   {
    "duration": 1533,
    "start_time": "2022-12-05T17:37:59.420Z"
   },
   {
    "duration": 1309,
    "start_time": "2022-12-05T17:38:44.494Z"
   },
   {
    "duration": 1358,
    "start_time": "2022-12-05T17:38:51.456Z"
   },
   {
    "duration": 1539,
    "start_time": "2022-12-05T17:38:59.044Z"
   },
   {
    "duration": 1297,
    "start_time": "2022-12-05T17:39:16.194Z"
   },
   {
    "duration": 1490,
    "start_time": "2022-12-05T17:39:26.965Z"
   },
   {
    "duration": 66,
    "start_time": "2022-12-05T17:40:57.259Z"
   },
   {
    "duration": 4,
    "start_time": "2022-12-05T17:41:00.093Z"
   },
   {
    "duration": 18,
    "start_time": "2022-12-05T17:41:01.569Z"
   },
   {
    "duration": 9,
    "start_time": "2022-12-05T17:41:03.443Z"
   },
   {
    "duration": 369,
    "start_time": "2022-12-05T17:41:04.774Z"
   },
   {
    "duration": 5,
    "start_time": "2022-12-05T17:41:06.849Z"
   },
   {
    "duration": 465,
    "start_time": "2022-12-05T17:41:07.720Z"
   },
   {
    "duration": 616,
    "start_time": "2022-12-05T17:41:10.271Z"
   },
   {
    "duration": 433,
    "start_time": "2022-12-05T17:41:12.439Z"
   },
   {
    "duration": 512,
    "start_time": "2022-12-05T17:41:14.477Z"
   },
   {
    "duration": 528,
    "start_time": "2022-12-05T17:41:16.598Z"
   },
   {
    "duration": 20,
    "start_time": "2022-12-05T17:41:18.314Z"
   },
   {
    "duration": 412,
    "start_time": "2022-12-05T17:41:22.262Z"
   },
   {
    "duration": 481,
    "start_time": "2022-12-05T17:41:34.730Z"
   },
   {
    "duration": 391,
    "start_time": "2022-12-05T17:41:43.473Z"
   },
   {
    "duration": 397,
    "start_time": "2022-12-05T17:41:45.369Z"
   },
   {
    "duration": 16,
    "start_time": "2022-12-05T17:41:47.391Z"
   },
   {
    "duration": 443,
    "start_time": "2022-12-05T17:41:49.014Z"
   },
   {
    "duration": 1502,
    "start_time": "2022-12-05T17:41:51.420Z"
   },
   {
    "duration": 1388,
    "start_time": "2022-12-05T17:41:55.624Z"
   },
   {
    "duration": 1487,
    "start_time": "2022-12-05T17:41:58.083Z"
   },
   {
    "duration": 582,
    "start_time": "2022-12-05T17:43:44.538Z"
   },
   {
    "duration": 612,
    "start_time": "2022-12-05T17:43:58.034Z"
   },
   {
    "duration": 1324,
    "start_time": "2022-12-05T17:44:06.070Z"
   },
   {
    "duration": 11,
    "start_time": "2022-12-05T18:05:12.409Z"
   },
   {
    "duration": 10,
    "start_time": "2022-12-05T18:12:55.378Z"
   },
   {
    "duration": 468,
    "start_time": "2022-12-05T18:33:18.128Z"
   },
   {
    "duration": 4,
    "start_time": "2022-12-05T18:33:18.598Z"
   },
   {
    "duration": 23,
    "start_time": "2022-12-05T18:33:18.604Z"
   },
   {
    "duration": 8,
    "start_time": "2022-12-05T18:33:18.629Z"
   },
   {
    "duration": 349,
    "start_time": "2022-12-05T18:33:18.640Z"
   },
   {
    "duration": 5,
    "start_time": "2022-12-05T18:33:18.991Z"
   },
   {
    "duration": 444,
    "start_time": "2022-12-05T18:33:18.997Z"
   },
   {
    "duration": 764,
    "start_time": "2022-12-05T18:33:19.443Z"
   },
   {
    "duration": 181,
    "start_time": "2022-12-05T18:33:20.209Z"
   },
   {
    "duration": 255,
    "start_time": "2022-12-05T18:33:20.392Z"
   },
   {
    "duration": 253,
    "start_time": "2022-12-05T18:33:20.649Z"
   },
   {
    "duration": 34,
    "start_time": "2022-12-05T18:33:20.903Z"
   },
   {
    "duration": 218,
    "start_time": "2022-12-05T18:33:20.939Z"
   },
   {
    "duration": 160,
    "start_time": "2022-12-05T18:33:21.161Z"
   },
   {
    "duration": 258,
    "start_time": "2022-12-05T18:33:21.322Z"
   },
   {
    "duration": 16,
    "start_time": "2022-12-05T18:33:21.582Z"
   },
   {
    "duration": 242,
    "start_time": "2022-12-05T18:33:21.599Z"
   },
   {
    "duration": 595,
    "start_time": "2022-12-05T18:33:21.843Z"
   },
   {
    "duration": 620,
    "start_time": "2022-12-05T18:33:22.440Z"
   },
   {
    "duration": 601,
    "start_time": "2022-12-05T18:33:23.062Z"
   },
   {
    "duration": 9,
    "start_time": "2022-12-05T18:33:23.665Z"
   },
   {
    "duration": 14,
    "start_time": "2022-12-05T18:33:23.676Z"
   },
   {
    "duration": 450,
    "start_time": "2022-12-06T06:17:46.580Z"
   },
   {
    "duration": 3,
    "start_time": "2022-12-06T06:17:47.032Z"
   },
   {
    "duration": 17,
    "start_time": "2022-12-06T06:17:47.037Z"
   },
   {
    "duration": 8,
    "start_time": "2022-12-06T06:17:47.056Z"
   },
   {
    "duration": 364,
    "start_time": "2022-12-06T06:17:47.066Z"
   },
   {
    "duration": 5,
    "start_time": "2022-12-06T06:17:47.432Z"
   },
   {
    "duration": 555,
    "start_time": "2022-12-06T06:17:47.439Z"
   },
   {
    "duration": 833,
    "start_time": "2022-12-06T06:17:47.996Z"
   },
   {
    "duration": 196,
    "start_time": "2022-12-06T06:17:48.830Z"
   },
   {
    "duration": 251,
    "start_time": "2022-12-06T06:17:49.029Z"
   },
   {
    "duration": 220,
    "start_time": "2022-12-06T06:17:49.281Z"
   },
   {
    "duration": 28,
    "start_time": "2022-12-06T06:17:49.503Z"
   },
   {
    "duration": 213,
    "start_time": "2022-12-06T06:17:49.532Z"
   },
   {
    "duration": 213,
    "start_time": "2022-12-06T06:17:49.746Z"
   },
   {
    "duration": 162,
    "start_time": "2022-12-06T06:17:49.961Z"
   },
   {
    "duration": 15,
    "start_time": "2022-12-06T06:17:50.125Z"
   },
   {
    "duration": 203,
    "start_time": "2022-12-06T06:17:50.142Z"
   },
   {
    "duration": 610,
    "start_time": "2022-12-06T06:17:50.347Z"
   },
   {
    "duration": 624,
    "start_time": "2022-12-06T06:17:50.958Z"
   },
   {
    "duration": 579,
    "start_time": "2022-12-06T06:17:51.583Z"
   },
   {
    "duration": 9,
    "start_time": "2022-12-06T06:17:52.164Z"
   },
   {
    "duration": 48,
    "start_time": "2022-12-06T06:17:52.175Z"
   },
   {
    "duration": 591,
    "start_time": "2022-12-06T09:06:06.395Z"
   },
   {
    "duration": 72,
    "start_time": "2022-12-06T09:07:09.018Z"
   },
   {
    "duration": 5,
    "start_time": "2022-12-06T09:07:15.407Z"
   },
   {
    "duration": 18,
    "start_time": "2022-12-06T09:07:18.621Z"
   },
   {
    "duration": 85,
    "start_time": "2022-12-06T09:07:30.472Z"
   },
   {
    "duration": 78,
    "start_time": "2022-12-06T09:37:31.490Z"
   },
   {
    "duration": 4,
    "start_time": "2022-12-06T09:37:38.081Z"
   },
   {
    "duration": 18,
    "start_time": "2022-12-06T09:37:41.368Z"
   },
   {
    "duration": 32,
    "start_time": "2022-12-06T09:38:41.252Z"
   },
   {
    "duration": 23,
    "start_time": "2022-12-06T09:40:14.109Z"
   },
   {
    "duration": 23,
    "start_time": "2022-12-06T09:41:42.682Z"
   },
   {
    "duration": 477,
    "start_time": "2022-12-06T09:47:39.037Z"
   },
   {
    "duration": 20,
    "start_time": "2022-12-06T09:47:57.186Z"
   },
   {
    "duration": 29,
    "start_time": "2022-12-06T09:53:42.771Z"
   },
   {
    "duration": 119,
    "start_time": "2022-12-06T09:58:32.745Z"
   },
   {
    "duration": 18,
    "start_time": "2022-12-06T09:58:59.657Z"
   },
   {
    "duration": 8,
    "start_time": "2022-12-06T09:59:35.016Z"
   },
   {
    "duration": 568,
    "start_time": "2022-12-06T10:01:14.351Z"
   },
   {
    "duration": 4,
    "start_time": "2022-12-06T10:01:17.258Z"
   },
   {
    "duration": 20,
    "start_time": "2022-12-06T10:01:18.971Z"
   },
   {
    "duration": 21,
    "start_time": "2022-12-06T10:01:21.450Z"
   },
   {
    "duration": 16,
    "start_time": "2022-12-06T10:01:23.546Z"
   },
   {
    "duration": 31,
    "start_time": "2022-12-06T10:01:25.253Z"
   },
   {
    "duration": 8,
    "start_time": "2022-12-06T10:01:27.617Z"
   },
   {
    "duration": 222,
    "start_time": "2022-12-06T10:01:29.759Z"
   },
   {
    "duration": 50,
    "start_time": "2022-12-06T10:01:36.220Z"
   },
   {
    "duration": 176,
    "start_time": "2022-12-06T10:01:59.159Z"
   },
   {
    "duration": 20,
    "start_time": "2022-12-06T10:03:05.995Z"
   },
   {
    "duration": 5,
    "start_time": "2022-12-06T10:03:52.994Z"
   },
   {
    "duration": 183,
    "start_time": "2022-12-06T10:03:55.994Z"
   },
   {
    "duration": 337,
    "start_time": "2022-12-06T10:03:58.345Z"
   },
   {
    "duration": 178,
    "start_time": "2022-12-06T10:04:03.816Z"
   },
   {
    "duration": 293,
    "start_time": "2022-12-06T10:04:20.972Z"
   },
   {
    "duration": 329,
    "start_time": "2022-12-06T10:04:25.440Z"
   },
   {
    "duration": 21,
    "start_time": "2022-12-06T10:04:35.739Z"
   },
   {
    "duration": 226,
    "start_time": "2022-12-06T10:04:37.052Z"
   },
   {
    "duration": 35,
    "start_time": "2022-12-06T10:24:33.308Z"
   },
   {
    "duration": 344,
    "start_time": "2022-12-06T10:24:44.029Z"
   },
   {
    "duration": 352,
    "start_time": "2022-12-06T10:29:55.272Z"
   },
   {
    "duration": 360,
    "start_time": "2022-12-06T10:38:59.008Z"
   },
   {
    "duration": 399,
    "start_time": "2022-12-06T10:42:37.690Z"
   },
   {
    "duration": 446,
    "start_time": "2022-12-06T10:43:23.987Z"
   },
   {
    "duration": 386,
    "start_time": "2022-12-06T10:51:19.665Z"
   },
   {
    "duration": 173,
    "start_time": "2022-12-06T11:01:05.365Z"
   },
   {
    "duration": 194,
    "start_time": "2022-12-06T11:01:06.964Z"
   },
   {
    "duration": 19,
    "start_time": "2022-12-06T11:01:09.493Z"
   },
   {
    "duration": 268,
    "start_time": "2022-12-06T11:01:11.330Z"
   },
   {
    "duration": 419,
    "start_time": "2022-12-06T11:02:08.804Z"
   },
   {
    "duration": 408,
    "start_time": "2022-12-06T11:03:34.107Z"
   },
   {
    "duration": 420,
    "start_time": "2022-12-06T11:03:54.403Z"
   },
   {
    "duration": 104,
    "start_time": "2022-12-06T11:26:20.595Z"
   },
   {
    "duration": 4,
    "start_time": "2022-12-06T11:26:33.325Z"
   },
   {
    "duration": 19,
    "start_time": "2022-12-06T11:26:47.106Z"
   },
   {
    "duration": 19,
    "start_time": "2022-12-06T11:27:23.214Z"
   },
   {
    "duration": 22,
    "start_time": "2022-12-06T11:28:00.417Z"
   },
   {
    "duration": 16,
    "start_time": "2022-12-06T11:28:27.478Z"
   },
   {
    "duration": 32,
    "start_time": "2022-12-06T11:28:47.619Z"
   },
   {
    "duration": 7,
    "start_time": "2022-12-06T11:31:18.907Z"
   },
   {
    "duration": 189,
    "start_time": "2022-12-06T11:31:46.443Z"
   },
   {
    "duration": 473,
    "start_time": "2022-12-06T11:32:03.651Z"
   },
   {
    "duration": 209,
    "start_time": "2022-12-06T11:32:13.316Z"
   },
   {
    "duration": 270,
    "start_time": "2022-12-06T11:32:41.813Z"
   },
   {
    "duration": 248,
    "start_time": "2022-12-06T11:32:54.752Z"
   },
   {
    "duration": 38,
    "start_time": "2022-12-06T11:33:07.897Z"
   },
   {
    "duration": 359,
    "start_time": "2022-12-06T11:33:15.874Z"
   },
   {
    "duration": 353,
    "start_time": "2022-12-06T11:33:57.760Z"
   },
   {
    "duration": 172,
    "start_time": "2022-12-06T11:34:27.484Z"
   },
   {
    "duration": 171,
    "start_time": "2022-12-06T11:34:31.726Z"
   },
   {
    "duration": 17,
    "start_time": "2022-12-06T11:34:38.202Z"
   },
   {
    "duration": 224,
    "start_time": "2022-12-06T11:34:45.303Z"
   },
   {
    "duration": 396,
    "start_time": "2022-12-06T11:35:16.021Z"
   },
   {
    "duration": 555,
    "start_time": "2022-12-06T11:35:27.625Z"
   },
   {
    "duration": 676,
    "start_time": "2022-12-06T11:39:08.317Z"
   },
   {
    "duration": 748,
    "start_time": "2022-12-06T11:39:32.275Z"
   },
   {
    "duration": 649,
    "start_time": "2022-12-06T11:40:01.314Z"
   }
  ],
  "kernelspec": {
   "display_name": "Python 3 (ipykernel)",
   "language": "python",
   "name": "python3"
  },
  "language_info": {
   "codemirror_mode": {
    "name": "ipython",
    "version": 3
   },
   "file_extension": ".py",
   "mimetype": "text/x-python",
   "name": "python",
   "nbconvert_exporter": "python",
   "pygments_lexer": "ipython3",
   "version": "3.10.9"
  },
  "toc": {
   "base_numbering": 1,
   "nav_menu": {},
   "number_sections": true,
   "sideBar": true,
   "skip_h1_title": true,
   "title_cell": "Table of Contents",
   "title_sidebar": "Contents",
   "toc_cell": false,
   "toc_position": {},
   "toc_section_display": true,
   "toc_window_display": false
  }
 },
 "nbformat": 4,
 "nbformat_minor": 2
}
