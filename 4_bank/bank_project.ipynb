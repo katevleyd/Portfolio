{
 "cells": [
  {
   "cell_type": "markdown",
   "metadata": {},
   "source": [
    "# Выпускной проект. Анализ оттока клиентов банка.\n",
    "\n",
    "Датасет содержит данные о клиентах банка «Метанпром». Банк располагается в Ярославле и областных городах: Ростов Великий и Рыбинск. Последнее время в банке повысился отток клиентов, это начинается становиться проблемой, которая угрожает существованию банка.\n",
    "\n",
    "Цель: проанализировать клиентов регионального банка и выделить сегменты клиентов, которые склонны уходить из банка.\n",
    "\n",
    "Задачи:\n",
    "1. Загрузка данных и изучение общей информации\n",
    "2. Предобработка данных\n",
    "   - Проверка корректности наименований колонок\n",
    "   - Переименование колонок\n",
    "   - Исследование пропущенных значений\n",
    "   - Проверка на дубликаты\n",
    "   - Исследование соответствия типов\n",
    "   - Приведение типов\n",
    "3. Проведение исследовательского анализа данных\n",
    "   - Исследование корреляций\n",
    "   - Исследование портретов клиентов, которые склонны уходить из банка\n",
    "4. Выделение сегментов и их приоритизация\n",
    "5. Формулирование и проверка статистических гипотез\n",
    "   - Поиск наличия взаимосвязи между оттоком клиентов и отнесения клиентов к определенному сегменту\n",
    "6. Формулирование выводов и рекомендаций\n",
    "   - Определить, какие признаки влияют на отток клиентов\n",
    "   - Определить, какие значения этих признаков связаны с оттоком\n",
    "   - Рекомендации по приоритетным сегментам\n",
    "7. Презентация"
   ]
  },
  {
   "cell_type": "markdown",
   "metadata": {},
   "source": [
    "Ссылка на презентацию: https://drive.google.com/file/d/1nSrZOEVBNzX9Lgebzgg0RCEx8lwhNOOO/view?usp=sharing"
   ]
  },
  {
   "cell_type": "markdown",
   "metadata": {},
   "source": [
    "Ссылка на дашборд: https://public.tableau.com/app/profile/katya6922/viz/_16809647700520/Dashboard1?publish=yes"
   ]
  },
  {
   "cell_type": "markdown",
   "metadata": {},
   "source": [
    "### Загрузка данных и изучение общей информации"
   ]
  },
  {
   "cell_type": "code",
   "execution_count": 1,
   "metadata": {},
   "outputs": [
    {
     "name": "stdout",
     "output_type": "stream",
     "text": [
      "Collecting phik\n",
      "  Downloading phik-0.12.3-cp39-cp39-manylinux_2_17_x86_64.manylinux2014_x86_64.whl (679 kB)\n",
      "\u001b[K     |████████████████████████████████| 679 kB 1.5 MB/s eta 0:00:01\n",
      "\u001b[?25hRequirement already satisfied: scipy>=1.5.2 in /opt/conda/lib/python3.9/site-packages (from phik) (1.9.1)\n",
      "Requirement already satisfied: pandas>=0.25.1 in /opt/conda/lib/python3.9/site-packages (from phik) (1.2.4)\n",
      "Requirement already satisfied: numpy>=1.18.0 in /opt/conda/lib/python3.9/site-packages (from phik) (1.21.1)\n",
      "Requirement already satisfied: matplotlib>=2.2.3 in /opt/conda/lib/python3.9/site-packages (from phik) (3.3.4)\n",
      "Requirement already satisfied: joblib>=0.14.1 in /opt/conda/lib/python3.9/site-packages (from phik) (1.1.0)\n",
      "Requirement already satisfied: kiwisolver>=1.0.1 in /opt/conda/lib/python3.9/site-packages (from matplotlib>=2.2.3->phik) (1.4.4)\n",
      "Requirement already satisfied: pillow>=6.2.0 in /opt/conda/lib/python3.9/site-packages (from matplotlib>=2.2.3->phik) (8.4.0)\n",
      "Requirement already satisfied: python-dateutil>=2.1 in /opt/conda/lib/python3.9/site-packages (from matplotlib>=2.2.3->phik) (2.8.1)\n",
      "Requirement already satisfied: cycler>=0.10 in /opt/conda/lib/python3.9/site-packages (from matplotlib>=2.2.3->phik) (0.11.0)\n",
      "Requirement already satisfied: pyparsing!=2.0.4,!=2.1.2,!=2.1.6,>=2.0.3 in /opt/conda/lib/python3.9/site-packages (from matplotlib>=2.2.3->phik) (2.4.7)\n",
      "Requirement already satisfied: pytz>=2017.3 in /opt/conda/lib/python3.9/site-packages (from pandas>=0.25.1->phik) (2021.1)\n",
      "Requirement already satisfied: six>=1.5 in /opt/conda/lib/python3.9/site-packages (from python-dateutil>=2.1->matplotlib>=2.2.3->phik) (1.16.0)\n",
      "Installing collected packages: phik\n",
      "Successfully installed phik-0.12.3\n"
     ]
    }
   ],
   "source": [
    "import pandas as pd\n",
    "import seaborn as sns\n",
    "import matplotlib.pyplot as plt\n",
    "from plotly import graph_objects as go\n",
    "!pip install phik\n",
    "import phik\n",
    "from phik.report import plot_correlation_matrix\n",
    "from phik import report\n",
    "from scipy import stats as st"
   ]
  },
  {
   "cell_type": "code",
   "execution_count": 2,
   "metadata": {},
   "outputs": [
    {
     "data": {
      "text/html": [
       "<div>\n",
       "<style scoped>\n",
       "    .dataframe tbody tr th:only-of-type {\n",
       "        vertical-align: middle;\n",
       "    }\n",
       "\n",
       "    .dataframe tbody tr th {\n",
       "        vertical-align: top;\n",
       "    }\n",
       "\n",
       "    .dataframe thead th {\n",
       "        text-align: right;\n",
       "    }\n",
       "</style>\n",
       "<table border=\"1\" class=\"dataframe\">\n",
       "  <thead>\n",
       "    <tr style=\"text-align: right;\">\n",
       "      <th></th>\n",
       "      <th>USERID</th>\n",
       "      <th>score</th>\n",
       "      <th>city</th>\n",
       "      <th>gender</th>\n",
       "      <th>age</th>\n",
       "      <th>equity</th>\n",
       "      <th>balance</th>\n",
       "      <th>products</th>\n",
       "      <th>credit_card</th>\n",
       "      <th>last_activity</th>\n",
       "      <th>EST_SALARY</th>\n",
       "      <th>churn</th>\n",
       "    </tr>\n",
       "  </thead>\n",
       "  <tbody>\n",
       "    <tr>\n",
       "      <th>0</th>\n",
       "      <td>183012</td>\n",
       "      <td>850.0</td>\n",
       "      <td>Рыбинск</td>\n",
       "      <td>Ж</td>\n",
       "      <td>25.0</td>\n",
       "      <td>1</td>\n",
       "      <td>59214.82</td>\n",
       "      <td>2</td>\n",
       "      <td>0</td>\n",
       "      <td>1</td>\n",
       "      <td>75719.14</td>\n",
       "      <td>1</td>\n",
       "    </tr>\n",
       "    <tr>\n",
       "      <th>1</th>\n",
       "      <td>146556</td>\n",
       "      <td>861.0</td>\n",
       "      <td>Рыбинск</td>\n",
       "      <td>Ж</td>\n",
       "      <td>37.0</td>\n",
       "      <td>5</td>\n",
       "      <td>850594.33</td>\n",
       "      <td>3</td>\n",
       "      <td>1</td>\n",
       "      <td>0</td>\n",
       "      <td>86621.77</td>\n",
       "      <td>0</td>\n",
       "    </tr>\n",
       "    <tr>\n",
       "      <th>2</th>\n",
       "      <td>120722</td>\n",
       "      <td>892.0</td>\n",
       "      <td>Рыбинск</td>\n",
       "      <td>Ж</td>\n",
       "      <td>30.0</td>\n",
       "      <td>0</td>\n",
       "      <td>NaN</td>\n",
       "      <td>1</td>\n",
       "      <td>1</td>\n",
       "      <td>1</td>\n",
       "      <td>107683.34</td>\n",
       "      <td>0</td>\n",
       "    </tr>\n",
       "    <tr>\n",
       "      <th>3</th>\n",
       "      <td>225363</td>\n",
       "      <td>866.0</td>\n",
       "      <td>Ярославль</td>\n",
       "      <td>Ж</td>\n",
       "      <td>51.0</td>\n",
       "      <td>5</td>\n",
       "      <td>1524746.26</td>\n",
       "      <td>2</td>\n",
       "      <td>0</td>\n",
       "      <td>1</td>\n",
       "      <td>174423.53</td>\n",
       "      <td>1</td>\n",
       "    </tr>\n",
       "    <tr>\n",
       "      <th>4</th>\n",
       "      <td>157978</td>\n",
       "      <td>730.0</td>\n",
       "      <td>Ярославль</td>\n",
       "      <td>М</td>\n",
       "      <td>34.0</td>\n",
       "      <td>5</td>\n",
       "      <td>174.00</td>\n",
       "      <td>1</td>\n",
       "      <td>1</td>\n",
       "      <td>0</td>\n",
       "      <td>67353.16</td>\n",
       "      <td>1</td>\n",
       "    </tr>\n",
       "    <tr>\n",
       "      <th>5</th>\n",
       "      <td>202305</td>\n",
       "      <td>856.0</td>\n",
       "      <td>Рыбинск</td>\n",
       "      <td>М</td>\n",
       "      <td>56.0</td>\n",
       "      <td>4</td>\n",
       "      <td>863687.24</td>\n",
       "      <td>3</td>\n",
       "      <td>1</td>\n",
       "      <td>0</td>\n",
       "      <td>156619.80</td>\n",
       "      <td>0</td>\n",
       "    </tr>\n",
       "    <tr>\n",
       "      <th>6</th>\n",
       "      <td>177259</td>\n",
       "      <td>807.0</td>\n",
       "      <td>Ярославль</td>\n",
       "      <td>Ж</td>\n",
       "      <td>39.0</td>\n",
       "      <td>3</td>\n",
       "      <td>405042.44</td>\n",
       "      <td>3</td>\n",
       "      <td>0</td>\n",
       "      <td>1</td>\n",
       "      <td>103838.32</td>\n",
       "      <td>0</td>\n",
       "    </tr>\n",
       "    <tr>\n",
       "      <th>7</th>\n",
       "      <td>218868</td>\n",
       "      <td>825.0</td>\n",
       "      <td>Ярославль</td>\n",
       "      <td>Ж</td>\n",
       "      <td>38.0</td>\n",
       "      <td>4</td>\n",
       "      <td>458145.40</td>\n",
       "      <td>2</td>\n",
       "      <td>1</td>\n",
       "      <td>1</td>\n",
       "      <td>68085.48</td>\n",
       "      <td>0</td>\n",
       "    </tr>\n",
       "    <tr>\n",
       "      <th>8</th>\n",
       "      <td>211686</td>\n",
       "      <td>923.0</td>\n",
       "      <td>Ярославль</td>\n",
       "      <td>М</td>\n",
       "      <td>54.0</td>\n",
       "      <td>5</td>\n",
       "      <td>1206337.87</td>\n",
       "      <td>2</td>\n",
       "      <td>1</td>\n",
       "      <td>0</td>\n",
       "      <td>155371.79</td>\n",
       "      <td>0</td>\n",
       "    </tr>\n",
       "    <tr>\n",
       "      <th>9</th>\n",
       "      <td>133130</td>\n",
       "      <td>906.0</td>\n",
       "      <td>Ярославль</td>\n",
       "      <td>Ж</td>\n",
       "      <td>67.0</td>\n",
       "      <td>0</td>\n",
       "      <td>NaN</td>\n",
       "      <td>1</td>\n",
       "      <td>0</td>\n",
       "      <td>1</td>\n",
       "      <td>238055.53</td>\n",
       "      <td>0</td>\n",
       "    </tr>\n",
       "  </tbody>\n",
       "</table>\n",
       "</div>"
      ],
      "text/plain": [
       "   USERID  score       city gender   age  equity     balance  products  \\\n",
       "0  183012  850.0    Рыбинск      Ж  25.0       1    59214.82         2   \n",
       "1  146556  861.0    Рыбинск      Ж  37.0       5   850594.33         3   \n",
       "2  120722  892.0    Рыбинск      Ж  30.0       0         NaN         1   \n",
       "3  225363  866.0  Ярославль      Ж  51.0       5  1524746.26         2   \n",
       "4  157978  730.0  Ярославль      М  34.0       5      174.00         1   \n",
       "5  202305  856.0    Рыбинск      М  56.0       4   863687.24         3   \n",
       "6  177259  807.0  Ярославль      Ж  39.0       3   405042.44         3   \n",
       "7  218868  825.0  Ярославль      Ж  38.0       4   458145.40         2   \n",
       "8  211686  923.0  Ярославль      М  54.0       5  1206337.87         2   \n",
       "9  133130  906.0  Ярославль      Ж  67.0       0         NaN         1   \n",
       "\n",
       "   credit_card  last_activity  EST_SALARY  churn  \n",
       "0            0              1    75719.14      1  \n",
       "1            1              0    86621.77      0  \n",
       "2            1              1   107683.34      0  \n",
       "3            0              1   174423.53      1  \n",
       "4            1              0    67353.16      1  \n",
       "5            1              0   156619.80      0  \n",
       "6            0              1   103838.32      0  \n",
       "7            1              1    68085.48      0  \n",
       "8            1              0   155371.79      0  \n",
       "9            0              1   238055.53      0  "
      ]
     },
     "metadata": {},
     "output_type": "display_data"
    },
    {
     "name": "stdout",
     "output_type": "stream",
     "text": [
      "<class 'pandas.core.frame.DataFrame'>\n",
      "RangeIndex: 10000 entries, 0 to 9999\n",
      "Data columns (total 12 columns):\n",
      " #   Column         Non-Null Count  Dtype  \n",
      "---  ------         --------------  -----  \n",
      " 0   USERID         10000 non-null  int64  \n",
      " 1   score          10000 non-null  float64\n",
      " 2   city           10000 non-null  object \n",
      " 3   gender         10000 non-null  object \n",
      " 4   age            9974 non-null   float64\n",
      " 5   equity         10000 non-null  int64  \n",
      " 6   balance        7705 non-null   float64\n",
      " 7   products       10000 non-null  int64  \n",
      " 8   credit_card    10000 non-null  int64  \n",
      " 9   last_activity  10000 non-null  int64  \n",
      " 10  EST_SALARY     10000 non-null  float64\n",
      " 11  churn          10000 non-null  int64  \n",
      "dtypes: float64(4), int64(6), object(2)\n",
      "memory usage: 937.6+ KB\n"
     ]
    }
   ],
   "source": [
    "try:\n",
    "    banks = pd.read_csv('bank_scrooge.csv', sep=',')\n",
    "except:\n",
    "    banks = pd.read_csv(r'C:\\Users\\katya\\Downloads\\bank_scrooge.csv')\n",
    "\n",
    "display(banks.head(10))\n",
    "banks.info()"
   ]
  },
  {
   "cell_type": "markdown",
   "metadata": {},
   "source": [
    "В датасете представлено 10000 клиентов банка. Столбцы city и gender хранят значения типа object - значит они хранят нечисловые значения или пропуски. Столбцы score, age, balance, EST_SALARY хранят значения типа float64 (вещественные переменные), а столбцы USERID, equity, products, credit_card, last_activity, churn - значения типа int64 (целочисленные переменные)."
   ]
  },
  {
   "cell_type": "markdown",
   "metadata": {},
   "source": [
    "### Предобработка данных"
   ]
  },
  {
   "cell_type": "markdown",
   "metadata": {},
   "source": [
    "Переименуем некоторые названия столбцов на более подходящие:"
   ]
  },
  {
   "cell_type": "code",
   "execution_count": 3,
   "metadata": {},
   "outputs": [],
   "source": [
    "banks = banks.rename(columns={\"USERID\": \"user_id\", \"EST_SALARY\": \"est_salary\"})"
   ]
  },
  {
   "cell_type": "markdown",
   "metadata": {},
   "source": [
    "Проверим датасет на наличие пропусков и явных дубликатов:"
   ]
  },
  {
   "cell_type": "code",
   "execution_count": 4,
   "metadata": {},
   "outputs": [
    {
     "name": "stdout",
     "output_type": "stream",
     "text": [
      "user_id             0\n",
      "score               0\n",
      "city                0\n",
      "gender              0\n",
      "age                26\n",
      "equity              0\n",
      "balance          2295\n",
      "products            0\n",
      "credit_card         0\n",
      "last_activity       0\n",
      "est_salary          0\n",
      "churn               0\n",
      "dtype: int64\n",
      "Количество явных дубликатов: 0\n"
     ]
    }
   ],
   "source": [
    "print(banks.isna().sum()) # посчитаем количество пропусков в столбцах\n",
    "print('Количество явных дубликатов:',banks.duplicated().sum()) # подсчёт явных дубликатов"
   ]
  },
  {
   "cell_type": "markdown",
   "metadata": {},
   "source": [
    "Явных дубликатов в датасете не оказалось, а вот пропуски есть. В столбце age - 26 пропусков, в столбце balance - 2295."
   ]
  },
  {
   "cell_type": "markdown",
   "metadata": {},
   "source": [
    "Проверим датасет на наличие неявных дубликатов:"
   ]
  },
  {
   "cell_type": "code",
   "execution_count": 5,
   "metadata": {},
   "outputs": [
    {
     "data": {
      "text/plain": [
       "73"
      ]
     },
     "execution_count": 5,
     "metadata": {},
     "output_type": "execute_result"
    }
   ],
   "source": [
    "banks['user_id'].duplicated().sum()"
   ]
  },
  {
   "cell_type": "code",
   "execution_count": 6,
   "metadata": {},
   "outputs": [],
   "source": [
    "banks = banks.drop_duplicates(['user_id'])"
   ]
  },
  {
   "cell_type": "markdown",
   "metadata": {},
   "source": [
    "В столбце user_id оказалось 73 неявных дубликата. Было принято решение их удалить, так как их не так много (это не повлияет на дальнейшее исследование), а user_id клиента должен быть уникальным."
   ]
  },
  {
   "cell_type": "code",
   "execution_count": 7,
   "metadata": {},
   "outputs": [
    {
     "name": "stdout",
     "output_type": "stream",
     "text": [
      "user_id             0\n",
      "score               0\n",
      "city                0\n",
      "gender              0\n",
      "age                 4\n",
      "equity              0\n",
      "balance          2260\n",
      "products            0\n",
      "credit_card         0\n",
      "last_activity       0\n",
      "est_salary          0\n",
      "churn               0\n",
      "dtype: int64\n"
     ]
    }
   ],
   "source": [
    "print(banks.isna().sum())"
   ]
  },
  {
   "cell_type": "code",
   "execution_count": 8,
   "metadata": {},
   "outputs": [],
   "source": [
    "banks.dropna(subset = ['age'], inplace=True)"
   ]
  },
  {
   "cell_type": "markdown",
   "metadata": {},
   "source": [
    "В столбце age осталось всего 4 пропуска - так же удалим их. В столбце balance восполнять пропуски мы не будем, так как у нас нет данных для обработки пропусков. Удалять пропуски так же не будем, так как это может исказить дальнейшее исследование."
   ]
  },
  {
   "cell_type": "markdown",
   "metadata": {},
   "source": [
    "Приведем типы данных в некоторых столбцах к более подходящим:"
   ]
  },
  {
   "cell_type": "code",
   "execution_count": 9,
   "metadata": {},
   "outputs": [],
   "source": [
    "banks['score'] = banks['score'].astype('int')\n",
    "banks['city'] = banks['city'].astype('str')\n",
    "banks['gender'] = banks['gender'].astype('str')\n",
    "banks['age'] = banks['age'].astype('int')"
   ]
  },
  {
   "cell_type": "markdown",
   "metadata": {},
   "source": [
    "Избавимся от строки с клиентом, у которого 0 продуктов (скорее всего это ошибка в данных):"
   ]
  },
  {
   "cell_type": "code",
   "execution_count": 10,
   "metadata": {},
   "outputs": [],
   "source": [
    "banks = banks[banks.products !=0]"
   ]
  },
  {
   "cell_type": "markdown",
   "metadata": {},
   "source": [
    "На этапе предобработки данных мы заменили названия некоторых столбцов на более подходящие; проверили датасет на наличие пропусков, а так же явных и неявных дубликатов. Было принято решение удалить пропуски и дубликаты, удаление которых не повлияет на дальнейшее исследование. Так же мы привели типы данных в некоторых столбцах к более подходящим."
   ]
  },
  {
   "cell_type": "markdown",
   "metadata": {},
   "source": [
    "### Исследовательский анализ данных"
   ]
  },
  {
   "cell_type": "markdown",
   "metadata": {},
   "source": [
    "Исследуем данные на корреляции:"
   ]
  },
  {
   "cell_type": "code",
   "execution_count": 11,
   "metadata": {},
   "outputs": [
    {
     "name": "stdout",
     "output_type": "stream",
     "text": [
      "interval columns not set, guessing: ['score', 'age', 'equity', 'balance', 'products', 'credit_card', 'last_activity', 'est_salary', 'churn']\n"
     ]
    },
    {
     "data": {
      "image/png": "[encoded data removed]",
      "text/plain": [
       "<Figure size 720x576 with 2 Axes>"
      ]
     },
     "metadata": {
      "needs_background": "light"
     },
     "output_type": "display_data"
    }
   ],
   "source": [
    "corr_banks = banks.drop(['user_id'], axis=1)\n",
    "\n",
    "phik_banks = corr_banks.phik_matrix()\n",
    "\n",
    "plot_correlation_matrix(phik_banks.values, \n",
    "                        x_labels=phik_banks.columns, \n",
    "                        y_labels=phik_banks.index, \n",
    "                        vmin=0, vmax=1, color_map=\"RdPu\", \n",
    "                        title=r\"correlation $\\phi_K$\", \n",
    "                        fontsize_factor=1.5, \n",
    "                        figsize=(10, 8))\n",
    "plt.tight_layout()"
   ]
  },
  {
   "cell_type": "code",
   "execution_count": 12,
   "metadata": {},
   "outputs": [
    {
     "data": {
      "text/plain": [
       "<AxesSubplot:>"
      ]
     },
     "execution_count": 12,
     "metadata": {},
     "output_type": "execute_result"
    },
    {
     "data": {
      "image/png": "[encoded data removed]",
      "text/plain": [
       "<Figure size 432x288 with 2 Axes>"
      ]
     },
     "metadata": {
      "needs_background": "light"
     },
     "output_type": "display_data"
    }
   ],
   "source": [
    "sns.heatmap(phik_banks.loc[:,['churn']].drop('churn').sort_values('churn'),annot=True, fmt=\".0%\", cmap=\"flare\", center=0)"
   ]
  },
  {
   "cell_type": "markdown",
   "metadata": {},
   "source": [
    "Судя по графику корреляций, можем заметить, что на отток клиентов в большей степени могут влиять такие показатели, как количество баллов собственности, активность, количество используемых продуктов, скоринговый балл, пол, наличие кредитной карты, возраст."
   ]
  },
  {
   "cell_type": "markdown",
   "metadata": {},
   "source": [
    "Посмотрим на распределения процентов отточных клиентов по различным признакам:"
   ]
  },
  {
   "cell_type": "code",
   "execution_count": 13,
   "metadata": {},
   "outputs": [
    {
     "data": {
      "image/png": "[encoded data removed]",
      "text/plain": [
       "<Figure size 432x288 with 1 Axes>"
      ]
     },
     "metadata": {
      "needs_background": "light"
     },
     "output_type": "display_data"
    },
    {
     "data": {
      "image/png": "[encoded data removed]",
      "text/plain": [
       "<Figure size 432x288 with 1 Axes>"
      ]
     },
     "metadata": {
      "needs_background": "light"
     },
     "output_type": "display_data"
    },
    {
     "data": {
      "image/png": "[encoded data removed]",
      "text/plain": [
       "<Figure size 432x288 with 1 Axes>"
      ]
     },
     "metadata": {
      "needs_background": "light"
     },
     "output_type": "display_data"
    },
    {
     "data": {
      "image/png": "[encoded data removed]",
      "text/plain": [
       "<Figure size 432x288 with 1 Axes>"
      ]
     },
     "metadata": {
      "needs_background": "light"
     },
     "output_type": "display_data"
    },
    {
     "data": {
      "image/png": "[encoded data removed]",
      "text/plain": [
       "<Figure size 432x288 with 1 Axes>"
      ]
     },
     "metadata": {
      "needs_background": "light"
     },
     "output_type": "display_data"
    },
    {
     "data": {
      "image/png": "[encoded data removed]",
      "text/plain": [
       "<Figure size 432x288 with 1 Axes>"
      ]
     },
     "metadata": {
      "needs_background": "light"
     },
     "output_type": "display_data"
    }
   ],
   "source": [
    "for column in ['city','gender','equity','products','credit_card', 'last_activity']:\n",
    "    percent = banks.groupby(column, as_index=False).agg(churn_count=('churn','sum'), count=('churn','count'))\n",
    "    percent['ratio'] = percent['churn_count']/percent['count']\n",
    "    percent[[column, 'ratio']].sort_values(by='ratio',ascending = False).plot(x=column, kind='bar', color = \"plum\", edgecolor = 'black', legend=None) \n",
    "    plt.ylabel(\"Процент отточных клиентов\")\n",
    "    plt.title(f'Распределение процента отточных клиентов по признаку {column}')\n",
    "    plt.show()"
   ]
  },
  {
   "cell_type": "markdown",
   "metadata": {},
   "source": [
    "Из полученных графиков распределений можно сделать следующие выводы:\n",
    "  - Город почти не связан с оттоком клиентов. Процент отточных клиентов в Ярославле и Ростове почти одинаковый, в Рыбинcке меньше, но не намного.\n",
    "  - Мужчины больше подвержены оттоку, они уходят почти вдвое чаще, чем женщины.\n",
    "  - Клиенты с большим количеством баллов собственности уходят чаще. Самый высокий процент отточных клиентов с 7 и 9 баллами собственности. Еще меньше с 6 и 8 баллами собственности. И далее, от 5 баллов собственности, с убыванием баллов, уменьшается процент отточных клиентов (самый меньший процент отточных клиентов с 0-ми баллами собственности).\n",
    "  - Больше всего подвержены оттоку клиенты, пользующиеся 4-мя продуктами банка. Далее, по проценту отточных клиентов, идут клиенты, пользующиеся 5-ю, 3-мя и 2-мя продуктами. Меньше всего процента отточных клиентов, пользующихся одним продуктом банка.\n",
    "  - Клиенты без кредитной карты больше подвержены оттоку, они уходят почти вдвое чаще, чем клиенты с кредитной картой.\n",
    "  - Активные клиенты больше подвержены оттоку, они уходят почти вдвое чаще, чем неактивные клиенты."
   ]
  },
  {
   "cell_type": "code",
   "execution_count": 14,
   "metadata": {},
   "outputs": [
    {
     "data": {
      "image/png": "[encoded data removed]",
      "text/plain": [
       "<Figure size 1440x360 with 1 Axes>"
      ]
     },
     "metadata": {
      "needs_background": "light"
     },
     "output_type": "display_data"
    }
   ],
   "source": [
    "fig = plt.figure(figsize=(20, 5))\n",
    "sns.histplot(data=banks, hue=\"churn\", x=\"age\", stat=\"density\", common_norm=False, palette=\"bwr\", bins=100)\n",
    "plt.title('График количества ушедших и оставшихся клиентов')\n",
    "plt.xlabel('Возраст')\n",
    "plt.ylabel('Количество')\n",
    "plt.show()"
   ]
  },
  {
   "cell_type": "markdown",
   "metadata": {},
   "source": [
    "Из графика можно сделать вывод, что среди клиентов в возрасте от 25 до 35 лет (примерно) преобладают клиенты, которые ушли из банка. От 25 до 50 лет уже гораздо меньше отточных клиентов. С 50 до 60 лет отточные клиенты сильно преобладают над оставшимися в банке. И после 60 лет оставшихся в банке клиентов больше. Можно так же заметить, что клиентов после 60 лет уже гораздо меньше, как и клиентов до 25 лет (до 25 так же преобладают оставшиеся клиенты)."
   ]
  },
  {
   "cell_type": "code",
   "execution_count": 15,
   "metadata": {},
   "outputs": [
    {
     "data": {
      "image/png": "[encoded data removed]",
      "text/plain": [
       "<Figure size 1440x360 with 1 Axes>"
      ]
     },
     "metadata": {
      "needs_background": "light"
     },
     "output_type": "display_data"
    }
   ],
   "source": [
    "fig = plt.figure(figsize=(20, 5))\n",
    "sns.histplot(data=banks, hue=\"churn\", x=\"score\", stat=\"density\", common_norm=False, palette=\"bwr\", bins=100)\n",
    "plt.title('График количества ушедших и оставшихся клиентов')\n",
    "plt.xlabel('Баллы кредитного скоринга')\n",
    "plt.ylabel('Количество')\n",
    "plt.show()"
   ]
  },
  {
   "cell_type": "markdown",
   "metadata": {},
   "source": [
    "Клиенты с баллами примерно от 650 до 825 являются менее отточными. Среди клиентов с баллами от 825 до 900 преобладают отточные клиенты. А среди клиентов с баллами от 900 до 950 более равномерно распределены отточные и оставшиеся в банке клиенты (на некоторых промежутках все же есть как преобладание отточных клиентов, так и преобладание оставшихся клентов). Клиенты с баллами больше 950 менее отточны (но всего клиентов с таким количеством баллов не так уж и много). "
   ]
  },
  {
   "cell_type": "code",
   "execution_count": 16,
   "metadata": {},
   "outputs": [
    {
     "data": {
      "image/png": "[encoded data removed]",
      "text/plain": [
       "<Figure size 1080x360 with 1 Axes>"
      ]
     },
     "metadata": {
      "needs_background": "light"
     },
     "output_type": "display_data"
    }
   ],
   "source": [
    "plt.figure(figsize=(15,5))\n",
    "sns.scatterplot(data=banks, x='user_id', y='balance')\n",
    "plt.title('Диаграмма рассеяния баланса клиентов')\n",
    "plt.xlabel('Клиенты')\n",
    "plt.ylabel('Баланс')\n",
    "plt.show()"
   ]
  },
  {
   "cell_type": "markdown",
   "metadata": {},
   "source": [
    "Из графика можем заметить, что есть клиент с балансом около 120 миллионов, а так же клиенты с балансом от 3 до 80 миллионов. Совсем удалять из таблицы мы таких клиентов не будем (так как это не аномалии в данных, такие клиенты действительно могут быть), но при исследование распредения клиентов по балансу мы их учитывать не будем, так как все таки таких клиентов немного. "
   ]
  },
  {
   "cell_type": "code",
   "execution_count": 17,
   "metadata": {},
   "outputs": [
    {
     "data": {
      "image/png": "[encoded data removed]",
      "text/plain": [
       "<Figure size 1440x360 with 1 Axes>"
      ]
     },
     "metadata": {
      "needs_background": "light"
     },
     "output_type": "display_data"
    }
   ],
   "source": [
    "fig = plt.figure(figsize=(20, 5))\n",
    "sns.histplot(data=banks[banks['balance']<3000000], hue=\"churn\", x=\"balance\", stat=\"density\", common_norm=False, palette=\"bwr\", bins=100)\n",
    "plt.title('График количества ушедших и оставшихся клиентов')\n",
    "plt.xlabel('Баланс')\n",
    "plt.ylabel('Количество')\n",
    "plt.show()"
   ]
  },
  {
   "cell_type": "markdown",
   "metadata": {},
   "source": [
    "По графику можно сделать вывод, что среди клиентов с балансом до 750 тысяч преобладают оставшиеся в банке клиенты. Клиенты с балансом больше 750 тысяч более отточны, но в целом всего клиентов с таким балансом гораздо меньше, чем клиентов с балансом до 750 тысяч."
   ]
  },
  {
   "cell_type": "code",
   "execution_count": 18,
   "metadata": {},
   "outputs": [
    {
     "data": {
      "image/png": "[encoded data removed]",
      "text/plain": [
       "<Figure size 1080x360 with 1 Axes>"
      ]
     },
     "metadata": {
      "needs_background": "light"
     },
     "output_type": "display_data"
    }
   ],
   "source": [
    "plt.figure(figsize=(15,5))\n",
    "sns.scatterplot(data=banks, x='user_id', y='est_salary')\n",
    "plt.title('Диаграмма рассеяния заработной платы клиентов')\n",
    "plt.xlabel('Клиенты')\n",
    "plt.ylabel('Заработная плата')\n",
    "plt.show()"
   ]
  },
  {
   "cell_type": "markdown",
   "metadata": {},
   "source": [
    "Для более реперезентативного графика распределения клиентов по заработной плате будем рассматривать клиентов с заработной платой до 400 тысяч."
   ]
  },
  {
   "cell_type": "code",
   "execution_count": 19,
   "metadata": {},
   "outputs": [
    {
     "data": {
      "image/png": "[encoded data removed]",
      "text/plain": [
       "<Figure size 1440x360 with 1 Axes>"
      ]
     },
     "metadata": {
      "needs_background": "light"
     },
     "output_type": "display_data"
    }
   ],
   "source": [
    "fig = plt.figure(figsize=(20, 5))\n",
    "sns.histplot(data=banks[banks['est_salary']<400000], hue=\"churn\", x=\"est_salary\", stat=\"density\", common_norm=False, palette=\"bwr\", bins=100)\n",
    "plt.title('График количества ушедших и оставшихся клиентов')\n",
    "plt.xlabel('Заработная плата')\n",
    "plt.ylabel('Количество')\n",
    "plt.show()"
   ]
  },
  {
   "cell_type": "markdown",
   "metadata": {},
   "source": [
    "Среди клиентов с заработной платой до 100 тысяч преобладают оставшиеся в банке клиенты. Клиенты с заработной платой больше 100 тысяч в основном являются более отточными."
   ]
  },
  {
   "cell_type": "markdown",
   "metadata": {},
   "source": [
    "Из исследовательского анализа можно сделать следующие выводы:\n",
    "\n",
    "- На отток клиентов в большей степени могут влиять такие показатели, как количество баллов собственности, активность, количество используемых продуктов, скоринговый балл, пол, наличие кредитной карты, возраст.\n",
    "\n",
    "Портрет отточного клиента:\n",
    "\n",
    "- Больше подвержены оттоку мужчины\n",
    "- Большее количество отточных клиентов в возрасте от 25 до 35 лет и от 50 до 60 лет\n",
    "- Больше отточных клиентов в Ярославле и Ростове\n",
    "- Скоринговый балл от 825 до 910\n",
    "- Высокие баллы собственности (6-9 баллов)\n",
    "- Баланс больше 750 тысяч\n",
    "- Пользование 4+ продуктами\n",
    "- Нет кредитной карты\n",
    "- Активный клиент\n",
    "- Заработная плата больше 100 тысяч"
   ]
  },
  {
   "cell_type": "markdown",
   "metadata": {},
   "source": [
    "### Выделение сегментов и их приоритизация"
   ]
  },
  {
   "cell_type": "code",
   "execution_count": 20,
   "metadata": {},
   "outputs": [
    {
     "data": {
      "text/html": [
       "<div>\n",
       "<style scoped>\n",
       "    .dataframe tbody tr th:only-of-type {\n",
       "        vertical-align: middle;\n",
       "    }\n",
       "\n",
       "    .dataframe tbody tr th {\n",
       "        vertical-align: top;\n",
       "    }\n",
       "\n",
       "    .dataframe thead th {\n",
       "        text-align: right;\n",
       "    }\n",
       "</style>\n",
       "<table border=\"1\" class=\"dataframe\">\n",
       "  <thead>\n",
       "    <tr style=\"text-align: right;\">\n",
       "      <th></th>\n",
       "      <th>products</th>\n",
       "      <th>churn_count</th>\n",
       "      <th>count</th>\n",
       "      <th>ratio</th>\n",
       "    </tr>\n",
       "  </thead>\n",
       "  <tbody>\n",
       "    <tr>\n",
       "      <th>0</th>\n",
       "      <td>1</td>\n",
       "      <td>235</td>\n",
       "      <td>3306</td>\n",
       "      <td>0.071083</td>\n",
       "    </tr>\n",
       "    <tr>\n",
       "      <th>1</th>\n",
       "      <td>2</td>\n",
       "      <td>978</td>\n",
       "      <td>5095</td>\n",
       "      <td>0.191953</td>\n",
       "    </tr>\n",
       "    <tr>\n",
       "      <th>2</th>\n",
       "      <td>3</td>\n",
       "      <td>297</td>\n",
       "      <td>1028</td>\n",
       "      <td>0.288911</td>\n",
       "    </tr>\n",
       "    <tr>\n",
       "      <th>3</th>\n",
       "      <td>4</td>\n",
       "      <td>300</td>\n",
       "      <td>474</td>\n",
       "      <td>0.632911</td>\n",
       "    </tr>\n",
       "    <tr>\n",
       "      <th>4</th>\n",
       "      <td>5</td>\n",
       "      <td>8</td>\n",
       "      <td>19</td>\n",
       "      <td>0.421053</td>\n",
       "    </tr>\n",
       "  </tbody>\n",
       "</table>\n",
       "</div>"
      ],
      "text/plain": [
       "   products  churn_count  count     ratio\n",
       "0         1          235   3306  0.071083\n",
       "1         2          978   5095  0.191953\n",
       "2         3          297   1028  0.288911\n",
       "3         4          300    474  0.632911\n",
       "4         5            8     19  0.421053"
      ]
     },
     "execution_count": 20,
     "metadata": {},
     "output_type": "execute_result"
    }
   ],
   "source": [
    "product = banks.groupby('products', as_index=False).agg(churn_count=('churn','sum'), count=('churn','count'))\n",
    "product['ratio'] = product['churn_count']/product['count']\n",
    "product"
   ]
  },
  {
   "cell_type": "markdown",
   "metadata": {},
   "source": [
    "Можем сразу отметить, что клиенты с 4+ продуктами являются отточными и их можно сразу выделить в сегмент."
   ]
  },
  {
   "cell_type": "code",
   "execution_count": 21,
   "metadata": {},
   "outputs": [
    {
     "data": {
      "text/html": [
       "<div>\n",
       "<style scoped>\n",
       "    .dataframe tbody tr th:only-of-type {\n",
       "        vertical-align: middle;\n",
       "    }\n",
       "\n",
       "    .dataframe tbody tr th {\n",
       "        vertical-align: top;\n",
       "    }\n",
       "\n",
       "    .dataframe thead th {\n",
       "        text-align: right;\n",
       "    }\n",
       "</style>\n",
       "<table border=\"1\" class=\"dataframe\">\n",
       "  <thead>\n",
       "    <tr style=\"text-align: right;\">\n",
       "      <th></th>\n",
       "      <th>churn</th>\n",
       "    </tr>\n",
       "  </thead>\n",
       "  <tbody>\n",
       "    <tr>\n",
       "      <th>mean</th>\n",
       "      <td>0.624746</td>\n",
       "    </tr>\n",
       "    <tr>\n",
       "      <th>count</th>\n",
       "      <td>493.000000</td>\n",
       "    </tr>\n",
       "  </tbody>\n",
       "</table>\n",
       "</div>"
      ],
      "text/plain": [
       "            churn\n",
       "mean     0.624746\n",
       "count  493.000000"
      ]
     },
     "execution_count": 21,
     "metadata": {},
     "output_type": "execute_result"
    }
   ],
   "source": [
    "banks.query('products==4 or products==5').agg({\"churn\":['mean','count']})"
   ]
  },
  {
   "cell_type": "markdown",
   "metadata": {},
   "source": [
    "На этапе исследовательского анализа мы заметили, что высокоотточными являются клиенты в возрасте от 25 до 35 лет, а так же клиенты от 50 до 60 лет. Попробуем выделить сегменты на основе этих данных:"
   ]
  },
  {
   "cell_type": "code",
   "execution_count": 22,
   "metadata": {},
   "outputs": [
    {
     "data": {
      "text/html": [
       "<div>\n",
       "<style scoped>\n",
       "    .dataframe tbody tr th:only-of-type {\n",
       "        vertical-align: middle;\n",
       "    }\n",
       "\n",
       "    .dataframe tbody tr th {\n",
       "        vertical-align: top;\n",
       "    }\n",
       "\n",
       "    .dataframe thead th {\n",
       "        text-align: right;\n",
       "    }\n",
       "</style>\n",
       "<table border=\"1\" class=\"dataframe\">\n",
       "  <thead>\n",
       "    <tr style=\"text-align: right;\">\n",
       "      <th></th>\n",
       "      <th>churn</th>\n",
       "    </tr>\n",
       "  </thead>\n",
       "  <tbody>\n",
       "    <tr>\n",
       "      <th>mean</th>\n",
       "      <td>0.508434</td>\n",
       "    </tr>\n",
       "    <tr>\n",
       "      <th>count</th>\n",
       "      <td>415.000000</td>\n",
       "    </tr>\n",
       "  </tbody>\n",
       "</table>\n",
       "</div>"
      ],
      "text/plain": [
       "            churn\n",
       "mean     0.508434\n",
       "count  415.000000"
      ]
     },
     "execution_count": 22,
     "metadata": {},
     "output_type": "execute_result"
    }
   ],
   "source": [
    "banks.query('age>25 and age<35 and last_activity==1 and credit_card==0').agg({\"churn\":['mean','count']})"
   ]
  },
  {
   "cell_type": "markdown",
   "metadata": {},
   "source": [
    "Еще один высокооточный сегмент: активные клиенты от 25 до 35 лет, не имеющие кредитную карту."
   ]
  },
  {
   "cell_type": "code",
   "execution_count": 23,
   "metadata": {},
   "outputs": [
    {
     "data": {
      "text/html": [
       "<div>\n",
       "<style scoped>\n",
       "    .dataframe tbody tr th:only-of-type {\n",
       "        vertical-align: middle;\n",
       "    }\n",
       "\n",
       "    .dataframe tbody tr th {\n",
       "        vertical-align: top;\n",
       "    }\n",
       "\n",
       "    .dataframe thead th {\n",
       "        text-align: right;\n",
       "    }\n",
       "</style>\n",
       "<table border=\"1\" class=\"dataframe\">\n",
       "  <thead>\n",
       "    <tr style=\"text-align: right;\">\n",
       "      <th></th>\n",
       "      <th>churn</th>\n",
       "    </tr>\n",
       "  </thead>\n",
       "  <tbody>\n",
       "    <tr>\n",
       "      <th>mean</th>\n",
       "      <td>0.47166</td>\n",
       "    </tr>\n",
       "    <tr>\n",
       "      <th>count</th>\n",
       "      <td>494.00000</td>\n",
       "    </tr>\n",
       "  </tbody>\n",
       "</table>\n",
       "</div>"
      ],
      "text/plain": [
       "           churn\n",
       "mean     0.47166\n",
       "count  494.00000"
      ]
     },
     "execution_count": 23,
     "metadata": {},
     "output_type": "execute_result"
    }
   ],
   "source": [
    "banks.query('age>50 and age<60 and balance>750000').agg({\"churn\":['mean','count']})"
   ]
  },
  {
   "cell_type": "markdown",
   "metadata": {},
   "source": [
    "Так же высокоотточным сегментом являются клиенты от 50 до 60 лет с балансом более 750000."
   ]
  },
  {
   "cell_type": "markdown",
   "metadata": {},
   "source": [
    "Так же на этапе исследовательского анализа мы заметили, что высокоотточными являются клиенты со скоринговым баллом от 825 от 910. Попробуем выделить сегмент на основе этих данных:"
   ]
  },
  {
   "cell_type": "code",
   "execution_count": 24,
   "metadata": {},
   "outputs": [
    {
     "data": {
      "text/html": [
       "<div>\n",
       "<style scoped>\n",
       "    .dataframe tbody tr th:only-of-type {\n",
       "        vertical-align: middle;\n",
       "    }\n",
       "\n",
       "    .dataframe tbody tr th {\n",
       "        vertical-align: top;\n",
       "    }\n",
       "\n",
       "    .dataframe thead th {\n",
       "        text-align: right;\n",
       "    }\n",
       "</style>\n",
       "<table border=\"1\" class=\"dataframe\">\n",
       "  <thead>\n",
       "    <tr style=\"text-align: right;\">\n",
       "      <th></th>\n",
       "      <th>churn</th>\n",
       "    </tr>\n",
       "  </thead>\n",
       "  <tbody>\n",
       "    <tr>\n",
       "      <th>mean</th>\n",
       "      <td>0.496587</td>\n",
       "    </tr>\n",
       "    <tr>\n",
       "      <th>count</th>\n",
       "      <td>586.000000</td>\n",
       "    </tr>\n",
       "  </tbody>\n",
       "</table>\n",
       "</div>"
      ],
      "text/plain": [
       "            churn\n",
       "mean     0.496587\n",
       "count  586.000000"
      ]
     },
     "execution_count": 24,
     "metadata": {},
     "output_type": "execute_result"
    }
   ],
   "source": [
    "banks.query('score>825 and score<900 and equity>4 and last_activity==1').agg({\"churn\":['mean','count']})"
   ]
  },
  {
   "cell_type": "markdown",
   "metadata": {},
   "source": [
    "Выделим сегменты:\n",
    "\n",
    "Сегмент 1: Клиенты, имеющие 4-5 продуктов. Всего таких клиентов - 493, из них 62% отточных клиентов.\n",
    "\n",
    "Сегмент 2: Активные клиенты от 25 до 35 лет, не имеющие кредитную карту. Всего таких клиентов - 415, из них 50% отточных клиентов.\n",
    "\n",
    "Сегмент 3: Клиенты от 50 до 60 лет с балансом более 750000. Всего таких клиентов - 494, из них 47% отточных клиентов.\n",
    "\n",
    "Сегмент 4: Активные клиенты со скоринговым баллом от 825 от 910, имеющие больше 4-х баллов собственности. Всего таких клиентов - 586, из них 49% отточных клиентов."
   ]
  },
  {
   "cell_type": "markdown",
   "metadata": {},
   "source": [
    "### Формулирование и проверка статистических гипотез"
   ]
  },
  {
   "cell_type": "markdown",
   "metadata": {},
   "source": [
    "1. Проверим гипотезу различия дохода между теми клиентами, которые ушли и теми, которые остались."
   ]
  },
  {
   "cell_type": "markdown",
   "metadata": {},
   "source": [
    "Сформулируем нулевую и альтернативную гипотезы:\n",
    "   - H_0: Средний доход клиентов, которые ушли = среднему доходу клиентов, которые остались\n",
    "   - H_a: Средний доход клиентов, которые ушли ≠ среднему доходу клиентов, которые остались"
   ]
  },
  {
   "cell_type": "code",
   "execution_count": 25,
   "metadata": {},
   "outputs": [
    {
     "name": "stdout",
     "output_type": "stream",
     "text": [
      "p-value = 0.8645271013531297\n",
      "Не получилось отвергнуть нулевую гипотезу \n"
     ]
    }
   ],
   "source": [
    "results = st.ttest_ind(\n",
    "    banks[banks['churn'] == 1]['est_salary'],\n",
    "    banks[banks['churn'] == 0]['est_salary'],\n",
    "    equal_var=False) # вызов метода для проверки гипотезы\n",
    "\n",
    "alpha = 0.05 # значение уровня значимости\n",
    "\n",
    "print('p-value =', results.pvalue) # вывод значения p-value на экран \n",
    "if results.pvalue<alpha: # условный оператор с выводом строки с ответом\n",
    "    print(\"Отвергаем нулевую гипотезу\")\n",
    "else:\n",
    "    print(\"Не получилось отвергнуть нулевую гипотезу \")"
   ]
  },
  {
   "cell_type": "markdown",
   "metadata": {},
   "source": [
    "Не получилось отвергнуть нулевую гипотезу, следовательно, cредний доход клиентов, которые ушли равен среднему доходу клиентов, которые остались."
   ]
  },
  {
   "cell_type": "markdown",
   "metadata": {},
   "source": [
    "2. Проверим гипотезу различия скорингового балла между теми клиентами, которые ушли и теми, которые остались."
   ]
  },
  {
   "cell_type": "markdown",
   "metadata": {},
   "source": [
    "Сформулируем нулевую и альтернативную гипотезы:\n",
    "   - H_0: Средний скоринговый балл клиентов, которые ушли = среднему скоринговому баллу клиентов, которые остались\n",
    "   - H_a: Средний скоринговый балл клиентов, которые ушли ≠ среднему скоринговому клиентов, которые остались"
   ]
  },
  {
   "cell_type": "code",
   "execution_count": 26,
   "metadata": {},
   "outputs": [
    {
     "name": "stdout",
     "output_type": "stream",
     "text": [
      "p-value = 2.2116178209075196e-37\n",
      "Отвергаем нулевую гипотезу\n"
     ]
    }
   ],
   "source": [
    "results = st.ttest_ind(\n",
    "    banks[banks['churn'] == 1]['score'],\n",
    "    banks[banks['churn'] == 0]['score'],\n",
    "    equal_var=False) # вызов метода для проверки гипотезы\n",
    "\n",
    "alpha = 0.05 # значение уровня значимости\n",
    "\n",
    "print('p-value =', results.pvalue) # вывод значения p-value на экран \n",
    "if results.pvalue<alpha: # условный оператор с выводом строки с ответом\n",
    "    print(\"Отвергаем нулевую гипотезу\")\n",
    "else:\n",
    "    print(\"Не получилось отвергнуть нулевую гипотезу \")"
   ]
  },
  {
   "cell_type": "markdown",
   "metadata": {},
   "source": [
    "Отвергаем нулевую гипотезу, следовательно, средний скоринговый балл клиентов, которые ушли не равен среднему скоринговому клиентов, которые остались."
   ]
  },
  {
   "cell_type": "markdown",
   "metadata": {},
   "source": [
    "### Формулирование выводов и рекомендаций"
   ]
  },
  {
   "cell_type": "markdown",
   "metadata": {},
   "source": [
    "Выводы:"
   ]
  },
  {
   "cell_type": "markdown",
   "metadata": {},
   "source": [
    "Из исследовательского анализа можно сделать следующие выводы:\n",
    "\n",
    "- На отток клиентов в большей степени могут влиять такие показатели, как количество баллов собственности, активность, количество используемых продуктов, скоринговый балл, пол, наличие кредитной карты, возраст.\n",
    "\n",
    "Портрет отточного клиента:\n",
    "\n",
    "- Больше подвержены оттоку мужчины\n",
    "- Большее количество отточных клиентов в возрасте от 25 до 35 лет и от 50 до 60 лет\n",
    "- Больше отточных клиентов в Ярославле и Ростове\n",
    "- Скоринговый балл от 825 до 910\n",
    "- Высокие баллы собственности (6-9 баллов)\n",
    "- Баланс больше 750 тысяч\n",
    "- Пользование 4+ продуктами\n",
    "- Нет кредитной карты\n",
    "- Активный клиент\n",
    "- Заработная плата больше 100 тысяч\n",
    "\n",
    "Сегменты высокоотточных клиентов:\n",
    "\n",
    "Сегмент 1: Клиенты, имеющие 4-5 продуктов. Всего таких клиентов - 493, из них 62% отточных клиентов.\n",
    "\n",
    "Сегмент 2: Активные клиенты от 25 до 35 лет, не имеющие кредитную карту. Всего таких клиентов - 415, из них 50% отточных клиентов.\n",
    "\n",
    "Сегмент 3: Клиенты от 50 до 60 лет с балансом более 750000. Всего таких клиентов - 494, из них 47% отточных клиентов.\n",
    "\n",
    "Сегмент 4: Активные клиенты со скоринговым баллом от 825 от 910, имеющие больше 4-х баллов собственности. Всего таких клиентов - 586, из них 49% отточных клиентов.\n",
    "\n",
    "Так же было проверено две гипотезы, из которых можно сделать следующие выводы:\n",
    "\n",
    "1. Средний доход клиентов, которые ушли равен среднему доходу клиентов, которые остались.\n",
    "\n",
    "2. Средний скоринговый балл клиентов, которые ушли не равен среднему скоринговому клиентов, которые остались."
   ]
  },
  {
   "cell_type": "markdown",
   "metadata": {},
   "source": [
    "Рекомендации:"
   ]
  },
  {
   "cell_type": "markdown",
   "metadata": {},
   "source": [
    "Сегмент 1: \n",
    "- Так как клиенты имеют много продуктов банка, возможно следует для них снизить комиссии или предложить клиентам перейти на другие пакеты обслуживания, которые будут более выгодны для них.\n",
    "- Провести программу по улучшению уровня удовлетворенности клиентов, например, предложить бонусы за использование продуктов и услуг, улучшить качество обслуживания и т.д.\n",
    "\n",
    "Сегмент 2: \n",
    "- Можно предложить индивидуальные условия, которые будут наиболее выгодны для данного сегмента. Это может включать в себя льготные условия кредитования (в том числе кредитные карты и ипотека для молодых семей), кэшбеки и т.д.\n",
    "\n",
    "Сегмент 3: \n",
    "- Люди в возрасте от 50 до 60 лет могут быть более требовательными к качеству обслуживания и предпочитать общение с живыми операторами. Поэтому банк может принять меры для улучшения качества обслуживания и обеспечения более персонального подхода к клиентам данной возрастной группы.\n",
    "- Может быть предложена специальная программа по ипотеке для пенсионеров, льготные условия по кредитованию или предложения по накопительным продуктам.\n",
    "- Облегчить доступ к онлайн-банкингу: важно обеспечить легкий доступ к онлайн-банкингу и обучить клиентов в возрасте от 50 до 60 лет его использованию.\n",
    "\n",
    "Сегмент 4:\n",
    "- Предложить новые продукты и услуги, которые будут более интересны клиентам с высоким кредитным скорингом. Это может быть новый вид кредитования, депозиты с более высокими ставками и т.д."
   ]
  }
 ],
 "metadata": {
  "ExecuteTimeLog": [
   {
    "duration": 1275,
    "start_time": "2023-04-04T11:50:38.297Z"
   },
   {
    "duration": 185,
    "start_time": "2023-04-04T11:52:22.365Z"
   },
   {
    "duration": 189,
    "start_time": "2023-04-04T11:55:18.007Z"
   },
   {
    "duration": 82,
    "start_time": "2023-04-04T11:58:33.042Z"
   },
   {
    "duration": 58,
    "start_time": "2023-04-04T11:58:42.788Z"
   },
   {
    "duration": 5,
    "start_time": "2023-04-04T11:59:31.210Z"
   },
   {
    "duration": 13,
    "start_time": "2023-04-04T11:59:41.285Z"
   },
   {
    "duration": 9,
    "start_time": "2023-04-04T11:59:55.688Z"
   },
   {
    "duration": 15,
    "start_time": "2023-04-04T12:00:20.693Z"
   },
   {
    "duration": 6,
    "start_time": "2023-04-04T12:00:36.920Z"
   },
   {
    "duration": 7,
    "start_time": "2023-04-04T12:01:24.794Z"
   },
   {
    "duration": 6,
    "start_time": "2023-04-04T12:01:42.301Z"
   },
   {
    "duration": 6,
    "start_time": "2023-04-04T12:01:43.919Z"
   },
   {
    "duration": 33,
    "start_time": "2023-04-04T12:02:57.098Z"
   },
   {
    "duration": 6,
    "start_time": "2023-04-04T12:02:57.792Z"
   },
   {
    "duration": 7,
    "start_time": "2023-04-04T12:03:07.104Z"
   },
   {
    "duration": 6,
    "start_time": "2023-04-04T12:03:08.833Z"
   },
   {
    "duration": 8,
    "start_time": "2023-04-04T12:12:30.264Z"
   },
   {
    "duration": 8,
    "start_time": "2023-04-04T12:14:53.517Z"
   },
   {
    "duration": 7,
    "start_time": "2023-04-04T12:15:02.903Z"
   },
   {
    "duration": 1155,
    "start_time": "2023-04-04T12:15:13.837Z"
   },
   {
    "duration": 104,
    "start_time": "2023-04-04T12:15:14.994Z"
   },
   {
    "duration": 11,
    "start_time": "2023-04-04T12:15:15.100Z"
   },
   {
    "duration": 12,
    "start_time": "2023-04-04T12:15:15.408Z"
   },
   {
    "duration": 6,
    "start_time": "2023-04-04T12:15:15.885Z"
   },
   {
    "duration": 6,
    "start_time": "2023-04-04T12:15:16.353Z"
   },
   {
    "duration": 8,
    "start_time": "2023-04-04T12:15:16.712Z"
   },
   {
    "duration": 9,
    "start_time": "2023-04-04T12:15:20.699Z"
   },
   {
    "duration": 9,
    "start_time": "2023-04-04T12:15:21.504Z"
   },
   {
    "duration": 12,
    "start_time": "2023-04-04T12:15:26.764Z"
   },
   {
    "duration": 1338,
    "start_time": "2023-04-04T12:16:06.519Z"
   },
   {
    "duration": 70,
    "start_time": "2023-04-04T12:16:07.859Z"
   },
   {
    "duration": 13,
    "start_time": "2023-04-04T12:16:10.811Z"
   },
   {
    "duration": 13,
    "start_time": "2023-04-04T12:16:14.519Z"
   },
   {
    "duration": 5,
    "start_time": "2023-04-04T12:16:17.047Z"
   },
   {
    "duration": 6,
    "start_time": "2023-04-04T12:16:18.155Z"
   },
   {
    "duration": 8,
    "start_time": "2023-04-04T12:16:22.444Z"
   },
   {
    "duration": 8,
    "start_time": "2023-04-04T12:16:25.493Z"
   },
   {
    "duration": 8,
    "start_time": "2023-04-04T12:16:29.249Z"
   },
   {
    "duration": 8,
    "start_time": "2023-04-04T12:16:31.862Z"
   },
   {
    "duration": 101,
    "start_time": "2023-04-04T12:23:33.110Z"
   },
   {
    "duration": 10,
    "start_time": "2023-04-04T12:26:00.015Z"
   },
   {
    "duration": 127,
    "start_time": "2023-04-04T12:26:47.305Z"
   },
   {
    "duration": 108,
    "start_time": "2023-04-04T12:27:20.100Z"
   },
   {
    "duration": 119,
    "start_time": "2023-04-04T12:27:38.656Z"
   },
   {
    "duration": 23,
    "start_time": "2023-04-04T12:31:44.912Z"
   },
   {
    "duration": 140,
    "start_time": "2023-04-04T12:31:57.928Z"
   },
   {
    "duration": 241,
    "start_time": "2023-04-04T12:36:31.948Z"
   },
   {
    "duration": 256,
    "start_time": "2023-04-04T12:39:36.048Z"
   },
   {
    "duration": 276,
    "start_time": "2023-04-04T12:39:44.673Z"
   },
   {
    "duration": 266,
    "start_time": "2023-04-04T12:39:58.953Z"
   },
   {
    "duration": 347,
    "start_time": "2023-04-04T12:40:08.205Z"
   },
   {
    "duration": 272,
    "start_time": "2023-04-04T12:42:45.440Z"
   },
   {
    "duration": 110,
    "start_time": "2023-04-04T13:51:25.274Z"
   },
   {
    "duration": 270,
    "start_time": "2023-04-04T13:51:31.054Z"
   },
   {
    "duration": 1346,
    "start_time": "2023-04-04T13:55:02.378Z"
   },
   {
    "duration": 137,
    "start_time": "2023-04-04T13:55:03.727Z"
   },
   {
    "duration": 11,
    "start_time": "2023-04-04T13:55:03.865Z"
   },
   {
    "duration": 15,
    "start_time": "2023-04-04T13:55:03.878Z"
   },
   {
    "duration": 5,
    "start_time": "2023-04-04T13:55:04.205Z"
   },
   {
    "duration": 5,
    "start_time": "2023-04-04T13:55:04.528Z"
   },
   {
    "duration": 6,
    "start_time": "2023-04-04T13:55:05.279Z"
   },
   {
    "duration": 7,
    "start_time": "2023-04-04T13:55:05.593Z"
   },
   {
    "duration": 8,
    "start_time": "2023-04-04T13:55:05.930Z"
   },
   {
    "duration": 6,
    "start_time": "2023-04-04T13:55:06.402Z"
   },
   {
    "duration": 17,
    "start_time": "2023-04-04T13:56:32.183Z"
   },
   {
    "duration": 275,
    "start_time": "2023-04-04T13:56:40.199Z"
   },
   {
    "duration": 495,
    "start_time": "2023-04-04T13:56:44.661Z"
   },
   {
    "duration": 4,
    "start_time": "2023-04-04T13:59:02.550Z"
   },
   {
    "duration": 222,
    "start_time": "2023-04-04T14:00:13.484Z"
   },
   {
    "duration": 61,
    "start_time": "2023-04-04T14:01:13.741Z"
   },
   {
    "duration": 62,
    "start_time": "2023-04-04T14:02:52.851Z"
   },
   {
    "duration": 9,
    "start_time": "2023-04-04T14:03:09.870Z"
   },
   {
    "duration": 21,
    "start_time": "2023-04-04T14:04:01.562Z"
   },
   {
    "duration": 15,
    "start_time": "2023-04-04T14:04:30.712Z"
   },
   {
    "duration": 12,
    "start_time": "2023-04-04T14:04:44.048Z"
   },
   {
    "duration": 124,
    "start_time": "2023-04-04T14:10:31.542Z"
   },
   {
    "duration": 2957,
    "start_time": "2023-04-04T14:11:33.386Z"
   },
   {
    "duration": 620,
    "start_time": "2023-04-04T14:13:13.442Z"
   },
   {
    "duration": 2353,
    "start_time": "2023-04-04T14:14:29.917Z"
   },
   {
    "duration": 2270,
    "start_time": "2023-04-04T14:17:11.781Z"
   },
   {
    "duration": 61,
    "start_time": "2023-04-04T14:24:06.910Z"
   },
   {
    "duration": 52,
    "start_time": "2023-04-04T14:25:26.224Z"
   },
   {
    "duration": 3,
    "start_time": "2023-04-04T14:39:41.700Z"
   },
   {
    "duration": 3489,
    "start_time": "2023-04-04T14:39:58.791Z"
   },
   {
    "duration": 198,
    "start_time": "2023-04-04T14:40:02.282Z"
   },
   {
    "duration": 12,
    "start_time": "2023-04-04T14:40:02.482Z"
   },
   {
    "duration": 55,
    "start_time": "2023-04-04T14:40:02.496Z"
   },
   {
    "duration": 36,
    "start_time": "2023-04-04T14:40:02.554Z"
   },
   {
    "duration": 45,
    "start_time": "2023-04-04T14:40:02.591Z"
   },
   {
    "duration": 56,
    "start_time": "2023-04-04T14:40:02.638Z"
   },
   {
    "duration": 46,
    "start_time": "2023-04-04T14:40:02.697Z"
   },
   {
    "duration": 7,
    "start_time": "2023-04-04T14:40:02.901Z"
   },
   {
    "duration": 8,
    "start_time": "2023-04-04T14:40:03.584Z"
   },
   {
    "duration": 153,
    "start_time": "2023-04-04T14:40:04.953Z"
   },
   {
    "duration": 2155,
    "start_time": "2023-04-04T14:40:25.351Z"
   },
   {
    "duration": 298,
    "start_time": "2023-04-04T14:45:21.923Z"
   },
   {
    "duration": 140,
    "start_time": "2023-04-04T14:53:32.706Z"
   },
   {
    "duration": 1247,
    "start_time": "2023-04-04T15:00:38.987Z"
   },
   {
    "duration": 16,
    "start_time": "2023-04-04T15:00:59.704Z"
   },
   {
    "duration": 17,
    "start_time": "2023-04-04T15:07:41.404Z"
   },
   {
    "duration": 15,
    "start_time": "2023-04-04T15:08:17.173Z"
   },
   {
    "duration": 14,
    "start_time": "2023-04-04T15:09:10.636Z"
   },
   {
    "duration": 13,
    "start_time": "2023-04-04T15:09:27.735Z"
   },
   {
    "duration": 25,
    "start_time": "2023-04-04T15:12:01.841Z"
   },
   {
    "duration": 14,
    "start_time": "2023-04-04T15:13:47.806Z"
   },
   {
    "duration": 161,
    "start_time": "2023-04-04T15:15:49.882Z"
   },
   {
    "duration": 139,
    "start_time": "2023-04-04T15:16:04.318Z"
   },
   {
    "duration": 248,
    "start_time": "2023-04-04T15:20:47.418Z"
   },
   {
    "duration": 133,
    "start_time": "2023-04-04T15:21:16.841Z"
   },
   {
    "duration": 166,
    "start_time": "2023-04-04T15:21:36.051Z"
   },
   {
    "duration": 138,
    "start_time": "2023-04-04T15:22:12.398Z"
   },
   {
    "duration": 143,
    "start_time": "2023-04-04T15:22:29.730Z"
   },
   {
    "duration": 119,
    "start_time": "2023-04-04T15:23:17.625Z"
   },
   {
    "duration": 16,
    "start_time": "2023-04-04T15:26:40.022Z"
   },
   {
    "duration": 110,
    "start_time": "2023-04-04T15:28:52.294Z"
   },
   {
    "duration": 149,
    "start_time": "2023-04-04T15:31:46.393Z"
   },
   {
    "duration": 127,
    "start_time": "2023-04-04T15:31:49.691Z"
   },
   {
    "duration": 939,
    "start_time": "2023-04-04T15:35:34.101Z"
   },
   {
    "duration": 1035,
    "start_time": "2023-04-04T15:36:14.970Z"
   },
   {
    "duration": 927,
    "start_time": "2023-04-04T15:36:20.519Z"
   },
   {
    "duration": 932,
    "start_time": "2023-04-04T15:36:36.845Z"
   },
   {
    "duration": 170,
    "start_time": "2023-04-04T15:43:40.844Z"
   },
   {
    "duration": 145,
    "start_time": "2023-04-04T15:48:16.269Z"
   },
   {
    "duration": 828,
    "start_time": "2023-04-04T15:53:48.943Z"
   },
   {
    "duration": 673,
    "start_time": "2023-04-04T16:12:38.305Z"
   },
   {
    "duration": 840,
    "start_time": "2023-04-04T16:12:56.622Z"
   },
   {
    "duration": 725,
    "start_time": "2023-04-04T16:13:29.881Z"
   },
   {
    "duration": 514,
    "start_time": "2023-04-04T16:23:12.502Z"
   },
   {
    "duration": 453,
    "start_time": "2023-04-04T16:24:20.877Z"
   },
   {
    "duration": 470,
    "start_time": "2023-04-04T16:26:05.372Z"
   },
   {
    "duration": 345,
    "start_time": "2023-04-04T16:28:18.853Z"
   },
   {
    "duration": 799,
    "start_time": "2023-04-04T16:30:10.156Z"
   },
   {
    "duration": 474,
    "start_time": "2023-04-04T16:32:27.256Z"
   },
   {
    "duration": 691,
    "start_time": "2023-04-04T16:33:15.954Z"
   },
   {
    "duration": 359,
    "start_time": "2023-04-04T16:48:05.511Z"
   },
   {
    "duration": 741,
    "start_time": "2023-04-04T16:48:12.344Z"
   },
   {
    "duration": 463,
    "start_time": "2023-04-04T16:48:18.434Z"
   },
   {
    "duration": 598,
    "start_time": "2023-04-04T17:00:15.095Z"
   },
   {
    "duration": 499,
    "start_time": "2023-04-04T17:02:33.620Z"
   },
   {
    "duration": 499,
    "start_time": "2023-04-04T17:10:32.556Z"
   },
   {
    "duration": 223,
    "start_time": "2023-04-04T17:10:42.831Z"
   },
   {
    "duration": 158,
    "start_time": "2023-04-04T17:12:08.530Z"
   },
   {
    "duration": 166,
    "start_time": "2023-04-04T17:13:53.021Z"
   },
   {
    "duration": 4,
    "start_time": "2023-04-04T17:14:45.466Z"
   },
   {
    "duration": 14,
    "start_time": "2023-04-04T17:16:45.644Z"
   },
   {
    "duration": 13,
    "start_time": "2023-04-04T17:17:00.408Z"
   },
   {
    "duration": 359,
    "start_time": "2023-04-04T17:17:50.007Z"
   },
   {
    "duration": 462,
    "start_time": "2023-04-04T17:21:37.790Z"
   },
   {
    "duration": 474,
    "start_time": "2023-04-04T17:22:04.220Z"
   },
   {
    "duration": 455,
    "start_time": "2023-04-04T17:22:56.563Z"
   },
   {
    "duration": 617,
    "start_time": "2023-04-04T17:23:08.119Z"
   },
   {
    "duration": 490,
    "start_time": "2023-04-04T17:23:21.014Z"
   },
   {
    "duration": 18,
    "start_time": "2023-04-04T17:27:07.053Z"
   },
   {
    "duration": 497,
    "start_time": "2023-04-04T17:27:09.599Z"
   },
   {
    "duration": 195,
    "start_time": "2023-04-04T17:28:12.342Z"
   },
   {
    "duration": 5,
    "start_time": "2023-04-04T17:30:28.230Z"
   },
   {
    "duration": 596,
    "start_time": "2023-04-04T17:31:57.714Z"
   },
   {
    "duration": 509,
    "start_time": "2023-04-04T17:32:48.132Z"
   },
   {
    "duration": 473,
    "start_time": "2023-04-04T17:33:11.204Z"
   },
   {
    "duration": 479,
    "start_time": "2023-04-04T17:33:25.863Z"
   },
   {
    "duration": 599,
    "start_time": "2023-04-04T17:33:38.189Z"
   },
   {
    "duration": 489,
    "start_time": "2023-04-04T17:33:44.780Z"
   },
   {
    "duration": 467,
    "start_time": "2023-04-04T17:33:53.891Z"
   },
   {
    "duration": 4852,
    "start_time": "2023-04-05T04:43:01.225Z"
   },
   {
    "duration": 192,
    "start_time": "2023-04-05T04:43:06.079Z"
   },
   {
    "duration": 12,
    "start_time": "2023-04-05T04:43:06.273Z"
   },
   {
    "duration": 14,
    "start_time": "2023-04-05T04:43:06.287Z"
   },
   {
    "duration": 31,
    "start_time": "2023-04-05T04:43:06.304Z"
   },
   {
    "duration": 7,
    "start_time": "2023-04-05T04:43:06.337Z"
   },
   {
    "duration": 33,
    "start_time": "2023-04-05T04:43:06.346Z"
   },
   {
    "duration": 8,
    "start_time": "2023-04-05T04:43:06.381Z"
   },
   {
    "duration": 8,
    "start_time": "2023-04-05T04:43:06.391Z"
   },
   {
    "duration": 9,
    "start_time": "2023-04-05T04:43:06.401Z"
   },
   {
    "duration": 2342,
    "start_time": "2023-04-05T04:43:06.412Z"
   },
   {
    "duration": 328,
    "start_time": "2023-04-05T04:43:08.756Z"
   },
   {
    "duration": 882,
    "start_time": "2023-04-05T04:43:09.086Z"
   },
   {
    "duration": 542,
    "start_time": "2023-04-05T04:43:09.971Z"
   },
   {
    "duration": 564,
    "start_time": "2023-04-05T04:43:10.515Z"
   },
   {
    "duration": 201,
    "start_time": "2023-04-05T04:43:11.081Z"
   },
   {
    "duration": 687,
    "start_time": "2023-04-05T04:43:11.284Z"
   },
   {
    "duration": 231,
    "start_time": "2023-04-05T04:43:11.973Z"
   },
   {
    "duration": 555,
    "start_time": "2023-04-05T04:43:12.205Z"
   },
   {
    "duration": 4,
    "start_time": "2023-04-05T04:45:18.642Z"
   },
   {
    "duration": 1632,
    "start_time": "2023-04-05T04:52:04.377Z"
   },
   {
    "duration": 1553,
    "start_time": "2023-04-05T04:52:46.357Z"
   },
   {
    "duration": 3244,
    "start_time": "2023-04-05T04:58:06.905Z"
   },
   {
    "duration": 3306,
    "start_time": "2023-04-05T04:58:56.362Z"
   },
   {
    "duration": 50,
    "start_time": "2023-04-05T04:59:08.277Z"
   },
   {
    "duration": 1189,
    "start_time": "2023-04-05T04:59:12.363Z"
   },
   {
    "duration": 1286,
    "start_time": "2023-04-05T05:00:08.503Z"
   },
   {
    "duration": 1194,
    "start_time": "2023-04-05T05:00:28.268Z"
   },
   {
    "duration": 1317,
    "start_time": "2023-04-05T05:01:07.119Z"
   },
   {
    "duration": 1259,
    "start_time": "2023-04-05T05:01:16.187Z"
   },
   {
    "duration": 1333,
    "start_time": "2023-04-05T05:01:54.302Z"
   },
   {
    "duration": 1299,
    "start_time": "2023-04-05T05:02:22.857Z"
   },
   {
    "duration": 1407,
    "start_time": "2023-04-05T05:02:45.993Z"
   },
   {
    "duration": 891,
    "start_time": "2023-04-05T05:04:32.732Z"
   },
   {
    "duration": 1317,
    "start_time": "2023-04-05T05:04:49.154Z"
   },
   {
    "duration": 1284,
    "start_time": "2023-04-05T05:05:16.241Z"
   },
   {
    "duration": 1586,
    "start_time": "2023-04-05T05:05:28.594Z"
   },
   {
    "duration": 18,
    "start_time": "2023-04-05T05:07:59.491Z"
   },
   {
    "duration": 12,
    "start_time": "2023-04-05T05:09:07.236Z"
   },
   {
    "duration": 18,
    "start_time": "2023-04-05T05:09:14.946Z"
   },
   {
    "duration": 6,
    "start_time": "2023-04-05T05:09:22.967Z"
   },
   {
    "duration": 10,
    "start_time": "2023-04-05T05:09:23.746Z"
   },
   {
    "duration": 124,
    "start_time": "2023-04-05T05:09:35.405Z"
   },
   {
    "duration": 9,
    "start_time": "2023-04-05T05:10:19.285Z"
   },
   {
    "duration": 3562,
    "start_time": "2023-04-05T05:11:04.374Z"
   },
   {
    "duration": 93,
    "start_time": "2023-04-05T05:11:07.939Z"
   },
   {
    "duration": 14,
    "start_time": "2023-04-05T05:11:08.503Z"
   },
   {
    "duration": 14,
    "start_time": "2023-04-05T05:11:09.019Z"
   },
   {
    "duration": 5,
    "start_time": "2023-04-05T05:11:09.486Z"
   },
   {
    "duration": 6,
    "start_time": "2023-04-05T05:11:10.089Z"
   },
   {
    "duration": 6,
    "start_time": "2023-04-05T05:11:10.661Z"
   },
   {
    "duration": 7,
    "start_time": "2023-04-05T05:11:11.151Z"
   },
   {
    "duration": 7,
    "start_time": "2023-04-05T05:11:12.102Z"
   },
   {
    "duration": 7,
    "start_time": "2023-04-05T05:11:13.078Z"
   },
   {
    "duration": 12,
    "start_time": "2023-04-05T05:11:17.153Z"
   },
   {
    "duration": 20,
    "start_time": "2023-04-05T05:11:21.411Z"
   },
   {
    "duration": 12,
    "start_time": "2023-04-05T05:11:29.122Z"
   },
   {
    "duration": 5,
    "start_time": "2023-04-05T05:12:38.513Z"
   },
   {
    "duration": 8,
    "start_time": "2023-04-05T05:12:39.817Z"
   },
   {
    "duration": 19,
    "start_time": "2023-04-05T05:12:43.417Z"
   },
   {
    "duration": 3579,
    "start_time": "2023-04-05T05:13:07.210Z"
   },
   {
    "duration": 77,
    "start_time": "2023-04-05T05:13:10.791Z"
   },
   {
    "duration": 13,
    "start_time": "2023-04-05T05:13:10.870Z"
   },
   {
    "duration": 14,
    "start_time": "2023-04-05T05:13:10.885Z"
   },
   {
    "duration": 5,
    "start_time": "2023-04-05T05:13:10.901Z"
   },
   {
    "duration": 32,
    "start_time": "2023-04-05T05:13:10.907Z"
   },
   {
    "duration": 7,
    "start_time": "2023-04-05T05:13:11.157Z"
   },
   {
    "duration": 8,
    "start_time": "2023-04-05T05:13:11.902Z"
   },
   {
    "duration": 9,
    "start_time": "2023-04-05T05:13:12.405Z"
   },
   {
    "duration": 22,
    "start_time": "2023-04-05T05:13:13.656Z"
   },
   {
    "duration": 6,
    "start_time": "2023-04-05T05:13:16.307Z"
   },
   {
    "duration": 6,
    "start_time": "2023-04-05T05:13:16.762Z"
   },
   {
    "duration": 18,
    "start_time": "2023-04-05T05:13:18.262Z"
   },
   {
    "duration": 2322,
    "start_time": "2023-04-05T05:13:29.344Z"
   },
   {
    "duration": 334,
    "start_time": "2023-04-05T05:13:31.669Z"
   },
   {
    "duration": 937,
    "start_time": "2023-04-05T05:13:32.005Z"
   },
   {
    "duration": 557,
    "start_time": "2023-04-05T05:13:32.943Z"
   },
   {
    "duration": 550,
    "start_time": "2023-04-05T05:13:33.502Z"
   },
   {
    "duration": 193,
    "start_time": "2023-04-05T05:13:34.168Z"
   },
   {
    "duration": 643,
    "start_time": "2023-04-05T05:13:34.888Z"
   },
   {
    "duration": 215,
    "start_time": "2023-04-05T05:13:35.593Z"
   },
   {
    "duration": 652,
    "start_time": "2023-04-05T05:13:36.282Z"
   },
   {
    "duration": 1064,
    "start_time": "2023-04-05T05:13:37.715Z"
   },
   {
    "duration": 1358,
    "start_time": "2023-04-05T05:16:13.244Z"
   },
   {
    "duration": 19959,
    "start_time": "2023-04-05T05:18:15.988Z"
   },
   {
    "duration": 19661,
    "start_time": "2023-04-05T05:18:53.855Z"
   },
   {
    "duration": 5709,
    "start_time": "2023-04-05T05:21:17.532Z"
   },
   {
    "duration": 20027,
    "start_time": "2023-04-05T05:21:56.484Z"
   },
   {
    "duration": 4970,
    "start_time": "2023-04-05T05:22:19.902Z"
   },
   {
    "duration": 20436,
    "start_time": "2023-04-05T05:22:38.053Z"
   },
   {
    "duration": 21020,
    "start_time": "2023-04-05T05:23:09.024Z"
   },
   {
    "duration": 5952,
    "start_time": "2023-04-06T12:36:32.863Z"
   },
   {
    "duration": 137,
    "start_time": "2023-04-06T12:36:38.818Z"
   },
   {
    "duration": 17,
    "start_time": "2023-04-06T12:36:38.957Z"
   },
   {
    "duration": 31,
    "start_time": "2023-04-06T12:36:38.976Z"
   },
   {
    "duration": 6,
    "start_time": "2023-04-06T12:36:39.009Z"
   },
   {
    "duration": 16,
    "start_time": "2023-04-06T12:36:39.016Z"
   },
   {
    "duration": 8,
    "start_time": "2023-04-06T12:36:39.035Z"
   },
   {
    "duration": 9,
    "start_time": "2023-04-06T12:36:39.045Z"
   },
   {
    "duration": 8,
    "start_time": "2023-04-06T12:36:39.056Z"
   },
   {
    "duration": 8,
    "start_time": "2023-04-06T12:36:39.067Z"
   },
   {
    "duration": 5,
    "start_time": "2023-04-06T12:36:39.077Z"
   },
   {
    "duration": 2736,
    "start_time": "2023-04-06T12:36:39.084Z"
   },
   {
    "duration": 382,
    "start_time": "2023-04-06T12:36:41.822Z"
   },
   {
    "duration": 1012,
    "start_time": "2023-04-06T12:36:42.206Z"
   },
   {
    "duration": 611,
    "start_time": "2023-04-06T12:36:43.225Z"
   },
   {
    "duration": 650,
    "start_time": "2023-04-06T12:36:43.842Z"
   },
   {
    "duration": 221,
    "start_time": "2023-04-06T12:36:44.494Z"
   },
   {
    "duration": 747,
    "start_time": "2023-04-06T12:36:44.717Z"
   },
   {
    "duration": 237,
    "start_time": "2023-04-06T12:36:45.467Z"
   },
   {
    "duration": 644,
    "start_time": "2023-04-06T12:36:45.708Z"
   },
   {
    "duration": 1552,
    "start_time": "2023-04-06T12:36:48.254Z"
   },
   {
    "duration": 22672,
    "start_time": "2023-04-06T12:36:49.809Z"
   },
   {
    "duration": 24765,
    "start_time": "2023-04-06T12:37:12.485Z"
   },
   {
    "duration": 5149,
    "start_time": "2023-04-06T15:38:35.148Z"
   },
   {
    "duration": 148,
    "start_time": "2023-04-06T15:38:40.299Z"
   },
   {
    "duration": 16,
    "start_time": "2023-04-06T15:38:40.449Z"
   },
   {
    "duration": 13,
    "start_time": "2023-04-06T15:38:40.467Z"
   },
   {
    "duration": 5,
    "start_time": "2023-04-06T15:38:40.503Z"
   },
   {
    "duration": 24,
    "start_time": "2023-04-06T15:38:40.510Z"
   },
   {
    "duration": 13,
    "start_time": "2023-04-06T15:38:40.535Z"
   },
   {
    "duration": 28,
    "start_time": "2023-04-06T15:38:40.550Z"
   },
   {
    "duration": 18,
    "start_time": "2023-04-06T15:38:40.580Z"
   },
   {
    "duration": 10,
    "start_time": "2023-04-06T15:38:40.601Z"
   },
   {
    "duration": 19,
    "start_time": "2023-04-06T15:38:40.613Z"
   },
   {
    "duration": 2305,
    "start_time": "2023-04-06T15:38:40.634Z"
   },
   {
    "duration": 343,
    "start_time": "2023-04-06T15:38:42.941Z"
   },
   {
    "duration": 1018,
    "start_time": "2023-04-06T15:38:43.286Z"
   },
   {
    "duration": 569,
    "start_time": "2023-04-06T15:38:44.306Z"
   },
   {
    "duration": 559,
    "start_time": "2023-04-06T15:38:44.877Z"
   },
   {
    "duration": 203,
    "start_time": "2023-04-06T15:38:45.438Z"
   },
   {
    "duration": 683,
    "start_time": "2023-04-06T15:38:45.643Z"
   },
   {
    "duration": 224,
    "start_time": "2023-04-06T15:38:46.328Z"
   },
   {
    "duration": 592,
    "start_time": "2023-04-06T15:38:46.554Z"
   },
   {
    "duration": 1391,
    "start_time": "2023-04-06T15:38:47.149Z"
   },
   {
    "duration": 19961,
    "start_time": "2023-04-06T15:38:48.542Z"
   },
   {
    "duration": 131,
    "start_time": "2023-04-06T15:51:34.006Z"
   },
   {
    "duration": 3498,
    "start_time": "2023-04-06T15:51:55.473Z"
   },
   {
    "duration": 82,
    "start_time": "2023-04-06T15:51:58.973Z"
   },
   {
    "duration": 14,
    "start_time": "2023-04-06T15:51:59.056Z"
   },
   {
    "duration": 13,
    "start_time": "2023-04-06T15:51:59.072Z"
   },
   {
    "duration": 6,
    "start_time": "2023-04-06T15:51:59.102Z"
   },
   {
    "duration": 13,
    "start_time": "2023-04-06T15:51:59.110Z"
   },
   {
    "duration": 8,
    "start_time": "2023-04-06T15:51:59.125Z"
   },
   {
    "duration": 9,
    "start_time": "2023-04-06T15:51:59.134Z"
   },
   {
    "duration": 13,
    "start_time": "2023-04-06T15:51:59.145Z"
   },
   {
    "duration": 10,
    "start_time": "2023-04-06T15:51:59.160Z"
   },
   {
    "duration": 6,
    "start_time": "2023-04-06T15:51:59.371Z"
   },
   {
    "duration": 2497,
    "start_time": "2023-04-06T15:52:00.178Z"
   },
   {
    "duration": 403,
    "start_time": "2023-04-06T15:52:02.677Z"
   },
   {
    "duration": 1011,
    "start_time": "2023-04-06T15:52:03.082Z"
   },
   {
    "duration": 562,
    "start_time": "2023-04-06T15:52:04.102Z"
   },
   {
    "duration": 551,
    "start_time": "2023-04-06T15:52:04.666Z"
   },
   {
    "duration": 198,
    "start_time": "2023-04-06T15:52:05.219Z"
   },
   {
    "duration": 670,
    "start_time": "2023-04-06T15:52:05.419Z"
   },
   {
    "duration": 231,
    "start_time": "2023-04-06T15:52:06.092Z"
   },
   {
    "duration": 574,
    "start_time": "2023-04-06T15:52:06.325Z"
   },
   {
    "duration": 1433,
    "start_time": "2023-04-06T15:52:06.902Z"
   },
   {
    "duration": 20557,
    "start_time": "2023-04-06T15:52:08.338Z"
   },
   {
    "duration": 118,
    "start_time": "2023-04-06T15:52:28.897Z"
   },
   {
    "duration": 11,
    "start_time": "2023-04-06T15:52:38.695Z"
   },
   {
    "duration": 10,
    "start_time": "2023-04-06T15:52:54.923Z"
   },
   {
    "duration": 14,
    "start_time": "2023-04-06T15:54:01.419Z"
   },
   {
    "duration": 20,
    "start_time": "2023-04-06T15:54:17.230Z"
   },
   {
    "duration": 14,
    "start_time": "2023-04-06T15:55:17.049Z"
   },
   {
    "duration": 14,
    "start_time": "2023-04-06T15:55:29.797Z"
   },
   {
    "duration": 22,
    "start_time": "2023-04-06T15:55:41.226Z"
   },
   {
    "duration": 544,
    "start_time": "2023-04-06T16:16:19.124Z"
   },
   {
    "duration": 903,
    "start_time": "2023-04-06T16:16:37.095Z"
   },
   {
    "duration": 555,
    "start_time": "2023-04-06T16:17:26.641Z"
   },
   {
    "duration": 557,
    "start_time": "2023-04-06T16:17:37.931Z"
   },
   {
    "duration": 710,
    "start_time": "2023-04-06T16:22:54.012Z"
   },
   {
    "duration": 18,
    "start_time": "2023-04-06T16:36:58.331Z"
   },
   {
    "duration": 5,
    "start_time": "2023-04-06T16:39:55.455Z"
   },
   {
    "duration": 2686,
    "start_time": "2023-04-06T16:40:00.651Z"
   },
   {
    "duration": 612,
    "start_time": "2023-04-06T16:40:09.816Z"
   },
   {
    "duration": 14396,
    "start_time": "2023-04-06T16:40:16.364Z"
   },
   {
    "duration": 16,
    "start_time": "2023-04-06T17:53:56.323Z"
   },
   {
    "duration": 23,
    "start_time": "2023-04-06T17:57:39.302Z"
   },
   {
    "duration": 3475,
    "start_time": "2023-04-06T17:58:35.767Z"
   },
   {
    "duration": 156,
    "start_time": "2023-04-06T17:58:39.244Z"
   },
   {
    "duration": 14,
    "start_time": "2023-04-06T17:58:39.402Z"
   },
   {
    "duration": 21,
    "start_time": "2023-04-06T17:58:39.418Z"
   },
   {
    "duration": 22,
    "start_time": "2023-04-06T17:58:39.441Z"
   },
   {
    "duration": 12,
    "start_time": "2023-04-06T17:58:39.465Z"
   },
   {
    "duration": 23,
    "start_time": "2023-04-06T17:58:39.478Z"
   },
   {
    "duration": 15,
    "start_time": "2023-04-06T17:58:39.503Z"
   },
   {
    "duration": 22,
    "start_time": "2023-04-06T17:58:39.520Z"
   },
   {
    "duration": 7,
    "start_time": "2023-04-06T17:58:39.597Z"
   },
   {
    "duration": 5,
    "start_time": "2023-04-06T17:58:40.231Z"
   },
   {
    "duration": 18,
    "start_time": "2023-04-06T17:58:48.962Z"
   },
   {
    "duration": 59,
    "start_time": "2023-04-06T18:03:40.150Z"
   },
   {
    "duration": 3724,
    "start_time": "2023-04-06T18:03:45.218Z"
   },
   {
    "duration": 154,
    "start_time": "2023-04-06T18:03:48.945Z"
   },
   {
    "duration": 16,
    "start_time": "2023-04-06T18:03:49.101Z"
   },
   {
    "duration": 15,
    "start_time": "2023-04-06T18:03:49.119Z"
   },
   {
    "duration": 6,
    "start_time": "2023-04-06T18:03:49.136Z"
   },
   {
    "duration": 8,
    "start_time": "2023-04-06T18:03:49.144Z"
   },
   {
    "duration": 7,
    "start_time": "2023-04-06T18:03:49.153Z"
   },
   {
    "duration": 45,
    "start_time": "2023-04-06T18:03:49.162Z"
   },
   {
    "duration": 8,
    "start_time": "2023-04-06T18:03:49.209Z"
   },
   {
    "duration": 8,
    "start_time": "2023-04-06T18:03:49.219Z"
   },
   {
    "duration": 5,
    "start_time": "2023-04-06T18:03:49.476Z"
   },
   {
    "duration": 24,
    "start_time": "2023-04-06T18:03:50.091Z"
   },
   {
    "duration": 2362,
    "start_time": "2023-04-06T18:03:50.409Z"
   },
   {
    "duration": 411,
    "start_time": "2023-04-06T18:03:52.773Z"
   },
   {
    "duration": 1051,
    "start_time": "2023-04-06T18:03:53.186Z"
   },
   {
    "duration": 576,
    "start_time": "2023-04-06T18:03:54.239Z"
   },
   {
    "duration": 597,
    "start_time": "2023-04-06T18:03:54.817Z"
   },
   {
    "duration": 192,
    "start_time": "2023-04-06T18:03:55.416Z"
   },
   {
    "duration": 685,
    "start_time": "2023-04-06T18:03:55.792Z"
   },
   {
    "duration": 252,
    "start_time": "2023-04-06T18:03:57.036Z"
   },
   {
    "duration": 568,
    "start_time": "2023-04-06T18:03:57.889Z"
   },
   {
    "duration": 19,
    "start_time": "2023-04-06T18:04:00.588Z"
   },
   {
    "duration": 78,
    "start_time": "2023-04-06T18:04:33.948Z"
   },
   {
    "duration": 6,
    "start_time": "2023-04-06T18:04:51.989Z"
   },
   {
    "duration": 558,
    "start_time": "2023-04-06T18:09:31.874Z"
   },
   {
    "duration": 1259,
    "start_time": "2023-04-06T18:10:43.236Z"
   },
   {
    "duration": 586,
    "start_time": "2023-04-06T18:10:44.497Z"
   },
   {
    "duration": 14677,
    "start_time": "2023-04-06T18:10:45.085Z"
   },
   {
    "duration": 30,
    "start_time": "2023-04-06T18:19:09.822Z"
   },
   {
    "duration": 15,
    "start_time": "2023-04-06T18:19:33.720Z"
   },
   {
    "duration": 15,
    "start_time": "2023-04-06T18:20:13.749Z"
   },
   {
    "duration": 12,
    "start_time": "2023-04-06T18:21:29.141Z"
   },
   {
    "duration": 644,
    "start_time": "2023-04-06T18:23:25.886Z"
   },
   {
    "duration": 15,
    "start_time": "2023-04-06T18:27:29.092Z"
   },
   {
    "duration": 11,
    "start_time": "2023-04-06T18:30:17.671Z"
   },
   {
    "duration": 15,
    "start_time": "2023-04-06T18:31:42.569Z"
   },
   {
    "duration": 15,
    "start_time": "2023-04-06T18:32:26.316Z"
   },
   {
    "duration": 12,
    "start_time": "2023-04-06T18:36:11.433Z"
   },
   {
    "duration": 15,
    "start_time": "2023-04-06T18:38:03.557Z"
   },
   {
    "duration": 15,
    "start_time": "2023-04-06T18:38:21.012Z"
   },
   {
    "duration": 13,
    "start_time": "2023-04-06T18:38:25.125Z"
   },
   {
    "duration": 12,
    "start_time": "2023-04-06T18:38:29.119Z"
   },
   {
    "duration": 12,
    "start_time": "2023-04-06T18:39:23.544Z"
   },
   {
    "duration": 14,
    "start_time": "2023-04-06T18:40:03.206Z"
   },
   {
    "duration": 13,
    "start_time": "2023-04-06T18:40:44.727Z"
   },
   {
    "duration": 13,
    "start_time": "2023-04-06T18:45:23.515Z"
   },
   {
    "duration": 17,
    "start_time": "2023-04-06T18:47:13.287Z"
   },
   {
    "duration": 18,
    "start_time": "2023-04-06T18:47:29.386Z"
   },
   {
    "duration": 19,
    "start_time": "2023-04-06T18:48:13.685Z"
   },
   {
    "duration": 13,
    "start_time": "2023-04-06T18:49:32.639Z"
   },
   {
    "duration": 12,
    "start_time": "2023-04-06T18:52:57.335Z"
   },
   {
    "duration": 12,
    "start_time": "2023-04-06T18:53:03.827Z"
   },
   {
    "duration": 11,
    "start_time": "2023-04-06T18:53:08.248Z"
   },
   {
    "duration": 11,
    "start_time": "2023-04-06T18:58:19.458Z"
   },
   {
    "duration": 13,
    "start_time": "2023-04-06T18:58:53.935Z"
   },
   {
    "duration": 13,
    "start_time": "2023-04-06T18:59:20.143Z"
   },
   {
    "duration": 15,
    "start_time": "2023-04-06T18:59:44.018Z"
   },
   {
    "duration": 12,
    "start_time": "2023-04-06T19:00:21.443Z"
   },
   {
    "duration": 13,
    "start_time": "2023-04-06T19:00:28.364Z"
   },
   {
    "duration": 18,
    "start_time": "2023-04-06T19:00:50.313Z"
   },
   {
    "duration": 11,
    "start_time": "2023-04-06T19:00:58.346Z"
   },
   {
    "duration": 12,
    "start_time": "2023-04-06T19:01:03.062Z"
   },
   {
    "duration": 15,
    "start_time": "2023-04-06T19:01:10.846Z"
   },
   {
    "duration": 12,
    "start_time": "2023-04-06T19:01:14.956Z"
   },
   {
    "duration": 12,
    "start_time": "2023-04-06T19:01:42.056Z"
   },
   {
    "duration": 12,
    "start_time": "2023-04-06T19:07:06.564Z"
   },
   {
    "duration": 13,
    "start_time": "2023-04-06T19:07:11.592Z"
   },
   {
    "duration": 13,
    "start_time": "2023-04-06T19:07:16.044Z"
   },
   {
    "duration": 13,
    "start_time": "2023-04-06T19:07:23.249Z"
   },
   {
    "duration": 14,
    "start_time": "2023-04-06T19:14:25.060Z"
   },
   {
    "duration": 14,
    "start_time": "2023-04-06T19:14:29.098Z"
   },
   {
    "duration": 14,
    "start_time": "2023-04-06T19:14:34.823Z"
   },
   {
    "duration": 12,
    "start_time": "2023-04-06T19:14:38.401Z"
   },
   {
    "duration": 12,
    "start_time": "2023-04-06T19:14:50.550Z"
   },
   {
    "duration": 11,
    "start_time": "2023-04-06T19:14:55.263Z"
   },
   {
    "duration": 12,
    "start_time": "2023-04-06T19:15:26.392Z"
   },
   {
    "duration": 13,
    "start_time": "2023-04-06T19:15:30.340Z"
   },
   {
    "duration": 11,
    "start_time": "2023-04-06T19:18:01.814Z"
   },
   {
    "duration": 12,
    "start_time": "2023-04-06T19:18:07.315Z"
   },
   {
    "duration": 35,
    "start_time": "2023-04-06T19:18:30.692Z"
   },
   {
    "duration": 57,
    "start_time": "2023-04-06T19:18:36.005Z"
   },
   {
    "duration": 13,
    "start_time": "2023-04-06T19:19:24.190Z"
   },
   {
    "duration": 14,
    "start_time": "2023-04-06T19:19:31.055Z"
   },
   {
    "duration": 14,
    "start_time": "2023-04-06T19:19:59.728Z"
   },
   {
    "duration": 13,
    "start_time": "2023-04-06T19:20:04.304Z"
   },
   {
    "duration": 12,
    "start_time": "2023-04-06T19:20:29.222Z"
   },
   {
    "duration": 12,
    "start_time": "2023-04-06T19:20:37.647Z"
   },
   {
    "duration": 11,
    "start_time": "2023-04-06T19:20:54.290Z"
   },
   {
    "duration": 14,
    "start_time": "2023-04-06T19:21:30.147Z"
   },
   {
    "duration": 15,
    "start_time": "2023-04-06T19:21:34.522Z"
   },
   {
    "duration": 13,
    "start_time": "2023-04-06T19:22:16.468Z"
   },
   {
    "duration": 13,
    "start_time": "2023-04-06T19:22:21.276Z"
   },
   {
    "duration": 12,
    "start_time": "2023-04-06T19:22:33.631Z"
   },
   {
    "duration": 12,
    "start_time": "2023-04-06T19:22:37.275Z"
   },
   {
    "duration": 14,
    "start_time": "2023-04-06T19:22:40.725Z"
   },
   {
    "duration": 13,
    "start_time": "2023-04-06T19:22:52.632Z"
   },
   {
    "duration": 12,
    "start_time": "2023-04-06T19:22:56.959Z"
   },
   {
    "duration": 12,
    "start_time": "2023-04-06T19:23:00.800Z"
   },
   {
    "duration": 11,
    "start_time": "2023-04-06T19:23:04.487Z"
   },
   {
    "duration": 14,
    "start_time": "2023-04-06T19:24:33.425Z"
   },
   {
    "duration": 14,
    "start_time": "2023-04-06T19:25:03.298Z"
   },
   {
    "duration": 12,
    "start_time": "2023-04-06T19:25:13.551Z"
   },
   {
    "duration": 13,
    "start_time": "2023-04-06T19:25:36.057Z"
   },
   {
    "duration": 13,
    "start_time": "2023-04-06T19:25:40.835Z"
   },
   {
    "duration": 15,
    "start_time": "2023-04-06T19:25:44.737Z"
   },
   {
    "duration": 14,
    "start_time": "2023-04-06T19:26:17.898Z"
   },
   {
    "duration": 12,
    "start_time": "2023-04-06T19:26:23.795Z"
   },
   {
    "duration": 14,
    "start_time": "2023-04-06T19:27:17.508Z"
   },
   {
    "duration": 15,
    "start_time": "2023-04-06T19:27:44.728Z"
   },
   {
    "duration": 22,
    "start_time": "2023-04-06T19:27:49.711Z"
   },
   {
    "duration": 14,
    "start_time": "2023-04-06T19:28:06.141Z"
   },
   {
    "duration": 12,
    "start_time": "2023-04-06T19:31:13.567Z"
   },
   {
    "duration": 12,
    "start_time": "2023-04-06T19:31:17.471Z"
   },
   {
    "duration": 11,
    "start_time": "2023-04-06T19:31:21.367Z"
   },
   {
    "duration": 13,
    "start_time": "2023-04-06T19:31:24.926Z"
   },
   {
    "duration": 206,
    "start_time": "2023-04-06T19:32:23.195Z"
   },
   {
    "duration": 15,
    "start_time": "2023-04-06T19:32:28.740Z"
   },
   {
    "duration": 13,
    "start_time": "2023-04-06T19:32:32.490Z"
   },
   {
    "duration": 15,
    "start_time": "2023-04-06T19:33:01.732Z"
   },
   {
    "duration": 15,
    "start_time": "2023-04-06T19:33:07.621Z"
   },
   {
    "duration": 15,
    "start_time": "2023-04-06T19:33:12.836Z"
   },
   {
    "duration": 15,
    "start_time": "2023-04-06T19:33:15.310Z"
   },
   {
    "duration": 12,
    "start_time": "2023-04-06T19:33:20.055Z"
   },
   {
    "duration": 35,
    "start_time": "2023-04-06T19:33:37.031Z"
   },
   {
    "duration": 12,
    "start_time": "2023-04-06T19:33:39.948Z"
   },
   {
    "duration": 15,
    "start_time": "2023-04-06T19:34:04.963Z"
   },
   {
    "duration": 14,
    "start_time": "2023-04-06T19:34:07.918Z"
   },
   {
    "duration": 13,
    "start_time": "2023-04-06T19:34:10.946Z"
   },
   {
    "duration": 19,
    "start_time": "2023-04-06T19:34:25.512Z"
   },
   {
    "duration": 14,
    "start_time": "2023-04-06T19:34:29.863Z"
   },
   {
    "duration": 19,
    "start_time": "2023-04-06T19:34:45.015Z"
   },
   {
    "duration": 12,
    "start_time": "2023-04-06T19:34:51.874Z"
   },
   {
    "duration": 18,
    "start_time": "2023-04-06T19:35:01.131Z"
   },
   {
    "duration": 13,
    "start_time": "2023-04-06T19:35:29.451Z"
   },
   {
    "duration": 27,
    "start_time": "2023-04-06T19:35:59.998Z"
   },
   {
    "duration": 87,
    "start_time": "2023-04-06T19:37:58.087Z"
   },
   {
    "duration": 13,
    "start_time": "2023-04-06T19:38:04.760Z"
   },
   {
    "duration": 14,
    "start_time": "2023-04-06T19:38:42.025Z"
   },
   {
    "duration": 13,
    "start_time": "2023-04-06T19:39:08.064Z"
   },
   {
    "duration": 13,
    "start_time": "2023-04-06T19:39:23.228Z"
   },
   {
    "duration": 14,
    "start_time": "2023-04-06T19:43:48.261Z"
   },
   {
    "duration": 20,
    "start_time": "2023-04-06T19:49:31.701Z"
   },
   {
    "duration": 13,
    "start_time": "2023-04-06T19:49:40.924Z"
   },
   {
    "duration": 14,
    "start_time": "2023-04-06T19:57:12.147Z"
   },
   {
    "duration": 4427,
    "start_time": "2023-04-06T19:57:54.905Z"
   },
   {
    "duration": 230,
    "start_time": "2023-04-06T19:57:59.339Z"
   },
   {
    "duration": 13,
    "start_time": "2023-04-06T19:57:59.571Z"
   },
   {
    "duration": 37,
    "start_time": "2023-04-06T19:57:59.586Z"
   },
   {
    "duration": 9,
    "start_time": "2023-04-06T19:57:59.625Z"
   },
   {
    "duration": 11,
    "start_time": "2023-04-06T19:57:59.636Z"
   },
   {
    "duration": 19,
    "start_time": "2023-04-06T19:57:59.649Z"
   },
   {
    "duration": 23,
    "start_time": "2023-04-06T19:57:59.671Z"
   },
   {
    "duration": 14,
    "start_time": "2023-04-06T19:57:59.696Z"
   },
   {
    "duration": 20,
    "start_time": "2023-04-06T19:57:59.713Z"
   },
   {
    "duration": 6,
    "start_time": "2023-04-06T19:57:59.736Z"
   },
   {
    "duration": 25,
    "start_time": "2023-04-06T19:57:59.744Z"
   },
   {
    "duration": 2797,
    "start_time": "2023-04-06T19:57:59.798Z"
   },
   {
    "duration": 402,
    "start_time": "2023-04-06T19:58:02.597Z"
   },
   {
    "duration": 1109,
    "start_time": "2023-04-06T19:58:03.001Z"
   },
   {
    "duration": 644,
    "start_time": "2023-04-06T19:58:04.120Z"
   },
   {
    "duration": 661,
    "start_time": "2023-04-06T19:58:04.766Z"
   },
   {
    "duration": 229,
    "start_time": "2023-04-06T19:58:05.429Z"
   },
   {
    "duration": 781,
    "start_time": "2023-04-06T19:58:05.660Z"
   },
   {
    "duration": 248,
    "start_time": "2023-04-06T19:58:06.443Z"
   },
   {
    "duration": 685,
    "start_time": "2023-04-06T19:58:06.693Z"
   },
   {
    "duration": 30,
    "start_time": "2023-04-06T19:58:07.804Z"
   },
   {
    "duration": 12,
    "start_time": "2023-04-06T19:58:07.836Z"
   },
   {
    "duration": 94,
    "start_time": "2023-04-06T19:58:29.951Z"
   },
   {
    "duration": 12,
    "start_time": "2023-04-06T19:58:35.030Z"
   },
   {
    "duration": 7072,
    "start_time": "2023-04-07T08:25:41.411Z"
   },
   {
    "duration": 262,
    "start_time": "2023-04-07T08:25:48.485Z"
   },
   {
    "duration": 24,
    "start_time": "2023-04-07T08:25:48.749Z"
   },
   {
    "duration": 29,
    "start_time": "2023-04-07T08:25:48.776Z"
   },
   {
    "duration": 7,
    "start_time": "2023-04-07T08:25:48.807Z"
   },
   {
    "duration": 15,
    "start_time": "2023-04-07T08:25:48.816Z"
   },
   {
    "duration": 61,
    "start_time": "2023-04-07T08:25:48.833Z"
   },
   {
    "duration": 27,
    "start_time": "2023-04-07T08:25:48.895Z"
   },
   {
    "duration": 117,
    "start_time": "2023-04-07T08:25:48.923Z"
   },
   {
    "duration": 43,
    "start_time": "2023-04-07T08:25:49.043Z"
   },
   {
    "duration": 11,
    "start_time": "2023-04-07T08:25:49.087Z"
   },
   {
    "duration": 20,
    "start_time": "2023-04-07T08:25:49.099Z"
   },
   {
    "duration": 2925,
    "start_time": "2023-04-07T08:25:49.121Z"
   },
   {
    "duration": 460,
    "start_time": "2023-04-07T08:25:52.052Z"
   },
   {
    "duration": 1281,
    "start_time": "2023-04-07T08:25:52.514Z"
   },
   {
    "duration": 844,
    "start_time": "2023-04-07T08:25:53.797Z"
   },
   {
    "duration": 763,
    "start_time": "2023-04-07T08:25:54.652Z"
   },
   {
    "duration": 295,
    "start_time": "2023-04-07T08:25:55.417Z"
   },
   {
    "duration": 916,
    "start_time": "2023-04-07T08:25:55.715Z"
   },
   {
    "duration": 294,
    "start_time": "2023-04-07T08:25:56.633Z"
   },
   {
    "duration": 786,
    "start_time": "2023-04-07T08:25:56.929Z"
   },
   {
    "duration": 50,
    "start_time": "2023-04-07T08:25:57.718Z"
   },
   {
    "duration": 36,
    "start_time": "2023-04-07T08:25:57.770Z"
   },
   {
    "duration": 19,
    "start_time": "2023-04-07T08:25:57.809Z"
   },
   {
    "duration": 69,
    "start_time": "2023-04-07T08:25:57.830Z"
   },
   {
    "duration": 3334,
    "start_time": "2023-04-07T08:26:24.090Z"
   },
   {
    "duration": 20,
    "start_time": "2023-04-07T08:30:10.659Z"
   },
   {
    "duration": 9,
    "start_time": "2023-04-07T08:32:53.583Z"
   },
   {
    "duration": 8,
    "start_time": "2023-04-07T08:33:22.808Z"
   },
   {
    "duration": 11,
    "start_time": "2023-04-07T08:38:54.988Z"
   },
   {
    "duration": 23,
    "start_time": "2023-04-07T08:49:44.874Z"
   },
   {
    "duration": 5,
    "start_time": "2023-04-07T08:50:59.159Z"
   },
   {
    "duration": 10,
    "start_time": "2023-04-07T09:08:33.165Z"
   },
   {
    "duration": 146,
    "start_time": "2023-04-07T09:08:44.220Z"
   },
   {
    "duration": 15,
    "start_time": "2023-04-07T09:08:51.091Z"
   },
   {
    "duration": 2042,
    "start_time": "2023-04-07T09:12:48.359Z"
   },
   {
    "duration": 398,
    "start_time": "2023-04-07T09:13:00.313Z"
   },
   {
    "duration": 15,
    "start_time": "2023-04-07T09:22:49.295Z"
   },
   {
    "duration": 13,
    "start_time": "2023-04-07T09:39:35.656Z"
   },
   {
    "duration": 12,
    "start_time": "2023-04-07T09:43:49.930Z"
   },
   {
    "duration": 13,
    "start_time": "2023-04-07T09:43:55.032Z"
   },
   {
    "duration": 12,
    "start_time": "2023-04-07T09:43:57.685Z"
   },
   {
    "duration": 16,
    "start_time": "2023-04-07T09:44:01.112Z"
   },
   {
    "duration": 12,
    "start_time": "2023-04-07T09:44:28.864Z"
   },
   {
    "duration": 15,
    "start_time": "2023-04-07T09:44:33.201Z"
   },
   {
    "duration": 13,
    "start_time": "2023-04-07T09:45:18.008Z"
   },
   {
    "duration": 17,
    "start_time": "2023-04-07T09:47:06.748Z"
   },
   {
    "duration": 10,
    "start_time": "2023-04-07T09:51:19.393Z"
   },
   {
    "duration": 10,
    "start_time": "2023-04-07T09:52:46.321Z"
   },
   {
    "duration": 9,
    "start_time": "2023-04-07T09:52:49.461Z"
   },
   {
    "duration": 9,
    "start_time": "2023-04-07T09:55:28.263Z"
   },
   {
    "duration": 10,
    "start_time": "2023-04-07T09:55:59.201Z"
   },
   {
    "duration": 12,
    "start_time": "2023-04-07T09:57:26.687Z"
   },
   {
    "duration": 12,
    "start_time": "2023-04-07T09:58:55.584Z"
   },
   {
    "duration": 8,
    "start_time": "2023-04-07T09:59:10.193Z"
   },
   {
    "duration": 2551,
    "start_time": "2023-04-07T11:00:47.233Z"
   },
   {
    "duration": 4163,
    "start_time": "2023-04-07T11:00:58.411Z"
   },
   {
    "duration": 179,
    "start_time": "2023-04-07T11:01:02.578Z"
   },
   {
    "duration": 6,
    "start_time": "2023-04-07T11:01:07.465Z"
   },
   {
    "duration": 24,
    "start_time": "2023-04-07T11:01:08.138Z"
   },
   {
    "duration": 6,
    "start_time": "2023-04-07T11:01:10.412Z"
   },
   {
    "duration": 83,
    "start_time": "2023-04-07T11:01:10.424Z"
   },
   {
    "duration": 64,
    "start_time": "2023-04-07T11:01:10.510Z"
   },
   {
    "duration": 9,
    "start_time": "2023-04-07T11:01:10.711Z"
   },
   {
    "duration": 9,
    "start_time": "2023-04-07T11:01:12.238Z"
   },
   {
    "duration": 13,
    "start_time": "2023-04-07T11:01:13.251Z"
   },
   {
    "duration": 2664,
    "start_time": "2023-04-07T11:01:15.754Z"
   },
   {
    "duration": 368,
    "start_time": "2023-04-07T11:01:19.353Z"
   },
   {
    "duration": 1246,
    "start_time": "2023-04-07T11:01:22.512Z"
   },
   {
    "duration": 686,
    "start_time": "2023-04-07T11:01:23.762Z"
   },
   {
    "duration": 640,
    "start_time": "2023-04-07T11:01:24.451Z"
   },
   {
    "duration": 231,
    "start_time": "2023-04-07T11:01:25.093Z"
   },
   {
    "duration": 777,
    "start_time": "2023-04-07T11:01:25.326Z"
   },
   {
    "duration": 266,
    "start_time": "2023-04-07T11:01:26.106Z"
   },
   {
    "duration": 721,
    "start_time": "2023-04-07T11:01:26.374Z"
   },
   {
    "duration": 25,
    "start_time": "2023-04-07T11:01:32.410Z"
   },
   {
    "duration": 14,
    "start_time": "2023-04-07T11:01:38.111Z"
   },
   {
    "duration": 15,
    "start_time": "2023-04-07T11:01:39.859Z"
   },
   {
    "duration": 13,
    "start_time": "2023-04-07T11:01:41.350Z"
   },
   {
    "duration": 14,
    "start_time": "2023-04-07T11:01:46.212Z"
   },
   {
    "duration": 11,
    "start_time": "2023-04-07T11:01:51.568Z"
   },
   {
    "duration": 12,
    "start_time": "2023-04-07T11:01:58.270Z"
   },
   {
    "duration": 4988,
    "start_time": "2023-04-08T12:10:03.002Z"
   },
   {
    "duration": 201,
    "start_time": "2023-04-08T12:10:07.992Z"
   },
   {
    "duration": 3,
    "start_time": "2023-04-08T12:10:08.946Z"
   },
   {
    "duration": 12,
    "start_time": "2023-04-08T12:10:09.607Z"
   },
   {
    "duration": 5,
    "start_time": "2023-04-08T12:10:10.574Z"
   },
   {
    "duration": 4,
    "start_time": "2023-04-08T12:10:10.918Z"
   },
   {
    "duration": 7,
    "start_time": "2023-04-08T12:10:12.148Z"
   },
   {
    "duration": 9,
    "start_time": "2023-04-08T12:10:12.636Z"
   },
   {
    "duration": 8,
    "start_time": "2023-04-08T12:10:14.680Z"
   },
   {
    "duration": 5,
    "start_time": "2023-04-08T12:10:15.696Z"
   },
   {
    "duration": 352,
    "start_time": "2023-04-08T12:10:36.621Z"
   }
  ],
  "kernelspec": {
   "display_name": "Python 3 (ipykernel)",
   "language": "python",
   "name": "python3"
  },
  "language_info": {
   "codemirror_mode": {
    "name": "ipython",
    "version": 3
   },
   "file_extension": ".py",
   "mimetype": "text/x-python",
   "name": "python",
   "nbconvert_exporter": "python",
   "pygments_lexer": "ipython3",
   "version": "3.10.9"
  },
  "toc": {
   "base_numbering": 1,
   "nav_menu": {},
   "number_sections": true,
   "sideBar": true,
   "skip_h1_title": true,
   "title_cell": "Table of Contents",
   "title_sidebar": "Contents",
   "toc_cell": false,
   "toc_position": {},
   "toc_section_display": true,
   "toc_window_display": false
  }
 },
 "nbformat": 4,
 "nbformat_minor": 2
}
