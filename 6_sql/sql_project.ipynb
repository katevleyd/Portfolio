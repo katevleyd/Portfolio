{
 "cells": [
  {
   "cell_type": "markdown",
   "metadata": {},
   "source": [
    "# Проект по SQL\n",
    "\n",
    "Коронавирус застал мир врасплох, изменив привычный порядок вещей. В свободное время жители городов больше не выходят на улицу, не посещают кафе и торговые центры. Зато стало больше времени для книг. Это заметили стартаперы — и бросились создавать приложения для тех, кто любит читать. Наша компания решила быть на волне и купила крупный сервис для чтения книг по подписке.\n",
    "\n",
    "Цель исследования: проанализировать базу данных с книгами, издательствами, авторами, а так же пользовательскими обзорами книг, чтобы сформулировать ценностное предложение для нового продукта.\n",
    "\n",
    "Исследование состоит из следующих этапов:\n",
    "1. Обзор данных;\n",
    "2. Посчитать, сколько книг вышло после 1 января 2000 года;\n",
    "3. Для каждой книги посчитать количество обзоров и среднюю оценку;\n",
    "4. Определить издательство, которое выпустило наибольшее число книг толще 50 страниц для исключения из анализа брошюр;\n",
    "5. Определить автора с самой высокой средней оценкой книг;\n",
    "6. Посчитать среднее количество обзоров от пользователей, которые поставили больше 50 оценок;\n",
    "7. Выводы по исследованию."
   ]
  },
  {
   "cell_type": "markdown",
   "metadata": {},
   "source": [
    "### Обзор данных"
   ]
  },
  {
   "cell_type": "code",
   "execution_count": 1,
   "metadata": {},
   "outputs": [
    {
     "data": {
      "text/html": [
       "<div>\n",
       "<style scoped>\n",
       "    .dataframe tbody tr th:only-of-type {\n",
       "        vertical-align: middle;\n",
       "    }\n",
       "\n",
       "    .dataframe tbody tr th {\n",
       "        vertical-align: top;\n",
       "    }\n",
       "\n",
       "    .dataframe thead th {\n",
       "        text-align: right;\n",
       "    }\n",
       "</style>\n",
       "<table border=\"1\" class=\"dataframe\">\n",
       "  <thead>\n",
       "    <tr style=\"text-align: right;\">\n",
       "      <th></th>\n",
       "      <th>book_id</th>\n",
       "      <th>author_id</th>\n",
       "      <th>title</th>\n",
       "      <th>num_pages</th>\n",
       "      <th>publication_date</th>\n",
       "      <th>publisher_id</th>\n",
       "    </tr>\n",
       "  </thead>\n",
       "  <tbody>\n",
       "    <tr>\n",
       "      <th>0</th>\n",
       "      <td>1</td>\n",
       "      <td>546</td>\n",
       "      <td>'Salem's Lot</td>\n",
       "      <td>594</td>\n",
       "      <td>2005-11-01</td>\n",
       "      <td>93</td>\n",
       "    </tr>\n",
       "    <tr>\n",
       "      <th>1</th>\n",
       "      <td>2</td>\n",
       "      <td>465</td>\n",
       "      <td>1 000 Places to See Before You Die</td>\n",
       "      <td>992</td>\n",
       "      <td>2003-05-22</td>\n",
       "      <td>336</td>\n",
       "    </tr>\n",
       "    <tr>\n",
       "      <th>2</th>\n",
       "      <td>3</td>\n",
       "      <td>407</td>\n",
       "      <td>13 Little Blue Envelopes (Little Blue Envelope...</td>\n",
       "      <td>322</td>\n",
       "      <td>2010-12-21</td>\n",
       "      <td>135</td>\n",
       "    </tr>\n",
       "    <tr>\n",
       "      <th>3</th>\n",
       "      <td>4</td>\n",
       "      <td>82</td>\n",
       "      <td>1491: New Revelations of the Americas Before C...</td>\n",
       "      <td>541</td>\n",
       "      <td>2006-10-10</td>\n",
       "      <td>309</td>\n",
       "    </tr>\n",
       "    <tr>\n",
       "      <th>4</th>\n",
       "      <td>5</td>\n",
       "      <td>125</td>\n",
       "      <td>1776</td>\n",
       "      <td>386</td>\n",
       "      <td>2006-07-04</td>\n",
       "      <td>268</td>\n",
       "    </tr>\n",
       "  </tbody>\n",
       "</table>\n",
       "</div>"
      ],
      "text/plain": [
       "   book_id  author_id                                              title  \\\n",
       "0        1        546                                       'Salem's Lot   \n",
       "1        2        465                 1 000 Places to See Before You Die   \n",
       "2        3        407  13 Little Blue Envelopes (Little Blue Envelope...   \n",
       "3        4         82  1491: New Revelations of the Americas Before C...   \n",
       "4        5        125                                               1776   \n",
       "\n",
       "   num_pages publication_date  publisher_id  \n",
       "0        594       2005-11-01            93  \n",
       "1        992       2003-05-22           336  \n",
       "2        322       2010-12-21           135  \n",
       "3        541       2006-10-10           309  \n",
       "4        386       2006-07-04           268  "
      ]
     },
     "execution_count": 1,
     "metadata": {},
     "output_type": "execute_result"
    }
   ],
   "source": [
    "# импортируем библиотеки\n",
    "import pandas as pd\n",
    "from sqlalchemy import create_engine\n",
    "# устанавливаем параметры\n",
    "db_config = {'user': 'praktikum_student', # имя пользователя\n",
    "'pwd': 'Sdf4$2;d-d30pp', # пароль\n",
    "'host': 'rc1b-wcoijxj3yxfsf3fs.mdb.yandexcloud.net',\n",
    "'port': 6432, # порт подключения\n",
    "'db': 'data-analyst-final-project-db'} # название базы данных\n",
    "connection_string = 'postgresql://{}:{}@{}:{}/{}'.format(db_config['user'],\n",
    " db_config['pwd'],\n",
    " db_config['host'],\n",
    " db_config['port'],\n",
    " db_config['db'])\n",
    "# сохраняем коннектор\n",
    "engine = create_engine(connection_string, connect_args={'sslmode':'require'})\n",
    "\n",
    "query = '''\n",
    "SELECT *\n",
    "FROM books\n",
    "LIMIT 5\n",
    "        '''\n",
    "\n",
    "# чтобы выполнить SQL-запрос, используем Pandas\n",
    "pd.io.sql.read_sql(query, con = engine)"
   ]
  },
  {
   "cell_type": "code",
   "execution_count": 2,
   "metadata": {},
   "outputs": [
    {
     "data": {
      "text/html": [
       "<div>\n",
       "<style scoped>\n",
       "    .dataframe tbody tr th:only-of-type {\n",
       "        vertical-align: middle;\n",
       "    }\n",
       "\n",
       "    .dataframe tbody tr th {\n",
       "        vertical-align: top;\n",
       "    }\n",
       "\n",
       "    .dataframe thead th {\n",
       "        text-align: right;\n",
       "    }\n",
       "</style>\n",
       "<table border=\"1\" class=\"dataframe\">\n",
       "  <thead>\n",
       "    <tr style=\"text-align: right;\">\n",
       "      <th></th>\n",
       "      <th>author_id</th>\n",
       "      <th>author</th>\n",
       "    </tr>\n",
       "  </thead>\n",
       "  <tbody>\n",
       "    <tr>\n",
       "      <th>0</th>\n",
       "      <td>1</td>\n",
       "      <td>A.S. Byatt</td>\n",
       "    </tr>\n",
       "    <tr>\n",
       "      <th>1</th>\n",
       "      <td>2</td>\n",
       "      <td>Aesop/Laura Harris/Laura Gibbs</td>\n",
       "    </tr>\n",
       "    <tr>\n",
       "      <th>2</th>\n",
       "      <td>3</td>\n",
       "      <td>Agatha Christie</td>\n",
       "    </tr>\n",
       "    <tr>\n",
       "      <th>3</th>\n",
       "      <td>4</td>\n",
       "      <td>Alan Brennert</td>\n",
       "    </tr>\n",
       "    <tr>\n",
       "      <th>4</th>\n",
       "      <td>5</td>\n",
       "      <td>Alan Moore/David   Lloyd</td>\n",
       "    </tr>\n",
       "  </tbody>\n",
       "</table>\n",
       "</div>"
      ],
      "text/plain": [
       "   author_id                          author\n",
       "0          1                      A.S. Byatt\n",
       "1          2  Aesop/Laura Harris/Laura Gibbs\n",
       "2          3                 Agatha Christie\n",
       "3          4                   Alan Brennert\n",
       "4          5        Alan Moore/David   Lloyd"
      ]
     },
     "execution_count": 2,
     "metadata": {},
     "output_type": "execute_result"
    }
   ],
   "source": [
    "query = '''\n",
    "SELECT *\n",
    "FROM authors\n",
    "LIMIT 5\n",
    "        '''\n",
    "\n",
    "pd.io.sql.read_sql(query, con = engine)"
   ]
  },
  {
   "cell_type": "code",
   "execution_count": 3,
   "metadata": {},
   "outputs": [
    {
     "data": {
      "text/html": [
       "<div>\n",
       "<style scoped>\n",
       "    .dataframe tbody tr th:only-of-type {\n",
       "        vertical-align: middle;\n",
       "    }\n",
       "\n",
       "    .dataframe tbody tr th {\n",
       "        vertical-align: top;\n",
       "    }\n",
       "\n",
       "    .dataframe thead th {\n",
       "        text-align: right;\n",
       "    }\n",
       "</style>\n",
       "<table border=\"1\" class=\"dataframe\">\n",
       "  <thead>\n",
       "    <tr style=\"text-align: right;\">\n",
       "      <th></th>\n",
       "      <th>publisher_id</th>\n",
       "      <th>publisher</th>\n",
       "    </tr>\n",
       "  </thead>\n",
       "  <tbody>\n",
       "    <tr>\n",
       "      <th>0</th>\n",
       "      <td>1</td>\n",
       "      <td>Ace</td>\n",
       "    </tr>\n",
       "    <tr>\n",
       "      <th>1</th>\n",
       "      <td>2</td>\n",
       "      <td>Ace Book</td>\n",
       "    </tr>\n",
       "    <tr>\n",
       "      <th>2</th>\n",
       "      <td>3</td>\n",
       "      <td>Ace Books</td>\n",
       "    </tr>\n",
       "    <tr>\n",
       "      <th>3</th>\n",
       "      <td>4</td>\n",
       "      <td>Ace Hardcover</td>\n",
       "    </tr>\n",
       "    <tr>\n",
       "      <th>4</th>\n",
       "      <td>5</td>\n",
       "      <td>Addison Wesley Publishing Company</td>\n",
       "    </tr>\n",
       "  </tbody>\n",
       "</table>\n",
       "</div>"
      ],
      "text/plain": [
       "   publisher_id                          publisher\n",
       "0             1                                Ace\n",
       "1             2                           Ace Book\n",
       "2             3                          Ace Books\n",
       "3             4                      Ace Hardcover\n",
       "4             5  Addison Wesley Publishing Company"
      ]
     },
     "execution_count": 3,
     "metadata": {},
     "output_type": "execute_result"
    }
   ],
   "source": [
    "query = '''\n",
    "SELECT *\n",
    "FROM publishers\n",
    "LIMIT 5\n",
    "        '''\n",
    "\n",
    "pd.io.sql.read_sql(query, con = engine)"
   ]
  },
  {
   "cell_type": "code",
   "execution_count": 4,
   "metadata": {},
   "outputs": [
    {
     "data": {
      "text/html": [
       "<div>\n",
       "<style scoped>\n",
       "    .dataframe tbody tr th:only-of-type {\n",
       "        vertical-align: middle;\n",
       "    }\n",
       "\n",
       "    .dataframe tbody tr th {\n",
       "        vertical-align: top;\n",
       "    }\n",
       "\n",
       "    .dataframe thead th {\n",
       "        text-align: right;\n",
       "    }\n",
       "</style>\n",
       "<table border=\"1\" class=\"dataframe\">\n",
       "  <thead>\n",
       "    <tr style=\"text-align: right;\">\n",
       "      <th></th>\n",
       "      <th>rating_id</th>\n",
       "      <th>book_id</th>\n",
       "      <th>username</th>\n",
       "      <th>rating</th>\n",
       "    </tr>\n",
       "  </thead>\n",
       "  <tbody>\n",
       "    <tr>\n",
       "      <th>0</th>\n",
       "      <td>1</td>\n",
       "      <td>1</td>\n",
       "      <td>ryanfranco</td>\n",
       "      <td>4</td>\n",
       "    </tr>\n",
       "    <tr>\n",
       "      <th>1</th>\n",
       "      <td>2</td>\n",
       "      <td>1</td>\n",
       "      <td>grantpatricia</td>\n",
       "      <td>2</td>\n",
       "    </tr>\n",
       "    <tr>\n",
       "      <th>2</th>\n",
       "      <td>3</td>\n",
       "      <td>1</td>\n",
       "      <td>brandtandrea</td>\n",
       "      <td>5</td>\n",
       "    </tr>\n",
       "    <tr>\n",
       "      <th>3</th>\n",
       "      <td>4</td>\n",
       "      <td>2</td>\n",
       "      <td>lorichen</td>\n",
       "      <td>3</td>\n",
       "    </tr>\n",
       "    <tr>\n",
       "      <th>4</th>\n",
       "      <td>5</td>\n",
       "      <td>2</td>\n",
       "      <td>mariokeller</td>\n",
       "      <td>2</td>\n",
       "    </tr>\n",
       "  </tbody>\n",
       "</table>\n",
       "</div>"
      ],
      "text/plain": [
       "   rating_id  book_id       username  rating\n",
       "0          1        1     ryanfranco       4\n",
       "1          2        1  grantpatricia       2\n",
       "2          3        1   brandtandrea       5\n",
       "3          4        2       lorichen       3\n",
       "4          5        2    mariokeller       2"
      ]
     },
     "execution_count": 4,
     "metadata": {},
     "output_type": "execute_result"
    }
   ],
   "source": [
    "query = '''\n",
    "SELECT *\n",
    "FROM ratings\n",
    "LIMIT 5\n",
    "        '''\n",
    "\n",
    "pd.io.sql.read_sql(query, con = engine)"
   ]
  },
  {
   "cell_type": "code",
   "execution_count": 5,
   "metadata": {},
   "outputs": [
    {
     "data": {
      "text/html": [
       "<div>\n",
       "<style scoped>\n",
       "    .dataframe tbody tr th:only-of-type {\n",
       "        vertical-align: middle;\n",
       "    }\n",
       "\n",
       "    .dataframe tbody tr th {\n",
       "        vertical-align: top;\n",
       "    }\n",
       "\n",
       "    .dataframe thead th {\n",
       "        text-align: right;\n",
       "    }\n",
       "</style>\n",
       "<table border=\"1\" class=\"dataframe\">\n",
       "  <thead>\n",
       "    <tr style=\"text-align: right;\">\n",
       "      <th></th>\n",
       "      <th>review_id</th>\n",
       "      <th>book_id</th>\n",
       "      <th>username</th>\n",
       "      <th>text</th>\n",
       "    </tr>\n",
       "  </thead>\n",
       "  <tbody>\n",
       "    <tr>\n",
       "      <th>0</th>\n",
       "      <td>1</td>\n",
       "      <td>1</td>\n",
       "      <td>brandtandrea</td>\n",
       "      <td>Mention society tell send professor analysis. ...</td>\n",
       "    </tr>\n",
       "    <tr>\n",
       "      <th>1</th>\n",
       "      <td>2</td>\n",
       "      <td>1</td>\n",
       "      <td>ryanfranco</td>\n",
       "      <td>Foot glass pretty audience hit themselves. Amo...</td>\n",
       "    </tr>\n",
       "    <tr>\n",
       "      <th>2</th>\n",
       "      <td>3</td>\n",
       "      <td>2</td>\n",
       "      <td>lorichen</td>\n",
       "      <td>Listen treat keep worry. Miss husband tax but ...</td>\n",
       "    </tr>\n",
       "    <tr>\n",
       "      <th>3</th>\n",
       "      <td>4</td>\n",
       "      <td>3</td>\n",
       "      <td>johnsonamanda</td>\n",
       "      <td>Finally month interesting blue could nature cu...</td>\n",
       "    </tr>\n",
       "    <tr>\n",
       "      <th>4</th>\n",
       "      <td>5</td>\n",
       "      <td>3</td>\n",
       "      <td>scotttamara</td>\n",
       "      <td>Nation purpose heavy give wait song will. List...</td>\n",
       "    </tr>\n",
       "  </tbody>\n",
       "</table>\n",
       "</div>"
      ],
      "text/plain": [
       "   review_id  book_id       username  \\\n",
       "0          1        1   brandtandrea   \n",
       "1          2        1     ryanfranco   \n",
       "2          3        2       lorichen   \n",
       "3          4        3  johnsonamanda   \n",
       "4          5        3    scotttamara   \n",
       "\n",
       "                                                text  \n",
       "0  Mention society tell send professor analysis. ...  \n",
       "1  Foot glass pretty audience hit themselves. Amo...  \n",
       "2  Listen treat keep worry. Miss husband tax but ...  \n",
       "3  Finally month interesting blue could nature cu...  \n",
       "4  Nation purpose heavy give wait song will. List...  "
      ]
     },
     "execution_count": 5,
     "metadata": {},
     "output_type": "execute_result"
    }
   ],
   "source": [
    "query = '''\n",
    "SELECT *\n",
    "FROM reviews\n",
    "LIMIT 5\n",
    "        '''\n",
    "\n",
    "pd.io.sql.read_sql(query, con = engine)"
   ]
  },
  {
   "cell_type": "markdown",
   "metadata": {},
   "source": [
    "### Посчитаем, сколько книг вышло после 1 января 2000 года:"
   ]
  },
  {
   "cell_type": "code",
   "execution_count": 6,
   "metadata": {},
   "outputs": [
    {
     "data": {
      "text/html": [
       "<div>\n",
       "<style scoped>\n",
       "    .dataframe tbody tr th:only-of-type {\n",
       "        vertical-align: middle;\n",
       "    }\n",
       "\n",
       "    .dataframe tbody tr th {\n",
       "        vertical-align: top;\n",
       "    }\n",
       "\n",
       "    .dataframe thead th {\n",
       "        text-align: right;\n",
       "    }\n",
       "</style>\n",
       "<table border=\"1\" class=\"dataframe\">\n",
       "  <thead>\n",
       "    <tr style=\"text-align: right;\">\n",
       "      <th></th>\n",
       "      <th>count</th>\n",
       "    </tr>\n",
       "  </thead>\n",
       "  <tbody>\n",
       "    <tr>\n",
       "      <th>0</th>\n",
       "      <td>819</td>\n",
       "    </tr>\n",
       "  </tbody>\n",
       "</table>\n",
       "</div>"
      ],
      "text/plain": [
       "   count\n",
       "0    819"
      ]
     },
     "execution_count": 6,
     "metadata": {},
     "output_type": "execute_result"
    }
   ],
   "source": [
    "query = '''\n",
    "SELECT COUNT(*) \n",
    "FROM books\n",
    "WHERE publication_date > '2000-01-01' \n",
    "        '''\n",
    "\n",
    "pd.io.sql.read_sql(query, con = engine)"
   ]
  },
  {
   "cell_type": "markdown",
   "metadata": {},
   "source": [
    "После 1 января 2000 года вышло 819 книг."
   ]
  },
  {
   "cell_type": "markdown",
   "metadata": {},
   "source": [
    "### Для каждой книги посчитаем количество обзоров и среднюю оценку:"
   ]
  },
  {
   "cell_type": "code",
   "execution_count": 7,
   "metadata": {
    "scrolled": true
   },
   "outputs": [
    {
     "data": {
      "text/html": [
       "<div>\n",
       "<style scoped>\n",
       "    .dataframe tbody tr th:only-of-type {\n",
       "        vertical-align: middle;\n",
       "    }\n",
       "\n",
       "    .dataframe tbody tr th {\n",
       "        vertical-align: top;\n",
       "    }\n",
       "\n",
       "    .dataframe thead th {\n",
       "        text-align: right;\n",
       "    }\n",
       "</style>\n",
       "<table border=\"1\" class=\"dataframe\">\n",
       "  <thead>\n",
       "    <tr style=\"text-align: right;\">\n",
       "      <th></th>\n",
       "      <th>title</th>\n",
       "      <th>count_reviews</th>\n",
       "      <th>avg_rating</th>\n",
       "    </tr>\n",
       "  </thead>\n",
       "  <tbody>\n",
       "    <tr>\n",
       "      <th>0</th>\n",
       "      <td>A Dirty Job (Grim Reaper  #1)</td>\n",
       "      <td>4</td>\n",
       "      <td>5.00</td>\n",
       "    </tr>\n",
       "    <tr>\n",
       "      <th>1</th>\n",
       "      <td>School's Out—Forever (Maximum Ride  #2)</td>\n",
       "      <td>3</td>\n",
       "      <td>5.00</td>\n",
       "    </tr>\n",
       "    <tr>\n",
       "      <th>2</th>\n",
       "      <td>Moneyball: The Art of Winning an Unfair Game</td>\n",
       "      <td>3</td>\n",
       "      <td>5.00</td>\n",
       "    </tr>\n",
       "    <tr>\n",
       "      <th>3</th>\n",
       "      <td>The Big Bad Wolf  (Alex Cross  #9)</td>\n",
       "      <td>2</td>\n",
       "      <td>5.00</td>\n",
       "    </tr>\n",
       "    <tr>\n",
       "      <th>4</th>\n",
       "      <td>Welcome to Temptation (Dempseys  #1)</td>\n",
       "      <td>2</td>\n",
       "      <td>5.00</td>\n",
       "    </tr>\n",
       "    <tr>\n",
       "      <th>...</th>\n",
       "      <td>...</td>\n",
       "      <td>...</td>\n",
       "      <td>...</td>\n",
       "    </tr>\n",
       "    <tr>\n",
       "      <th>995</th>\n",
       "      <td>The World Is Flat: A Brief History of the Twen...</td>\n",
       "      <td>3</td>\n",
       "      <td>2.25</td>\n",
       "    </tr>\n",
       "    <tr>\n",
       "      <th>996</th>\n",
       "      <td>Drowning Ruth</td>\n",
       "      <td>3</td>\n",
       "      <td>2.00</td>\n",
       "    </tr>\n",
       "    <tr>\n",
       "      <th>997</th>\n",
       "      <td>His Excellency: George Washington</td>\n",
       "      <td>2</td>\n",
       "      <td>2.00</td>\n",
       "    </tr>\n",
       "    <tr>\n",
       "      <th>998</th>\n",
       "      <td>Junky</td>\n",
       "      <td>2</td>\n",
       "      <td>2.00</td>\n",
       "    </tr>\n",
       "    <tr>\n",
       "      <th>999</th>\n",
       "      <td>Harvesting the Heart</td>\n",
       "      <td>2</td>\n",
       "      <td>1.50</td>\n",
       "    </tr>\n",
       "  </tbody>\n",
       "</table>\n",
       "<p>1000 rows × 3 columns</p>\n",
       "</div>"
      ],
      "text/plain": [
       "                                                 title  count_reviews  \\\n",
       "0                        A Dirty Job (Grim Reaper  #1)              4   \n",
       "1              School's Out—Forever (Maximum Ride  #2)              3   \n",
       "2         Moneyball: The Art of Winning an Unfair Game              3   \n",
       "3                   The Big Bad Wolf  (Alex Cross  #9)              2   \n",
       "4                 Welcome to Temptation (Dempseys  #1)              2   \n",
       "..                                                 ...            ...   \n",
       "995  The World Is Flat: A Brief History of the Twen...              3   \n",
       "996                                      Drowning Ruth              3   \n",
       "997                  His Excellency: George Washington              2   \n",
       "998                                              Junky              2   \n",
       "999                               Harvesting the Heart              2   \n",
       "\n",
       "     avg_rating  \n",
       "0          5.00  \n",
       "1          5.00  \n",
       "2          5.00  \n",
       "3          5.00  \n",
       "4          5.00  \n",
       "..          ...  \n",
       "995        2.25  \n",
       "996        2.00  \n",
       "997        2.00  \n",
       "998        2.00  \n",
       "999        1.50  \n",
       "\n",
       "[1000 rows x 3 columns]"
      ]
     },
     "execution_count": 7,
     "metadata": {},
     "output_type": "execute_result"
    }
   ],
   "source": [
    "query = '''\n",
    "SELECT b.title,\n",
    "       COUNT(DISTINCT rew.review_id) AS count_reviews, \n",
    "       ROUND(AVG(rat.rating), 2) AS avg_rating\n",
    "FROM books AS b\n",
    "LEFT JOIN ratings AS rat ON b.book_id = rat.book_id\n",
    "LEFT JOIN reviews AS rew ON b.book_id = rew.book_id\n",
    "GROUP BY b.book_id\n",
    "ORDER BY avg_rating DESC,\n",
    "         count_reviews DESC\n",
    "        '''\n",
    "\n",
    "pd.io.sql.read_sql(query, con = engine)"
   ]
  },
  {
   "cell_type": "markdown",
   "metadata": {},
   "source": [
    "Всего в данных у нас 1000 книг. Минимальный рейтинг книги - 1.50, максимальный - 5.00. А количество обзоров у книг в промежутке от 0 до 7. \n",
    "Можем выделить ТОП-5 книг по средней оценке и количеству обзоров: \n",
    "1. A Dirty Job (Grim Reaper #1) (средний рейтинг - 5.00, 4 обзора) \n",
    "2. School's Out—Forever (Maximum Ride #2) (средний рейтинг - 5.00, 3 обзора) \n",
    "3. Moneyball: The Art of Winning an Unfair Game (средний рейтинг - 5.00, 3 обзора) \n",
    "4. The Big Bad Wolf (Alex Cross #9) (средний рейтинг - 5.00, 2 обзора) \n",
    "5. Welcome to Temptation (Dempseys #1) (средний рейтинг - 5.00, 2 обзора)"
   ]
  },
  {
   "cell_type": "markdown",
   "metadata": {},
   "source": [
    "### Определим издательство, которое выпустило наибольшее число книг толще 50 страниц — так мы исключим из анализа брошюры."
   ]
  },
  {
   "cell_type": "code",
   "execution_count": 8,
   "metadata": {},
   "outputs": [
    {
     "data": {
      "text/html": [
       "<div>\n",
       "<style scoped>\n",
       "    .dataframe tbody tr th:only-of-type {\n",
       "        vertical-align: middle;\n",
       "    }\n",
       "\n",
       "    .dataframe tbody tr th {\n",
       "        vertical-align: top;\n",
       "    }\n",
       "\n",
       "    .dataframe thead th {\n",
       "        text-align: right;\n",
       "    }\n",
       "</style>\n",
       "<table border=\"1\" class=\"dataframe\">\n",
       "  <thead>\n",
       "    <tr style=\"text-align: right;\">\n",
       "      <th></th>\n",
       "      <th>publisher</th>\n",
       "      <th>count</th>\n",
       "    </tr>\n",
       "  </thead>\n",
       "  <tbody>\n",
       "    <tr>\n",
       "      <th>0</th>\n",
       "      <td>Penguin Books</td>\n",
       "      <td>42</td>\n",
       "    </tr>\n",
       "  </tbody>\n",
       "</table>\n",
       "</div>"
      ],
      "text/plain": [
       "       publisher  count\n",
       "0  Penguin Books     42"
      ]
     },
     "execution_count": 8,
     "metadata": {},
     "output_type": "execute_result"
    }
   ],
   "source": [
    "query = '''\n",
    "SELECT p.publisher,\n",
    "       COUNT(b.book_id)\n",
    "FROM publishers AS p\n",
    "JOIN books AS b ON p.publisher_id=b.publisher_id\n",
    "WHERE b.num_pages > 50\n",
    "GROUP BY p.publisher_id\n",
    "ORDER BY COUNT(b.book_id) DESC\n",
    "LIMIT 1\n",
    "        '''\n",
    "\n",
    "pd.io.sql.read_sql(query, con = engine)"
   ]
  },
  {
   "cell_type": "markdown",
   "metadata": {},
   "source": [
    "Таким образом, издательство, выпустившее наибольшее число книг толще 50 страниц - Penguin Books. Оно выпустило 42 книги."
   ]
  },
  {
   "cell_type": "markdown",
   "metadata": {},
   "source": [
    "### Определим автора с самой высокой средней оценкой книг — будем учитывать только книги с 50 и более оценками."
   ]
  },
  {
   "cell_type": "code",
   "execution_count": 11,
   "metadata": {},
   "outputs": [
    {
     "data": {
      "text/html": [
       "<div>\n",
       "<style scoped>\n",
       "    .dataframe tbody tr th:only-of-type {\n",
       "        vertical-align: middle;\n",
       "    }\n",
       "\n",
       "    .dataframe tbody tr th {\n",
       "        vertical-align: top;\n",
       "    }\n",
       "\n",
       "    .dataframe thead th {\n",
       "        text-align: right;\n",
       "    }\n",
       "</style>\n",
       "<table border=\"1\" class=\"dataframe\">\n",
       "  <thead>\n",
       "    <tr style=\"text-align: right;\">\n",
       "      <th></th>\n",
       "      <th>author</th>\n",
       "      <th>avg_rating</th>\n",
       "    </tr>\n",
       "  </thead>\n",
       "  <tbody>\n",
       "    <tr>\n",
       "      <th>0</th>\n",
       "      <td>J.K. Rowling/Mary GrandPré</td>\n",
       "      <td>4.28</td>\n",
       "    </tr>\n",
       "  </tbody>\n",
       "</table>\n",
       "</div>"
      ],
      "text/plain": [
       "                       author  avg_rating\n",
       "0  J.K. Rowling/Mary GrandPré        4.28"
      ]
     },
     "execution_count": 11,
     "metadata": {},
     "output_type": "execute_result"
    }
   ],
   "source": [
    "query = '''\n",
    "SELECT avg.author,\n",
    "       ROUND(AVG(avg.avg_rating_1), 2) AS avg_rating\n",
    "FROM  (SELECT \n",
    "            a.author,\n",
    "            AVG(r.rating) AS avg_rating_1\n",
    "        FROM books AS b\n",
    "            LEFT JOIN authors AS a ON b.author_id = a.author_id\n",
    "            LEFT JOIN ratings AS r ON b.book_id = r.book_id\n",
    "        GROUP BY b.book_id, a.author_id\n",
    "        HAVING COUNT(r.rating_id) >=50) AS avg\n",
    "GROUP BY avg.author\n",
    "ORDER BY avg_rating DESC\n",
    "LIMIT 1\n",
    "        '''\n",
    "\n",
    "pd.io.sql.read_sql(query, con = engine)"
   ]
  },
  {
   "cell_type": "markdown",
   "metadata": {},
   "source": [
    "Автор с самой высокой средней оценкой книг - J.K. Rowling/Mary GrandPré, средняя оценка его книг - 4.28."
   ]
  },
  {
   "cell_type": "markdown",
   "metadata": {},
   "source": [
    "### Посчитаем среднее количество обзоров от пользователей, которые поставили больше 50 оценок:"
   ]
  },
  {
   "cell_type": "code",
   "execution_count": 12,
   "metadata": {},
   "outputs": [
    {
     "data": {
      "text/html": [
       "<div>\n",
       "<style scoped>\n",
       "    .dataframe tbody tr th:only-of-type {\n",
       "        vertical-align: middle;\n",
       "    }\n",
       "\n",
       "    .dataframe tbody tr th {\n",
       "        vertical-align: top;\n",
       "    }\n",
       "\n",
       "    .dataframe thead th {\n",
       "        text-align: right;\n",
       "    }\n",
       "</style>\n",
       "<table border=\"1\" class=\"dataframe\">\n",
       "  <thead>\n",
       "    <tr style=\"text-align: right;\">\n",
       "      <th></th>\n",
       "      <th>avg_review</th>\n",
       "    </tr>\n",
       "  </thead>\n",
       "  <tbody>\n",
       "    <tr>\n",
       "      <th>0</th>\n",
       "      <td>24.0</td>\n",
       "    </tr>\n",
       "  </tbody>\n",
       "</table>\n",
       "</div>"
      ],
      "text/plain": [
       "   avg_review\n",
       "0        24.0"
      ]
     },
     "execution_count": 12,
     "metadata": {},
     "output_type": "execute_result"
    }
   ],
   "source": [
    "query = '''\n",
    "SELECT ROUND(AVG(r.count_reviews)) AS avg_review\n",
    "FROM (SELECT username,\n",
    "             COUNT(review_id) AS count_reviews\n",
    "      FROM reviews\n",
    "      WHERE username IN\n",
    "          (SELECT username\n",
    "           FROM ratings\n",
    "           GROUP BY username\n",
    "           HAVING COUNT(rating_id) > 50)\n",
    "           GROUP BY username) AS r\n",
    "        '''\n",
    "\n",
    "pd.io.sql.read_sql(query, con = engine)"
   ]
  },
  {
   "cell_type": "markdown",
   "metadata": {},
   "source": [
    "В среднем, у пользователей, которые поставили больше 50 оценок - 24 обзора."
   ]
  },
  {
   "cell_type": "markdown",
   "metadata": {},
   "source": [
    "### Выводы по исследованию"
   ]
  },
  {
   "cell_type": "markdown",
   "metadata": {},
   "source": [
    "- После 1 января 2000 года вышло 819 книг;\n",
    "- Всего в данных у нас 1000 книг. Минимальный рейтинг книги - 1.50, максимальный - 5.00. А количество обзоров у книг в промежутке от 0 до 7;\n",
    "- Можем выделить ТОП-5 книг по средней оценке и количеству обзоров: \n",
    "1. A Dirty Job (Grim Reaper #1) (средний рейтинг - 5.00, 4 обзора) \n",
    "2. School's Out—Forever (Maximum Ride #2) (средний рейтинг - 5.00, 3 обзора) \n",
    "3. Moneyball: The Art of Winning an Unfair Game (средний рейтинг - 5.00, 3 обзора) \n",
    "4. The Big Bad Wolf (Alex Cross #9) (средний рейтинг - 5.00, 2 обзора) \n",
    "5. Welcome to Temptation (Dempseys #1) (средний рейтинг - 5.00, 2 обзора)\n",
    "- Издательство, выпустившее наибольшее число книг толще 50 страниц - Penguin Books. Оно выпустило 42 книги;\n",
    "- Автор с самой высокой средней оценкой книг - J.K. Rowling/Mary GrandPré, средняя оценка его книг - 4.28;\n",
    "- В среднем, у пользователей, которые поставили больше 50 оценок - 24 обзора."
   ]
  }
 ],
 "metadata": {
  "ExecuteTimeLog": [
   {
    "duration": 52,
    "start_time": "2023-04-15T11:10:33.879Z"
   },
   {
    "duration": 10,
    "start_time": "2023-04-15T11:10:37.775Z"
   },
   {
    "duration": 11,
    "start_time": "2023-04-15T11:10:48.657Z"
   },
   {
    "duration": 12,
    "start_time": "2023-04-15T11:10:59.665Z"
   },
   {
    "duration": 14,
    "start_time": "2023-04-15T11:11:09.853Z"
   },
   {
    "duration": 8,
    "start_time": "2023-04-15T11:11:42.883Z"
   },
   {
    "duration": 29,
    "start_time": "2023-04-15T11:12:15.364Z"
   },
   {
    "duration": 13,
    "start_time": "2023-04-15T11:12:45.048Z"
   },
   {
    "duration": 16,
    "start_time": "2023-04-15T11:13:13.457Z"
   },
   {
    "duration": 25,
    "start_time": "2023-04-15T11:13:40.236Z"
   },
   {
    "duration": 18,
    "start_time": "2023-04-15T11:19:42.628Z"
   },
   {
    "duration": 10,
    "start_time": "2023-04-15T11:20:49.018Z"
   },
   {
    "duration": 40,
    "start_time": "2023-04-15T11:34:23.325Z"
   },
   {
    "duration": 239,
    "start_time": "2023-04-15T11:35:03.056Z"
   },
   {
    "duration": 116,
    "start_time": "2023-04-15T11:35:30.981Z"
   },
   {
    "duration": 50,
    "start_time": "2023-04-15T11:35:44.909Z"
   },
   {
    "duration": 15,
    "start_time": "2023-04-15T11:44:38.397Z"
   },
   {
    "duration": 110,
    "start_time": "2023-04-15T11:46:08.814Z"
   },
   {
    "duration": 103,
    "start_time": "2023-04-15T11:46:23.049Z"
   },
   {
    "duration": 107,
    "start_time": "2023-04-15T11:46:43.751Z"
   },
   {
    "duration": 29,
    "start_time": "2023-04-15T11:47:10.033Z"
   },
   {
    "duration": 120,
    "start_time": "2023-04-15T11:47:56.435Z"
   },
   {
    "duration": 98,
    "start_time": "2023-04-15T11:48:08.838Z"
   },
   {
    "duration": 90,
    "start_time": "2023-04-15T11:48:17.997Z"
   },
   {
    "duration": 27,
    "start_time": "2023-04-15T11:49:45.098Z"
   },
   {
    "duration": 10,
    "start_time": "2023-04-15T11:53:53.105Z"
   },
   {
    "duration": 26,
    "start_time": "2023-04-15T11:54:04.303Z"
   },
   {
    "duration": 25,
    "start_time": "2023-04-15T11:54:13.193Z"
   },
   {
    "duration": 26,
    "start_time": "2023-04-15T11:54:37.061Z"
   },
   {
    "duration": 119,
    "start_time": "2023-04-15T11:55:10.306Z"
   },
   {
    "duration": 25,
    "start_time": "2023-04-15T11:55:12.955Z"
   },
   {
    "duration": 30,
    "start_time": "2023-04-15T11:55:22.577Z"
   },
   {
    "duration": 12,
    "start_time": "2023-04-15T11:57:51.665Z"
   },
   {
    "duration": 33,
    "start_time": "2023-04-15T12:03:17.854Z"
   },
   {
    "duration": 16,
    "start_time": "2023-04-15T12:03:33.099Z"
   },
   {
    "duration": 14,
    "start_time": "2023-04-15T12:10:49.102Z"
   },
   {
    "duration": 155,
    "start_time": "2023-04-15T12:11:18.132Z"
   },
   {
    "duration": 13,
    "start_time": "2023-04-15T12:11:30.872Z"
   },
   {
    "duration": 13,
    "start_time": "2023-04-15T12:13:54.981Z"
   },
   {
    "duration": 129,
    "start_time": "2023-04-15T12:17:43.748Z"
   },
   {
    "duration": 121,
    "start_time": "2023-04-15T12:19:42.573Z"
   },
   {
    "duration": 30,
    "start_time": "2023-04-15T12:22:14.532Z"
   },
   {
    "duration": 28,
    "start_time": "2023-04-15T12:23:38.734Z"
   },
   {
    "duration": 113,
    "start_time": "2023-04-15T12:23:57.779Z"
   },
   {
    "duration": 102,
    "start_time": "2023-04-15T12:24:07.452Z"
   },
   {
    "duration": 13,
    "start_time": "2023-04-15T12:24:55.018Z"
   },
   {
    "duration": 10612,
    "start_time": "2023-04-15T12:37:02.810Z"
   },
   {
    "duration": 15,
    "start_time": "2023-04-15T12:37:16.426Z"
   },
   {
    "duration": 15,
    "start_time": "2023-04-15T12:37:19.128Z"
   },
   {
    "duration": 13,
    "start_time": "2023-04-15T12:37:24.011Z"
   },
   {
    "duration": 16,
    "start_time": "2023-04-15T12:37:29.500Z"
   },
   {
    "duration": 12,
    "start_time": "2023-04-15T12:37:42.075Z"
   },
   {
    "duration": 34,
    "start_time": "2023-04-15T12:37:50.669Z"
   },
   {
    "duration": 19,
    "start_time": "2023-04-15T12:39:07.070Z"
   },
   {
    "duration": 18,
    "start_time": "2023-04-15T12:39:19.598Z"
   },
   {
    "duration": 23,
    "start_time": "2023-04-15T12:39:31.167Z"
   },
   {
    "duration": 5539,
    "start_time": "2023-04-15T23:47:24.673Z"
   },
   {
    "duration": 71,
    "start_time": "2023-04-15T23:47:30.214Z"
   },
   {
    "duration": 72,
    "start_time": "2023-04-15T23:47:30.287Z"
   },
   {
    "duration": 73,
    "start_time": "2023-04-15T23:47:30.361Z"
   },
   {
    "duration": 73,
    "start_time": "2023-04-15T23:47:30.436Z"
   },
   {
    "duration": 72,
    "start_time": "2023-04-15T23:47:30.510Z"
   },
   {
    "duration": 108,
    "start_time": "2023-04-15T23:47:30.584Z"
   },
   {
    "duration": 74,
    "start_time": "2023-04-15T23:47:30.693Z"
   },
   {
    "duration": 79,
    "start_time": "2023-04-15T23:47:30.769Z"
   },
   {
    "duration": 75,
    "start_time": "2023-04-15T23:47:30.850Z"
   },
   {
    "duration": 77,
    "start_time": "2023-04-15T23:48:52.857Z"
   },
   {
    "duration": 76,
    "start_time": "2023-04-15T23:49:03.404Z"
   },
   {
    "duration": 14719,
    "start_time": "2023-04-16T14:41:02.541Z"
   },
   {
    "duration": 81,
    "start_time": "2023-04-16T14:41:17.262Z"
   },
   {
    "duration": 83,
    "start_time": "2023-04-16T14:45:03.699Z"
   },
   {
    "duration": 80,
    "start_time": "2023-04-16T14:46:31.214Z"
   },
   {
    "duration": 89,
    "start_time": "2023-04-16T14:53:26.000Z"
   },
   {
    "duration": 101,
    "start_time": "2023-04-16T14:53:37.218Z"
   },
   {
    "duration": 96,
    "start_time": "2023-04-16T14:53:56.506Z"
   },
   {
    "duration": 14073,
    "start_time": "2023-04-16T14:59:17.331Z"
   },
   {
    "duration": 82,
    "start_time": "2023-04-16T14:59:31.406Z"
   },
   {
    "duration": 86,
    "start_time": "2023-04-16T14:59:31.490Z"
   },
   {
    "duration": 85,
    "start_time": "2023-04-16T14:59:31.578Z"
   },
   {
    "duration": 78,
    "start_time": "2023-04-16T14:59:31.668Z"
   },
   {
    "duration": 88,
    "start_time": "2023-04-16T14:59:31.751Z"
   },
   {
    "duration": 149,
    "start_time": "2023-04-16T14:59:31.840Z"
   },
   {
    "duration": 96,
    "start_time": "2023-04-16T14:59:35.101Z"
   },
   {
    "duration": 107,
    "start_time": "2023-04-16T14:59:46.273Z"
   },
   {
    "duration": 93,
    "start_time": "2023-04-16T15:00:49.908Z"
   },
   {
    "duration": 93,
    "start_time": "2023-04-16T15:00:57.633Z"
   },
   {
    "duration": 89,
    "start_time": "2023-04-16T15:01:09.209Z"
   }
  ],
  "kernelspec": {
   "display_name": "Python 3 (ipykernel)",
   "language": "python",
   "name": "python3"
  },
  "language_info": {
   "codemirror_mode": {
    "name": "ipython",
    "version": 3
   },
   "file_extension": ".py",
   "mimetype": "text/x-python",
   "name": "python",
   "nbconvert_exporter": "python",
   "pygments_lexer": "ipython3",
   "version": "3.10.9"
  },
  "toc": {
   "base_numbering": 1,
   "nav_menu": {},
   "number_sections": true,
   "sideBar": true,
   "skip_h1_title": true,
   "title_cell": "Table of Contents",
   "title_sidebar": "Contents",
   "toc_cell": false,
   "toc_position": {},
   "toc_section_display": true,
   "toc_window_display": false
  }
 },
 "nbformat": 4,
 "nbformat_minor": 2
}
